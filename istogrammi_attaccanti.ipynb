{
 "cells": [
  {
   "cell_type": "markdown",
   "id": "7159a215",
   "metadata": {},
   "source": [
    "In questa parte ci occupiamo della parte 'demografica' della Serie A. Adremo ad analizzare come son distribuite le età, le nazionalità ed i minuti giocati, per gli attaccanti. "
   ]
  },
  {
   "cell_type": "code",
   "execution_count": 1,
   "id": "04077ba7",
   "metadata": {},
   "outputs": [],
   "source": [
    "import pandas as pd\n",
    "import matplotlib.pyplot as plt\n",
    "import plotly.express as px\n",
    "import plotly.graph_objects as go\n",
    "pd.set_option('display.max_columns', None)\n",
    "data = pd.read_excel('attaccanti_23.xlsx')\n",
    "\n",
    "# Elenco dei file da leggere\n",
    "files = ['attaccanti_23.xlsx', 'attaccanti_22.xlsx', 'attaccanti_21.xlsx', 'attaccanti_20.xlsx', 'attaccanti_19.xlsx']\n",
    "\n",
    "# Faccio un dizionario per mappare i file agli anni\n",
    "year= {'attaccanti_23.xlsx': 2023,'attaccanti_22.xlsx': 2022,'attaccanti_21.xlsx': 2021,'attaccanti_20.xlsx': 2020,\n",
    "                'attaccanti_19.xlsx': 2019}"
   ]
  },
  {
   "cell_type": "markdown",
   "id": "a2ed4e92",
   "metadata": {},
   "source": [
    "Dopo aver importato i file necessari andiamo ad analizzare come sono variate le età nei 5 anni analizzati, visualizziamo il tutto con un diagramma a torta."
   ]
  },
  {
   "cell_type": "code",
   "execution_count": null,
   "id": "a4f15fde",
   "metadata": {},
   "outputs": [],
   "source": [
    "# Diagrammi a torta\n",
    "\n",
    "# Definisci le fasce di età\n",
    "bins = [15, 20, 25, 30, 35, 40]\n",
    "labels = ['15-20', '21-25', '26-30', '31-35', '36-40']\n",
    "\n",
    "# Ciclo sui file per generare i grafici\n",
    "for file in files:\n",
    "    # Leggi i dati da ogni file (si presuppone che ci sia una colonna 'Age')\n",
    "    data = pd.read_excel(file)\n",
    "    eta = data['Age']\n",
    "\n",
    "    # Categorizza le età nelle fasce specificate\n",
    "    eta_bins = pd.cut(eta, bins=bins, labels=labels, right=True, include_lowest=True)\n",
    "\n",
    "    # Conta il numero di attaccanti in ciascuna fascia\n",
    "    eta_counts = eta_bins.value_counts().sort_index()\n",
    "\n",
    "    # Crea una figura e un oggetto ax\n",
    "    fig, ax = plt.subplots(figsize=(8, 8))\n",
    "\n",
    "    # Crea il diagramma a torta sull'oggetto ax\n",
    "    ax.pie(eta_counts, labels=eta_counts.index, autopct='%1.1f%%', startangle=140)\n",
    "\n",
    "    # Imposta il titolo per ogni anno\n",
    "    ax.set_title(f\"Distribuzione delle età degli attaccanti Anno: {year[file]}\")\n",
    "\n",
    "    # Assicura che il grafico sia circolare\n",
    "    ax.axis('equal')\n",
    "\n",
    "    # Aggiungi la legenda con i valori percentuali\n",
    "    ax.legend([f\"{label} - {int(count)} ({pct:.1f}%)\" for label, count, \n",
    "               pct in zip(eta_counts.index, eta_counts, 100*eta_counts/eta_counts.sum())],\n",
    "              title=\"Fasce d'età\", loc=\"center left\", bbox_to_anchor=(1, 0, 0.5, 1))\n",
    "\n",
    "    # Mostra il diagramma a torta\n",
    "    plt.show()\n",
    "    \n",
    "    # Calcola e stampa la media dell'età\n",
    "    media_eta = eta.mean()\n",
    "    print(f\"La media dell'età per l'anno {year[file]} è: {media_eta:.2f}\")\n"
   ]
  },
  {
   "cell_type": "markdown",
   "id": "e36db9c1",
   "metadata": {},
   "source": [
    "Dai grafici possiamo notare che la media delle età è andata calando con gli anni, evidentemente l'idea delle squadre è quello di comprare attaccanti più giovani oppure investire nel reparto giovanile, migliorare il vivaio e promuovere gli attaccanti direttamente dalla Primavera (squadra U19)."
   ]
  },
  {
   "cell_type": "markdown",
   "id": "aaa75e8c",
   "metadata": {},
   "source": [
    "Passiamo ora all'analisi delle nazionalità. Vediamo quali sono le nazionalità più presenti in Serie A."
   ]
  },
  {
   "cell_type": "code",
   "execution_count": null,
   "id": "c38d4cd5",
   "metadata": {},
   "outputs": [],
   "source": [
    "# Ciclo sui file per generare i grafici\n",
    "for file in files:\n",
    "\n",
    "    data = pd.read_excel(file)\n",
    "     \n",
    "    nazionalita = data['Nation']   #istogramma nazionalità\n",
    "\n",
    "    # Conta il numero di calciatori per ciascuna nazionalità\n",
    "    nazionalita_counts = nazionalita.value_counts()\n",
    "\n",
    "    # Crea l'istogramma\n",
    "    fig, ax = plt.subplots(figsize=(10, 6))\n",
    "    nazionalita_counts.plot(kind='bar', ax=ax, color='skyblue')\n",
    "\n",
    "    # Aggiungi i titoli e le etichette\n",
    "    ax.set_title(f'Distribuzione delle Nazionalità degli attaccanti Anno: {year[file]}')\n",
    "    ax.set_xlabel('Nazionalità')\n",
    "    ax.set_ylabel('Numero di calciatori')\n",
    "\n",
    "    # Ruota le etichette sull'asse x per una migliore leggibilità\n",
    "    plt.xticks(rotation=45, ha='right')\n",
    "\n",
    "    # Mostra il grafico\n",
    "    plt.tight_layout()\n",
    "    plt.show()"
   ]
  },
  {
   "cell_type": "markdown",
   "id": "12fb78fb",
   "metadata": {},
   "source": [
    "Come ci immaginavamo la nazionale più presente, per distacco, è l'Italia. Risultano infatti circa 60 nel 2023, circa 50 nel 2022 (il minimo registrato), circa 70 nel 2021, circa 65 nel 2020 e circa 75 nel 2019 (massimo registrato). Notiamo che oltre all'Italia ci sono anche altre nazioni costantemente molto presenti durante gli anni. Nelle 3 nazioni più presenti è sempre presente l'Argentina con 10 attaccanti circa ogni anno. Se ampliamo il range a 5 notiamo anche la costante presenza di Francia e Spagna che non sono presenti nella top5 solo in un anno, rispettivamente nel 2021 e nel 2023. Fra le altre, le nazioni che meritano una menzione sono sicuramente la Costa d'Avorio presente nel 2019-2020 nella top5 ed il Brasile che solo nel 2022 esce dalla top6."
   ]
  },
  {
   "cell_type": "code",
   "execution_count": null,
   "id": "c22107d7",
   "metadata": {},
   "outputs": [],
   "source": [
    "import numpy as np\n",
    "from scipy.interpolate import make_interp_spline\n",
    "for file in files:\n",
    " data = pd.read_excel(file)\n",
    "\n",
    " # Estrai i dati rilevanti (calciatori e valori nella settima colonna)\n",
    " calciatori = data['Player']  # Assume che i nomi dei calciatori siano nella prima colonna\n",
    " valori = data['MP']      # Settima colonna partendo da sinistra\n",
    "\n",
    " filtrato = valori > 20\n",
    " calciatori_filtrati = calciatori[filtrato]\n",
    " valori_filtrati = valori[filtrato]\n",
    "\n",
    " # Crea un istogramma\n",
    " plt.figure(figsize=(12, 8))\n",
    " plt.bar(calciatori_filtrati, valori_filtrati, color='skyblue', edgecolor='black')\n",
    "\n",
    " # Ottimizza il layout\n",
    " plt.xlabel('Calciatori', fontsize=14)\n",
    " plt.ylabel('Valori', fontsize=14)\n",
    " plt.title(f\"Minuti giocati dai Calciatori divisi per 90' Anno: {year[file]}\")\n",
    " plt.xticks(rotation=45, ha='right', fontsize=10)\n",
    " plt.yticks(fontsize=12)\n",
    "\n",
    " # Aggiungi una curva di fit\n",
    " x = np.arange(len(calciatori_filtrati))  # Converti l'indice dei calciatori filtrati in numerico\n",
    " spl = make_interp_spline(x, valori_filtrati, k=3)  # Fit con spline\n",
    " x_smooth = np.linspace(x.min(), x.max(), 500)  # Genera un range di valori lisciato\n",
    " y_smooth = spl(x_smooth)\n",
    "\n",
    " plt.plot(x_smooth, y_smooth, color='red', linewidth=2, label='Fit Curva')\n",
    "\n",
    " plt.tight_layout()\n",
    " plt.legend()\n",
    " plt.show()\n",
    "\n",
    " media_valori_filtrati = valori_filtrati.mean()\n",
    "\n",
    " # Mostra il risultato\n",
    " print(f\"La media per l'Anno {year[file]} è:{media_valori_filtrati}\")"
   ]
  },
  {
   "cell_type": "markdown",
   "id": "d5fb0358",
   "metadata": {},
   "source": [
    "In questi grafici vediamo la distribuzione dei minuti giocati diviso 90 dagli attaccanti. In altre parole calcoliamo quante partite complete vengono giocate dagli attaccanti. Abbiamo messo un bound inferiore di 20 minuti giocati per evitare che i dati vengano sfalsati da giocatori con pochi minuti giocati. Vediamo che la distribuzione e la media rimane più o meno la stessa nel corso degli anni. La media addirittura oscilla fra 29.42 e 29.98."
   ]
  },
  {
   "cell_type": "code",
   "execution_count": 5,
   "id": "9eeaf25f",
   "metadata": {},
   "outputs": [],
   "source": [
    "# Aggiungiamo una cella di codice che stampa gli istogrammi di tutte le statistiche di tutti 5 gli anni. In modo da poterli \n",
    "# analizzare singolarmente in seguito, senza appesantire il codice con tutti i grafici."
   ]
  },
  {
   "cell_type": "code",
   "execution_count": null,
   "id": "7cc23d04",
   "metadata": {},
   "outputs": [],
   "source": [
    "import scipy.stats as stats\n",
    "import numpy as np\n",
    "\n",
    "for file in files:\n",
    " data = pd.read_excel(file)\n",
    "\n",
    "# Selezionare solo le colonne numeriche\n",
    "numeric_data = data.select_dtypes(include=[np.number])\n",
    "\n",
    "# Funzione per calcolare il numero di bin con la regola di Freedman-Diaconis\n",
    "def freedman_diaconis_bins(data):\n",
    "    q25, q75 = np.percentile(data, [25, 75])\n",
    "    iqr = q75 - q25\n",
    "    if iqr == 0:  # Evitare divisioni per zero\n",
    "        return 20  # Numero di bin di default in caso di IQR nullo\n",
    "    bin_width = 2 * iqr / (len(data) ** (1 / 3))\n",
    "    if bin_width == 0:\n",
    "        return 5  # Numero di bin di default in caso di width troppo piccolo\n",
    "    return int(np.ceil((data.max() - data.min()) / bin_width))\n",
    "\n",
    "# Creare istogrammi per ogni colonna numerica con controllo su variazioni minime\n",
    "for column in numeric_data.columns:\n",
    "    col_data = numeric_data[column].dropna()  # Rimuovi eventuali valori NaN\n",
    "    if col_data.empty or col_data.max() == col_data.min():\n",
    "        continue\n",
    "    \n",
    "    # Calcolare il numero di bin con la regola di Freedman-Diaconis\n",
    "    bins = freedman_diaconis_bins(col_data)\n",
    "    \n",
    "    # Creare l'istogramma\n",
    "    plt.figure(figsize=(10, 6))\n",
    "    plt.hist(col_data, bins=bins, density=False, color='k', edgecolor = 'r', label='Dati')\n",
    "\n",
    "    # Titolo e etichette\n",
    "    plt.title(f'Istogramma della colonna: {column}')\n",
    "    plt.xlabel(f'{column}')\n",
    "    plt.ylabel('Numero di giocatori')\n",
    "\n",
    "    # Mostrare il grafico\n",
    "    #plt.show()\n",
    "    media = col_data.mean()\n",
    "    #print(f\"La media di {column} per l'anno {year[file]} è: {media:.2f}\")"
   ]
  },
  {
   "cell_type": "code",
   "execution_count": 7,
   "id": "ddb77a74",
   "metadata": {},
   "outputs": [],
   "source": [
    "# Creiamo una funzione che, dati in input la statistica e l'anno desiderato, restituisce l'istogramma di quella statistica\n",
    "# relativa a quell'anno"
   ]
  },
  {
   "cell_type": "code",
   "execution_count": 8,
   "id": "a1853a58",
   "metadata": {},
   "outputs": [],
   "source": [
    "# Mappatura dei file agli anni\n",
    "year_mapping = {2023: 'attaccanti_23.xlsx', 2022: 'attaccanti_22.xlsx', 2021: 'attaccanti_21.xlsx',2020: 'attaccanti_20.xlsx',\n",
    "    2019: 'attaccanti_19.xlsx'}\n",
    "\n",
    "def istogramma(statistica, anno):\n",
    "    # Verifica che l'anno esista nel mapping\n",
    "    if anno not in year_mapping:\n",
    "        print(f\"L'anno {anno} non è valido. Gli anni disponibili sono: {list(year_mapping.keys())}\")\n",
    "        return\n",
    "\n",
    "    # Carica il dataset corrispondente all'anno\n",
    "    file = year_mapping[anno]\n",
    "    data = pd.read_excel(file)\n",
    "\n",
    "    # Seleziona la colonna specificata\n",
    "    if statistica not in data.columns:\n",
    "        print(f\"La statistica '{statistica}' non è presente nei dati.\")\n",
    "        return\n",
    "    \n",
    "    col_data = data[statistica].dropna()  # Rimuovi eventuali valori NaN\n",
    "\n",
    "    if col_data.empty or col_data.max() == col_data.min():\n",
    "        print(f\"La colonna '{statistica}' non ha abbastanza variabilità per creare un istogramma.\")\n",
    "        return\n",
    "\n",
    "    # Calcolare il numero di bin con la regola di Freedman-Diaconis\n",
    "    def freedman_diaconis_bins(data):\n",
    "        q25, q75 = np.percentile(data, [25, 75])\n",
    "        iqr = q75 - q25\n",
    "        if iqr == 0:  # Evitare divisioni per zero\n",
    "            return 20  # Numero di bin di default in caso di IQR nullo\n",
    "        bin_width = 2 * iqr / (len(data) ** (1 / 3))\n",
    "        if bin_width == 0:\n",
    "            return 5  # Numero di bin di default in caso di width troppo piccolo\n",
    "        return int(np.ceil((data.max() - data.min()) / bin_width))\n",
    "\n",
    "    # Calcolare il numero di bin\n",
    "    bins = freedman_diaconis_bins(col_data)\n",
    "\n",
    "    # Creare l'istogramma\n",
    "    plt.figure(figsize=(10, 6))\n",
    "    plt.hist(col_data, bins=bins, density=False, color='k', edgecolor='r', label='Dati')\n",
    "\n",
    "    # Titolo e etichette con l'anno specificato\n",
    "    plt.title(f'Istogramma della colonna: {statistica} ({anno})')\n",
    "    plt.xlabel(f'{statistica}')\n",
    "    plt.ylabel('Numero di giocatori')\n",
    "\n",
    "    # Mostrare il grafico\n",
    "    plt.show()\n",
    "\n",
    "    # Calcola e stampa la media della colonna\n",
    "    media = col_data.mean()\n",
    "    print(f\"La media di {statistica} per l'anno {anno} è: {media:.2f}\")\n",
    "    giocatore_max = data.loc[data[statistica].idxmax()]['Player']\n",
    "    max_value = col_data.max()\n",
    "    print(f\"Il giocatore che ha registrato il maggior numero di {statistica} è {giocatore_max} con {max_value:.2f}.\")\n"
   ]
  },
  {
   "cell_type": "markdown",
   "id": "95076776",
   "metadata": {},
   "source": [
    "Con questa funzione possiamo richiamare dei grafici specifici e analizzarli se ci interessa."
   ]
  },
  {
   "cell_type": "code",
   "execution_count": null,
   "id": "88ad4387",
   "metadata": {},
   "outputs": [],
   "source": [
    "statistica = 'Won'\n",
    "anno = 2019\n",
    "istogramma(statistica,anno)"
   ]
  }
 ],
 "metadata": {
  "kernelspec": {
   "display_name": "Python 3 (ipykernel)",
   "language": "python",
   "name": "python3"
  },
  "language_info": {
   "codemirror_mode": {
    "name": "ipython",
    "version": 3
   },
   "file_extension": ".py",
   "mimetype": "text/x-python",
   "name": "python",
   "nbconvert_exporter": "python",
   "pygments_lexer": "ipython3",
   "version": "3.12.2"
  }
 },
 "nbformat": 4,
 "nbformat_minor": 5
}
