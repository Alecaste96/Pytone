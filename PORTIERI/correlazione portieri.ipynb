{
 "cells": [
  {
   "cell_type": "markdown",
   "metadata": {},
   "source": [
    "In questa sezione ci occupiamo di analizzare le statistiche dei portieri e capire le correlazione fra queste."
   ]
  },
  {
   "cell_type": "code",
   "execution_count": 1,
   "metadata": {},
   "outputs": [],
   "source": [
    "# Importo le librerie necessarie per il codice\n",
    "\n",
    "import numpy as np\n",
    "import scipy as sc\n",
    "import matplotlib.pyplot as plt\n",
    "import pandas as pd\n",
    "import plotly.express as px\n",
    "import plotly.graph_objects as go\n",
    "pd.set_option('display.max_columns', None)\n",
    "\n",
    "# Elenco dei file da leggere\n",
    "files = ['portieri_23.xlsx', 'portieri_22.xlsx', 'portieri_21.xlsx', 'portieri_20.xlsx', 'portieri_19.xlsx']\n",
    "\n",
    "# Faccio un dizionario per mappare i file agli anni\n",
    "year_mapping = {'portieri_23.xlsx': 2023,'portieri_22.xlsx': 2022,'portieri_21.xlsx': 2021,'portieri_20.xlsx': 2020,'portieri_19.xlsx': 2019}"
   ]
  },
  {
   "cell_type": "markdown",
   "metadata": {},
   "source": [
    "Eliminiamo prima le colonne non utili a questa analisi. Iniziamo da quelle di Nome, Nazionalità, Posizione e Squadra. Dopodichè togliamo le colonne con le percentuali e la colonna relativa al numero di rigori subiti dal portiere, in quanto ci interessa di più quanti ne salva o ne concede piuttosto che quelli che gli vengono calciati contro."
   ]
  },
  {
   "cell_type": "code",
   "execution_count": null,
   "metadata": {},
   "outputs": [],
   "source": [
    "# Questa parte di codice crea 5 figure che rappresentano il riquadro di correlazione fra le statistiche\n",
    "# suddiviso per annata\n",
    "colonne_da_eliminare = ['Player', 'Nation', 'Pos', 'Squad', 'Save%', 'CS%', 'PKatt','Save%.1','AvgLen', 'AvgLen.1',\n",
    "                         'Cmp%', 'Launch%', 'Launch%.1', 'Stp%']\n",
    "\n",
    "correlations = []\n",
    "years = []\n",
    "for file in files:\n",
    "    \n",
    "    data_frame = pd.read_excel(file)\n",
    "\n",
    "    # Uso .drop per rimuovere dal data frame quelle statistiche che non voglio usare in questa analisi\n",
    "    data_frame.drop(columns=colonne_da_eliminare, inplace=True) \n",
    "\n",
    "    corr_matrix = data_frame.corr()  # Calcolo la matrice di correlazione\n",
    "\n",
    "    year = year_mapping[file]  # Ottengo l'anno dal file usando il mapping\n",
    "    years.append(year)\n",
    "\n",
    "    fig = px.imshow(corr_matrix, title=f\"Matrice di Correlazione - Anno {year}\")\n",
    "    # Ottengo in output il grafico di correlazione\n",
    "\n",
    "    fig.show()\n",
    "\n",
    "# Inserisco questa riga di codice in modo da poter visualizzare le colonne usate per l'analisi\n",
    "print(f'Le colonne usate per questa analisi sono {list(data_frame.columns)}')\n"
   ]
  },
  {
   "cell_type": "code",
   "execution_count": 3,
   "metadata": {},
   "outputs": [],
   "source": [
    "# Creo una funzione che mi permette di scoprire quali sono le statistiche meglio e peggio correlate con una desiderata\n",
    "\n",
    "def best_worst(stat):\n",
    " for file in files:\n",
    "    year = year_mapping[file]\n",
    "    data_frame = pd.read_excel(file)\n",
    "\n",
    "    data_frame.drop(columns=colonne_da_eliminare, inplace=True) \n",
    "\n",
    "    corr_matrix = data_frame.corr()\n",
    "\n",
    "    if stat in corr_matrix.columns:\n",
    "        # Ordina le correlazioni con la statistica scelta\n",
    "        sorted_corr = corr_matrix[stat].sort_values(ascending=False)\n",
    "\n",
    "        # Trova le 5 migliori e peggiori correlazioni (cambiare i range per saperne di più o di meno)\n",
    "        best_corr = sorted_corr[1:6]  # Parto da 1 per evitare la correlazione della statistica con se stessa\n",
    "        worst_corr = sorted_corr[-5:]\n",
    "\n",
    "        print(f\"Anno {year}: Le 5 statistiche meglio correlate con {stat} sono:\\n{best_corr}\")\n",
    "        print(f\"Anno {year}: Le 5 statistiche peggio correlate con {stat} sono:\\n{worst_corr}\")\n",
    "    else:\n",
    "        print(f\"La statistica {stat} non è presente nel dataset. Controlla l'input\")\n",
    "\n",
    "# Creo una funzione che restituisce l'elenco degli indci di correlazione di una statistica con le altre anno per anno\n",
    "\n",
    "def correlazioni_annuali(stat):\n",
    "    for file in files:\n",
    "        year = year_mapping[file]\n",
    "        data_frame = pd.read_excel(file)  \n",
    "\n",
    "        data_frame.drop(columns=colonne_da_eliminare, inplace=True)\n",
    "\n",
    "        corr_matrix = data_frame.corr()\n",
    "\n",
    "        if stat in corr_matrix.columns:\n",
    "            sorted_corr = corr_matrix[stat].sort_values(ascending=False)\n",
    "\n",
    "            print(f\"Anno {year}: Le correlazioni per {stat} sono:\\n{sorted_corr}\\n\")\n",
    "        else:\n",
    "            print(f\"La statistica {stat} non è presente nel dataset dell'anno {year}.\")\n",
    "        \n",
    "# Creo una seconda funzione che mi dice l'indice di correlazione di due statistiche specifiche\n",
    "# ed il cambiamento di questo nel corso delle stagioni\n",
    "\n",
    "def correlazione(stat1,stat2):\n",
    " correlations = []\n",
    "\n",
    " for file in files:\n",
    "    \n",
    "    data_frame = pd.read_excel(file)\n",
    "\n",
    "    data_frame.drop(columns=colonne_da_eliminare, inplace=True)\n",
    "\n",
    "    corr_matrix = data_frame.corr()\n",
    "\n",
    "    year = year_mapping[file]\n",
    "\n",
    "    # Verifica se entrambe le statistiche esistono nella matrice di correlazione\n",
    "    if stat1 in corr_matrix.columns and stat2 in corr_matrix.columns:\n",
    "        correlation_value = corr_matrix.loc[stat1, stat2]\n",
    "        correlations.append((year, correlation_value))\n",
    "        #print(f\"Anno {year}: Correlazione tra {stat1} e {stat2} = {correlation_value}\")\n",
    "    else:\n",
    "        correlations.append((year, None))\n",
    "\n",
    "# Creazione del DataFrame per il grafico\n",
    " if stat1 in corr_matrix.columns and stat2 in corr_matrix.columns:\n",
    "    correlation_df = pd.DataFrame(correlations, columns=['Anno', 'Correlazione'])\n",
    "    \n",
    "    # Crea il grafico dell'andamento della correlazione nel tempo\n",
    "    fig = px.line(correlation_df, x='Anno', y='Correlazione', title=f\"Correlazione tra {stat1} e {stat2}\", markers=True)\n",
    "    fig.update_xaxes(dtick=1)\n",
    "    fig.update_yaxes(range = [-1,1], dtick = 0.10)\n",
    "    fig.show()\n",
    " else:\n",
    "    print(\"Nessun grafico disponibile: non sono state calcolate correlazioni valide. Controlla l'input\")"
   ]
  },
  {
   "cell_type": "markdown",
   "metadata": {},
   "source": [
    "Le statistiche di gioco si suddividono in 2 macro categorie. Una relativa alle parate o agli interventi realizzati dal portiere, l'altra invece descrive il comportamento del portiere con la palla ai piedi (statistiche su lanci o passaggi).\n",
    "\n",
    "Iniziamo dalla prima, quella delle parate, ed iniziamo l'analisi con l'età, i minuti e le partite giocate."
   ]
  },
  {
   "cell_type": "code",
   "execution_count": 4,
   "metadata": {},
   "outputs": [],
   "source": [
    "colonne_da_eliminare = ['Player', 'Nation', 'Pos', 'Squad','Save%', 'AvgLen', 'AvgLen.1', 'CS%', 'Save%.1', 'Cmp', 'Att', 'Cmp%', 'Att (GK)', 'Thr', 'Launch%', \n",
    "'AvgLen', 'Att.1', 'Launch%.1', 'AvgLen.1', 'Opp', 'Stp', 'Stp%']"
   ]
  },
  {
   "cell_type": "code",
   "execution_count": null,
   "metadata": {},
   "outputs": [],
   "source": [
    "correlations = []\n",
    "years = []\n",
    "for file in files:\n",
    "    \n",
    "    data_frame = pd.read_excel(file)\n",
    "\n",
    "    data_frame.drop(columns=colonne_da_eliminare, inplace=True) \n",
    "\n",
    "    corr_matrix = data_frame.corr() \n",
    "\n",
    "    year = year_mapping[file] \n",
    "    years.append(year)\n",
    "\n",
    "    fig = px.imshow(corr_matrix, title=f\"Matrice di Correlazione - Anno {year}\")\n",
    "\n",
    "    fig.show()"
   ]
  },
  {
   "cell_type": "markdown",
   "metadata": {},
   "source": [
    "Il dato sull'età è correlato molto male, gli indici sono tutti vicini allo zero. Risultato abbastanza inaspettato per una posizione del genere, infatti quello del portiere è il ruolo meno fisico e quindi in cui l'età influisce meno a livello di prestazione. Inoltre ci aspettavamo che l'età fosse molto importante, in quanto un portiere più vecchio ha probabilmente più esperienza e più leadership. \n",
    "I dati sulle partite giocate è invece abbastanza chiaro in quanto è nell'interesse della squadra far giocare titolare il miglior portiere che ha in rosa."
   ]
  },
  {
   "cell_type": "code",
   "execution_count": 6,
   "metadata": {},
   "outputs": [],
   "source": [
    "colonne_da_eliminare = ['Player', 'Nation', 'Pos', 'Squad','Save%', 'Age', 'Starts', 'MP', 'Min', 'CS%', 'Save%.1', 'Cmp',\n",
    "                     'Att', 'Cmp%', 'Att (GK)', 'Thr', 'Launch%', 'AvgLen', 'Att.1', 'Launch%.1', 'AvgLen.1', 'Stp%']"
   ]
  },
  {
   "cell_type": "code",
   "execution_count": null,
   "metadata": {},
   "outputs": [],
   "source": [
    "correlations = []\n",
    "years = []\n",
    "for file in files:\n",
    "    \n",
    "    data_frame = pd.read_excel(file)\n",
    "\n",
    "    data_frame.drop(columns=colonne_da_eliminare, inplace=True) \n",
    "\n",
    "    corr_matrix = data_frame.corr() \n",
    "\n",
    "    year = year_mapping[file] \n",
    "    years.append(year)\n",
    "\n",
    "    fig = px.imshow(corr_matrix, title=f\"Matrice di Correlazione - Anno {year}\")\n",
    "\n",
    "    fig.show()"
   ]
  },
  {
   "cell_type": "markdown",
   "metadata": {},
   "source": [
    "Notiamo subito ottime correlazioni: le parate sono, ovviamente, ben correlate con i tiri in porta in quanto un portiere che subisce più tiri tendenzialmente dovrà fare più parate. Oltre a questo vediamo che è ben correlato con i clean sheet (partite concluse senza subire gol) infatti un portiere che fa molte parate ha più probabilità che concluda la partita senza concedere gol, ovviamente l'indice non è altissimo perchè se una squadra subisce molti tiri il portiere potrà fare tante parate e comunque concedere almeno un gol. Inoltre notiamo che i portieri che parano di più sono anche quelli che riescono ad intercettare più cross effettuati dagli avversari.\n",
    "\n",
    "Un risultato abbastanza inaspettato è l'indice di correlazione fra parate e rigori parati. Ci aspettavamo che un portiere che fa tante parate parasse anche tanti rigori, invece scopriamo che l'indice è più basso di quanto pensavamo. Le due statistiche non sono completamente scorrelate, però l'indice fra queste non è molto alto, si aggira sullo 0.5 in media negli anni.\n",
    "\n",
    "Abbiamo infine i dati su alcune tipologie specifiche di gol subiti. Gol subiti da punizione, gol subiti da calcio d'angolo e autogol. Fra questi tre vediamo tramite l'indice di correlazione che la maggior parte dei gol è subita da calcio d'angolo.\n",
    "\n",
    "Per quanto riguarda i calci di rigore vediamo che l'indice fra quelli segnati e quelli parati abbastanza basso, ci suggerisce che parare i rigori sia una cosa tutt'altro che casuale ma basata esclusivamente sulle doti del portiere in questa particolare categoria. Se parare i rigori fosse completamente fortuna avremmo un indice più alto in quanto ad un numero di rigori concessi dovrebbe equivalere un numero simile di rigori parati. L'alto indice di correlazione fra i rigori calciati e segnati ci dice quanto sia raro trovare un portiere \"para rigori\"."
   ]
  },
  {
   "cell_type": "code",
   "execution_count": null,
   "metadata": {},
   "outputs": [],
   "source": [
    "# Vediamo con i grafici i risultati appena trovati\n",
    "\n",
    "stat1 = 'Saves'\n",
    "stat2 = 'SoTA'\n",
    "correlazione(stat1,stat2)\n",
    "\n",
    "stat2 = 'CS'\n",
    "correlazione(stat1,stat2)\n",
    "\n",
    "stat2 = 'Stp'\n",
    "correlazione(stat1,stat2)\n",
    "\n",
    "stat2 = 'PKsv'\n",
    "correlazione(stat1,stat2)\n",
    "\n",
    "stat1 = 'PKA'\n",
    "correlazione(stat1,stat2)\n",
    "\n",
    "stat1 = 'GA'\n",
    "stat2 = 'CK'\n",
    "correlazione(stat1,stat2)"
   ]
  },
  {
   "cell_type": "markdown",
   "metadata": {},
   "source": [
    "Passiamo ora alla seconda macro categoria, quella relativa ai passaggi ed i lanci."
   ]
  },
  {
   "cell_type": "code",
   "execution_count": 9,
   "metadata": {},
   "outputs": [],
   "source": [
    "colonne_da_eliminare =['Player', 'Nation', 'Pos', 'Squad','Age', 'MP', 'Starts', 'Min', 'GA', 'SoTA', 'Saves', 'Save%','AvgLen', \n",
    "'AvgLen.1','CS', 'CS%', 'PKatt', 'PKA', 'PKsv', 'PKm', 'Save%.1', 'FK', 'CK', 'OG', 'Cmp%', 'Launch%', 'Launch%.1', 'Opp', 'Stp', \n",
    "'Stp%']"
   ]
  },
  {
   "cell_type": "code",
   "execution_count": null,
   "metadata": {},
   "outputs": [],
   "source": [
    "correlations = []\n",
    "years = []\n",
    "for file in files:\n",
    "    \n",
    "    data_frame = pd.read_excel(file)\n",
    "\n",
    "    data_frame.drop(columns=colonne_da_eliminare, inplace=True) \n",
    "\n",
    "    corr_matrix = data_frame.corr() \n",
    "\n",
    "    year = year_mapping[file] \n",
    "    years.append(year)\n",
    "\n",
    "    fig = px.imshow(corr_matrix, title=f\"Matrice di Correlazione - Anno {year}\")\n",
    "\n",
    "    fig.show()"
   ]
  },
  {
   "cell_type": "markdown",
   "metadata": {},
   "source": [
    "In queste matrici i colori possono trarre in inganno, in quanto vedendo un blu molto scuro si può pensare che ci siano delle statistiche mal correlate, ma non è così. Guardando, infatti, le barre di destra vediamo come il range di correlazione è sempre [0,8 ; 1] circa. Andando nello specifico vediamo che i passaggi tentati e completati hanno un indice alto, ciò comporta che i portieri in generale siano molto bravi con i piedi. Inoltre notiamo che il dato dei passaggi completati sia correlato bene con il dato dei lanci lunghi, la nostra conclusione è che un portiere fiducioso dei suoi piedi tenta spesso lanci lunghi.\n"
   ]
  },
  {
   "cell_type": "code",
   "execution_count": null,
   "metadata": {},
   "outputs": [],
   "source": [
    "# Vediamo i grafici dei risultati appena trovati\n",
    "\n",
    "stat1 = 'Cmp'\n",
    "stat2 = 'Att'\n",
    "correlazione(stat1,stat2)\n",
    "\n",
    "stat2 = 'Thr'\n",
    "correlazione(stat1,stat2)\n",
    "\n",
    "stat2 = 'Att.1'\n",
    "correlazione(stat1,stat2)"
   ]
  }
 ],
 "metadata": {
  "kernelspec": {
   "display_name": "base",
   "language": "python",
   "name": "python3"
  },
  "language_info": {
   "codemirror_mode": {
    "name": "ipython",
    "version": 3
   },
   "file_extension": ".py",
   "mimetype": "text/x-python",
   "name": "python",
   "nbconvert_exporter": "python",
   "pygments_lexer": "ipython3",
   "version": "3.12.2"
  }
 },
 "nbformat": 4,
 "nbformat_minor": 2
}
