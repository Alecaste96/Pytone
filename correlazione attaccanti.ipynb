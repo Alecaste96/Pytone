{
 "cells": [
  {
   "cell_type": "markdown",
   "metadata": {},
   "source": [
    "Questa sezione tratta la correlazione delle statistiche. \n",
    "\n",
    "Il calcio moderno è diventato molto caro, sopratutto per il reparto di attacco. Le società chiedono tantissimi soldi per un giocatore \"solamente\" perchè ha realizzato tanti Gol o Assist. Non tutte le squadre, però, hanno una disponibilità economica elevata per puntare su un attaccante già affermato che ha realizzato numeri altissimi. L'idea dietro a questa analisi è quella di capire se ci sono delle statistiche ben relazionate con quelle sopracitate, che una squadra può andare ad analizzare per trovare un attaccante d'impatto per la propria squadra. Vogliamo trovare quali sono queste statisitche."
   ]
  },
  {
   "cell_type": "code",
   "execution_count": null,
   "metadata": {},
   "outputs": [],
   "source": [
    "# Importo le librerie necessarie per il codice\n",
    "\n",
    "import pandas as pd\n",
    "import plotly.express as px\n",
    "pd.set_option('display.max_columns', None)\n",
    "\n",
    "# Elenco dei file da leggere\n",
    "files = ['attaccanti_23.xlsx', 'attaccanti_22.xlsx', 'attaccanti_21.xlsx', 'attaccanti_20.xlsx', 'attaccanti_19.xlsx']\n",
    "\n",
    "# Faccio un dizionario per mappare i file agli anni\n",
    "year_mapping = {'attaccanti_23.xlsx': 2023,'attaccanti_22.xlsx': 2022,'attaccanti_21.xlsx': 2021,'attaccanti_20.xlsx': 2020,'attaccanti_19.xlsx': 2019}"
   ]
  },
  {
   "cell_type": "code",
   "execution_count": null,
   "metadata": {},
   "outputs": [],
   "source": [
    "# Questa sezione è divisa in due parti. \n",
    "\n",
    "# La prima parte si occupa esclusivamente  delle tabelle di correlazione infatti, una volta scaricati i file,\n",
    "# si potranno visualizzare cinque quadrati interattivi che riportano come si correlano tra di loro le statistiche \n",
    "# selezionate nel dataframe. \n",
    "# Alla fine per comodità verranno riportate le colonne usate.\n",
    "\n",
    "# Nella seconda parte abbiamo inserito una funzione che ha come scopo quello di scoprire quali sono le 5 statistiche meglio e peggio\n",
    "# correlate con quella desiderata data in input. Ed una funzione che restituisce l'elenco di tutti gli indici di correlazione\n",
    "# con le altre statistiche. Ed infine una terza funzione che ha come scopo quello di vedere come sono correlate\n",
    "# due statistiche specifiche, date in input alla funzione, e vedere come la loro correlazione è cambiata negli ultimi 5 anni,\n",
    "# sicuramente utile per scoprire se la correlazione o scorrelazione di due dati sia casuale o una cosa costante nel tempo."
   ]
  },
  {
   "cell_type": "markdown",
   "metadata": {},
   "source": [
    "Prima di tutto bisogna fare un processo di 'data cleaning' ovvero una pulizia del dataframe, aggiungendo colonne che possono essere utili oppure togliendone altre che non voglio prendere in considerazione.\n",
    "\n",
    "Per prima cosa togliamo i dati dei cartellini gialli e rossi collezionati dai giocatori, in quanto rappresentano la disciplina di questi e non le loro capacità balistiche. Dopodiche eliminiamo le colonne relative ai calci piazzati in quanto rigori e punizioni hanno i propri specialisti scelti dall'allenatore, che non devono essere obbligatoriamente attaccanti, che battono tutti quelli che vengono assegnati nelle partite. Non sarebbe quindi equo considerare una statistica alla quale la maggior parte dei giocatori non prendono neanche parte.\n",
    "\n",
    "Ovviamente scartiamo le celle relative al Nome del giocatore, la Squadra per cui gioca e la sua Nazionalità.\n",
    "Subito dopo togliamo quelle colonne che rappresentano \"operazioni\" fra altre statistiche, come ad esempio somme fra due dati, percentuali o rapporti, in quanto non sono statistiche di gioco (realizzate sul campo dal giocatore) ma create ad hoc per altri tipi di analisi non inerenti al nostro."
   ]
  },
  {
   "cell_type": "code",
   "execution_count": null,
   "metadata": {},
   "outputs": [],
   "source": [
    "# Questa parte di codice crea 5 figure che rappresentano il riquadro di correlazione fra le statistiche per annata\n",
    "\n",
    "correlations = []\n",
    "years = []\n",
    "\n",
    "colonne_da_eliminare = ['Player', 'Nation', 'Pos', 'Squad', 'G+A', 'G-PK','SoT%','PK',\n",
    "       'PKatt',  'FK', 'G/Sh', 'G/SoT', 'G-xG','CrdY', 'CrdR', '2CrdY', 'Cmp%','Succ%','Won%']\n",
    "\n",
    "for file in files:\n",
    "    \n",
    "    data_frame = pd.read_excel(file)\n",
    "    data_frame['Duels'] = data_frame['Won'] + data_frame['Lost'] # Creo la colonna dei duelli aerei, può essere utile per l'analisi\n",
    "\n",
    "    # Uso .drop per rimuovere dal data frame quelle statistiche che non voglio usare in questa analisi\n",
    "    data_frame.drop(columns=colonne_da_eliminare, inplace=True) \n",
    "\n",
    "    corr_matrix = data_frame.corr()  # Calcolo la matrice di correlazione\n",
    "\n",
    "    year = year_mapping[file]  # Ottengo l'anno dal file usando il mapping\n",
    "    years.append(year)\n",
    "\n",
    "    fig = px.imshow(corr_matrix, title=f\"Matrice di Correlazione - Anno {year}\")\n",
    "    # Ottengo in output il grafico di correlazione\n",
    "\n",
    "    fig.show()\n",
    "\n",
    "# Inserisco questa riga di codice in modo da poter visualizzare le colonne usate per l'analisi\n",
    "print(f'Le colonne usate per questa analisi sono {list(data_frame.columns)}')\n"
   ]
  },
  {
   "cell_type": "code",
   "execution_count": null,
   "metadata": {},
   "outputs": [],
   "source": [
    "# Creo una funzione che mi permette di scoprire quali sono le statistiche meglio e peggio correlate con una desiderata\n",
    "\n",
    "def best_worst(stat):\n",
    " for file in files:\n",
    "    year = year_mapping[file]\n",
    "    data_frame = pd.read_excel(file)\n",
    "    data_frame['Duels'] = data_frame['Won'] + data_frame['Lost']\n",
    "\n",
    "    data_frame.drop(columns=colonne_da_eliminare, inplace=True) \n",
    "\n",
    "    corr_matrix = data_frame.corr()\n",
    "\n",
    "    if stat in corr_matrix.columns:\n",
    "        # Ordina le correlazioni con la statistica scelta\n",
    "        sorted_corr = corr_matrix[stat].sort_values(ascending=False)\n",
    "\n",
    "        # Trova le 5 migliori e peggiori correlazioni (cambiare i range per saperne di più o di meno)\n",
    "        best_corr = sorted_corr[1:6]  # Parto da 1 per evitare la correlazione della statistica con se stessa\n",
    "        worst_corr = sorted_corr[-5:]\n",
    "\n",
    "        print(f\"Anno {year}: Le 5 statistiche meglio correlate con {stat} sono:\\n{best_corr}\")\n",
    "        print(f\"Anno {year}: Le 5 statistiche peggio correlate con {stat} sono:\\n{worst_corr}\")\n",
    "    else:\n",
    "        print(f\"La statistica {stat} non è presente nel dataset. Controlla l'input\")\n",
    "\n",
    "# Creo una funzione che restituisce l'elenco degli indci di correlazione di una statistica con le altre anno per anno\n",
    "\n",
    "def correlazioni_annuali(stat):\n",
    "    for file in files:\n",
    "        year = year_mapping[file]\n",
    "        data_frame = pd.read_excel(file)  \n",
    "        data_frame['Duels'] = data_frame['Won'] + data_frame['Lost']\n",
    "\n",
    "        data_frame.drop(columns=colonne_da_eliminare, inplace=True)\n",
    "\n",
    "        corr_matrix = data_frame.corr()\n",
    "\n",
    "        if stat in corr_matrix.columns:\n",
    "            sorted_corr = corr_matrix[stat].sort_values(ascending=False)\n",
    "\n",
    "            print(f\"Anno {year}: Le correlazioni per {stat} sono:\\n{sorted_corr}\\n\")\n",
    "        else:\n",
    "            print(f\"La statistica {stat} non è presente nel dataset dell'anno {year}.\")\n",
    "        \n",
    "# Creo una seconda funzione che mi dice l'indice di correlazione di due statistiche specifiche\n",
    "# ed il cambiamento di questo nel corso delle stagioni\n",
    "\n",
    "def correlazione(stat1,stat2):\n",
    " correlations = []\n",
    "\n",
    " for file in files:\n",
    "    \n",
    "    data_frame = pd.read_excel(file)\n",
    "    data_frame['Duels'] = data_frame['Won'] + data_frame['Lost']\n",
    "\n",
    "    data_frame.drop(columns=colonne_da_eliminare, inplace=True)\n",
    "\n",
    "    corr_matrix = data_frame.corr()\n",
    "\n",
    "    year = year_mapping[file]\n",
    "\n",
    "    # Verifica se entrambe le statistiche esistono nella matrice di correlazione\n",
    "    if stat1 in corr_matrix.columns and stat2 in corr_matrix.columns:\n",
    "        correlation_value = corr_matrix.loc[stat1, stat2]\n",
    "        correlations.append((year, correlation_value))\n",
    "        #print(f\"Anno {year}: Correlazione tra {stat1} e {stat2} = {correlation_value}\")\n",
    "    else:\n",
    "        correlations.append((year, None))\n",
    "\n",
    "# Creazione del DataFrame per il grafico\n",
    " if stat1 in corr_matrix.columns and stat2 in corr_matrix.columns:\n",
    "    correlation_df = pd.DataFrame(correlations, columns=['Anno', 'Correlazione'])\n",
    "    \n",
    "    # Crea il grafico dell'andamento della correlazione nel tempo\n",
    "    fig = px.line(correlation_df, x='Anno', y='Correlazione', title=f\"Correlazione tra {stat1} e {stat2}\", markers=True)\n",
    "    fig.update_xaxes(dtick=1)\n",
    "    fig.update_yaxes(range = [-1,1], dtick = 0.10)\n",
    "    fig.show()\n",
    " else:\n",
    "    print(\"Nessun grafico disponibile: non sono state calcolate correlazioni valide. Controlla l'input\")"
   ]
  },
  {
   "cell_type": "markdown",
   "metadata": {},
   "source": [
    "Otteniamo in output i 5 grafici richiesti relativi alle 5 stagioni prese in considerazione. La barra sulla destra indica l'indice di correlazione in base al colore del quadrato relativo a due colonne. Muovendo il cursore sulle colonne si può vedere le due statistiche prese in considerazione ed il loro indice di correlazione. \n",
    "\n",
    "La presenza dei colori ci aiuta subito a notare che i grafici si assomigliano molto, nonostante vengano presi in considerazione 5 anni diversi nei quali hanno giocato molti giocatori diversi stagione per stagione. \n",
    "Immaginiamo quindi che gli indici di correlazione rimangano abbastanza costanti durante gli anni. Questo ci fa molto comodo, in quanto ci rassicura sul fatto che i risultati che troveremo non saranno casuali ma validi nel corso degli anni.\n",
    "\n",
    "Oltre a questa osservazione possiamo anche notare, riconoscendo i colori, che ci sono statistiche mal correlate con tutte le altre. Salta subito all'occhio la colonna relativa ai Minuti giocati, indicata con 'Min'."
   ]
  },
  {
   "cell_type": "code",
   "execution_count": null,
   "metadata": {},
   "outputs": [],
   "source": [
    "stat = 'Min'\n",
    "best_worst(stat)\n",
    "\n",
    "stat1 = 'Min'\n",
    "stat2 = 'Gls'\n",
    "correlazione(stat1,stat2)\n",
    "\n",
    "stat2 = 'Ast'\n",
    "correlazione(stat1,stat2)\n",
    "\n",
    "stat2 = 'GCA'\n",
    "correlazione(stat1,stat2)"
   ]
  },
  {
   "cell_type": "markdown",
   "metadata": {},
   "source": [
    "Non c'è bisogno di richiamare tutti i valori, ci basta usare le funzioni per confermare ciò che pensavamo. \n",
    "Nel corso degli anni il range di correlazione risulta sempre essere vicino allo 0. Questo è sicuramente il primo risultato grosso ed inaspettato di questa analisi in quanto ci aspettavamo che un minutaggio elevato avesse un grosso impatto sulle statistiche del singolo. \n",
    "Vediamo come l'andamento dell'indice di correlazione risulta costantemente vicino allo 0 nel corso degli anni.\n",
    "\n",
    "Da un certo punto di vista però è un risultato che ci piace in quanto suggerisce che il rendimento di un attaccante non dipenda banalmente da quanto gioca ma da come gioca. Tutto ciò da ancora più valore alla nostra ricerca."
   ]
  },
  {
   "cell_type": "markdown",
   "metadata": {},
   "source": [
    "Questo risultato interessante appena trovato sui minuti ci suggerisce di testare le correlazioni delle altre statistiche non di campo ovvero 'Age' 'Starts' 'MP', rispettivamente, Età del giocatore, numero di partite titolare e numero totale di partite in cui ha giocato. Analizziamole separatamente una per volta."
   ]
  },
  {
   "cell_type": "code",
   "execution_count": null,
   "metadata": {},
   "outputs": [],
   "source": [
    "stat = 'Age'\n",
    "correlazioni_annuali(stat)\n",
    "\n",
    "stat1 = 'Age'\n",
    "stat2 = 'Gls'\n",
    "correlazione(stat1,stat2)\n",
    "\n",
    "stat2 = 'Ast'\n",
    "correlazione(stat1,stat2)\n",
    "\n",
    "stat2 = 'GCA'\n",
    "correlazione(stat1,stat2)"
   ]
  },
  {
   "cell_type": "markdown",
   "metadata": {},
   "source": [
    "Nel 2023 il range di correlazione (esclusa ovviamente se stessa) è [0.276579, -0.098984], nel 2022 [0.308650, -0.070421], nel 2021 [0.320632, -0.119382], nel 2020 [0.352202, -0.090711] e nel 2019 [0.404946, -0.017619]. Possiamo notare come nel corso degli anni gli indici di correlazione siano rimasti in un range simile, vicino allo 0. Altro risultato inaspettato, in quanto pensavamo che l'esperienza di un giocatore più anziano oppure la freschezza e fantasia di un giovane potessero influire sulla performance di questo. Le nostre statistiche di interesse, ovviamente, stanno nei range appena citati e quindi vale lo stesso discorso."
   ]
  },
  {
   "cell_type": "code",
   "execution_count": null,
   "metadata": {},
   "outputs": [],
   "source": [
    "stat = 'Starts'\n",
    "correlazioni_annuali(stat)\n",
    "\n",
    "stat1 = 'Starts'\n",
    "stat2 = 'Gls'\n",
    "correlazione(stat1,stat2)\n",
    "\n",
    "stat2 = 'Ast'\n",
    "correlazione(stat1,stat2)\n",
    "\n",
    "stat2 = 'GCA'\n",
    "correlazione(stat1,stat2)"
   ]
  },
  {
   "cell_type": "markdown",
   "metadata": {},
   "source": [
    "Il discorso qui è molto diverso, i range di correlazione sono molto più ampi e raggiungono numeri più alti. Nel 2023 [0.931046, -0.352069], nel 2022 [0.917525, -0.351932], nel 2021 [0.930689, -0.265947], nel 2020 [0.923731, -0.328074] e nel 2019 [0.916789, -0.379672]. Questa statistica è quindi correlata bene con alcune e male con altre. Notiamo, inoltre, come si relazioni abbastanza bene con le statistiche interessanti. Il risultato in realtà è abbastanza prevedibile in quanto è nell'interesse delle squadre schierare titolari i giocatori migliori che quindi registrano dati migliori."
   ]
  },
  {
   "cell_type": "code",
   "execution_count": null,
   "metadata": {},
   "outputs": [],
   "source": [
    "stat = 'MP'\n",
    "correlazioni_annuali(stat)\n",
    "\n",
    "stat1 = 'MP'\n",
    "stat2 = 'Gls'\n",
    "correlazione(stat1,stat2)\n",
    "\n",
    "stat2 = 'Ast'\n",
    "correlazione(stat1,stat2)\n",
    "\n",
    "stat2 = 'GCA'\n",
    "correlazione(stat1,stat2)"
   ]
  },
  {
   "cell_type": "markdown",
   "metadata": {},
   "source": [
    "Il discorso riguardante il numero di partite giocate è il medesimo a quello precedente, è nell'interesse della squadra far giocare i giocatori migliori e quindi ci aspettavamo che fosse ben correlato."
   ]
  },
  {
   "cell_type": "markdown",
   "metadata": {},
   "source": [
    "Adesso ci concentriamo su quei dati che un attaccante registra quando messo a confronto con gli avversari, ovvero dribbling, contrasti, numero di tocchi, conduzioni di palla, distanza percorsa palla al piede, falli subiti e duelli aerei. Fra queste sono presenti colonne chiamate Mid 3rd e Att 3rd, questo indica in che area di campo viene registrata la statistica."
   ]
  },
  {
   "cell_type": "code",
   "execution_count": null,
   "metadata": {},
   "outputs": [],
   "source": [
    "correlations = []\n",
    "years = []\n",
    "\n",
    "colonne_da_eliminare = ['Player', 'Nation', 'Pos', 'Squad','Age', 'MP', 'Starts', 'Min', 'G+A', 'G-PK', 'PK',\n",
    "       'PKatt', 'CrdY', 'CrdR', 'xG', 'PrgP', 'PrgR', 'Sh', 'SoT', 'SoT%',\n",
    "       'G/Sh', 'G/SoT', 'Dist', 'FK', 'G-xG', 'Cmp', 'Att', 'Cmp%', 'xA', 'KP',\n",
    "       'PPA', 'CrsPA', 'SCA', 'Succ%','2CrdY', 'Off', 'Crs','Won%']\n",
    "\n",
    "for file in files:\n",
    "    \n",
    "    data_frame = pd.read_excel(file)\n",
    "    data_frame['Duels'] = data_frame['Won'] + data_frame['Lost'] \n",
    "    data_frame.drop(columns=colonne_da_eliminare, inplace=True) \n",
    "\n",
    "    corr_matrix = data_frame.corr()\n",
    "\n",
    "    year = year_mapping[file] \n",
    "    years.append(year)\n",
    "\n",
    "    fig = px.imshow(corr_matrix, title=f\"Matrice di Correlazione - Anno {year}\")\n",
    "    fig.show()"
   ]
  },
  {
   "cell_type": "markdown",
   "metadata": {},
   "source": [
    "Dal range di correlazione indicato sulla destra capiamo come alcune statistiche siano correlate male e dal colore possiamo individuarle. Le colonne relative ai duelli aerei che sono correlate decentemente solamente con i Gol, quelle relative ai contrasti hanno indici bassi con quelle che ci interessano.\n",
    "Ci aspettavamo che i falli fossero ben correlati, in quanto una squadra potrebbe ricorrere ai falli per fermare un giocatore forte ed invece gli indici di correlazione sono abbastanza normali, si aggirano intorno al 0.6.\n",
    "Sono relazionati molto bene invece i dati sui dribbling, sopratutto con i dati di Assist e Chance da Goal create, inoltre vediamo quelle di conduzioni di palla e in aggiunta quelle relative alla distanza percorsa palla al piede. "
   ]
  },
  {
   "cell_type": "code",
   "execution_count": null,
   "metadata": {},
   "outputs": [],
   "source": [
    "#Correlazione delle statistiche sopracitate nel tempo\n",
    "# Assist\n",
    "\n",
    "stat1 = 'Ast'\n",
    "stat2 = 'Carries'\n",
    "correlazione(stat1,stat2)\n",
    "\n",
    "stat2 = 'TotDist'\n",
    "correlazione(stat1,stat2)\n",
    "\n",
    "stat2 = 'Att.1'\n",
    "correlazione(stat1,stat2)\n",
    "\n",
    "stat2 = 'Succ'\n",
    "correlazione(stat1,stat2)\n",
    "\n",
    "# Chance da Gol \n",
    "\n",
    "stat1 = 'GCA'\n",
    "stat2 = 'Carries'\n",
    "correlazione(stat1,stat2)\n",
    "\n",
    "stat2 = 'TotDist'\n",
    "correlazione(stat1,stat2)\n",
    "\n",
    "stat2 = 'Att.1'\n",
    "correlazione(stat1,stat2)\n",
    "\n",
    "stat2 = 'Succ'\n",
    "correlazione(stat1,stat2)\n",
    "\n",
    "# Gol\n",
    "\n",
    "stat1 = 'Gls'\n",
    "stat2 = 'Carries'\n",
    "correlazione(stat1,stat2)\n",
    "\n",
    "stat2 = 'TotDist'\n",
    "correlazione(stat1,stat2)\n",
    "\n",
    "stat2 = 'Att.1'\n",
    "correlazione(stat1,stat2)\n",
    "\n",
    "stat2 = 'Succ'\n",
    "correlazione(stat1,stat2)"
   ]
  },
  {
   "cell_type": "markdown",
   "metadata": {},
   "source": [
    "\n",
    "Questo risultato ci dice che un giocatore fisico che vince molti contrasti e duelli aerei non sia del tutto necessario al fine dei Gol e gli altri dati di riferimento, piuttosto dovrebbe concentrarsi nell'ingaggiare un attaccante più tecnico ed agile che sia in grado di saltare l'uomo e portare palla. Le due caratteristiche non si escludono a vicenda, un giocatore può essere molto tecnico e anche fisico, stiamo dando una sorta di precedenza quando si va a studiare le doti principali di un atleta."
   ]
  },
  {
   "cell_type": "markdown",
   "metadata": {},
   "source": [
    "Analizziamo finalmente le statistiche di gioco, ovvero quelle relative ai tiri, passaggi, i calci piazzati. Ma prima occupiamoci del concetto di Gol ed Assist attesi. Questi dati indicano la probabilità di ogni tiro di essere gol o di un passaggio di essere un assist. "
   ]
  },
  {
   "cell_type": "code",
   "execution_count": null,
   "metadata": {},
   "outputs": [],
   "source": [
    "colonne_da_eliminare = ['Player', 'Nation', 'Pos', 'Squad','Age', 'MP', 'Starts', 'Min', 'G+A', 'G-PK', 'PK',\n",
    "       'PKatt', 'CrdY', 'CrdR', 'SoT%',\n",
    "       'G/Sh', 'G/SoT', 'FK', 'G-xG','Cmp%','Tkl', 'TklW', 'Mid 3rd', 'Att 3rd',\n",
    "       'Touches', 'Mid 3rd.1', 'Att 3rd.1', 'Att.1', 'Succ', 'Succ%',\n",
    "       'Carries', 'TotDist', '2CrdY', 'Fld', 'Duels', 'Won', 'Lost',\n",
    "       'Won%']"
   ]
  },
  {
   "cell_type": "code",
   "execution_count": null,
   "metadata": {},
   "outputs": [],
   "source": [
    "stat1 = 'Gls'\n",
    "stat2 = 'xG'\n",
    "correlazione(stat1,stat2)\n",
    "\n",
    "stat1 = 'Ast'\n",
    "stat2 = 'xA'\n",
    "correlazione(stat1,stat2)"
   ]
  },
  {
   "cell_type": "markdown",
   "metadata": {},
   "source": [
    "Il dato sui gol attesi tiene in considerazione tantissime variabili, ad esempio della difficoltà oggettiva del tiro, del numero di difensori presenti a contrastare o disturbare il tiro dell'attaccante, della qualità di questi difensori, tiene conto della posizione da cui sta tirando questo giocatore ed i risultati dei tiri fatti da altri giocatori in quella posizione, tiene conto del piede con cui calcia il giocatore, della sua posizione del corpo al momento dell'impatto e moltissime altre variabili. Tutti questi dati restituiscono la percentuale di un giocatore di segnare con il tiro che ha fatto, ad esempio un tiro da centrocampo avrà un indice di xG molto minore rispetto ad un calcio di rigore, oppure se due calciatori fanno due tiri identici il calciatore migliore avrà un indice di xG più alto. Dalla spiegazione riusciamo a comprendere come mai i due dati siano correlati quasi alla perfezione. Il dato sugli xG è frutto di un calcolo realizzato da intelligenze artificiali di ultimissima generazione che quindi riescono a fare una stima molto precisa.\n",
    "\n",
    "Il concetto di Assist atteso è il medesimo, indica la probabilità che ogni passaggio che porta al tiro diventi un assist. Ed anche questo tiene conto di tantissime variabili. Il dato di correlazione è leggermente inferiore negli anni, perchè il dato non tiene in considerazione del giocatore che riceve la palla, infatti calcola solamente la probabilità che un determinato passaggio diventi assist. Logicamente un giocatore forte riuscirà a concretizzare il passaggio più spesso rendendo la differenza fra assist ed assist attesi del compagno minore. "
   ]
  },
  {
   "cell_type": "code",
   "execution_count": null,
   "metadata": {},
   "outputs": [],
   "source": [
    "correlations = []\n",
    "years = []\n",
    "\n",
    "colonne_da_eliminare = ['Player', 'Nation', 'Pos', 'Squad','Age', 'MP', 'Starts', 'Min', 'G+A', 'G-PK', 'PK',\n",
    "       'PKatt', 'CrdY', 'CrdR', 'SoT%', 'xG', 'xA',\n",
    "       'G/Sh', 'G/SoT', 'FK', 'G-xG','Cmp%','Tkl', 'TklW', 'Mid 3rd', 'Att 3rd',\n",
    "       'Touches', 'Mid 3rd.1', 'Att 3rd.1', 'Att.1', 'Succ', 'Succ%',\n",
    "       'Carries', 'TotDist', '2CrdY', 'Fld', 'Duels', 'Won', 'Lost',\n",
    "       'Won%']\n",
    "\n",
    "for file in files:\n",
    "    \n",
    "    data_frame = pd.read_excel(file)\n",
    "    data_frame['Duels'] = data_frame['Won'] + data_frame['Lost'] \n",
    "    data_frame.drop(columns=colonne_da_eliminare, inplace=True) \n",
    "\n",
    "    corr_matrix = data_frame.corr()\n",
    "\n",
    "    year = year_mapping[file] \n",
    "    years.append(year)\n",
    "\n",
    "    fig = px.imshow(corr_matrix, title=f\"Matrice di Correlazione - Anno {year}\")\n",
    "    fig.show()"
   ]
  },
  {
   "cell_type": "markdown",
   "metadata": {},
   "source": [
    "In questi grafici notiamo come la statistica sulla distanza media di tiro abbia un indice di correlazione vicino allo zero e come le statistiche di passaggio siano ben relazionate tra di loro.\n",
    " \n",
    "Il primo risultato importante, relativamente logico, è dato dall'ottima correlazione dalle statistiche sui passaggi e gli assist, spiccano i dati di passaggi prograssivi, i passaggi chiave e passaggi in area di rigore (PrgP, KP e PPA). Discorso molto simile per il dato sulle chance da gol create. QUesto perchè un giocatore che passa meglio il pallone e fa passaggi più pericolosi realizzerà più assist.\n",
    "\n",
    "Per quanto riguarda i gol oltre alle logiche correlazioni con i dati di tiri e tiri in porta troviamo anche un dato interessante che è la correlazione tra i passaggi progressivi ricevuti e i gol realizzati. Questo ci suggerisce che un attaccante che sa fare dei buoni movimenti senza palla e riesce a dettare il passaggio al compagno tendenzialmente fa più gol. Risultato interessante infatti questo vuol dire che un modo per aumentare il numero di gol realizzati da un attaccante può essere farlo lavorare sui movimenti e gli inserimenti. \n",
    "\n",
    "Vediamo infine come i dati sui tiri hanno un indice di circa 0.65 nel corso degli anni, simile a quello dei passaggi con i gol. Ovviamente esistono degli attaccanti completi che sanno sia passare bene la palla ai compagni che fare gol, ma sicuramente se una squadra ha più bisogno di un attaccante che faccia tanti gol rispetto a tanti assist dovrà concentrarsi su un calciatore che tira molte volte piuttosto che uno che sa passare bene la palla, viceversa se ha bisogno di assist dovrà ricercare un buon passatore piuttosto che un tiratore.\n"
   ]
  },
  {
   "cell_type": "markdown",
   "metadata": {},
   "source": [
    "CONCLUSIONI\n",
    "\n",
    "L'analisi sulla correlazione delle statistiche degli attaccanti conferma la nostra tesi, in quanto vediamo come esistono effettivamente delle statistiche ben correlate con i gol, gli assist e le chance da gol create. Abbiamo visto ed argomentato i vari risultati giustificando il perchè degli indici di correlazione e in conclusione siamo riusciti a stabilire una collezione più ristretta di statistiche che una squadra può andare a studiare per trovare un attaccante che possa migliorare il proprio reparto d'attacco e per le quali invece non valga la pena perdere tempo.\n",
    "\n",
    "Per riassumere l'analisi possiamo quindi dire che una squadra non deve affidarsi all'età dell'atleta perchè non ha un indice di correlazione altissimo, inoltre abbiamo scoperto come la fisicità non è tutto ma bisogna dare la priorità all'agilità e ai fondamentali di dribbling e controllo palla. Una squadra deve sicuramente affidarsi alle tecnologie che indicano gli xG e gli xA in quanto abbiamo notato essere molto coerenti poi con il numero di gol ed assist effettivi. Ed infine possiamo dire che le statistiche da controllare immediatamente sono quelle relative ai tiri del giocatore e la sua capacità di fare movimenti senza palla, ed anche la sua dote di passaggio e la sua visione di gioco."
   ]
  }
 ],
 "metadata": {
  "kernelspec": {
   "display_name": "base",
   "language": "python",
   "name": "python3"
  },
  "language_info": {
   "codemirror_mode": {
    "name": "ipython",
    "version": 3
   },
   "file_extension": ".py",
   "mimetype": "text/x-python",
   "name": "python",
   "nbconvert_exporter": "python",
   "pygments_lexer": "ipython3",
   "version": "3.12.2"
  }
 },
 "nbformat": 4,
 "nbformat_minor": 2
}
