{
 "cells": [
  {
   "cell_type": "markdown",
   "metadata": {},
   "source": [
    "Questa sezione tratta la correlazione delle statistiche. \n",
    "\n",
    "Il calcio moderno è diventato molto caro, sopratutto per il reparto di attacco. Le società chiedono tantissimi soldi per un giocatore \"solamente\" perchè ha realizzato tanti Gol o Assist. Non tutte le squadre, però, hanno una disponibilità economica elevata per puntare su un attaccante già affermato che ha realizzato numeri altissimi. L'idea dietro a questa analisi è quella di capire se ci sono delle statistiche ben relazionate con quelle sopracitate, che una squadra può andare ad analizzare per trovare un attaccante d'impatto per la propria squadra. Vogliamo trovare quali sono queste statisitche."
   ]
  },
  {
   "cell_type": "code",
   "execution_count": null,
   "metadata": {},
   "outputs": [],
   "source": [
    "# Importo le librerie necessarie per il codice\n",
    "\n",
    "import numpy as np\n",
    "import scipy as sc\n",
    "import matplotlib.pyplot as plt\n",
    "import pandas as pd\n",
    "import plotly.express as px\n",
    "import plotly.graph_objects as go\n",
    "pd.set_option('display.max_columns', None)\n",
    "\n",
    "# Elenco dei file da leggere\n",
    "files = ['attaccanti_23.xlsx', 'attaccanti_22.xlsx', 'attaccanti_21.xlsx', 'attaccanti_20.xlsx', 'attaccanti_19.xlsx']\n",
    "\n",
    "# Faccio un dizionario per mappare i file agli anni\n",
    "year_mapping = {'attaccanti_23.xlsx': 2023,'attaccanti_22.xlsx': 2022,'attaccanti_21.xlsx': 2021,'attaccanti_20.xlsx': 2020,'attaccanti_19.xlsx': 2019}"
   ]
  },
  {
   "cell_type": "code",
   "execution_count": null,
   "metadata": {},
   "outputs": [],
   "source": [
    "# Questa sezione è divisa in due parti. \n",
    "\n",
    "# La prima parte si occupa esclusivamente  delle tabelle di correlazione infatti, una volta scaricati i file,\n",
    "# si potranno visualizzare cinque quadrati interattivi che riportano come si correlano tra di loro le statistiche \n",
    "# selezionate nel dataframe. \n",
    "# Alla fine per comodità verranno riportate le colonne usate.\n",
    "\n",
    "# Nella seconda parte abbiamo inserito una funzione che ha come scopo quello di scoprire quali sono le 5 statistiche meglio e peggio\n",
    "# correlate con quella desiderata data in input. Ed una funzione che restituisce l'elenco di tutti gli indici di correlazione\n",
    "# con le altre statistiche. Ed infine una terza funzione che ha come scopo quello di vedere come sono correlate\n",
    "# due statistiche specifiche, date in input alla funzione, e vedere come la loro correlazione è cambiata negli ultimi 5 anni,\n",
    "# sicuramente utile per scoprire se la correlazione o scorrelazione di due dati sia casuale o una cosa costante nel tempo."
   ]
  },
  {
   "cell_type": "markdown",
   "metadata": {},
   "source": [
    "Prima di tutto bisogna fare un processo di 'data cleaning' ovvero una pulizia del dataframe, aggiungendo colonne che possono essere utili oppure togliendone altre che non voglio prendere in considerazione.\n",
    "\n",
    "Per prima cosa togliamo i dati dei cartellini gialli e rossi collezionati dai giocatori, in quanto rappresentano la disciplina di questi e non le loro capacità balistiche. Dopodiche eliminiamo le colonne relative ai calci piazzati in quanto rigori e punizioni hanno i propri specialisti scelti dall'allenatore, che non devono essere obbligatoriamente attaccanti, che battono tutti quelli che vengono assegnati nelle partite. Non sarebbe quindi equo considerare una statistica alla quale la maggior parte dei giocatori non prendono neanche parte.\n",
    "\n",
    "Ovviamente scartiamo le celle relative al Nome del giocatore, la Squadra per cui gioca e la sua Nazionalità.\n",
    "Subito dopo togliamo quelle colonne che rappresentano \"operazioni\" fra altre statistiche, come ad esempio somme fra due dati, percentuali o rapporti, in quanto non sono statistiche di gioco (realizzate sul campo dal giocatore) ma create ad hoc per altri tipi di analisi non inerenti al nostro."
   ]
  },
  {
   "cell_type": "code",
   "execution_count": null,
   "metadata": {},
   "outputs": [],
   "source": [
    "# Questa parte di codice crea 5 figure che rappresentano il riquadro di correlazione fra le statistiche per annata\n",
    "\n",
    "correlations = []\n",
    "years = []\n",
    "\n",
    "colonne_da_eliminare = ['Player', 'Nation', 'Pos', 'Squad', 'G+A', 'G-PK','SoT%','PK',\n",
    "       'PKatt',  'FK', 'G/Sh', 'G/SoT', 'G-xG','CrdY', 'CrdR', '2CrdY', 'Cmp%','Succ%','Won%']\n",
    "\n",
    "for file in files:\n",
    "    \n",
    "    data_frame = pd.read_excel(file)\n",
    "    data_frame['Duels'] = data_frame['Won'] + data_frame['Lost'] # Creo la colonna dei duelli aerei, può essere utile per l'analisi\n",
    "\n",
    "    # Uso .drop per rimuovere dal data frame quelle statistiche che non voglio usare in questa analisi\n",
    "    data_frame.drop(columns=colonne_da_eliminare, inplace=True) \n",
    "\n",
    "    corr_matrix = data_frame.corr()  # Calcolo la matrice di correlazione\n",
    "\n",
    "    year = year_mapping[file]  # Ottengo l'anno dal file usando il mapping\n",
    "    years.append(year)\n",
    "\n",
    "    fig = px.imshow(corr_matrix, title=f\"Matrice di Correlazione - Anno {year}\")\n",
    "    # Ottengo in output il grafico di correlazione\n",
    "\n",
    "    fig.show()\n",
    "\n",
    "# Inserisco questa riga di codice in modo da poter visualizzare le colonne usate per l'analisi\n",
    "print(f'Le colonne usate per questa analisi sono {list(data_frame.columns)}')\n"
   ]
  },
  {
   "cell_type": "code",
   "execution_count": null,
   "metadata": {},
   "outputs": [],
   "source": [
    "# Creo una funzione che mi permette di scoprire quali sono le statistiche meglio e peggio correlate con una desiderata\n",
    "\n",
    "def best_worst(stat):\n",
    " for file in files:\n",
    "    year = year_mapping[file]\n",
    "    data_frame = pd.read_excel(file)\n",
    "    data_frame['Duels'] = data_frame['Won'] + data_frame['Lost']\n",
    "\n",
    "    data_frame.drop(columns=colonne_da_eliminare, inplace=True) \n",
    "\n",
    "    corr_matrix = data_frame.corr()\n",
    "\n",
    "    if stat in corr_matrix.columns:\n",
    "        # Ordina le correlazioni con la statistica scelta\n",
    "        sorted_corr = corr_matrix[stat].sort_values(ascending=False)\n",
    "\n",
    "        # Trova le 5 migliori e peggiori correlazioni (cambiare i range per saperne di più o di meno)\n",
    "        best_corr = sorted_corr[1:6]  # Parto da 1 per evitare la correlazione della statistica con se stessa\n",
    "        worst_corr = sorted_corr[-5:]\n",
    "\n",
    "        print(f\"Anno {year}: Le 5 statistiche meglio correlate con {stat} sono:\\n{best_corr}\")\n",
    "        print(f\"Anno {year}: Le 5 statistiche peggio correlate con {stat} sono:\\n{worst_corr}\")\n",
    "    else:\n",
    "        print(f\"La statistica {stat} non è presente nel dataset. Controlla l'input\")\n",
    "\n",
    "# Creo una funzione che restituisce l'elenco degli indci di correlazione di una statistica con le altre anno per anno\n",
    "\n",
    "def correlazioni_annuali(stat):\n",
    "    for file in files:\n",
    "        year = year_mapping[file]\n",
    "        data_frame = pd.read_excel(file)  \n",
    "        data_frame['Duels'] = data_frame['Won'] + data_frame['Lost']\n",
    "\n",
    "        data_frame.drop(columns=colonne_da_eliminare, inplace=True)\n",
    "\n",
    "        corr_matrix = data_frame.corr()\n",
    "\n",
    "        if stat in corr_matrix.columns:\n",
    "            sorted_corr = corr_matrix[stat].sort_values(ascending=False)\n",
    "\n",
    "            print(f\"Anno {year}: Le correlazioni per {stat} sono:\\n{sorted_corr}\\n\")\n",
    "        else:\n",
    "            print(f\"La statistica {stat} non è presente nel dataset dell'anno {year}.\")\n",
    "        \n",
    "# Creo una seconda funzione che mi dice l'indice di correlazione di due statistiche specifiche\n",
    "# ed il cambiamento di questo nel corso delle stagioni\n",
    "\n",
    "def correlazione(stat1,stat2):\n",
    " correlations = []\n",
    "\n",
    " for file in files:\n",
    "    \n",
    "    data_frame = pd.read_excel(file)\n",
    "    data_frame['Duels'] = data_frame['Won'] + data_frame['Lost']\n",
    "\n",
    "    data_frame.drop(columns=colonne_da_eliminare, inplace=True)\n",
    "\n",
    "    corr_matrix = data_frame.corr()\n",
    "\n",
    "    year = year_mapping[file]\n",
    "\n",
    "    # Verifica se entrambe le statistiche esistono nella matrice di correlazione\n",
    "    if stat1 in corr_matrix.columns and stat2 in corr_matrix.columns:\n",
    "        correlation_value = corr_matrix.loc[stat1, stat2]\n",
    "        correlations.append((year, correlation_value))\n",
    "        #print(f\"Anno {year}: Correlazione tra {stat1} e {stat2} = {correlation_value}\")\n",
    "    else:\n",
    "        correlations.append((year, None))\n",
    "\n",
    "# Creazione del DataFrame per il grafico\n",
    " if stat1 in corr_matrix.columns and stat2 in corr_matrix.columns:\n",
    "    correlation_df = pd.DataFrame(correlations, columns=['Anno', 'Correlazione'])\n",
    "    \n",
    "    # Crea il grafico dell'andamento della correlazione nel tempo\n",
    "    fig = px.line(correlation_df, x='Anno', y='Correlazione', title=f\"Correlazione tra {stat1} e {stat2}\", markers=True)\n",
    "    fig.update_xaxes(dtick=1)\n",
    "    fig.update_yaxes(range = [-1,1], dtick = 0.10)\n",
    "    fig.show()\n",
    " else:\n",
    "    print(\"Nessun grafico disponibile: non sono state calcolate correlazioni valide. Controlla l'input\")"
   ]
  },
  {
   "cell_type": "markdown",
   "metadata": {},
   "source": [
    "Otteniamo in output i 5 grafici richiesti relativi alle 5 stagioni prese in considerazione. La barra sulla destra indica l'indice di correlazione in base al colore del quadrato relativo a due colonne. Muovendo il cursore sulle colonne si può vedere le due statistiche prese in considerazione ed il loro indice di correlazione. \n",
    "\n",
    "La presenza dei colori ci aiuta subito a notare che i grafici si assomigliano molto, nonostante vengano presi in considerazione 5 anni diversi nei quali hanno giocato molti giocatori diversi stagione per stagione. \n",
    "Immaginiamo quindi che gli indici di correlazione rimangano abbastanza costanti durante gli anni. Questo ci fa molto comodo, in quanto ci rassicura sul fatto che i risultati che troveremo non saranno casuali ma validi nel corso degli anni.\n",
    "\n",
    "Oltre a questa osservazione possiamo anche notare, riconoscendo i colori, che ci sono statistiche mal correlate con tutte le altre. Salta subito all'occhio la colonna relativa ai Minuti giocati, indicata con 'Min'."
   ]
  },
  {
   "cell_type": "code",
   "execution_count": null,
   "metadata": {},
   "outputs": [],
   "source": [
    "stat = 'Min'\n",
    "best_worst(stat)\n",
    "\n",
    "stat1 = 'Min'\n",
    "stat2 = 'Gls'\n",
    "correlazione(stat1,stat2)\n",
    "\n",
    "stat2 = 'Ast'\n",
    "correlazione(stat1,stat2)\n",
    "\n",
    "stat2 = 'GCA'\n",
    "correlazione(stat1,stat2)"
   ]
  },
  {
   "cell_type": "markdown",
   "metadata": {},
   "source": [
    "Non c'è bisogno di richiamare tutti i valori, ci basta usare le funzioni per confermare ciò che pensavamo. \n",
    "Nel corso degli anni il range di correlazione risulta sempre essere vicino allo 0. Questo è sicuramente il primo risultato grosso ed inaspettato di questa analisi in quanto ci aspettavamo che un minutaggio elevato avesse un grosso impatto sulle statistiche del singolo. \n",
    "Vediamo come l'andamento dell'indice di correlazione risulta costantemente vicino allo 0 nel corso degli anni.\n",
    "\n",
    "Da un certo punto di vista però è un risultato che ci piace in quanto suggerisce che il rendimento di un attaccante non dipenda banalmente da quanto gioca ma da come gioca. Tutto ciò da ancora più valore alla nostra ricerca."
   ]
  },
  {
   "cell_type": "markdown",
   "metadata": {},
   "source": [
    "Questo risultato interessante appena trovato sui minuti ci suggerisce di testare le correlazioni delle altre statistiche non di campo ovvero 'Age' 'Starts' 'MP', rispettivamente, Età del giocatore, numero di partite titolare e numero totale di partite in cui ha giocato. Analizziamole separatamente una per volta."
   ]
  },
  {
   "cell_type": "code",
   "execution_count": null,
   "metadata": {},
   "outputs": [],
   "source": [
    "stat = 'Age'\n",
    "correlazioni_annuali(stat)\n",
    "\n",
    "stat1 = 'Age'\n",
    "stat2 = 'Gls'\n",
    "correlazione(stat1,stat2)\n",
    "\n",
    "stat2 = 'Ast'\n",
    "correlazione(stat1,stat2)\n",
    "\n",
    "stat2 = 'GCA'\n",
    "correlazione(stat1,stat2)"
   ]
  },
  {
   "cell_type": "markdown",
   "metadata": {},
   "source": [
    "Nel 2023 il range di correlazione (esclusa ovviamente se stessa) è [0.276579, -0.098984], nel 2022 [0.308650, -0.070421], nel 2021 [0.320632, -0.119382], nel 2020 [0.352202, -0.090711] e nel 2019 [0.404946, -0.017619]. Possiamo notare come nel corso degli anni gli indici di correlazione siano rimasti in un range simile, vicino allo 0. Altro risultato inaspettato, in quanto pensavamo che l'esperienza di un giocatore più anziano oppure la freschezza e fantasia di un giovane potessero influire sulla performance di questo. Le nostre statistiche di interesse, ovviamente, stanno nei range appena citati e quindi vale lo stesso discorso."
   ]
  },
  {
   "cell_type": "code",
   "execution_count": null,
   "metadata": {},
   "outputs": [],
   "source": [
    "stat = 'Starts'\n",
    "correlazioni_annuali(stat)\n",
    "\n",
    "stat1 = 'Starts'\n",
    "stat2 = 'Gls'\n",
    "correlazione(stat1,stat2)\n",
    "\n",
    "stat2 = 'Ast'\n",
    "correlazione(stat1,stat2)\n",
    "\n",
    "stat2 = 'GCA'\n",
    "correlazione(stat1,stat2)"
   ]
  },
  {
   "cell_type": "markdown",
   "metadata": {},
   "source": [
    "Il discorso qui è molto diverso, i range di correlazione sono molto più ampi e raggiungono numeri più alti. Nel 2023 [0.931046, -0.352069], nel 2022 [0.917525, -0.351932], nel 2021 [0.930689, -0.265947], nel 2020 [0.923731, -0.328074] e nel 2019 [0.916789, -0.379672]. Questa statistica è quindi correlata bene con alcune e male con altre. Notiamo, inoltre, come si relazioni abbastanza bene con le statistiche interessanti. Il risultato in realtà è abbastanza prevedibile in quanto è nell'interesse delle squadre schierare titolari i giocatori migliori che quindi registrano dati migliori."
   ]
  },
  {
   "cell_type": "code",
   "execution_count": null,
   "metadata": {},
   "outputs": [],
   "source": [
    "stat = 'MP'\n",
    "correlazioni_annuali(stat)\n",
    "\n",
    "stat1 = 'MP'\n",
    "stat2 = 'Gls'\n",
    "correlazione(stat1,stat2)\n",
    "\n",
    "stat2 = 'Ast'\n",
    "correlazione(stat1,stat2)\n",
    "\n",
    "stat2 = 'GCA'\n",
    "correlazione(stat1,stat2)"
   ]
  },
  {
   "cell_type": "markdown",
   "metadata": {},
   "source": [
    "Il discorso riguardante il numero di partite giocate è il medesimo a quello precedente, è nell'interesse della squadra far giocare i giocatori migliori e quindi ci aspettavamo che fosse ben correlato."
   ]
  },
  {
   "cell_type": "markdown",
   "metadata": {},
   "source": [
    "Adesso ci concentriamo su quei dati che un attaccante registra quando messo a confronto con gli avversari, ovvero dribbling, contrasti, numero di tocchi, conduzioni di palla, distanza percorsa palla al piede, falli subiti e duelli aerei. Fra queste sono presenti colonne chiamate Mid 3rd e Att 3rd, questo indica in che area di campo viene registrata la statistica."
   ]
  },
  {
   "cell_type": "code",
   "execution_count": null,
   "metadata": {},
   "outputs": [],
   "source": [
    "correlations = []\n",
    "years = []\n",
    "\n",
    "colonne_da_eliminare = ['Player', 'Nation', 'Pos', 'Squad','Age', 'MP', 'Starts', 'Min', 'G+A', 'G-PK', 'PK',\n",
    "       'PKatt', 'CrdY', 'CrdR', 'xG', 'PrgP', 'PrgR', 'Sh', 'SoT', 'SoT%',\n",
    "       'G/Sh', 'G/SoT', 'Dist', 'FK', 'G-xG', 'Cmp', 'Att', 'Cmp%', 'xA', 'KP',\n",
    "       'PPA', 'CrsPA', 'SCA', 'Succ%','2CrdY', 'Off', 'Crs','Won%']\n",
    "\n",
    "for file in files:\n",
    "    \n",
    "    data_frame = pd.read_excel(file)\n",
    "    data_frame['Duels'] = data_frame['Won'] + data_frame['Lost'] \n",
    "    data_frame.drop(columns=colonne_da_eliminare, inplace=True) \n",
    "\n",
    "    corr_matrix = data_frame.corr()\n",
    "\n",
    "    year = year_mapping[file] \n",
    "    years.append(year)\n",
    "\n",
    "    fig = px.imshow(corr_matrix, title=f\"Matrice di Correlazione - Anno {year}\")\n",
    "    fig.show()"
   ]
  },
  {
   "cell_type": "markdown",
   "metadata": {},
   "source": [
    "Dal range di correlazione indicato sulla destra capiamo come alcune statistiche siano correlate male e dal colore possiamo individuarle. Le colonne relative ai duelli aerei che sono correlate decentemente solamente con i Gol, quelle relative ai contrasti hanno indici bassi con quelle che ci interessano.\n",
    "Ci aspettavamo che i falli fossero ben correlati, in quanto una squadra potrebbe ricorrere ai falli per fermare un giocatore forte ed invece gli indici di correlazione sono abbastanza normali, si aggirano intorno al 0.6.\n",
    "Sono relazionati molto bene invece i dati sui dribbling, sopratutto con i dati di Assist e Chance da Goal create, inoltre vediamo quelle di conduzioni di palla e in aggiunta quelle relative alla distanza percorsa palla al piede. "
   ]
  },
  {
   "cell_type": "code",
   "execution_count": null,
   "metadata": {},
   "outputs": [],
   "source": [
    "#Correlazione delle statistiche sopracitate nel tempo\n",
    "# Assist\n",
    "\n",
    "stat1 = 'Ast'\n",
    "stat2 = 'Carries'\n",
    "correlazione(stat1,stat2)\n",
    "\n",
    "stat2 = 'TotDist'\n",
    "correlazione(stat1,stat2)\n",
    "\n",
    "stat2 = 'Att.1'\n",
    "correlazione(stat1,stat2)\n",
    "\n",
    "stat2 = 'Succ'\n",
    "correlazione(stat1,stat2)\n",
    "\n",
    "# Chance da Gol \n",
    "\n",
    "stat1 = 'GCA'\n",
    "stat2 = 'Carries'\n",
    "correlazione(stat1,stat2)\n",
    "\n",
    "stat2 = 'TotDist'\n",
    "correlazione(stat1,stat2)\n",
    "\n",
    "stat2 = 'Att.1'\n",
    "correlazione(stat1,stat2)\n",
    "\n",
    "stat2 = 'Succ'\n",
    "correlazione(stat1,stat2)\n",
    "\n",
    "# Gol\n",
    "\n",
    "stat1 = 'Gls'\n",
    "stat2 = 'Carries'\n",
    "correlazione(stat1,stat2)\n",
    "\n",
    "stat2 = 'TotDist'\n",
    "correlazione(stat1,stat2)\n",
    "\n",
    "stat2 = 'Att.1'\n",
    "correlazione(stat1,stat2)\n",
    "\n",
    "stat2 = 'Succ'\n",
    "correlazione(stat1,stat2)"
   ]
  },
  {
   "cell_type": "markdown",
   "metadata": {},
   "source": [
    "\n",
    "Questo risultato ci dice che un giocatore fisico che vince molti contrasti e duelli aerei non sia del tutto necessario al fine dei Gol e gli altri dati di riferimento, piuttosto dovrebbe concentrarsi nell'ingaggiare un attaccante più tecnico ed agile che sia in grado di saltare l'uomo e portare palla. Le due caratteristiche non si escludono a vicenda, un giocatore può essere molto tecnico e anche fisico, stiamo dando una sorta di precedenza quando si va a studiare le doti principali di un atleta."
   ]
  },
  {
   "cell_type": "markdown",
   "metadata": {},
   "source": [
    "Analizziamo finalmente le statistiche di gioco, ovvero quelle relative ai tiri, passaggi, i calci piazzati e il dato sul fuorigioco."
   ]
  },
  {
   "cell_type": "code",
   "execution_count": 64,
   "metadata": {},
   "outputs": [
    {
     "data": {
      "application/vnd.plotly.v1+json": {
       "config": {
        "plotlyServerURL": "https://plot.ly"
       },
       "data": [
        {
         "coloraxis": "coloraxis",
         "hovertemplate": "x: %{x}<br>y: %{y}<br>color: %{z}<extra></extra>",
         "name": "0",
         "type": "heatmap",
         "x": [
          "Gls",
          "Ast",
          "xG",
          "PrgP",
          "PrgR",
          "Sh",
          "SoT",
          "Dist",
          "Cmp",
          "Att",
          "xA",
          "KP",
          "PPA",
          "CrsPA",
          "SCA",
          "GCA",
          "Off",
          "Crs"
         ],
         "xaxis": "x",
         "y": [
          "Gls",
          "Ast",
          "xG",
          "PrgP",
          "PrgR",
          "Sh",
          "SoT",
          "Dist",
          "Cmp",
          "Att",
          "xA",
          "KP",
          "PPA",
          "CrsPA",
          "SCA",
          "GCA",
          "Off",
          "Crs"
         ],
         "yaxis": "y",
         "z": [
          [
           1,
           0.6800939250456844,
           0.9354220145380396,
           0.6057468564275618,
           0.7426047154367624,
           0.8559291984968797,
           0.8833771829622946,
           -0.1736929953667108,
           0.6523206890985132,
           0.6760122664505072,
           0.6127378656652609,
           0.6949535142252389,
           0.5564244865710206,
           0.30688131401122287,
           0.7203084803174025,
           0.7766225953034253,
           0.6020299330812856,
           0.3978017749735697
          ],
          [
           0.6800939250456844,
           1,
           0.654525503252893,
           0.7023777122083804,
           0.7623107289538377,
           0.6854227406295671,
           0.6937723655448662,
           -0.025632630535492574,
           0.7300033280501346,
           0.7386927233530485,
           0.7740110619603474,
           0.7650364987470177,
           0.7262726830263887,
           0.5434316803659046,
           0.7532237058259635,
           0.8803916746068967,
           0.45569588589709076,
           0.5709756690707823
          ],
          [
           0.9354220145380396,
           0.654525503252893,
           1,
           0.5752506049654613,
           0.7542701742850116,
           0.9054038227288664,
           0.9097707810564096,
           -0.23479410800044861,
           0.635066906201037,
           0.6586334337288245,
           0.5908269062716627,
           0.6722642674296457,
           0.5292071641193783,
           0.28110837413419293,
           0.7148586242570845,
           0.7499800590703211,
           0.6890485615889798,
           0.3537114260765282
          ],
          [
           0.6057468564275618,
           0.7023777122083804,
           0.5752506049654613,
           1,
           0.8071006995906848,
           0.6951629742691204,
           0.6110611246375904,
           0.21861435187479733,
           0.945312040633566,
           0.9446031883236414,
           0.884351646558345,
           0.9089052239073201,
           0.9418397735867523,
           0.6803270836521472,
           0.916849331357731,
           0.7697950715100041,
           0.2938759829638081,
           0.774533286510268
          ],
          [
           0.7426047154367624,
           0.7623107289538377,
           0.7542701742850116,
           0.8071006995906848,
           1,
           0.8812245511694597,
           0.8513546705817281,
           -0.013595995319030845,
           0.8795603021636121,
           0.8947362052774168,
           0.8424998421728812,
           0.8494967163840792,
           0.8152314051544437,
           0.6252298913120412,
           0.9058658155064836,
           0.8380861682489049,
           0.5655951826355317,
           0.6720247159627267
          ],
          [
           0.8559291984968797,
           0.6854227406295671,
           0.9054038227288664,
           0.6951629742691204,
           0.8812245511694597,
           1,
           0.955855104104282,
           -0.07398770602299407,
           0.7642471964192828,
           0.7923560360523311,
           0.704133140103743,
           0.7814757599303725,
           0.661649867581646,
           0.4677400577025446,
           0.8484962756413723,
           0.7667847901711631,
           0.6253989348593818,
           0.5442245195913138
          ],
          [
           0.8833771829622946,
           0.6937723655448662,
           0.9097707810564096,
           0.6110611246375904,
           0.8513546705817281,
           0.955855104104282,
           1,
           -0.1533796356053488,
           0.6891989321008,
           0.7181402577756498,
           0.6437030298254627,
           0.7164519642025731,
           0.5814793313912008,
           0.39535364096550174,
           0.7752806520837746,
           0.7479079760417244,
           0.6527942722730502,
           0.47425798405178055
          ],
          [
           -0.1736929953667108,
           -0.025632630535492574,
           -0.23479410800044861,
           0.21861435187479733,
           -0.013595995319030845,
           -0.07398770602299407,
           -0.1533796356053488,
           1,
           0.15007505655813144,
           0.14181701039711828,
           0.15702177810758497,
           0.14475392051344912,
           0.21940298887502116,
           0.24195740297746884,
           0.13668654612977535,
           -0.03590260866223727,
           -0.2711764440657213,
           0.32332290387981905
          ],
          [
           0.6523206890985132,
           0.7300033280501346,
           0.635066906201037,
           0.945312040633566,
           0.8795603021636121,
           0.7642471964192828,
           0.6891989321008,
           0.15007505655813144,
           1,
           0.9938601253581293,
           0.8836807205103463,
           0.918134831215458,
           0.9023110498772926,
           0.659216682398456,
           0.9369735458991159,
           0.8112912287692757,
           0.36318980151201324,
           0.7646573021851777
          ],
          [
           0.6760122664505072,
           0.7386927233530485,
           0.6586334337288245,
           0.9446031883236414,
           0.8947362052774168,
           0.7923560360523311,
           0.7181402577756498,
           0.14181701039711828,
           0.9938601253581293,
           1,
           0.8907980388331838,
           0.9287229127534508,
           0.9000955825805467,
           0.6724554598515105,
           0.9469820637966324,
           0.8158705366675522,
           0.4008381378817252,
           0.7923573243989982
          ],
          [
           0.6127378656652609,
           0.7740110619603474,
           0.5908269062716627,
           0.884351646558345,
           0.8424998421728812,
           0.704133140103743,
           0.6437030298254627,
           0.15702177810758497,
           0.8836807205103463,
           0.8907980388331838,
           1,
           0.9332297411999056,
           0.9132434574363527,
           0.7406464936315231,
           0.9237050777923321,
           0.8363836170975083,
           0.3460595751213714,
           0.8273914624187401
          ],
          [
           0.6949535142252389,
           0.7650364987470177,
           0.6722642674296457,
           0.9089052239073201,
           0.8494967163840792,
           0.7814757599303725,
           0.7164519642025731,
           0.14475392051344912,
           0.918134831215458,
           0.9287229127534508,
           0.9332297411999056,
           1,
           0.896549853652219,
           0.6958870706700264,
           0.9758198701604817,
           0.828542161327944,
           0.40477991110419453,
           0.8213935733600536
          ],
          [
           0.5564244865710206,
           0.7262726830263887,
           0.5292071641193783,
           0.9418397735867523,
           0.8152314051544437,
           0.661649867581646,
           0.5814793313912008,
           0.21940298887502116,
           0.9023110498772926,
           0.9000955825805467,
           0.9132434574363527,
           0.896549853652219,
           1,
           0.7908823733155573,
           0.904564215606453,
           0.7880755989051269,
           0.2680454505030411,
           0.786750080088702
          ],
          [
           0.30688131401122287,
           0.5434316803659046,
           0.28110837413419293,
           0.6803270836521472,
           0.6252298913120412,
           0.4677400577025446,
           0.39535364096550174,
           0.24195740297746884,
           0.659216682398456,
           0.6724554598515105,
           0.7406464936315231,
           0.6958870706700264,
           0.7908823733155573,
           1,
           0.6984166894133973,
           0.5451015342821214,
           0.1998985966587057,
           0.8033320590268489
          ],
          [
           0.7203084803174025,
           0.7532237058259635,
           0.7148586242570845,
           0.916849331357731,
           0.9058658155064836,
           0.8484962756413723,
           0.7752806520837746,
           0.13668654612977535,
           0.9369735458991159,
           0.9469820637966324,
           0.9237050777923321,
           0.9758198701604817,
           0.904564215606453,
           0.6984166894133973,
           1,
           0.8457537863863566,
           0.4381864131116934,
           0.7984944952923965
          ],
          [
           0.7766225953034253,
           0.8803916746068967,
           0.7499800590703211,
           0.7697950715100041,
           0.8380861682489049,
           0.7667847901711631,
           0.7479079760417244,
           -0.03590260866223727,
           0.8112912287692757,
           0.8158705366675522,
           0.8363836170975083,
           0.828542161327944,
           0.7880755989051269,
           0.5451015342821214,
           0.8457537863863566,
           1,
           0.501009733179534,
           0.5999381933496636
          ],
          [
           0.6020299330812856,
           0.45569588589709076,
           0.6890485615889798,
           0.2938759829638081,
           0.5655951826355317,
           0.6253989348593818,
           0.6527942722730502,
           -0.2711764440657213,
           0.36318980151201324,
           0.4008381378817252,
           0.3460595751213714,
           0.40477991110419453,
           0.2680454505030411,
           0.1998985966587057,
           0.4381864131116934,
           0.501009733179534,
           1,
           0.23453610004237446
          ],
          [
           0.3978017749735697,
           0.5709756690707823,
           0.3537114260765282,
           0.774533286510268,
           0.6720247159627267,
           0.5442245195913138,
           0.47425798405178055,
           0.32332290387981905,
           0.7646573021851777,
           0.7923573243989982,
           0.8273914624187401,
           0.8213935733600536,
           0.786750080088702,
           0.8033320590268489,
           0.7984944952923965,
           0.5999381933496636,
           0.23453610004237446,
           1
          ]
         ]
        }
       ],
       "layout": {
        "coloraxis": {
         "colorscale": [
          [
           0,
           "#0d0887"
          ],
          [
           0.1111111111111111,
           "#46039f"
          ],
          [
           0.2222222222222222,
           "#7201a8"
          ],
          [
           0.3333333333333333,
           "#9c179e"
          ],
          [
           0.4444444444444444,
           "#bd3786"
          ],
          [
           0.5555555555555556,
           "#d8576b"
          ],
          [
           0.6666666666666666,
           "#ed7953"
          ],
          [
           0.7777777777777778,
           "#fb9f3a"
          ],
          [
           0.8888888888888888,
           "#fdca26"
          ],
          [
           1,
           "#f0f921"
          ]
         ]
        },
        "template": {
         "data": {
          "bar": [
           {
            "error_x": {
             "color": "#2a3f5f"
            },
            "error_y": {
             "color": "#2a3f5f"
            },
            "marker": {
             "line": {
              "color": "#E5ECF6",
              "width": 0.5
             },
             "pattern": {
              "fillmode": "overlay",
              "size": 10,
              "solidity": 0.2
             }
            },
            "type": "bar"
           }
          ],
          "barpolar": [
           {
            "marker": {
             "line": {
              "color": "#E5ECF6",
              "width": 0.5
             },
             "pattern": {
              "fillmode": "overlay",
              "size": 10,
              "solidity": 0.2
             }
            },
            "type": "barpolar"
           }
          ],
          "carpet": [
           {
            "aaxis": {
             "endlinecolor": "#2a3f5f",
             "gridcolor": "white",
             "linecolor": "white",
             "minorgridcolor": "white",
             "startlinecolor": "#2a3f5f"
            },
            "baxis": {
             "endlinecolor": "#2a3f5f",
             "gridcolor": "white",
             "linecolor": "white",
             "minorgridcolor": "white",
             "startlinecolor": "#2a3f5f"
            },
            "type": "carpet"
           }
          ],
          "choropleth": [
           {
            "colorbar": {
             "outlinewidth": 0,
             "ticks": ""
            },
            "type": "choropleth"
           }
          ],
          "contour": [
           {
            "colorbar": {
             "outlinewidth": 0,
             "ticks": ""
            },
            "colorscale": [
             [
              0,
              "#0d0887"
             ],
             [
              0.1111111111111111,
              "#46039f"
             ],
             [
              0.2222222222222222,
              "#7201a8"
             ],
             [
              0.3333333333333333,
              "#9c179e"
             ],
             [
              0.4444444444444444,
              "#bd3786"
             ],
             [
              0.5555555555555556,
              "#d8576b"
             ],
             [
              0.6666666666666666,
              "#ed7953"
             ],
             [
              0.7777777777777778,
              "#fb9f3a"
             ],
             [
              0.8888888888888888,
              "#fdca26"
             ],
             [
              1,
              "#f0f921"
             ]
            ],
            "type": "contour"
           }
          ],
          "contourcarpet": [
           {
            "colorbar": {
             "outlinewidth": 0,
             "ticks": ""
            },
            "type": "contourcarpet"
           }
          ],
          "heatmap": [
           {
            "colorbar": {
             "outlinewidth": 0,
             "ticks": ""
            },
            "colorscale": [
             [
              0,
              "#0d0887"
             ],
             [
              0.1111111111111111,
              "#46039f"
             ],
             [
              0.2222222222222222,
              "#7201a8"
             ],
             [
              0.3333333333333333,
              "#9c179e"
             ],
             [
              0.4444444444444444,
              "#bd3786"
             ],
             [
              0.5555555555555556,
              "#d8576b"
             ],
             [
              0.6666666666666666,
              "#ed7953"
             ],
             [
              0.7777777777777778,
              "#fb9f3a"
             ],
             [
              0.8888888888888888,
              "#fdca26"
             ],
             [
              1,
              "#f0f921"
             ]
            ],
            "type": "heatmap"
           }
          ],
          "heatmapgl": [
           {
            "colorbar": {
             "outlinewidth": 0,
             "ticks": ""
            },
            "colorscale": [
             [
              0,
              "#0d0887"
             ],
             [
              0.1111111111111111,
              "#46039f"
             ],
             [
              0.2222222222222222,
              "#7201a8"
             ],
             [
              0.3333333333333333,
              "#9c179e"
             ],
             [
              0.4444444444444444,
              "#bd3786"
             ],
             [
              0.5555555555555556,
              "#d8576b"
             ],
             [
              0.6666666666666666,
              "#ed7953"
             ],
             [
              0.7777777777777778,
              "#fb9f3a"
             ],
             [
              0.8888888888888888,
              "#fdca26"
             ],
             [
              1,
              "#f0f921"
             ]
            ],
            "type": "heatmapgl"
           }
          ],
          "histogram": [
           {
            "marker": {
             "pattern": {
              "fillmode": "overlay",
              "size": 10,
              "solidity": 0.2
             }
            },
            "type": "histogram"
           }
          ],
          "histogram2d": [
           {
            "colorbar": {
             "outlinewidth": 0,
             "ticks": ""
            },
            "colorscale": [
             [
              0,
              "#0d0887"
             ],
             [
              0.1111111111111111,
              "#46039f"
             ],
             [
              0.2222222222222222,
              "#7201a8"
             ],
             [
              0.3333333333333333,
              "#9c179e"
             ],
             [
              0.4444444444444444,
              "#bd3786"
             ],
             [
              0.5555555555555556,
              "#d8576b"
             ],
             [
              0.6666666666666666,
              "#ed7953"
             ],
             [
              0.7777777777777778,
              "#fb9f3a"
             ],
             [
              0.8888888888888888,
              "#fdca26"
             ],
             [
              1,
              "#f0f921"
             ]
            ],
            "type": "histogram2d"
           }
          ],
          "histogram2dcontour": [
           {
            "colorbar": {
             "outlinewidth": 0,
             "ticks": ""
            },
            "colorscale": [
             [
              0,
              "#0d0887"
             ],
             [
              0.1111111111111111,
              "#46039f"
             ],
             [
              0.2222222222222222,
              "#7201a8"
             ],
             [
              0.3333333333333333,
              "#9c179e"
             ],
             [
              0.4444444444444444,
              "#bd3786"
             ],
             [
              0.5555555555555556,
              "#d8576b"
             ],
             [
              0.6666666666666666,
              "#ed7953"
             ],
             [
              0.7777777777777778,
              "#fb9f3a"
             ],
             [
              0.8888888888888888,
              "#fdca26"
             ],
             [
              1,
              "#f0f921"
             ]
            ],
            "type": "histogram2dcontour"
           }
          ],
          "mesh3d": [
           {
            "colorbar": {
             "outlinewidth": 0,
             "ticks": ""
            },
            "type": "mesh3d"
           }
          ],
          "parcoords": [
           {
            "line": {
             "colorbar": {
              "outlinewidth": 0,
              "ticks": ""
             }
            },
            "type": "parcoords"
           }
          ],
          "pie": [
           {
            "automargin": true,
            "type": "pie"
           }
          ],
          "scatter": [
           {
            "fillpattern": {
             "fillmode": "overlay",
             "size": 10,
             "solidity": 0.2
            },
            "type": "scatter"
           }
          ],
          "scatter3d": [
           {
            "line": {
             "colorbar": {
              "outlinewidth": 0,
              "ticks": ""
             }
            },
            "marker": {
             "colorbar": {
              "outlinewidth": 0,
              "ticks": ""
             }
            },
            "type": "scatter3d"
           }
          ],
          "scattercarpet": [
           {
            "marker": {
             "colorbar": {
              "outlinewidth": 0,
              "ticks": ""
             }
            },
            "type": "scattercarpet"
           }
          ],
          "scattergeo": [
           {
            "marker": {
             "colorbar": {
              "outlinewidth": 0,
              "ticks": ""
             }
            },
            "type": "scattergeo"
           }
          ],
          "scattergl": [
           {
            "marker": {
             "colorbar": {
              "outlinewidth": 0,
              "ticks": ""
             }
            },
            "type": "scattergl"
           }
          ],
          "scattermapbox": [
           {
            "marker": {
             "colorbar": {
              "outlinewidth": 0,
              "ticks": ""
             }
            },
            "type": "scattermapbox"
           }
          ],
          "scatterpolar": [
           {
            "marker": {
             "colorbar": {
              "outlinewidth": 0,
              "ticks": ""
             }
            },
            "type": "scatterpolar"
           }
          ],
          "scatterpolargl": [
           {
            "marker": {
             "colorbar": {
              "outlinewidth": 0,
              "ticks": ""
             }
            },
            "type": "scatterpolargl"
           }
          ],
          "scatterternary": [
           {
            "marker": {
             "colorbar": {
              "outlinewidth": 0,
              "ticks": ""
             }
            },
            "type": "scatterternary"
           }
          ],
          "surface": [
           {
            "colorbar": {
             "outlinewidth": 0,
             "ticks": ""
            },
            "colorscale": [
             [
              0,
              "#0d0887"
             ],
             [
              0.1111111111111111,
              "#46039f"
             ],
             [
              0.2222222222222222,
              "#7201a8"
             ],
             [
              0.3333333333333333,
              "#9c179e"
             ],
             [
              0.4444444444444444,
              "#bd3786"
             ],
             [
              0.5555555555555556,
              "#d8576b"
             ],
             [
              0.6666666666666666,
              "#ed7953"
             ],
             [
              0.7777777777777778,
              "#fb9f3a"
             ],
             [
              0.8888888888888888,
              "#fdca26"
             ],
             [
              1,
              "#f0f921"
             ]
            ],
            "type": "surface"
           }
          ],
          "table": [
           {
            "cells": {
             "fill": {
              "color": "#EBF0F8"
             },
             "line": {
              "color": "white"
             }
            },
            "header": {
             "fill": {
              "color": "#C8D4E3"
             },
             "line": {
              "color": "white"
             }
            },
            "type": "table"
           }
          ]
         },
         "layout": {
          "annotationdefaults": {
           "arrowcolor": "#2a3f5f",
           "arrowhead": 0,
           "arrowwidth": 1
          },
          "autotypenumbers": "strict",
          "coloraxis": {
           "colorbar": {
            "outlinewidth": 0,
            "ticks": ""
           }
          },
          "colorscale": {
           "diverging": [
            [
             0,
             "#8e0152"
            ],
            [
             0.1,
             "#c51b7d"
            ],
            [
             0.2,
             "#de77ae"
            ],
            [
             0.3,
             "#f1b6da"
            ],
            [
             0.4,
             "#fde0ef"
            ],
            [
             0.5,
             "#f7f7f7"
            ],
            [
             0.6,
             "#e6f5d0"
            ],
            [
             0.7,
             "#b8e186"
            ],
            [
             0.8,
             "#7fbc41"
            ],
            [
             0.9,
             "#4d9221"
            ],
            [
             1,
             "#276419"
            ]
           ],
           "sequential": [
            [
             0,
             "#0d0887"
            ],
            [
             0.1111111111111111,
             "#46039f"
            ],
            [
             0.2222222222222222,
             "#7201a8"
            ],
            [
             0.3333333333333333,
             "#9c179e"
            ],
            [
             0.4444444444444444,
             "#bd3786"
            ],
            [
             0.5555555555555556,
             "#d8576b"
            ],
            [
             0.6666666666666666,
             "#ed7953"
            ],
            [
             0.7777777777777778,
             "#fb9f3a"
            ],
            [
             0.8888888888888888,
             "#fdca26"
            ],
            [
             1,
             "#f0f921"
            ]
           ],
           "sequentialminus": [
            [
             0,
             "#0d0887"
            ],
            [
             0.1111111111111111,
             "#46039f"
            ],
            [
             0.2222222222222222,
             "#7201a8"
            ],
            [
             0.3333333333333333,
             "#9c179e"
            ],
            [
             0.4444444444444444,
             "#bd3786"
            ],
            [
             0.5555555555555556,
             "#d8576b"
            ],
            [
             0.6666666666666666,
             "#ed7953"
            ],
            [
             0.7777777777777778,
             "#fb9f3a"
            ],
            [
             0.8888888888888888,
             "#fdca26"
            ],
            [
             1,
             "#f0f921"
            ]
           ]
          },
          "colorway": [
           "#636efa",
           "#EF553B",
           "#00cc96",
           "#ab63fa",
           "#FFA15A",
           "#19d3f3",
           "#FF6692",
           "#B6E880",
           "#FF97FF",
           "#FECB52"
          ],
          "font": {
           "color": "#2a3f5f"
          },
          "geo": {
           "bgcolor": "white",
           "lakecolor": "white",
           "landcolor": "#E5ECF6",
           "showlakes": true,
           "showland": true,
           "subunitcolor": "white"
          },
          "hoverlabel": {
           "align": "left"
          },
          "hovermode": "closest",
          "mapbox": {
           "style": "light"
          },
          "paper_bgcolor": "white",
          "plot_bgcolor": "#E5ECF6",
          "polar": {
           "angularaxis": {
            "gridcolor": "white",
            "linecolor": "white",
            "ticks": ""
           },
           "bgcolor": "#E5ECF6",
           "radialaxis": {
            "gridcolor": "white",
            "linecolor": "white",
            "ticks": ""
           }
          },
          "scene": {
           "xaxis": {
            "backgroundcolor": "#E5ECF6",
            "gridcolor": "white",
            "gridwidth": 2,
            "linecolor": "white",
            "showbackground": true,
            "ticks": "",
            "zerolinecolor": "white"
           },
           "yaxis": {
            "backgroundcolor": "#E5ECF6",
            "gridcolor": "white",
            "gridwidth": 2,
            "linecolor": "white",
            "showbackground": true,
            "ticks": "",
            "zerolinecolor": "white"
           },
           "zaxis": {
            "backgroundcolor": "#E5ECF6",
            "gridcolor": "white",
            "gridwidth": 2,
            "linecolor": "white",
            "showbackground": true,
            "ticks": "",
            "zerolinecolor": "white"
           }
          },
          "shapedefaults": {
           "line": {
            "color": "#2a3f5f"
           }
          },
          "ternary": {
           "aaxis": {
            "gridcolor": "white",
            "linecolor": "white",
            "ticks": ""
           },
           "baxis": {
            "gridcolor": "white",
            "linecolor": "white",
            "ticks": ""
           },
           "bgcolor": "#E5ECF6",
           "caxis": {
            "gridcolor": "white",
            "linecolor": "white",
            "ticks": ""
           }
          },
          "title": {
           "x": 0.05
          },
          "xaxis": {
           "automargin": true,
           "gridcolor": "white",
           "linecolor": "white",
           "ticks": "",
           "title": {
            "standoff": 15
           },
           "zerolinecolor": "white",
           "zerolinewidth": 2
          },
          "yaxis": {
           "automargin": true,
           "gridcolor": "white",
           "linecolor": "white",
           "ticks": "",
           "title": {
            "standoff": 15
           },
           "zerolinecolor": "white",
           "zerolinewidth": 2
          }
         }
        },
        "title": {
         "text": "Matrice di Correlazione - Anno 2023"
        },
        "xaxis": {
         "anchor": "y",
         "constrain": "domain",
         "domain": [
          0,
          1
         ],
         "scaleanchor": "y"
        },
        "yaxis": {
         "anchor": "x",
         "autorange": "reversed",
         "constrain": "domain",
         "domain": [
          0,
          1
         ]
        }
       }
      }
     },
     "metadata": {},
     "output_type": "display_data"
    },
    {
     "data": {
      "application/vnd.plotly.v1+json": {
       "config": {
        "plotlyServerURL": "https://plot.ly"
       },
       "data": [
        {
         "coloraxis": "coloraxis",
         "hovertemplate": "x: %{x}<br>y: %{y}<br>color: %{z}<extra></extra>",
         "name": "0",
         "type": "heatmap",
         "x": [
          "Gls",
          "Ast",
          "xG",
          "PrgP",
          "PrgR",
          "Sh",
          "SoT",
          "Dist",
          "Cmp",
          "Att",
          "xA",
          "KP",
          "PPA",
          "CrsPA",
          "SCA",
          "GCA",
          "Off",
          "Crs"
         ],
         "xaxis": "x",
         "y": [
          "Gls",
          "Ast",
          "xG",
          "PrgP",
          "PrgR",
          "Sh",
          "SoT",
          "Dist",
          "Cmp",
          "Att",
          "xA",
          "KP",
          "PPA",
          "CrsPA",
          "SCA",
          "GCA",
          "Off",
          "Crs"
         ],
         "yaxis": "y",
         "z": [
          [
           1,
           0.6082915727428799,
           0.9307850335682799,
           0.5288349454027487,
           0.6945274267762425,
           0.8624172617878183,
           0.9087517497517295,
           -0.17521475457900001,
           0.5535249865280188,
           0.5788171164163327,
           0.5890976434583299,
           0.6573880624821443,
           0.4851813193837809,
           0.2581332865836672,
           0.6957576456113,
           0.6945701502448344,
           0.6149412963588579,
           0.26717026335202826
          ],
          [
           0.6082915727428799,
           1,
           0.6079169037978603,
           0.6788136614357156,
           0.7320782744212745,
           0.6672091509655751,
           0.6218635198908881,
           0.008936100288814927,
           0.6389803765465148,
           0.6565955033730857,
           0.8057140831372767,
           0.824409649505297,
           0.7144183044138582,
           0.49652345123433705,
           0.7904804821141883,
           0.8635363323741351,
           0.38604293961798813,
           0.48284465505857055
          ],
          [
           0.9307850335682799,
           0.6079169037978603,
           1,
           0.5109650976017264,
           0.7380484418208515,
           0.923948495555203,
           0.9330056753949554,
           -0.2546931605309423,
           0.5288962964297708,
           0.568021069488746,
           0.5735845287075249,
           0.662600775044449,
           0.4697370091292934,
           0.22963716490785258,
           0.7064322309702673,
           0.680560505942382,
           0.7278225926239716,
           0.2444621408971508
          ],
          [
           0.5288349454027487,
           0.6788136614357156,
           0.5109650976017264,
           1,
           0.7568555356565617,
           0.6533581939824892,
           0.5923298326964319,
           0.14155324541297717,
           0.8951585132215664,
           0.9126162532793286,
           0.8654476484926287,
           0.8746036326316988,
           0.9102615264250014,
           0.6094410524900409,
           0.907730486951511,
           0.7718492738121959,
           0.24871068730839438,
           0.6924525079463539
          ],
          [
           0.6945274267762425,
           0.7320782744212745,
           0.7380484418208515,
           0.7568555356565617,
           1,
           0.8293541553246196,
           0.7871567254097293,
           -0.08516675373247878,
           0.8002341574647172,
           0.8358716751479555,
           0.809759184735484,
           0.8500017369649058,
           0.7588515854623262,
           0.5569156590843817,
           0.9001856323392913,
           0.8086350956024478,
           0.5857116061054314,
           0.5753012250340334
          ],
          [
           0.8624172617878183,
           0.6672091509655751,
           0.923948495555203,
           0.6533581939824892,
           0.8293541553246196,
           1,
           0.9483305901586643,
           -0.09021896420172218,
           0.6527542137887089,
           0.7025731510436285,
           0.691399007912124,
           0.7671199943229963,
           0.6130006151419867,
           0.3904776454245266,
           0.8255069456042363,
           0.72927192762074,
           0.6755778959524774,
           0.46163370439079177
          ],
          [
           0.9087517497517295,
           0.6218635198908881,
           0.9330056753949554,
           0.5923298326964319,
           0.7871567254097293,
           0.9483305901586643,
           1,
           -0.1616023005294725,
           0.6195070592371982,
           0.6568122625697842,
           0.6289078059977459,
           0.722347192703678,
           0.5419231167900099,
           0.30621111274933344,
           0.7676006591221342,
           0.7030869950238622,
           0.6678638409146548,
           0.3592621212135308
          ],
          [
           -0.17521475457900001,
           0.008936100288814927,
           -0.2546931605309423,
           0.14155324541297717,
           -0.08516675373247878,
           -0.09021896420172218,
           -0.1616023005294725,
           1,
           0.049752861745756265,
           0.05611801743858115,
           0.12544303529472006,
           0.05581261423039464,
           0.16684790847411982,
           0.23935999852843323,
           0.06068377373993426,
           -0.03334346402647778,
           -0.3110857895921389,
           0.411370419467786
          ],
          [
           0.5535249865280188,
           0.6389803765465148,
           0.5288962964297708,
           0.8951585132215664,
           0.8002341574647172,
           0.6527542137887089,
           0.6195070592371982,
           0.049752861745756265,
           1,
           0.9905253623208818,
           0.7827781937581544,
           0.8246811423375492,
           0.7980875728432599,
           0.5408086283748132,
           0.8682981786739056,
           0.7561819079564238,
           0.33494868048549487,
           0.6081121525259551
          ],
          [
           0.5788171164163327,
           0.6565955033730857,
           0.568021069488746,
           0.9126162532793286,
           0.8358716751479555,
           0.7025731510436285,
           0.6568122625697842,
           0.05611801743858115,
           0.9905253623208818,
           1,
           0.8133102964754825,
           0.8589986979288547,
           0.819894679071543,
           0.5691682302719288,
           0.9027002597126876,
           0.769587563943411,
           0.37449172518933455,
           0.6579883465234824
          ],
          [
           0.5890976434583299,
           0.8057140831372767,
           0.5735845287075249,
           0.8654476484926287,
           0.809759184735484,
           0.691399007912124,
           0.6289078059977459,
           0.12544303529472006,
           0.7827781937581544,
           0.8133102964754825,
           1,
           0.9011080114851377,
           0.9227768496803838,
           0.6706355009652268,
           0.9099844190252602,
           0.8350546856333756,
           0.2967400143021715,
           0.726773492388031
          ],
          [
           0.6573880624821443,
           0.824409649505297,
           0.662600775044449,
           0.8746036326316988,
           0.8500017369649058,
           0.7671199943229963,
           0.722347192703678,
           0.05581261423039464,
           0.8246811423375492,
           0.8589986979288547,
           0.9011080114851377,
           1,
           0.8563452246694873,
           0.6194384725672131,
           0.9631882492629986,
           0.8127020676862713,
           0.4309529842898049,
           0.7122893704253314
          ],
          [
           0.4851813193837809,
           0.7144183044138582,
           0.4697370091292934,
           0.9102615264250014,
           0.7588515854623262,
           0.6130006151419867,
           0.5419231167900099,
           0.16684790847411982,
           0.7980875728432599,
           0.819894679071543,
           0.9227768496803838,
           0.8563452246694873,
           1,
           0.7734776866555415,
           0.874850106687029,
           0.7866623881944987,
           0.19553694077716768,
           0.7304165513446379
          ],
          [
           0.2581332865836672,
           0.49652345123433705,
           0.22963716490785258,
           0.6094410524900409,
           0.5569156590843817,
           0.3904776454245266,
           0.30621111274933344,
           0.23935999852843323,
           0.5408086283748132,
           0.5691682302719288,
           0.6706355009652268,
           0.6194384725672131,
           0.7734776866555415,
           1,
           0.6257326330299668,
           0.5196896454159321,
           0.03580689983379536,
           0.7473307022091399
          ],
          [
           0.6957576456113,
           0.7904804821141883,
           0.7064322309702673,
           0.907730486951511,
           0.9001856323392913,
           0.8255069456042363,
           0.7676006591221342,
           0.06068377373993426,
           0.8682981786739056,
           0.9027002597126876,
           0.9099844190252602,
           0.9631882492629986,
           0.874850106687029,
           0.6257326330299668,
           1,
           0.8532593000040551,
           0.44970250752649144,
           0.711918469125942
          ],
          [
           0.6945701502448344,
           0.8635363323741351,
           0.680560505942382,
           0.7718492738121959,
           0.8086350956024478,
           0.72927192762074,
           0.7030869950238622,
           -0.03334346402647778,
           0.7561819079564238,
           0.769587563943411,
           0.8350546856333756,
           0.8127020676862713,
           0.7866623881944987,
           0.5196896454159321,
           0.8532593000040551,
           1,
           0.4283501374846756,
           0.49714309231614895
          ],
          [
           0.6149412963588579,
           0.38604293961798813,
           0.7278225926239716,
           0.24871068730839438,
           0.5857116061054314,
           0.6755778959524774,
           0.6678638409146548,
           -0.3110857895921389,
           0.33494868048549487,
           0.37449172518933455,
           0.2967400143021715,
           0.4309529842898049,
           0.19553694077716768,
           0.03580689983379536,
           0.44970250752649144,
           0.4283501374846756,
           1,
           0.0780059708114666
          ],
          [
           0.26717026335202826,
           0.48284465505857055,
           0.2444621408971508,
           0.6924525079463539,
           0.5753012250340334,
           0.46163370439079177,
           0.3592621212135308,
           0.411370419467786,
           0.6081121525259551,
           0.6579883465234824,
           0.726773492388031,
           0.7122893704253314,
           0.7304165513446379,
           0.7473307022091399,
           0.711918469125942,
           0.49714309231614895,
           0.0780059708114666,
           1
          ]
         ]
        }
       ],
       "layout": {
        "coloraxis": {
         "colorscale": [
          [
           0,
           "#0d0887"
          ],
          [
           0.1111111111111111,
           "#46039f"
          ],
          [
           0.2222222222222222,
           "#7201a8"
          ],
          [
           0.3333333333333333,
           "#9c179e"
          ],
          [
           0.4444444444444444,
           "#bd3786"
          ],
          [
           0.5555555555555556,
           "#d8576b"
          ],
          [
           0.6666666666666666,
           "#ed7953"
          ],
          [
           0.7777777777777778,
           "#fb9f3a"
          ],
          [
           0.8888888888888888,
           "#fdca26"
          ],
          [
           1,
           "#f0f921"
          ]
         ]
        },
        "template": {
         "data": {
          "bar": [
           {
            "error_x": {
             "color": "#2a3f5f"
            },
            "error_y": {
             "color": "#2a3f5f"
            },
            "marker": {
             "line": {
              "color": "#E5ECF6",
              "width": 0.5
             },
             "pattern": {
              "fillmode": "overlay",
              "size": 10,
              "solidity": 0.2
             }
            },
            "type": "bar"
           }
          ],
          "barpolar": [
           {
            "marker": {
             "line": {
              "color": "#E5ECF6",
              "width": 0.5
             },
             "pattern": {
              "fillmode": "overlay",
              "size": 10,
              "solidity": 0.2
             }
            },
            "type": "barpolar"
           }
          ],
          "carpet": [
           {
            "aaxis": {
             "endlinecolor": "#2a3f5f",
             "gridcolor": "white",
             "linecolor": "white",
             "minorgridcolor": "white",
             "startlinecolor": "#2a3f5f"
            },
            "baxis": {
             "endlinecolor": "#2a3f5f",
             "gridcolor": "white",
             "linecolor": "white",
             "minorgridcolor": "white",
             "startlinecolor": "#2a3f5f"
            },
            "type": "carpet"
           }
          ],
          "choropleth": [
           {
            "colorbar": {
             "outlinewidth": 0,
             "ticks": ""
            },
            "type": "choropleth"
           }
          ],
          "contour": [
           {
            "colorbar": {
             "outlinewidth": 0,
             "ticks": ""
            },
            "colorscale": [
             [
              0,
              "#0d0887"
             ],
             [
              0.1111111111111111,
              "#46039f"
             ],
             [
              0.2222222222222222,
              "#7201a8"
             ],
             [
              0.3333333333333333,
              "#9c179e"
             ],
             [
              0.4444444444444444,
              "#bd3786"
             ],
             [
              0.5555555555555556,
              "#d8576b"
             ],
             [
              0.6666666666666666,
              "#ed7953"
             ],
             [
              0.7777777777777778,
              "#fb9f3a"
             ],
             [
              0.8888888888888888,
              "#fdca26"
             ],
             [
              1,
              "#f0f921"
             ]
            ],
            "type": "contour"
           }
          ],
          "contourcarpet": [
           {
            "colorbar": {
             "outlinewidth": 0,
             "ticks": ""
            },
            "type": "contourcarpet"
           }
          ],
          "heatmap": [
           {
            "colorbar": {
             "outlinewidth": 0,
             "ticks": ""
            },
            "colorscale": [
             [
              0,
              "#0d0887"
             ],
             [
              0.1111111111111111,
              "#46039f"
             ],
             [
              0.2222222222222222,
              "#7201a8"
             ],
             [
              0.3333333333333333,
              "#9c179e"
             ],
             [
              0.4444444444444444,
              "#bd3786"
             ],
             [
              0.5555555555555556,
              "#d8576b"
             ],
             [
              0.6666666666666666,
              "#ed7953"
             ],
             [
              0.7777777777777778,
              "#fb9f3a"
             ],
             [
              0.8888888888888888,
              "#fdca26"
             ],
             [
              1,
              "#f0f921"
             ]
            ],
            "type": "heatmap"
           }
          ],
          "heatmapgl": [
           {
            "colorbar": {
             "outlinewidth": 0,
             "ticks": ""
            },
            "colorscale": [
             [
              0,
              "#0d0887"
             ],
             [
              0.1111111111111111,
              "#46039f"
             ],
             [
              0.2222222222222222,
              "#7201a8"
             ],
             [
              0.3333333333333333,
              "#9c179e"
             ],
             [
              0.4444444444444444,
              "#bd3786"
             ],
             [
              0.5555555555555556,
              "#d8576b"
             ],
             [
              0.6666666666666666,
              "#ed7953"
             ],
             [
              0.7777777777777778,
              "#fb9f3a"
             ],
             [
              0.8888888888888888,
              "#fdca26"
             ],
             [
              1,
              "#f0f921"
             ]
            ],
            "type": "heatmapgl"
           }
          ],
          "histogram": [
           {
            "marker": {
             "pattern": {
              "fillmode": "overlay",
              "size": 10,
              "solidity": 0.2
             }
            },
            "type": "histogram"
           }
          ],
          "histogram2d": [
           {
            "colorbar": {
             "outlinewidth": 0,
             "ticks": ""
            },
            "colorscale": [
             [
              0,
              "#0d0887"
             ],
             [
              0.1111111111111111,
              "#46039f"
             ],
             [
              0.2222222222222222,
              "#7201a8"
             ],
             [
              0.3333333333333333,
              "#9c179e"
             ],
             [
              0.4444444444444444,
              "#bd3786"
             ],
             [
              0.5555555555555556,
              "#d8576b"
             ],
             [
              0.6666666666666666,
              "#ed7953"
             ],
             [
              0.7777777777777778,
              "#fb9f3a"
             ],
             [
              0.8888888888888888,
              "#fdca26"
             ],
             [
              1,
              "#f0f921"
             ]
            ],
            "type": "histogram2d"
           }
          ],
          "histogram2dcontour": [
           {
            "colorbar": {
             "outlinewidth": 0,
             "ticks": ""
            },
            "colorscale": [
             [
              0,
              "#0d0887"
             ],
             [
              0.1111111111111111,
              "#46039f"
             ],
             [
              0.2222222222222222,
              "#7201a8"
             ],
             [
              0.3333333333333333,
              "#9c179e"
             ],
             [
              0.4444444444444444,
              "#bd3786"
             ],
             [
              0.5555555555555556,
              "#d8576b"
             ],
             [
              0.6666666666666666,
              "#ed7953"
             ],
             [
              0.7777777777777778,
              "#fb9f3a"
             ],
             [
              0.8888888888888888,
              "#fdca26"
             ],
             [
              1,
              "#f0f921"
             ]
            ],
            "type": "histogram2dcontour"
           }
          ],
          "mesh3d": [
           {
            "colorbar": {
             "outlinewidth": 0,
             "ticks": ""
            },
            "type": "mesh3d"
           }
          ],
          "parcoords": [
           {
            "line": {
             "colorbar": {
              "outlinewidth": 0,
              "ticks": ""
             }
            },
            "type": "parcoords"
           }
          ],
          "pie": [
           {
            "automargin": true,
            "type": "pie"
           }
          ],
          "scatter": [
           {
            "fillpattern": {
             "fillmode": "overlay",
             "size": 10,
             "solidity": 0.2
            },
            "type": "scatter"
           }
          ],
          "scatter3d": [
           {
            "line": {
             "colorbar": {
              "outlinewidth": 0,
              "ticks": ""
             }
            },
            "marker": {
             "colorbar": {
              "outlinewidth": 0,
              "ticks": ""
             }
            },
            "type": "scatter3d"
           }
          ],
          "scattercarpet": [
           {
            "marker": {
             "colorbar": {
              "outlinewidth": 0,
              "ticks": ""
             }
            },
            "type": "scattercarpet"
           }
          ],
          "scattergeo": [
           {
            "marker": {
             "colorbar": {
              "outlinewidth": 0,
              "ticks": ""
             }
            },
            "type": "scattergeo"
           }
          ],
          "scattergl": [
           {
            "marker": {
             "colorbar": {
              "outlinewidth": 0,
              "ticks": ""
             }
            },
            "type": "scattergl"
           }
          ],
          "scattermapbox": [
           {
            "marker": {
             "colorbar": {
              "outlinewidth": 0,
              "ticks": ""
             }
            },
            "type": "scattermapbox"
           }
          ],
          "scatterpolar": [
           {
            "marker": {
             "colorbar": {
              "outlinewidth": 0,
              "ticks": ""
             }
            },
            "type": "scatterpolar"
           }
          ],
          "scatterpolargl": [
           {
            "marker": {
             "colorbar": {
              "outlinewidth": 0,
              "ticks": ""
             }
            },
            "type": "scatterpolargl"
           }
          ],
          "scatterternary": [
           {
            "marker": {
             "colorbar": {
              "outlinewidth": 0,
              "ticks": ""
             }
            },
            "type": "scatterternary"
           }
          ],
          "surface": [
           {
            "colorbar": {
             "outlinewidth": 0,
             "ticks": ""
            },
            "colorscale": [
             [
              0,
              "#0d0887"
             ],
             [
              0.1111111111111111,
              "#46039f"
             ],
             [
              0.2222222222222222,
              "#7201a8"
             ],
             [
              0.3333333333333333,
              "#9c179e"
             ],
             [
              0.4444444444444444,
              "#bd3786"
             ],
             [
              0.5555555555555556,
              "#d8576b"
             ],
             [
              0.6666666666666666,
              "#ed7953"
             ],
             [
              0.7777777777777778,
              "#fb9f3a"
             ],
             [
              0.8888888888888888,
              "#fdca26"
             ],
             [
              1,
              "#f0f921"
             ]
            ],
            "type": "surface"
           }
          ],
          "table": [
           {
            "cells": {
             "fill": {
              "color": "#EBF0F8"
             },
             "line": {
              "color": "white"
             }
            },
            "header": {
             "fill": {
              "color": "#C8D4E3"
             },
             "line": {
              "color": "white"
             }
            },
            "type": "table"
           }
          ]
         },
         "layout": {
          "annotationdefaults": {
           "arrowcolor": "#2a3f5f",
           "arrowhead": 0,
           "arrowwidth": 1
          },
          "autotypenumbers": "strict",
          "coloraxis": {
           "colorbar": {
            "outlinewidth": 0,
            "ticks": ""
           }
          },
          "colorscale": {
           "diverging": [
            [
             0,
             "#8e0152"
            ],
            [
             0.1,
             "#c51b7d"
            ],
            [
             0.2,
             "#de77ae"
            ],
            [
             0.3,
             "#f1b6da"
            ],
            [
             0.4,
             "#fde0ef"
            ],
            [
             0.5,
             "#f7f7f7"
            ],
            [
             0.6,
             "#e6f5d0"
            ],
            [
             0.7,
             "#b8e186"
            ],
            [
             0.8,
             "#7fbc41"
            ],
            [
             0.9,
             "#4d9221"
            ],
            [
             1,
             "#276419"
            ]
           ],
           "sequential": [
            [
             0,
             "#0d0887"
            ],
            [
             0.1111111111111111,
             "#46039f"
            ],
            [
             0.2222222222222222,
             "#7201a8"
            ],
            [
             0.3333333333333333,
             "#9c179e"
            ],
            [
             0.4444444444444444,
             "#bd3786"
            ],
            [
             0.5555555555555556,
             "#d8576b"
            ],
            [
             0.6666666666666666,
             "#ed7953"
            ],
            [
             0.7777777777777778,
             "#fb9f3a"
            ],
            [
             0.8888888888888888,
             "#fdca26"
            ],
            [
             1,
             "#f0f921"
            ]
           ],
           "sequentialminus": [
            [
             0,
             "#0d0887"
            ],
            [
             0.1111111111111111,
             "#46039f"
            ],
            [
             0.2222222222222222,
             "#7201a8"
            ],
            [
             0.3333333333333333,
             "#9c179e"
            ],
            [
             0.4444444444444444,
             "#bd3786"
            ],
            [
             0.5555555555555556,
             "#d8576b"
            ],
            [
             0.6666666666666666,
             "#ed7953"
            ],
            [
             0.7777777777777778,
             "#fb9f3a"
            ],
            [
             0.8888888888888888,
             "#fdca26"
            ],
            [
             1,
             "#f0f921"
            ]
           ]
          },
          "colorway": [
           "#636efa",
           "#EF553B",
           "#00cc96",
           "#ab63fa",
           "#FFA15A",
           "#19d3f3",
           "#FF6692",
           "#B6E880",
           "#FF97FF",
           "#FECB52"
          ],
          "font": {
           "color": "#2a3f5f"
          },
          "geo": {
           "bgcolor": "white",
           "lakecolor": "white",
           "landcolor": "#E5ECF6",
           "showlakes": true,
           "showland": true,
           "subunitcolor": "white"
          },
          "hoverlabel": {
           "align": "left"
          },
          "hovermode": "closest",
          "mapbox": {
           "style": "light"
          },
          "paper_bgcolor": "white",
          "plot_bgcolor": "#E5ECF6",
          "polar": {
           "angularaxis": {
            "gridcolor": "white",
            "linecolor": "white",
            "ticks": ""
           },
           "bgcolor": "#E5ECF6",
           "radialaxis": {
            "gridcolor": "white",
            "linecolor": "white",
            "ticks": ""
           }
          },
          "scene": {
           "xaxis": {
            "backgroundcolor": "#E5ECF6",
            "gridcolor": "white",
            "gridwidth": 2,
            "linecolor": "white",
            "showbackground": true,
            "ticks": "",
            "zerolinecolor": "white"
           },
           "yaxis": {
            "backgroundcolor": "#E5ECF6",
            "gridcolor": "white",
            "gridwidth": 2,
            "linecolor": "white",
            "showbackground": true,
            "ticks": "",
            "zerolinecolor": "white"
           },
           "zaxis": {
            "backgroundcolor": "#E5ECF6",
            "gridcolor": "white",
            "gridwidth": 2,
            "linecolor": "white",
            "showbackground": true,
            "ticks": "",
            "zerolinecolor": "white"
           }
          },
          "shapedefaults": {
           "line": {
            "color": "#2a3f5f"
           }
          },
          "ternary": {
           "aaxis": {
            "gridcolor": "white",
            "linecolor": "white",
            "ticks": ""
           },
           "baxis": {
            "gridcolor": "white",
            "linecolor": "white",
            "ticks": ""
           },
           "bgcolor": "#E5ECF6",
           "caxis": {
            "gridcolor": "white",
            "linecolor": "white",
            "ticks": ""
           }
          },
          "title": {
           "x": 0.05
          },
          "xaxis": {
           "automargin": true,
           "gridcolor": "white",
           "linecolor": "white",
           "ticks": "",
           "title": {
            "standoff": 15
           },
           "zerolinecolor": "white",
           "zerolinewidth": 2
          },
          "yaxis": {
           "automargin": true,
           "gridcolor": "white",
           "linecolor": "white",
           "ticks": "",
           "title": {
            "standoff": 15
           },
           "zerolinecolor": "white",
           "zerolinewidth": 2
          }
         }
        },
        "title": {
         "text": "Matrice di Correlazione - Anno 2022"
        },
        "xaxis": {
         "anchor": "y",
         "constrain": "domain",
         "domain": [
          0,
          1
         ],
         "scaleanchor": "y"
        },
        "yaxis": {
         "anchor": "x",
         "autorange": "reversed",
         "constrain": "domain",
         "domain": [
          0,
          1
         ]
        }
       }
      }
     },
     "metadata": {},
     "output_type": "display_data"
    },
    {
     "data": {
      "application/vnd.plotly.v1+json": {
       "config": {
        "plotlyServerURL": "https://plot.ly"
       },
       "data": [
        {
         "coloraxis": "coloraxis",
         "hovertemplate": "x: %{x}<br>y: %{y}<br>color: %{z}<extra></extra>",
         "name": "0",
         "type": "heatmap",
         "x": [
          "Gls",
          "Ast",
          "xG",
          "PrgP",
          "PrgR",
          "Sh",
          "SoT",
          "Dist",
          "Cmp",
          "Att",
          "xA",
          "KP",
          "PPA",
          "CrsPA",
          "SCA",
          "GCA",
          "Off",
          "Crs"
         ],
         "xaxis": "x",
         "y": [
          "Gls",
          "Ast",
          "xG",
          "PrgP",
          "PrgR",
          "Sh",
          "SoT",
          "Dist",
          "Cmp",
          "Att",
          "xA",
          "KP",
          "PPA",
          "CrsPA",
          "SCA",
          "GCA",
          "Off",
          "Crs"
         ],
         "yaxis": "y",
         "z": [
          [
           1,
           0.5526504212795946,
           0.9406995365569356,
           0.5823784193827011,
           0.7812720678402927,
           0.903543745184995,
           0.9412925398873004,
           -0.06721095578896724,
           0.6353396881201547,
           0.658603948913631,
           0.5895639394939728,
           0.667735641575855,
           0.5562288839596952,
           0.26906595155026614,
           0.717862571919284,
           0.7312023254948118,
           0.6949197608337555,
           0.32144405793155134
          ],
          [
           0.5526504212795946,
           1,
           0.5416318043106403,
           0.8035081384504483,
           0.757869677569895,
           0.6747754842065046,
           0.6331758831006101,
           0.14982087787979986,
           0.787707176531708,
           0.8038559517744046,
           0.8713995391935595,
           0.8414514714895436,
           0.8159069997469022,
           0.6319731639556214,
           0.8337083653965729,
           0.8830594581066825,
           0.3793514120867715,
           0.6610398193146776
          ],
          [
           0.9406995365569356,
           0.5416318043106403,
           1,
           0.5523078367997465,
           0.7885215772679863,
           0.918534245499598,
           0.9224083001483014,
           -0.11880767082885559,
           0.6261216843060187,
           0.6486496711498669,
           0.5595507825861252,
           0.6532787824028982,
           0.5305287354504862,
           0.28602635560606393,
           0.7083092215835846,
           0.7148138020233469,
           0.6759296391399648,
           0.28863320286125255
          ],
          [
           0.5823784193827011,
           0.8035081384504483,
           0.5523078367997465,
           1,
           0.7892401003630323,
           0.7085438481300333,
           0.6561849969894257,
           0.26068218421091227,
           0.9406962008771309,
           0.9448818540851048,
           0.9174864151832713,
           0.9091212704775412,
           0.9440484619213918,
           0.6183288100156639,
           0.9155718110428755,
           0.8313091326887903,
           0.3649860781968977,
           0.7462183427349556
          ],
          [
           0.7812720678402927,
           0.757869677569895,
           0.7885215772679863,
           0.7892401003630323,
           1,
           0.8955684841772777,
           0.8533319387691539,
           0.047297873384502274,
           0.8431688218062853,
           0.865921082472731,
           0.8251104400054942,
           0.8764447613079351,
           0.8229155035820211,
           0.5531653501944501,
           0.9161389368455973,
           0.8720088435252228,
           0.6964445506339713,
           0.5927027450175393
          ],
          [
           0.903543745184995,
           0.6747754842065046,
           0.918534245499598,
           0.7085438481300333,
           0.8955684841772777,
           1,
           0.9683342142149945,
           0.04521243678792531,
           0.758557263487766,
           0.7877613158622836,
           0.7252540268949733,
           0.8001347559125304,
           0.7012781399328294,
           0.455680034814943,
           0.8649868053192649,
           0.822113027813096,
           0.6923361037231596,
           0.48921381767083844
          ],
          [
           0.9412925398873004,
           0.6331758831006101,
           0.9224083001483014,
           0.6561849969894257,
           0.8533319387691539,
           0.9683342142149945,
           1,
           0.00685115687573847,
           0.7066863483267609,
           0.7313588076482841,
           0.6690299062725619,
           0.7507256573063188,
           0.6485041830425322,
           0.37758676131643093,
           0.8117107914730393,
           0.7868612734983969,
           0.7052969504782501,
           0.41273501814384617
          ],
          [
           -0.06721095578896724,
           0.14982087787979986,
           -0.11880767082885559,
           0.26068218421091227,
           0.047297873384502274,
           0.04521243678792531,
           0.00685115687573847,
           1,
           0.21537898175555822,
           0.21646638666162826,
           0.24500057040618312,
           0.20301134124207057,
           0.2612420269791172,
           0.27266163210312394,
           0.219744753855261,
           0.12928115849628274,
           -0.13895624043658275,
           0.35976622778529854
          ],
          [
           0.6353396881201547,
           0.787707176531708,
           0.6261216843060187,
           0.9406962008771309,
           0.8431688218062853,
           0.758557263487766,
           0.7066863483267609,
           0.21537898175555822,
           1,
           0.9935971162468846,
           0.8851754663678862,
           0.9011708322285439,
           0.891463091197015,
           0.6063485772107261,
           0.9180790850523645,
           0.8583096274271921,
           0.42774207690756133,
           0.6924569050256584
          ],
          [
           0.658603948913631,
           0.8038559517744046,
           0.6486496711498669,
           0.9448818540851048,
           0.865921082472731,
           0.7877613158622836,
           0.7313588076482841,
           0.21646638666162826,
           0.9935971162468846,
           1,
           0.9055680476210638,
           0.9229201819969666,
           0.9064865906546242,
           0.647939624701238,
           0.9367661812975632,
           0.8698395054987182,
           0.4683267147292585,
           0.7372188639528304
          ],
          [
           0.5895639394939728,
           0.8713995391935595,
           0.5595507825861252,
           0.9174864151832713,
           0.8251104400054942,
           0.7252540268949733,
           0.6690299062725619,
           0.24500057040618312,
           0.8851754663678862,
           0.9055680476210638,
           1,
           0.9580004489081857,
           0.9447462445236474,
           0.6786520262252859,
           0.9373202924232367,
           0.8541703664806616,
           0.43779959000471924,
           0.8014909845774739
          ],
          [
           0.667735641575855,
           0.8414514714895436,
           0.6532787824028982,
           0.9091212704775412,
           0.8764447613079351,
           0.8001347559125304,
           0.7507256573063188,
           0.20301134124207057,
           0.9011708322285439,
           0.9229201819969666,
           0.9580004489081857,
           1,
           0.9314790014232753,
           0.6188839838188215,
           0.9733361708117382,
           0.8752366007108713,
           0.5146328735714137,
           0.7555730851088344
          ],
          [
           0.5562288839596952,
           0.8159069997469022,
           0.5305287354504862,
           0.9440484619213918,
           0.8229155035820211,
           0.7012781399328294,
           0.6485041830425322,
           0.2612420269791172,
           0.891463091197015,
           0.9064865906546242,
           0.9447462445236474,
           0.9314790014232753,
           1,
           0.7107830475870408,
           0.9226391434524409,
           0.8262820326542043,
           0.41859751238696596,
           0.8149623025173092
          ],
          [
           0.26906595155026614,
           0.6319731639556214,
           0.28602635560606393,
           0.6183288100156639,
           0.5531653501944501,
           0.455680034814943,
           0.37758676131643093,
           0.27266163210312394,
           0.6063485772107261,
           0.647939624701238,
           0.6786520262252859,
           0.6188839838188215,
           0.7107830475870408,
           1,
           0.6095650243323332,
           0.5901205186317127,
           0.26233839450544627,
           0.8365203195534716
          ],
          [
           0.717862571919284,
           0.8337083653965729,
           0.7083092215835846,
           0.9155718110428755,
           0.9161389368455973,
           0.8649868053192649,
           0.8117107914730393,
           0.219744753855261,
           0.9180790850523645,
           0.9367661812975632,
           0.9373202924232367,
           0.9733361708117382,
           0.9226391434524409,
           0.6095650243323332,
           1,
           0.9096214260913306,
           0.5391853790355072,
           0.7229311189521278
          ],
          [
           0.7312023254948118,
           0.8830594581066825,
           0.7148138020233469,
           0.8313091326887903,
           0.8720088435252228,
           0.822113027813096,
           0.7868612734983969,
           0.12928115849628274,
           0.8583096274271921,
           0.8698395054987182,
           0.8541703664806616,
           0.8752366007108713,
           0.8262820326542043,
           0.5901205186317127,
           0.9096214260913306,
           1,
           0.48640764186252017,
           0.6090656997235778
          ],
          [
           0.6949197608337555,
           0.3793514120867715,
           0.6759296391399648,
           0.3649860781968977,
           0.6964445506339713,
           0.6923361037231596,
           0.7052969504782501,
           -0.13895624043658275,
           0.42774207690756133,
           0.4683267147292585,
           0.43779959000471924,
           0.5146328735714137,
           0.41859751238696596,
           0.26233839450544627,
           0.5391853790355072,
           0.48640764186252017,
           1,
           0.28449815224113634
          ],
          [
           0.32144405793155134,
           0.6610398193146776,
           0.28863320286125255,
           0.7462183427349556,
           0.5927027450175393,
           0.48921381767083844,
           0.41273501814384617,
           0.35976622778529854,
           0.6924569050256584,
           0.7372188639528304,
           0.8014909845774739,
           0.7555730851088344,
           0.8149623025173092,
           0.8365203195534716,
           0.7229311189521278,
           0.6090656997235778,
           0.28449815224113634,
           1
          ]
         ]
        }
       ],
       "layout": {
        "coloraxis": {
         "colorscale": [
          [
           0,
           "#0d0887"
          ],
          [
           0.1111111111111111,
           "#46039f"
          ],
          [
           0.2222222222222222,
           "#7201a8"
          ],
          [
           0.3333333333333333,
           "#9c179e"
          ],
          [
           0.4444444444444444,
           "#bd3786"
          ],
          [
           0.5555555555555556,
           "#d8576b"
          ],
          [
           0.6666666666666666,
           "#ed7953"
          ],
          [
           0.7777777777777778,
           "#fb9f3a"
          ],
          [
           0.8888888888888888,
           "#fdca26"
          ],
          [
           1,
           "#f0f921"
          ]
         ]
        },
        "template": {
         "data": {
          "bar": [
           {
            "error_x": {
             "color": "#2a3f5f"
            },
            "error_y": {
             "color": "#2a3f5f"
            },
            "marker": {
             "line": {
              "color": "#E5ECF6",
              "width": 0.5
             },
             "pattern": {
              "fillmode": "overlay",
              "size": 10,
              "solidity": 0.2
             }
            },
            "type": "bar"
           }
          ],
          "barpolar": [
           {
            "marker": {
             "line": {
              "color": "#E5ECF6",
              "width": 0.5
             },
             "pattern": {
              "fillmode": "overlay",
              "size": 10,
              "solidity": 0.2
             }
            },
            "type": "barpolar"
           }
          ],
          "carpet": [
           {
            "aaxis": {
             "endlinecolor": "#2a3f5f",
             "gridcolor": "white",
             "linecolor": "white",
             "minorgridcolor": "white",
             "startlinecolor": "#2a3f5f"
            },
            "baxis": {
             "endlinecolor": "#2a3f5f",
             "gridcolor": "white",
             "linecolor": "white",
             "minorgridcolor": "white",
             "startlinecolor": "#2a3f5f"
            },
            "type": "carpet"
           }
          ],
          "choropleth": [
           {
            "colorbar": {
             "outlinewidth": 0,
             "ticks": ""
            },
            "type": "choropleth"
           }
          ],
          "contour": [
           {
            "colorbar": {
             "outlinewidth": 0,
             "ticks": ""
            },
            "colorscale": [
             [
              0,
              "#0d0887"
             ],
             [
              0.1111111111111111,
              "#46039f"
             ],
             [
              0.2222222222222222,
              "#7201a8"
             ],
             [
              0.3333333333333333,
              "#9c179e"
             ],
             [
              0.4444444444444444,
              "#bd3786"
             ],
             [
              0.5555555555555556,
              "#d8576b"
             ],
             [
              0.6666666666666666,
              "#ed7953"
             ],
             [
              0.7777777777777778,
              "#fb9f3a"
             ],
             [
              0.8888888888888888,
              "#fdca26"
             ],
             [
              1,
              "#f0f921"
             ]
            ],
            "type": "contour"
           }
          ],
          "contourcarpet": [
           {
            "colorbar": {
             "outlinewidth": 0,
             "ticks": ""
            },
            "type": "contourcarpet"
           }
          ],
          "heatmap": [
           {
            "colorbar": {
             "outlinewidth": 0,
             "ticks": ""
            },
            "colorscale": [
             [
              0,
              "#0d0887"
             ],
             [
              0.1111111111111111,
              "#46039f"
             ],
             [
              0.2222222222222222,
              "#7201a8"
             ],
             [
              0.3333333333333333,
              "#9c179e"
             ],
             [
              0.4444444444444444,
              "#bd3786"
             ],
             [
              0.5555555555555556,
              "#d8576b"
             ],
             [
              0.6666666666666666,
              "#ed7953"
             ],
             [
              0.7777777777777778,
              "#fb9f3a"
             ],
             [
              0.8888888888888888,
              "#fdca26"
             ],
             [
              1,
              "#f0f921"
             ]
            ],
            "type": "heatmap"
           }
          ],
          "heatmapgl": [
           {
            "colorbar": {
             "outlinewidth": 0,
             "ticks": ""
            },
            "colorscale": [
             [
              0,
              "#0d0887"
             ],
             [
              0.1111111111111111,
              "#46039f"
             ],
             [
              0.2222222222222222,
              "#7201a8"
             ],
             [
              0.3333333333333333,
              "#9c179e"
             ],
             [
              0.4444444444444444,
              "#bd3786"
             ],
             [
              0.5555555555555556,
              "#d8576b"
             ],
             [
              0.6666666666666666,
              "#ed7953"
             ],
             [
              0.7777777777777778,
              "#fb9f3a"
             ],
             [
              0.8888888888888888,
              "#fdca26"
             ],
             [
              1,
              "#f0f921"
             ]
            ],
            "type": "heatmapgl"
           }
          ],
          "histogram": [
           {
            "marker": {
             "pattern": {
              "fillmode": "overlay",
              "size": 10,
              "solidity": 0.2
             }
            },
            "type": "histogram"
           }
          ],
          "histogram2d": [
           {
            "colorbar": {
             "outlinewidth": 0,
             "ticks": ""
            },
            "colorscale": [
             [
              0,
              "#0d0887"
             ],
             [
              0.1111111111111111,
              "#46039f"
             ],
             [
              0.2222222222222222,
              "#7201a8"
             ],
             [
              0.3333333333333333,
              "#9c179e"
             ],
             [
              0.4444444444444444,
              "#bd3786"
             ],
             [
              0.5555555555555556,
              "#d8576b"
             ],
             [
              0.6666666666666666,
              "#ed7953"
             ],
             [
              0.7777777777777778,
              "#fb9f3a"
             ],
             [
              0.8888888888888888,
              "#fdca26"
             ],
             [
              1,
              "#f0f921"
             ]
            ],
            "type": "histogram2d"
           }
          ],
          "histogram2dcontour": [
           {
            "colorbar": {
             "outlinewidth": 0,
             "ticks": ""
            },
            "colorscale": [
             [
              0,
              "#0d0887"
             ],
             [
              0.1111111111111111,
              "#46039f"
             ],
             [
              0.2222222222222222,
              "#7201a8"
             ],
             [
              0.3333333333333333,
              "#9c179e"
             ],
             [
              0.4444444444444444,
              "#bd3786"
             ],
             [
              0.5555555555555556,
              "#d8576b"
             ],
             [
              0.6666666666666666,
              "#ed7953"
             ],
             [
              0.7777777777777778,
              "#fb9f3a"
             ],
             [
              0.8888888888888888,
              "#fdca26"
             ],
             [
              1,
              "#f0f921"
             ]
            ],
            "type": "histogram2dcontour"
           }
          ],
          "mesh3d": [
           {
            "colorbar": {
             "outlinewidth": 0,
             "ticks": ""
            },
            "type": "mesh3d"
           }
          ],
          "parcoords": [
           {
            "line": {
             "colorbar": {
              "outlinewidth": 0,
              "ticks": ""
             }
            },
            "type": "parcoords"
           }
          ],
          "pie": [
           {
            "automargin": true,
            "type": "pie"
           }
          ],
          "scatter": [
           {
            "fillpattern": {
             "fillmode": "overlay",
             "size": 10,
             "solidity": 0.2
            },
            "type": "scatter"
           }
          ],
          "scatter3d": [
           {
            "line": {
             "colorbar": {
              "outlinewidth": 0,
              "ticks": ""
             }
            },
            "marker": {
             "colorbar": {
              "outlinewidth": 0,
              "ticks": ""
             }
            },
            "type": "scatter3d"
           }
          ],
          "scattercarpet": [
           {
            "marker": {
             "colorbar": {
              "outlinewidth": 0,
              "ticks": ""
             }
            },
            "type": "scattercarpet"
           }
          ],
          "scattergeo": [
           {
            "marker": {
             "colorbar": {
              "outlinewidth": 0,
              "ticks": ""
             }
            },
            "type": "scattergeo"
           }
          ],
          "scattergl": [
           {
            "marker": {
             "colorbar": {
              "outlinewidth": 0,
              "ticks": ""
             }
            },
            "type": "scattergl"
           }
          ],
          "scattermapbox": [
           {
            "marker": {
             "colorbar": {
              "outlinewidth": 0,
              "ticks": ""
             }
            },
            "type": "scattermapbox"
           }
          ],
          "scatterpolar": [
           {
            "marker": {
             "colorbar": {
              "outlinewidth": 0,
              "ticks": ""
             }
            },
            "type": "scatterpolar"
           }
          ],
          "scatterpolargl": [
           {
            "marker": {
             "colorbar": {
              "outlinewidth": 0,
              "ticks": ""
             }
            },
            "type": "scatterpolargl"
           }
          ],
          "scatterternary": [
           {
            "marker": {
             "colorbar": {
              "outlinewidth": 0,
              "ticks": ""
             }
            },
            "type": "scatterternary"
           }
          ],
          "surface": [
           {
            "colorbar": {
             "outlinewidth": 0,
             "ticks": ""
            },
            "colorscale": [
             [
              0,
              "#0d0887"
             ],
             [
              0.1111111111111111,
              "#46039f"
             ],
             [
              0.2222222222222222,
              "#7201a8"
             ],
             [
              0.3333333333333333,
              "#9c179e"
             ],
             [
              0.4444444444444444,
              "#bd3786"
             ],
             [
              0.5555555555555556,
              "#d8576b"
             ],
             [
              0.6666666666666666,
              "#ed7953"
             ],
             [
              0.7777777777777778,
              "#fb9f3a"
             ],
             [
              0.8888888888888888,
              "#fdca26"
             ],
             [
              1,
              "#f0f921"
             ]
            ],
            "type": "surface"
           }
          ],
          "table": [
           {
            "cells": {
             "fill": {
              "color": "#EBF0F8"
             },
             "line": {
              "color": "white"
             }
            },
            "header": {
             "fill": {
              "color": "#C8D4E3"
             },
             "line": {
              "color": "white"
             }
            },
            "type": "table"
           }
          ]
         },
         "layout": {
          "annotationdefaults": {
           "arrowcolor": "#2a3f5f",
           "arrowhead": 0,
           "arrowwidth": 1
          },
          "autotypenumbers": "strict",
          "coloraxis": {
           "colorbar": {
            "outlinewidth": 0,
            "ticks": ""
           }
          },
          "colorscale": {
           "diverging": [
            [
             0,
             "#8e0152"
            ],
            [
             0.1,
             "#c51b7d"
            ],
            [
             0.2,
             "#de77ae"
            ],
            [
             0.3,
             "#f1b6da"
            ],
            [
             0.4,
             "#fde0ef"
            ],
            [
             0.5,
             "#f7f7f7"
            ],
            [
             0.6,
             "#e6f5d0"
            ],
            [
             0.7,
             "#b8e186"
            ],
            [
             0.8,
             "#7fbc41"
            ],
            [
             0.9,
             "#4d9221"
            ],
            [
             1,
             "#276419"
            ]
           ],
           "sequential": [
            [
             0,
             "#0d0887"
            ],
            [
             0.1111111111111111,
             "#46039f"
            ],
            [
             0.2222222222222222,
             "#7201a8"
            ],
            [
             0.3333333333333333,
             "#9c179e"
            ],
            [
             0.4444444444444444,
             "#bd3786"
            ],
            [
             0.5555555555555556,
             "#d8576b"
            ],
            [
             0.6666666666666666,
             "#ed7953"
            ],
            [
             0.7777777777777778,
             "#fb9f3a"
            ],
            [
             0.8888888888888888,
             "#fdca26"
            ],
            [
             1,
             "#f0f921"
            ]
           ],
           "sequentialminus": [
            [
             0,
             "#0d0887"
            ],
            [
             0.1111111111111111,
             "#46039f"
            ],
            [
             0.2222222222222222,
             "#7201a8"
            ],
            [
             0.3333333333333333,
             "#9c179e"
            ],
            [
             0.4444444444444444,
             "#bd3786"
            ],
            [
             0.5555555555555556,
             "#d8576b"
            ],
            [
             0.6666666666666666,
             "#ed7953"
            ],
            [
             0.7777777777777778,
             "#fb9f3a"
            ],
            [
             0.8888888888888888,
             "#fdca26"
            ],
            [
             1,
             "#f0f921"
            ]
           ]
          },
          "colorway": [
           "#636efa",
           "#EF553B",
           "#00cc96",
           "#ab63fa",
           "#FFA15A",
           "#19d3f3",
           "#FF6692",
           "#B6E880",
           "#FF97FF",
           "#FECB52"
          ],
          "font": {
           "color": "#2a3f5f"
          },
          "geo": {
           "bgcolor": "white",
           "lakecolor": "white",
           "landcolor": "#E5ECF6",
           "showlakes": true,
           "showland": true,
           "subunitcolor": "white"
          },
          "hoverlabel": {
           "align": "left"
          },
          "hovermode": "closest",
          "mapbox": {
           "style": "light"
          },
          "paper_bgcolor": "white",
          "plot_bgcolor": "#E5ECF6",
          "polar": {
           "angularaxis": {
            "gridcolor": "white",
            "linecolor": "white",
            "ticks": ""
           },
           "bgcolor": "#E5ECF6",
           "radialaxis": {
            "gridcolor": "white",
            "linecolor": "white",
            "ticks": ""
           }
          },
          "scene": {
           "xaxis": {
            "backgroundcolor": "#E5ECF6",
            "gridcolor": "white",
            "gridwidth": 2,
            "linecolor": "white",
            "showbackground": true,
            "ticks": "",
            "zerolinecolor": "white"
           },
           "yaxis": {
            "backgroundcolor": "#E5ECF6",
            "gridcolor": "white",
            "gridwidth": 2,
            "linecolor": "white",
            "showbackground": true,
            "ticks": "",
            "zerolinecolor": "white"
           },
           "zaxis": {
            "backgroundcolor": "#E5ECF6",
            "gridcolor": "white",
            "gridwidth": 2,
            "linecolor": "white",
            "showbackground": true,
            "ticks": "",
            "zerolinecolor": "white"
           }
          },
          "shapedefaults": {
           "line": {
            "color": "#2a3f5f"
           }
          },
          "ternary": {
           "aaxis": {
            "gridcolor": "white",
            "linecolor": "white",
            "ticks": ""
           },
           "baxis": {
            "gridcolor": "white",
            "linecolor": "white",
            "ticks": ""
           },
           "bgcolor": "#E5ECF6",
           "caxis": {
            "gridcolor": "white",
            "linecolor": "white",
            "ticks": ""
           }
          },
          "title": {
           "x": 0.05
          },
          "xaxis": {
           "automargin": true,
           "gridcolor": "white",
           "linecolor": "white",
           "ticks": "",
           "title": {
            "standoff": 15
           },
           "zerolinecolor": "white",
           "zerolinewidth": 2
          },
          "yaxis": {
           "automargin": true,
           "gridcolor": "white",
           "linecolor": "white",
           "ticks": "",
           "title": {
            "standoff": 15
           },
           "zerolinecolor": "white",
           "zerolinewidth": 2
          }
         }
        },
        "title": {
         "text": "Matrice di Correlazione - Anno 2021"
        },
        "xaxis": {
         "anchor": "y",
         "constrain": "domain",
         "domain": [
          0,
          1
         ],
         "scaleanchor": "y"
        },
        "yaxis": {
         "anchor": "x",
         "autorange": "reversed",
         "constrain": "domain",
         "domain": [
          0,
          1
         ]
        }
       }
      }
     },
     "metadata": {},
     "output_type": "display_data"
    },
    {
     "data": {
      "application/vnd.plotly.v1+json": {
       "config": {
        "plotlyServerURL": "https://plot.ly"
       },
       "data": [
        {
         "coloraxis": "coloraxis",
         "hovertemplate": "x: %{x}<br>y: %{y}<br>color: %{z}<extra></extra>",
         "name": "0",
         "type": "heatmap",
         "x": [
          "Gls",
          "Ast",
          "xG",
          "PrgP",
          "PrgR",
          "Sh",
          "SoT",
          "Dist",
          "Cmp",
          "Att",
          "xA",
          "KP",
          "PPA",
          "CrsPA",
          "SCA",
          "GCA",
          "Off",
          "Crs"
         ],
         "xaxis": "x",
         "y": [
          "Gls",
          "Ast",
          "xG",
          "PrgP",
          "PrgR",
          "Sh",
          "SoT",
          "Dist",
          "Cmp",
          "Att",
          "xA",
          "KP",
          "PPA",
          "CrsPA",
          "SCA",
          "GCA",
          "Off",
          "Crs"
         ],
         "yaxis": "y",
         "z": [
          [
           1,
           0.5999035473537215,
           0.9565836298172762,
           0.5841843046432752,
           0.7858155737855222,
           0.8870896362235532,
           0.9283686095812319,
           -0.037231621854365855,
           0.6141329465643092,
           0.6423995586079386,
           0.6099665981271734,
           0.6253644984522817,
           0.5780132138150769,
           0.36304909465144375,
           0.7170283372954023,
           0.7426234839049484,
           0.6619375251453516,
           0.3456669549946226
          ],
          [
           0.5999035473537215,
           1,
           0.5832082707390356,
           0.8084728223013838,
           0.7696940662721562,
           0.6988675823967608,
           0.6840181787542353,
           0.13419610979229157,
           0.7905141175364052,
           0.8053256383578346,
           0.8847975606015525,
           0.8734439167080568,
           0.81527874479213,
           0.6342630992735546,
           0.8506936598864602,
           0.8773607972759542,
           0.37253391001216707,
           0.6620476728273833
          ],
          [
           0.9565836298172762,
           0.5832082707390356,
           1,
           0.5598913388497532,
           0.8059433649391295,
           0.9090463267676503,
           0.9351340660521554,
           -0.07895595636844255,
           0.60754678883022,
           0.6399734586936029,
           0.5922292226471909,
           0.6212534203716108,
           0.5515047142403722,
           0.3380151214983614,
           0.7173568162060749,
           0.7238076452867717,
           0.7373054123404872,
           0.3264947461260712
          ],
          [
           0.5841843046432752,
           0.8084728223013838,
           0.5598913388497532,
           1,
           0.7921014041004357,
           0.7552167757987189,
           0.6896713209058527,
           0.24423127755465146,
           0.9538402103448422,
           0.9565019056418145,
           0.899681617704047,
           0.8952070267119365,
           0.946973176059785,
           0.7529258387612837,
           0.9185058834047273,
           0.8437426654327262,
           0.3083592139949374,
           0.7691433733898295
          ],
          [
           0.7858155737855222,
           0.7696940662721562,
           0.8059433649391295,
           0.7921014041004357,
           1,
           0.8788475021011986,
           0.8749996000499821,
           0.006756832659531798,
           0.8610207014962823,
           0.8818828889352812,
           0.8184477557890515,
           0.8374270180944907,
           0.7771731872866727,
           0.6175168154561793,
           0.9077720339529869,
           0.8541966578316389,
           0.6447827831335217,
           0.6008537560646982
          ],
          [
           0.8870896362235532,
           0.6988675823967608,
           0.9090463267676503,
           0.7552167757987189,
           0.8788475021011986,
           1,
           0.9684787344788652,
           0.05809076026152367,
           0.7814313924227015,
           0.8133459079737624,
           0.7638225030395325,
           0.785617392954971,
           0.7317787801181401,
           0.5646841290822768,
           0.8726824418006702,
           0.8171233380411919,
           0.6387049968093288,
           0.5736854872105311
          ],
          [
           0.9283686095812319,
           0.6840181787542353,
           0.9351340660521554,
           0.6896713209058527,
           0.8749996000499821,
           0.9684787344788652,
           1,
           0.008005495762809756,
           0.7201423860382236,
           0.7543341528423455,
           0.7241670113116754,
           0.7394184096399574,
           0.6725555712033086,
           0.5028712795652651,
           0.8286577321303908,
           0.8112654441323098,
           0.6872045286150842,
           0.5107002771314796
          ],
          [
           -0.037231621854365855,
           0.13419610979229157,
           -0.07895595636844255,
           0.24423127755465146,
           0.006756832659531798,
           0.05809076026152367,
           0.008005495762809756,
           1,
           0.18026508521718487,
           0.18004971196345795,
           0.17552828025053765,
           0.14861800150823684,
           0.2113231343539103,
           0.2493850745251768,
           0.14924381091889083,
           0.118051421021898,
           -0.1913454639146942,
           0.3081089767781793
          ],
          [
           0.6141329465643092,
           0.7905141175364052,
           0.60754678883022,
           0.9538402103448422,
           0.8610207014962823,
           0.7814313924227015,
           0.7201423860382236,
           0.18026508521718487,
           1,
           0.9947190123927283,
           0.8756464760366509,
           0.8881548339607306,
           0.8884239121301076,
           0.7198457882844617,
           0.9272458797538695,
           0.821705289239358,
           0.4040407009245075,
           0.7371004056739701
          ],
          [
           0.6423995586079386,
           0.8053256383578346,
           0.6399734586936029,
           0.9565019056418145,
           0.8818828889352812,
           0.8133459079737624,
           0.7543341528423455,
           0.18004971196345795,
           0.9947190123927283,
           1,
           0.8906753568725776,
           0.9050907019765017,
           0.8942813002698461,
           0.7390161946661009,
           0.9440005609595703,
           0.8423537520324247,
           0.4258984926405316,
           0.7643980740057509
          ],
          [
           0.6099665981271734,
           0.8847975606015525,
           0.5922292226471909,
           0.899681617704047,
           0.8184477557890515,
           0.7638225030395325,
           0.7241670113116754,
           0.17552828025053765,
           0.8756464760366509,
           0.8906753568725776,
           1,
           0.9510268702467384,
           0.9221979868791926,
           0.7730205972569565,
           0.9406767343604486,
           0.8836167069929508,
           0.3582914142749954,
           0.7926332175098579
          ],
          [
           0.6253644984522817,
           0.8734439167080568,
           0.6212534203716108,
           0.8952070267119365,
           0.8374270180944907,
           0.785617392954971,
           0.7394184096399574,
           0.14861800150823684,
           0.8881548339607306,
           0.9050907019765017,
           0.9510268702467384,
           1,
           0.8814311707013853,
           0.7348771047107288,
           0.9630458611278572,
           0.8775815782848398,
           0.3953337382519446,
           0.7916743839994864
          ],
          [
           0.5780132138150769,
           0.81527874479213,
           0.5515047142403722,
           0.946973176059785,
           0.7771731872866727,
           0.7317787801181401,
           0.6725555712033086,
           0.2113231343539103,
           0.8884239121301076,
           0.8942813002698461,
           0.9221979868791926,
           0.8814311707013853,
           1,
           0.8072462949699213,
           0.904530711104776,
           0.8451881840141504,
           0.2789306315607117,
           0.7518762652756933
          ],
          [
           0.36304909465144375,
           0.6342630992735546,
           0.3380151214983614,
           0.7529258387612837,
           0.6175168154561793,
           0.5646841290822768,
           0.5028712795652651,
           0.2493850745251768,
           0.7198457882844617,
           0.7390161946661009,
           0.7730205972569565,
           0.7348771047107288,
           0.8072462949699213,
           1,
           0.7335128113699447,
           0.622118565999332,
           0.13183396702024228,
           0.8341155612534499
          ],
          [
           0.7170283372954023,
           0.8506936598864602,
           0.7173568162060749,
           0.9185058834047273,
           0.9077720339529869,
           0.8726824418006702,
           0.8286577321303908,
           0.14924381091889083,
           0.9272458797538695,
           0.9440005609595703,
           0.9406767343604486,
           0.9630458611278572,
           0.904530711104776,
           0.7335128113699447,
           1,
           0.9235580629153494,
           0.46621476640618964,
           0.7627324190885963
          ],
          [
           0.7426234839049484,
           0.8773607972759542,
           0.7238076452867717,
           0.8437426654327262,
           0.8541966578316389,
           0.8171233380411919,
           0.8112654441323098,
           0.118051421021898,
           0.821705289239358,
           0.8423537520324247,
           0.8836167069929508,
           0.8775815782848398,
           0.8451881840141504,
           0.622118565999332,
           0.9235580629153494,
           1,
           0.46186550504065493,
           0.6461162105404805
          ],
          [
           0.6619375251453516,
           0.37253391001216707,
           0.7373054123404872,
           0.3083592139949374,
           0.6447827831335217,
           0.6387049968093288,
           0.6872045286150842,
           -0.1913454639146942,
           0.4040407009245075,
           0.4258984926405316,
           0.3582914142749954,
           0.3953337382519446,
           0.2789306315607117,
           0.13183396702024228,
           0.46621476640618964,
           0.46186550504065493,
           1,
           0.10218691883860793
          ],
          [
           0.3456669549946226,
           0.6620476728273833,
           0.3264947461260712,
           0.7691433733898295,
           0.6008537560646982,
           0.5736854872105311,
           0.5107002771314796,
           0.3081089767781793,
           0.7371004056739701,
           0.7643980740057509,
           0.7926332175098579,
           0.7916743839994864,
           0.7518762652756933,
           0.8341155612534499,
           0.7627324190885963,
           0.6461162105404805,
           0.10218691883860793,
           1
          ]
         ]
        }
       ],
       "layout": {
        "coloraxis": {
         "colorscale": [
          [
           0,
           "#0d0887"
          ],
          [
           0.1111111111111111,
           "#46039f"
          ],
          [
           0.2222222222222222,
           "#7201a8"
          ],
          [
           0.3333333333333333,
           "#9c179e"
          ],
          [
           0.4444444444444444,
           "#bd3786"
          ],
          [
           0.5555555555555556,
           "#d8576b"
          ],
          [
           0.6666666666666666,
           "#ed7953"
          ],
          [
           0.7777777777777778,
           "#fb9f3a"
          ],
          [
           0.8888888888888888,
           "#fdca26"
          ],
          [
           1,
           "#f0f921"
          ]
         ]
        },
        "template": {
         "data": {
          "bar": [
           {
            "error_x": {
             "color": "#2a3f5f"
            },
            "error_y": {
             "color": "#2a3f5f"
            },
            "marker": {
             "line": {
              "color": "#E5ECF6",
              "width": 0.5
             },
             "pattern": {
              "fillmode": "overlay",
              "size": 10,
              "solidity": 0.2
             }
            },
            "type": "bar"
           }
          ],
          "barpolar": [
           {
            "marker": {
             "line": {
              "color": "#E5ECF6",
              "width": 0.5
             },
             "pattern": {
              "fillmode": "overlay",
              "size": 10,
              "solidity": 0.2
             }
            },
            "type": "barpolar"
           }
          ],
          "carpet": [
           {
            "aaxis": {
             "endlinecolor": "#2a3f5f",
             "gridcolor": "white",
             "linecolor": "white",
             "minorgridcolor": "white",
             "startlinecolor": "#2a3f5f"
            },
            "baxis": {
             "endlinecolor": "#2a3f5f",
             "gridcolor": "white",
             "linecolor": "white",
             "minorgridcolor": "white",
             "startlinecolor": "#2a3f5f"
            },
            "type": "carpet"
           }
          ],
          "choropleth": [
           {
            "colorbar": {
             "outlinewidth": 0,
             "ticks": ""
            },
            "type": "choropleth"
           }
          ],
          "contour": [
           {
            "colorbar": {
             "outlinewidth": 0,
             "ticks": ""
            },
            "colorscale": [
             [
              0,
              "#0d0887"
             ],
             [
              0.1111111111111111,
              "#46039f"
             ],
             [
              0.2222222222222222,
              "#7201a8"
             ],
             [
              0.3333333333333333,
              "#9c179e"
             ],
             [
              0.4444444444444444,
              "#bd3786"
             ],
             [
              0.5555555555555556,
              "#d8576b"
             ],
             [
              0.6666666666666666,
              "#ed7953"
             ],
             [
              0.7777777777777778,
              "#fb9f3a"
             ],
             [
              0.8888888888888888,
              "#fdca26"
             ],
             [
              1,
              "#f0f921"
             ]
            ],
            "type": "contour"
           }
          ],
          "contourcarpet": [
           {
            "colorbar": {
             "outlinewidth": 0,
             "ticks": ""
            },
            "type": "contourcarpet"
           }
          ],
          "heatmap": [
           {
            "colorbar": {
             "outlinewidth": 0,
             "ticks": ""
            },
            "colorscale": [
             [
              0,
              "#0d0887"
             ],
             [
              0.1111111111111111,
              "#46039f"
             ],
             [
              0.2222222222222222,
              "#7201a8"
             ],
             [
              0.3333333333333333,
              "#9c179e"
             ],
             [
              0.4444444444444444,
              "#bd3786"
             ],
             [
              0.5555555555555556,
              "#d8576b"
             ],
             [
              0.6666666666666666,
              "#ed7953"
             ],
             [
              0.7777777777777778,
              "#fb9f3a"
             ],
             [
              0.8888888888888888,
              "#fdca26"
             ],
             [
              1,
              "#f0f921"
             ]
            ],
            "type": "heatmap"
           }
          ],
          "heatmapgl": [
           {
            "colorbar": {
             "outlinewidth": 0,
             "ticks": ""
            },
            "colorscale": [
             [
              0,
              "#0d0887"
             ],
             [
              0.1111111111111111,
              "#46039f"
             ],
             [
              0.2222222222222222,
              "#7201a8"
             ],
             [
              0.3333333333333333,
              "#9c179e"
             ],
             [
              0.4444444444444444,
              "#bd3786"
             ],
             [
              0.5555555555555556,
              "#d8576b"
             ],
             [
              0.6666666666666666,
              "#ed7953"
             ],
             [
              0.7777777777777778,
              "#fb9f3a"
             ],
             [
              0.8888888888888888,
              "#fdca26"
             ],
             [
              1,
              "#f0f921"
             ]
            ],
            "type": "heatmapgl"
           }
          ],
          "histogram": [
           {
            "marker": {
             "pattern": {
              "fillmode": "overlay",
              "size": 10,
              "solidity": 0.2
             }
            },
            "type": "histogram"
           }
          ],
          "histogram2d": [
           {
            "colorbar": {
             "outlinewidth": 0,
             "ticks": ""
            },
            "colorscale": [
             [
              0,
              "#0d0887"
             ],
             [
              0.1111111111111111,
              "#46039f"
             ],
             [
              0.2222222222222222,
              "#7201a8"
             ],
             [
              0.3333333333333333,
              "#9c179e"
             ],
             [
              0.4444444444444444,
              "#bd3786"
             ],
             [
              0.5555555555555556,
              "#d8576b"
             ],
             [
              0.6666666666666666,
              "#ed7953"
             ],
             [
              0.7777777777777778,
              "#fb9f3a"
             ],
             [
              0.8888888888888888,
              "#fdca26"
             ],
             [
              1,
              "#f0f921"
             ]
            ],
            "type": "histogram2d"
           }
          ],
          "histogram2dcontour": [
           {
            "colorbar": {
             "outlinewidth": 0,
             "ticks": ""
            },
            "colorscale": [
             [
              0,
              "#0d0887"
             ],
             [
              0.1111111111111111,
              "#46039f"
             ],
             [
              0.2222222222222222,
              "#7201a8"
             ],
             [
              0.3333333333333333,
              "#9c179e"
             ],
             [
              0.4444444444444444,
              "#bd3786"
             ],
             [
              0.5555555555555556,
              "#d8576b"
             ],
             [
              0.6666666666666666,
              "#ed7953"
             ],
             [
              0.7777777777777778,
              "#fb9f3a"
             ],
             [
              0.8888888888888888,
              "#fdca26"
             ],
             [
              1,
              "#f0f921"
             ]
            ],
            "type": "histogram2dcontour"
           }
          ],
          "mesh3d": [
           {
            "colorbar": {
             "outlinewidth": 0,
             "ticks": ""
            },
            "type": "mesh3d"
           }
          ],
          "parcoords": [
           {
            "line": {
             "colorbar": {
              "outlinewidth": 0,
              "ticks": ""
             }
            },
            "type": "parcoords"
           }
          ],
          "pie": [
           {
            "automargin": true,
            "type": "pie"
           }
          ],
          "scatter": [
           {
            "fillpattern": {
             "fillmode": "overlay",
             "size": 10,
             "solidity": 0.2
            },
            "type": "scatter"
           }
          ],
          "scatter3d": [
           {
            "line": {
             "colorbar": {
              "outlinewidth": 0,
              "ticks": ""
             }
            },
            "marker": {
             "colorbar": {
              "outlinewidth": 0,
              "ticks": ""
             }
            },
            "type": "scatter3d"
           }
          ],
          "scattercarpet": [
           {
            "marker": {
             "colorbar": {
              "outlinewidth": 0,
              "ticks": ""
             }
            },
            "type": "scattercarpet"
           }
          ],
          "scattergeo": [
           {
            "marker": {
             "colorbar": {
              "outlinewidth": 0,
              "ticks": ""
             }
            },
            "type": "scattergeo"
           }
          ],
          "scattergl": [
           {
            "marker": {
             "colorbar": {
              "outlinewidth": 0,
              "ticks": ""
             }
            },
            "type": "scattergl"
           }
          ],
          "scattermapbox": [
           {
            "marker": {
             "colorbar": {
              "outlinewidth": 0,
              "ticks": ""
             }
            },
            "type": "scattermapbox"
           }
          ],
          "scatterpolar": [
           {
            "marker": {
             "colorbar": {
              "outlinewidth": 0,
              "ticks": ""
             }
            },
            "type": "scatterpolar"
           }
          ],
          "scatterpolargl": [
           {
            "marker": {
             "colorbar": {
              "outlinewidth": 0,
              "ticks": ""
             }
            },
            "type": "scatterpolargl"
           }
          ],
          "scatterternary": [
           {
            "marker": {
             "colorbar": {
              "outlinewidth": 0,
              "ticks": ""
             }
            },
            "type": "scatterternary"
           }
          ],
          "surface": [
           {
            "colorbar": {
             "outlinewidth": 0,
             "ticks": ""
            },
            "colorscale": [
             [
              0,
              "#0d0887"
             ],
             [
              0.1111111111111111,
              "#46039f"
             ],
             [
              0.2222222222222222,
              "#7201a8"
             ],
             [
              0.3333333333333333,
              "#9c179e"
             ],
             [
              0.4444444444444444,
              "#bd3786"
             ],
             [
              0.5555555555555556,
              "#d8576b"
             ],
             [
              0.6666666666666666,
              "#ed7953"
             ],
             [
              0.7777777777777778,
              "#fb9f3a"
             ],
             [
              0.8888888888888888,
              "#fdca26"
             ],
             [
              1,
              "#f0f921"
             ]
            ],
            "type": "surface"
           }
          ],
          "table": [
           {
            "cells": {
             "fill": {
              "color": "#EBF0F8"
             },
             "line": {
              "color": "white"
             }
            },
            "header": {
             "fill": {
              "color": "#C8D4E3"
             },
             "line": {
              "color": "white"
             }
            },
            "type": "table"
           }
          ]
         },
         "layout": {
          "annotationdefaults": {
           "arrowcolor": "#2a3f5f",
           "arrowhead": 0,
           "arrowwidth": 1
          },
          "autotypenumbers": "strict",
          "coloraxis": {
           "colorbar": {
            "outlinewidth": 0,
            "ticks": ""
           }
          },
          "colorscale": {
           "diverging": [
            [
             0,
             "#8e0152"
            ],
            [
             0.1,
             "#c51b7d"
            ],
            [
             0.2,
             "#de77ae"
            ],
            [
             0.3,
             "#f1b6da"
            ],
            [
             0.4,
             "#fde0ef"
            ],
            [
             0.5,
             "#f7f7f7"
            ],
            [
             0.6,
             "#e6f5d0"
            ],
            [
             0.7,
             "#b8e186"
            ],
            [
             0.8,
             "#7fbc41"
            ],
            [
             0.9,
             "#4d9221"
            ],
            [
             1,
             "#276419"
            ]
           ],
           "sequential": [
            [
             0,
             "#0d0887"
            ],
            [
             0.1111111111111111,
             "#46039f"
            ],
            [
             0.2222222222222222,
             "#7201a8"
            ],
            [
             0.3333333333333333,
             "#9c179e"
            ],
            [
             0.4444444444444444,
             "#bd3786"
            ],
            [
             0.5555555555555556,
             "#d8576b"
            ],
            [
             0.6666666666666666,
             "#ed7953"
            ],
            [
             0.7777777777777778,
             "#fb9f3a"
            ],
            [
             0.8888888888888888,
             "#fdca26"
            ],
            [
             1,
             "#f0f921"
            ]
           ],
           "sequentialminus": [
            [
             0,
             "#0d0887"
            ],
            [
             0.1111111111111111,
             "#46039f"
            ],
            [
             0.2222222222222222,
             "#7201a8"
            ],
            [
             0.3333333333333333,
             "#9c179e"
            ],
            [
             0.4444444444444444,
             "#bd3786"
            ],
            [
             0.5555555555555556,
             "#d8576b"
            ],
            [
             0.6666666666666666,
             "#ed7953"
            ],
            [
             0.7777777777777778,
             "#fb9f3a"
            ],
            [
             0.8888888888888888,
             "#fdca26"
            ],
            [
             1,
             "#f0f921"
            ]
           ]
          },
          "colorway": [
           "#636efa",
           "#EF553B",
           "#00cc96",
           "#ab63fa",
           "#FFA15A",
           "#19d3f3",
           "#FF6692",
           "#B6E880",
           "#FF97FF",
           "#FECB52"
          ],
          "font": {
           "color": "#2a3f5f"
          },
          "geo": {
           "bgcolor": "white",
           "lakecolor": "white",
           "landcolor": "#E5ECF6",
           "showlakes": true,
           "showland": true,
           "subunitcolor": "white"
          },
          "hoverlabel": {
           "align": "left"
          },
          "hovermode": "closest",
          "mapbox": {
           "style": "light"
          },
          "paper_bgcolor": "white",
          "plot_bgcolor": "#E5ECF6",
          "polar": {
           "angularaxis": {
            "gridcolor": "white",
            "linecolor": "white",
            "ticks": ""
           },
           "bgcolor": "#E5ECF6",
           "radialaxis": {
            "gridcolor": "white",
            "linecolor": "white",
            "ticks": ""
           }
          },
          "scene": {
           "xaxis": {
            "backgroundcolor": "#E5ECF6",
            "gridcolor": "white",
            "gridwidth": 2,
            "linecolor": "white",
            "showbackground": true,
            "ticks": "",
            "zerolinecolor": "white"
           },
           "yaxis": {
            "backgroundcolor": "#E5ECF6",
            "gridcolor": "white",
            "gridwidth": 2,
            "linecolor": "white",
            "showbackground": true,
            "ticks": "",
            "zerolinecolor": "white"
           },
           "zaxis": {
            "backgroundcolor": "#E5ECF6",
            "gridcolor": "white",
            "gridwidth": 2,
            "linecolor": "white",
            "showbackground": true,
            "ticks": "",
            "zerolinecolor": "white"
           }
          },
          "shapedefaults": {
           "line": {
            "color": "#2a3f5f"
           }
          },
          "ternary": {
           "aaxis": {
            "gridcolor": "white",
            "linecolor": "white",
            "ticks": ""
           },
           "baxis": {
            "gridcolor": "white",
            "linecolor": "white",
            "ticks": ""
           },
           "bgcolor": "#E5ECF6",
           "caxis": {
            "gridcolor": "white",
            "linecolor": "white",
            "ticks": ""
           }
          },
          "title": {
           "x": 0.05
          },
          "xaxis": {
           "automargin": true,
           "gridcolor": "white",
           "linecolor": "white",
           "ticks": "",
           "title": {
            "standoff": 15
           },
           "zerolinecolor": "white",
           "zerolinewidth": 2
          },
          "yaxis": {
           "automargin": true,
           "gridcolor": "white",
           "linecolor": "white",
           "ticks": "",
           "title": {
            "standoff": 15
           },
           "zerolinecolor": "white",
           "zerolinewidth": 2
          }
         }
        },
        "title": {
         "text": "Matrice di Correlazione - Anno 2020"
        },
        "xaxis": {
         "anchor": "y",
         "constrain": "domain",
         "domain": [
          0,
          1
         ],
         "scaleanchor": "y"
        },
        "yaxis": {
         "anchor": "x",
         "autorange": "reversed",
         "constrain": "domain",
         "domain": [
          0,
          1
         ]
        }
       }
      }
     },
     "metadata": {},
     "output_type": "display_data"
    },
    {
     "data": {
      "application/vnd.plotly.v1+json": {
       "config": {
        "plotlyServerURL": "https://plot.ly"
       },
       "data": [
        {
         "coloraxis": "coloraxis",
         "hovertemplate": "x: %{x}<br>y: %{y}<br>color: %{z}<extra></extra>",
         "name": "0",
         "type": "heatmap",
         "x": [
          "Gls",
          "Ast",
          "xG",
          "PrgP",
          "PrgR",
          "Sh",
          "SoT",
          "Dist",
          "Cmp",
          "Att",
          "xA",
          "KP",
          "PPA",
          "CrsPA",
          "SCA",
          "GCA",
          "Off",
          "Crs"
         ],
         "xaxis": "x",
         "y": [
          "Gls",
          "Ast",
          "xG",
          "PrgP",
          "PrgR",
          "Sh",
          "SoT",
          "Dist",
          "Cmp",
          "Att",
          "xA",
          "KP",
          "PPA",
          "CrsPA",
          "SCA",
          "GCA",
          "Off",
          "Crs"
         ],
         "yaxis": "y",
         "z": [
          [
           1,
           0.5622417652246772,
           0.9438927059160955,
           0.5423228154391674,
           0.7727131796501114,
           0.8635110104388699,
           0.899682388497485,
           -0.09708415911988218,
           0.5893372381751801,
           0.6121128895672208,
           0.5905365541090986,
           0.6533144945603422,
           0.5301693978936517,
           0.15793930171364298,
           0.695669501879752,
           0.7147507045880123,
           0.7297969833935829,
           0.23828565124656204
          ],
          [
           0.5622417652246772,
           1,
           0.5608290361064519,
           0.8378651564422038,
           0.6888889674218053,
           0.6633993065968591,
           0.6714915073551198,
           0.09264288610974558,
           0.8032947717955631,
           0.8116951400454144,
           0.8607413104725158,
           0.8597972183320889,
           0.8340518499175167,
           0.5571489569845095,
           0.81634310713038,
           0.8532180052590581,
           0.37171913972271975,
           0.6806990767775101
          ],
          [
           0.9438927059160955,
           0.5608290361064519,
           1,
           0.5707894795754452,
           0.8201615082281316,
           0.9202996217451271,
           0.920366418507446,
           -0.1262185852931134,
           0.6160276700410143,
           0.6463028797721909,
           0.6134199042687537,
           0.6727984253931089,
           0.5484991594193593,
           0.19871160703876511,
           0.7189737878960976,
           0.6997921125432285,
           0.8066058853404005,
           0.2835191532728346
          ],
          [
           0.5423228154391674,
           0.8378651564422038,
           0.5707894795754452,
           1,
           0.7619600512705214,
           0.7355224152471461,
           0.7235759841713486,
           0.23902177903156108,
           0.9538766785475603,
           0.9561365797771065,
           0.9253411707317225,
           0.9259687441294826,
           0.953830761991271,
           0.6688013698476494,
           0.934794549024461,
           0.8596165404356353,
           0.35642696125802975,
           0.7802483107667803
          ],
          [
           0.7727131796501114,
           0.6888889674218053,
           0.8201615082281316,
           0.7619600512705214,
           1,
           0.8734334099541888,
           0.8598979984233943,
           -0.016966096553566873,
           0.8272768448136593,
           0.8559359607170187,
           0.8122232749427416,
           0.8644147936034494,
           0.7806166916755706,
           0.5076184977558447,
           0.8845953217442384,
           0.8031532345025784,
           0.750193385785239,
           0.5823744124313741
          ],
          [
           0.8635110104388699,
           0.6633993065968591,
           0.9202996217451271,
           0.7355224152471461,
           0.8734334099541888,
           1,
           0.9682745718699008,
           0.01862267822377759,
           0.7763975060618544,
           0.8040501696973962,
           0.7633863359657707,
           0.8038126637191625,
           0.7132152246169222,
           0.3702014917199762,
           0.861959693036894,
           0.8006602204149804,
           0.7308125776819119,
           0.4924084593824726
          ],
          [
           0.899682388497485,
           0.6714915073551198,
           0.920366418507446,
           0.7235759841713486,
           0.8598979984233943,
           0.9682745718699008,
           1,
           -0.020474702031590634,
           0.7488429099045711,
           0.7724057695708293,
           0.7466992431578118,
           0.794052454875791,
           0.7157976491211175,
           0.3344422590232819,
           0.8488028494498422,
           0.8238952439232073,
           0.7118434663473104,
           0.45107320558950975
          ],
          [
           -0.09708415911988218,
           0.09264288610974558,
           -0.1262185852931134,
           0.23902177903156108,
           -0.016966096553566873,
           0.01862267822377759,
           -0.020474702031590634,
           1,
           0.20551821002960752,
           0.19672753629463832,
           0.18939498433726162,
           0.14610026114171235,
           0.2093386502353771,
           0.2635428287311016,
           0.15402408915552604,
           0.07851090666581946,
           -0.22874253130878527,
           0.302860607204662
          ],
          [
           0.5893372381751801,
           0.8032947717955631,
           0.6160276700410143,
           0.9538766785475603,
           0.8272768448136593,
           0.7763975060618544,
           0.7488429099045711,
           0.20551821002960752,
           1,
           0.9942021346299015,
           0.9206550627518332,
           0.9391300612157276,
           0.9128175900425227,
           0.6610453855481786,
           0.9451280083680648,
           0.8453373803968365,
           0.43572475175006176,
           0.7725520112504611
          ],
          [
           0.6121128895672208,
           0.8116951400454144,
           0.6463028797721909,
           0.9561365797771065,
           0.8559359607170187,
           0.8040501696973962,
           0.7724057695708293,
           0.19672753629463832,
           0.9942021346299015,
           1,
           0.9312935245230688,
           0.9518820898212167,
           0.9191449383207234,
           0.6714824809765368,
           0.956811654270165,
           0.8536287640815479,
           0.47402073472883766,
           0.7941670904438284
          ],
          [
           0.5905365541090986,
           0.8607413104725158,
           0.6134199042687537,
           0.9253411707317225,
           0.8122232749427416,
           0.7633863359657707,
           0.7466992431578118,
           0.18939498433726162,
           0.9206550627518332,
           0.9312935245230688,
           1,
           0.9534023913867586,
           0.9408338612242061,
           0.7247549253501684,
           0.9468360725472456,
           0.8661639079360267,
           0.424737527150463,
           0.8355075900277777
          ],
          [
           0.6533144945603422,
           0.8597972183320889,
           0.6727984253931089,
           0.9259687441294826,
           0.8644147936034494,
           0.8038126637191625,
           0.794052454875791,
           0.14610026114171235,
           0.9391300612157276,
           0.9518820898212167,
           0.9534023913867586,
           1,
           0.9299055727955767,
           0.6890600764743112,
           0.9702468974072995,
           0.8823206230535252,
           0.48605230717686526,
           0.7872446396273234
          ],
          [
           0.5301693978936517,
           0.8340518499175167,
           0.5484991594193593,
           0.953830761991271,
           0.7806166916755706,
           0.7132152246169222,
           0.7157976491211175,
           0.2093386502353771,
           0.9128175900425227,
           0.9191449383207234,
           0.9408338612242061,
           0.9299055727955767,
           1,
           0.7331305646270384,
           0.9285393397163131,
           0.85159613543891,
           0.3497783380905716,
           0.8037570096305957
          ],
          [
           0.15793930171364298,
           0.5571489569845095,
           0.19871160703876511,
           0.6688013698476494,
           0.5076184977558447,
           0.3702014917199762,
           0.3344422590232819,
           0.2635428287311016,
           0.6610453855481786,
           0.6714824809765368,
           0.7247549253501684,
           0.6890600764743112,
           0.7331305646270384,
           1,
           0.6378698032070197,
           0.4994335669892392,
           0.12683360872597685,
           0.8454977074927045
          ],
          [
           0.695669501879752,
           0.81634310713038,
           0.7189737878960976,
           0.934794549024461,
           0.8845953217442384,
           0.861959693036894,
           0.8488028494498422,
           0.15402408915552604,
           0.9451280083680648,
           0.956811654270165,
           0.9468360725472456,
           0.9702468974072995,
           0.9285393397163131,
           0.6378698032070197,
           1,
           0.9113751646147881,
           0.5293329325590534,
           0.7462733194099078
          ],
          [
           0.7147507045880123,
           0.8532180052590581,
           0.6997921125432285,
           0.8596165404356353,
           0.8031532345025784,
           0.8006602204149804,
           0.8238952439232073,
           0.07851090666581946,
           0.8453373803968365,
           0.8536287640815479,
           0.8661639079360267,
           0.8823206230535252,
           0.85159613543891,
           0.4994335669892392,
           0.9113751646147881,
           1,
           0.4912621028910238,
           0.6121649289295991
          ],
          [
           0.7297969833935829,
           0.37171913972271975,
           0.8066058853404005,
           0.35642696125802975,
           0.750193385785239,
           0.7308125776819119,
           0.7118434663473104,
           -0.22874253130878527,
           0.43572475175006176,
           0.47402073472883766,
           0.424737527150463,
           0.48605230717686526,
           0.3497783380905716,
           0.12683360872597685,
           0.5293329325590534,
           0.4912621028910238,
           1,
           0.1623772420235541
          ],
          [
           0.23828565124656204,
           0.6806990767775101,
           0.2835191532728346,
           0.7802483107667803,
           0.5823744124313741,
           0.4924084593824726,
           0.45107320558950975,
           0.302860607204662,
           0.7725520112504611,
           0.7941670904438284,
           0.8355075900277777,
           0.7872446396273234,
           0.8037570096305957,
           0.8454977074927045,
           0.7462733194099078,
           0.6121649289295991,
           0.1623772420235541,
           1
          ]
         ]
        }
       ],
       "layout": {
        "coloraxis": {
         "colorscale": [
          [
           0,
           "#0d0887"
          ],
          [
           0.1111111111111111,
           "#46039f"
          ],
          [
           0.2222222222222222,
           "#7201a8"
          ],
          [
           0.3333333333333333,
           "#9c179e"
          ],
          [
           0.4444444444444444,
           "#bd3786"
          ],
          [
           0.5555555555555556,
           "#d8576b"
          ],
          [
           0.6666666666666666,
           "#ed7953"
          ],
          [
           0.7777777777777778,
           "#fb9f3a"
          ],
          [
           0.8888888888888888,
           "#fdca26"
          ],
          [
           1,
           "#f0f921"
          ]
         ]
        },
        "template": {
         "data": {
          "bar": [
           {
            "error_x": {
             "color": "#2a3f5f"
            },
            "error_y": {
             "color": "#2a3f5f"
            },
            "marker": {
             "line": {
              "color": "#E5ECF6",
              "width": 0.5
             },
             "pattern": {
              "fillmode": "overlay",
              "size": 10,
              "solidity": 0.2
             }
            },
            "type": "bar"
           }
          ],
          "barpolar": [
           {
            "marker": {
             "line": {
              "color": "#E5ECF6",
              "width": 0.5
             },
             "pattern": {
              "fillmode": "overlay",
              "size": 10,
              "solidity": 0.2
             }
            },
            "type": "barpolar"
           }
          ],
          "carpet": [
           {
            "aaxis": {
             "endlinecolor": "#2a3f5f",
             "gridcolor": "white",
             "linecolor": "white",
             "minorgridcolor": "white",
             "startlinecolor": "#2a3f5f"
            },
            "baxis": {
             "endlinecolor": "#2a3f5f",
             "gridcolor": "white",
             "linecolor": "white",
             "minorgridcolor": "white",
             "startlinecolor": "#2a3f5f"
            },
            "type": "carpet"
           }
          ],
          "choropleth": [
           {
            "colorbar": {
             "outlinewidth": 0,
             "ticks": ""
            },
            "type": "choropleth"
           }
          ],
          "contour": [
           {
            "colorbar": {
             "outlinewidth": 0,
             "ticks": ""
            },
            "colorscale": [
             [
              0,
              "#0d0887"
             ],
             [
              0.1111111111111111,
              "#46039f"
             ],
             [
              0.2222222222222222,
              "#7201a8"
             ],
             [
              0.3333333333333333,
              "#9c179e"
             ],
             [
              0.4444444444444444,
              "#bd3786"
             ],
             [
              0.5555555555555556,
              "#d8576b"
             ],
             [
              0.6666666666666666,
              "#ed7953"
             ],
             [
              0.7777777777777778,
              "#fb9f3a"
             ],
             [
              0.8888888888888888,
              "#fdca26"
             ],
             [
              1,
              "#f0f921"
             ]
            ],
            "type": "contour"
           }
          ],
          "contourcarpet": [
           {
            "colorbar": {
             "outlinewidth": 0,
             "ticks": ""
            },
            "type": "contourcarpet"
           }
          ],
          "heatmap": [
           {
            "colorbar": {
             "outlinewidth": 0,
             "ticks": ""
            },
            "colorscale": [
             [
              0,
              "#0d0887"
             ],
             [
              0.1111111111111111,
              "#46039f"
             ],
             [
              0.2222222222222222,
              "#7201a8"
             ],
             [
              0.3333333333333333,
              "#9c179e"
             ],
             [
              0.4444444444444444,
              "#bd3786"
             ],
             [
              0.5555555555555556,
              "#d8576b"
             ],
             [
              0.6666666666666666,
              "#ed7953"
             ],
             [
              0.7777777777777778,
              "#fb9f3a"
             ],
             [
              0.8888888888888888,
              "#fdca26"
             ],
             [
              1,
              "#f0f921"
             ]
            ],
            "type": "heatmap"
           }
          ],
          "heatmapgl": [
           {
            "colorbar": {
             "outlinewidth": 0,
             "ticks": ""
            },
            "colorscale": [
             [
              0,
              "#0d0887"
             ],
             [
              0.1111111111111111,
              "#46039f"
             ],
             [
              0.2222222222222222,
              "#7201a8"
             ],
             [
              0.3333333333333333,
              "#9c179e"
             ],
             [
              0.4444444444444444,
              "#bd3786"
             ],
             [
              0.5555555555555556,
              "#d8576b"
             ],
             [
              0.6666666666666666,
              "#ed7953"
             ],
             [
              0.7777777777777778,
              "#fb9f3a"
             ],
             [
              0.8888888888888888,
              "#fdca26"
             ],
             [
              1,
              "#f0f921"
             ]
            ],
            "type": "heatmapgl"
           }
          ],
          "histogram": [
           {
            "marker": {
             "pattern": {
              "fillmode": "overlay",
              "size": 10,
              "solidity": 0.2
             }
            },
            "type": "histogram"
           }
          ],
          "histogram2d": [
           {
            "colorbar": {
             "outlinewidth": 0,
             "ticks": ""
            },
            "colorscale": [
             [
              0,
              "#0d0887"
             ],
             [
              0.1111111111111111,
              "#46039f"
             ],
             [
              0.2222222222222222,
              "#7201a8"
             ],
             [
              0.3333333333333333,
              "#9c179e"
             ],
             [
              0.4444444444444444,
              "#bd3786"
             ],
             [
              0.5555555555555556,
              "#d8576b"
             ],
             [
              0.6666666666666666,
              "#ed7953"
             ],
             [
              0.7777777777777778,
              "#fb9f3a"
             ],
             [
              0.8888888888888888,
              "#fdca26"
             ],
             [
              1,
              "#f0f921"
             ]
            ],
            "type": "histogram2d"
           }
          ],
          "histogram2dcontour": [
           {
            "colorbar": {
             "outlinewidth": 0,
             "ticks": ""
            },
            "colorscale": [
             [
              0,
              "#0d0887"
             ],
             [
              0.1111111111111111,
              "#46039f"
             ],
             [
              0.2222222222222222,
              "#7201a8"
             ],
             [
              0.3333333333333333,
              "#9c179e"
             ],
             [
              0.4444444444444444,
              "#bd3786"
             ],
             [
              0.5555555555555556,
              "#d8576b"
             ],
             [
              0.6666666666666666,
              "#ed7953"
             ],
             [
              0.7777777777777778,
              "#fb9f3a"
             ],
             [
              0.8888888888888888,
              "#fdca26"
             ],
             [
              1,
              "#f0f921"
             ]
            ],
            "type": "histogram2dcontour"
           }
          ],
          "mesh3d": [
           {
            "colorbar": {
             "outlinewidth": 0,
             "ticks": ""
            },
            "type": "mesh3d"
           }
          ],
          "parcoords": [
           {
            "line": {
             "colorbar": {
              "outlinewidth": 0,
              "ticks": ""
             }
            },
            "type": "parcoords"
           }
          ],
          "pie": [
           {
            "automargin": true,
            "type": "pie"
           }
          ],
          "scatter": [
           {
            "fillpattern": {
             "fillmode": "overlay",
             "size": 10,
             "solidity": 0.2
            },
            "type": "scatter"
           }
          ],
          "scatter3d": [
           {
            "line": {
             "colorbar": {
              "outlinewidth": 0,
              "ticks": ""
             }
            },
            "marker": {
             "colorbar": {
              "outlinewidth": 0,
              "ticks": ""
             }
            },
            "type": "scatter3d"
           }
          ],
          "scattercarpet": [
           {
            "marker": {
             "colorbar": {
              "outlinewidth": 0,
              "ticks": ""
             }
            },
            "type": "scattercarpet"
           }
          ],
          "scattergeo": [
           {
            "marker": {
             "colorbar": {
              "outlinewidth": 0,
              "ticks": ""
             }
            },
            "type": "scattergeo"
           }
          ],
          "scattergl": [
           {
            "marker": {
             "colorbar": {
              "outlinewidth": 0,
              "ticks": ""
             }
            },
            "type": "scattergl"
           }
          ],
          "scattermapbox": [
           {
            "marker": {
             "colorbar": {
              "outlinewidth": 0,
              "ticks": ""
             }
            },
            "type": "scattermapbox"
           }
          ],
          "scatterpolar": [
           {
            "marker": {
             "colorbar": {
              "outlinewidth": 0,
              "ticks": ""
             }
            },
            "type": "scatterpolar"
           }
          ],
          "scatterpolargl": [
           {
            "marker": {
             "colorbar": {
              "outlinewidth": 0,
              "ticks": ""
             }
            },
            "type": "scatterpolargl"
           }
          ],
          "scatterternary": [
           {
            "marker": {
             "colorbar": {
              "outlinewidth": 0,
              "ticks": ""
             }
            },
            "type": "scatterternary"
           }
          ],
          "surface": [
           {
            "colorbar": {
             "outlinewidth": 0,
             "ticks": ""
            },
            "colorscale": [
             [
              0,
              "#0d0887"
             ],
             [
              0.1111111111111111,
              "#46039f"
             ],
             [
              0.2222222222222222,
              "#7201a8"
             ],
             [
              0.3333333333333333,
              "#9c179e"
             ],
             [
              0.4444444444444444,
              "#bd3786"
             ],
             [
              0.5555555555555556,
              "#d8576b"
             ],
             [
              0.6666666666666666,
              "#ed7953"
             ],
             [
              0.7777777777777778,
              "#fb9f3a"
             ],
             [
              0.8888888888888888,
              "#fdca26"
             ],
             [
              1,
              "#f0f921"
             ]
            ],
            "type": "surface"
           }
          ],
          "table": [
           {
            "cells": {
             "fill": {
              "color": "#EBF0F8"
             },
             "line": {
              "color": "white"
             }
            },
            "header": {
             "fill": {
              "color": "#C8D4E3"
             },
             "line": {
              "color": "white"
             }
            },
            "type": "table"
           }
          ]
         },
         "layout": {
          "annotationdefaults": {
           "arrowcolor": "#2a3f5f",
           "arrowhead": 0,
           "arrowwidth": 1
          },
          "autotypenumbers": "strict",
          "coloraxis": {
           "colorbar": {
            "outlinewidth": 0,
            "ticks": ""
           }
          },
          "colorscale": {
           "diverging": [
            [
             0,
             "#8e0152"
            ],
            [
             0.1,
             "#c51b7d"
            ],
            [
             0.2,
             "#de77ae"
            ],
            [
             0.3,
             "#f1b6da"
            ],
            [
             0.4,
             "#fde0ef"
            ],
            [
             0.5,
             "#f7f7f7"
            ],
            [
             0.6,
             "#e6f5d0"
            ],
            [
             0.7,
             "#b8e186"
            ],
            [
             0.8,
             "#7fbc41"
            ],
            [
             0.9,
             "#4d9221"
            ],
            [
             1,
             "#276419"
            ]
           ],
           "sequential": [
            [
             0,
             "#0d0887"
            ],
            [
             0.1111111111111111,
             "#46039f"
            ],
            [
             0.2222222222222222,
             "#7201a8"
            ],
            [
             0.3333333333333333,
             "#9c179e"
            ],
            [
             0.4444444444444444,
             "#bd3786"
            ],
            [
             0.5555555555555556,
             "#d8576b"
            ],
            [
             0.6666666666666666,
             "#ed7953"
            ],
            [
             0.7777777777777778,
             "#fb9f3a"
            ],
            [
             0.8888888888888888,
             "#fdca26"
            ],
            [
             1,
             "#f0f921"
            ]
           ],
           "sequentialminus": [
            [
             0,
             "#0d0887"
            ],
            [
             0.1111111111111111,
             "#46039f"
            ],
            [
             0.2222222222222222,
             "#7201a8"
            ],
            [
             0.3333333333333333,
             "#9c179e"
            ],
            [
             0.4444444444444444,
             "#bd3786"
            ],
            [
             0.5555555555555556,
             "#d8576b"
            ],
            [
             0.6666666666666666,
             "#ed7953"
            ],
            [
             0.7777777777777778,
             "#fb9f3a"
            ],
            [
             0.8888888888888888,
             "#fdca26"
            ],
            [
             1,
             "#f0f921"
            ]
           ]
          },
          "colorway": [
           "#636efa",
           "#EF553B",
           "#00cc96",
           "#ab63fa",
           "#FFA15A",
           "#19d3f3",
           "#FF6692",
           "#B6E880",
           "#FF97FF",
           "#FECB52"
          ],
          "font": {
           "color": "#2a3f5f"
          },
          "geo": {
           "bgcolor": "white",
           "lakecolor": "white",
           "landcolor": "#E5ECF6",
           "showlakes": true,
           "showland": true,
           "subunitcolor": "white"
          },
          "hoverlabel": {
           "align": "left"
          },
          "hovermode": "closest",
          "mapbox": {
           "style": "light"
          },
          "paper_bgcolor": "white",
          "plot_bgcolor": "#E5ECF6",
          "polar": {
           "angularaxis": {
            "gridcolor": "white",
            "linecolor": "white",
            "ticks": ""
           },
           "bgcolor": "#E5ECF6",
           "radialaxis": {
            "gridcolor": "white",
            "linecolor": "white",
            "ticks": ""
           }
          },
          "scene": {
           "xaxis": {
            "backgroundcolor": "#E5ECF6",
            "gridcolor": "white",
            "gridwidth": 2,
            "linecolor": "white",
            "showbackground": true,
            "ticks": "",
            "zerolinecolor": "white"
           },
           "yaxis": {
            "backgroundcolor": "#E5ECF6",
            "gridcolor": "white",
            "gridwidth": 2,
            "linecolor": "white",
            "showbackground": true,
            "ticks": "",
            "zerolinecolor": "white"
           },
           "zaxis": {
            "backgroundcolor": "#E5ECF6",
            "gridcolor": "white",
            "gridwidth": 2,
            "linecolor": "white",
            "showbackground": true,
            "ticks": "",
            "zerolinecolor": "white"
           }
          },
          "shapedefaults": {
           "line": {
            "color": "#2a3f5f"
           }
          },
          "ternary": {
           "aaxis": {
            "gridcolor": "white",
            "linecolor": "white",
            "ticks": ""
           },
           "baxis": {
            "gridcolor": "white",
            "linecolor": "white",
            "ticks": ""
           },
           "bgcolor": "#E5ECF6",
           "caxis": {
            "gridcolor": "white",
            "linecolor": "white",
            "ticks": ""
           }
          },
          "title": {
           "x": 0.05
          },
          "xaxis": {
           "automargin": true,
           "gridcolor": "white",
           "linecolor": "white",
           "ticks": "",
           "title": {
            "standoff": 15
           },
           "zerolinecolor": "white",
           "zerolinewidth": 2
          },
          "yaxis": {
           "automargin": true,
           "gridcolor": "white",
           "linecolor": "white",
           "ticks": "",
           "title": {
            "standoff": 15
           },
           "zerolinecolor": "white",
           "zerolinewidth": 2
          }
         }
        },
        "title": {
         "text": "Matrice di Correlazione - Anno 2019"
        },
        "xaxis": {
         "anchor": "y",
         "constrain": "domain",
         "domain": [
          0,
          1
         ],
         "scaleanchor": "y"
        },
        "yaxis": {
         "anchor": "x",
         "autorange": "reversed",
         "constrain": "domain",
         "domain": [
          0,
          1
         ]
        }
       }
      }
     },
     "metadata": {},
     "output_type": "display_data"
    }
   ],
   "source": [
    "correlations = []\n",
    "years = []\n",
    "\n",
    "colonne_da_eliminare = ['Player', 'Nation', 'Pos', 'Squad','Age', 'MP', 'Starts', 'Min', 'G+A', 'G-PK', 'PK',\n",
    "       'PKatt', 'CrdY', 'CrdR', 'SoT%',\n",
    "       'G/Sh', 'G/SoT', 'FK', 'G-xG','Cmp%','Tkl', 'TklW', 'Mid 3rd', 'Att 3rd',\n",
    "       'Touches', 'Mid 3rd.1', 'Att 3rd.1', 'Att.1', 'Succ', 'Succ%',\n",
    "       'Carries', 'TotDist', '2CrdY', 'Fld', 'Duels', 'Won', 'Lost',\n",
    "       'Won%']\n",
    "\n",
    "for file in files:\n",
    "    \n",
    "    data_frame = pd.read_excel(file)\n",
    "    data_frame['Duels'] = data_frame['Won'] + data_frame['Lost'] \n",
    "    data_frame.drop(columns=colonne_da_eliminare, inplace=True) \n",
    "\n",
    "    corr_matrix = data_frame.corr()\n",
    "\n",
    "    year = year_mapping[file] \n",
    "    years.append(year)\n",
    "\n",
    "    fig = px.imshow(corr_matrix, title=f\"Matrice di Correlazione - Anno {year}\")\n",
    "    fig.show()"
   ]
  }
 ],
 "metadata": {
  "kernelspec": {
   "display_name": "base",
   "language": "python",
   "name": "python3"
  },
  "language_info": {
   "codemirror_mode": {
    "name": "ipython",
    "version": 3
   },
   "file_extension": ".py",
   "mimetype": "text/x-python",
   "name": "python",
   "nbconvert_exporter": "python",
   "pygments_lexer": "ipython3",
   "version": "3.12.2"
  }
 },
 "nbformat": 4,
 "nbformat_minor": 2
}
