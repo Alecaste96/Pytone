{
 "cells": [
  {
   "cell_type": "markdown",
   "metadata": {},
   "source": [
    "Questa sezione tratta la correlazione delle statistiche. \n",
    "Lo scopo è quello di capire quali dati sono i meglio e peggio correlati fra loro. Vogliamo quindi trovare quali sono le statisitche che si relazionano meglio con quei dati che sono i più importanti per un attaccante, ovvero il numero di Goal, Assist e il numero di Chance da Goal create. L'idea dietro a questa analisi è quella di capire quali possono essere le statistiche (diverse da quelle chiave sopracitate) che una squadra può andare a guardare per trovare un attaccante d'impatto per la propria squadra."
   ]
  },
  {
   "cell_type": "code",
   "execution_count": null,
   "metadata": {},
   "outputs": [],
   "source": [
    "# Importo le librerie necessarie per il codice\n",
    "\n",
    "import numpy as np\n",
    "import scipy as sc\n",
    "import matplotlib.pyplot as plt\n",
    "import pandas as pd\n",
    "import plotly.express as px\n",
    "import plotly.graph_objects as go\n",
    "pd.set_option('display.max_columns', None)\n",
    "\n",
    "# Elenco dei file da leggere\n",
    "files = ['attaccanti_23.xlsx', 'attaccanti_22.xlsx', 'attaccanti_21.xlsx', 'attaccanti_20.xlsx', 'attaccanti_19.xlsx']\n",
    "\n",
    "# Faccio un dizionario per mappare i file agli anni\n",
    "year_mapping = {'attaccanti_23.xlsx': 2023,'attaccanti_22.xlsx': 2022,'attaccanti_21.xlsx': 2021,'attaccanti_20.xlsx': 2020,'attaccanti_19.xlsx': 2019}"
   ]
  },
  {
   "cell_type": "code",
   "execution_count": null,
   "metadata": {},
   "outputs": [],
   "source": [
    "# Questa sezione è divisa in due parti. \n",
    "\n",
    "# La prima parte si occupa esclusivamente  delle tabelle di correlazione infatti, una volta scaricati i file,\n",
    "# si potranno visualizzare cinque quadrati interattivi che riportano come si correlano tra di loro le statistiche \n",
    "# selezionate nel dataframe. \n",
    "# Alla fine per comodità verranno riportate le colonne usate.\n",
    "\n",
    "# Nella seconda parte abbiamo inserito una funzione che ha come scopo quello di scoprire quali sono le 5 statistiche meglio e peggio\n",
    "# correlate con quella desiderata data in input. Ed una funzione che restituisce l'elenco di tutti gli indici di correlazione\n",
    "# con le altre statistiche. Ed infine una terza funzione che ha come scopo quello di vedere come sono correlate\n",
    "# due statistiche specifiche, date in input alla funzione, e vedere come la loro correlazione è cambiata negli ultimi 5 anni,\n",
    "# sicuramente utile per scoprire se la correlazione o scorrelazione di due dati sia casuale o una cosa costante nel tempo."
   ]
  },
  {
   "cell_type": "markdown",
   "metadata": {},
   "source": [
    "Prima di tutto bisogna fare un processo di 'data cleaning' ovvero una pulizia del dataframe, aggiungendo colonne che possono essere utili oppure togliendone altre che non voglio prendere in considerazione.\n",
    " \n",
    "Ovviamente scartiamo le celle relative al Nome del giocatore, la Squadra per cui gioca e la sua Nazionalità.\n",
    "Subito dopo togliamo quelle colonne che rappresentano \"operazioni\" fra altre statistiche, come ad esempio somme fra due dati, percentuali o rapporti, in quanto non sono statistiche di gioco (realizzate sul campo dal giocatore) ma create ad hoc per altri tipi di analisi non inerenti al nostro."
   ]
  },
  {
   "cell_type": "code",
   "execution_count": null,
   "metadata": {},
   "outputs": [],
   "source": [
    "# Questa parte di codice crea 5 figure che rappresentano il riquadro di correlazione fra le statistiche per annata\n",
    "\n",
    "correlations = []\n",
    "years = []\n",
    "\n",
    "for file in files:\n",
    "    \n",
    "    data_frame = pd.read_excel(file)\n",
    "    data_frame['Duels'] = data_frame['Won'] + data_frame['Lost'] # Creo la colonna dei duelli aerei, può essere utile per l'analisi\n",
    "\n",
    "    # Uso .drop per rimuovere dal data frame quelle statistiche che non voglio usare in questa analisi\n",
    "    data_frame.drop(columns=['Player', 'Nation', 'Pos', 'Squad', 'G+A', 'G-PK','SoT%',\n",
    "       'G/Sh', 'G/SoT', 'G-xG','Cmp%','Succ%','Won%'], inplace=True) \n",
    "\n",
    "    corr_matrix = data_frame.corr()  # Calcolo la matrice di correlazione\n",
    "\n",
    "    year = year_mapping[file]  # Ottengo l'anno dal file usando il mapping\n",
    "    years.append(year)\n",
    "\n",
    "    fig = px.imshow(corr_matrix, title=f\"Matrice di Correlazione - Anno {year}\")  # Ottengo in output il grafico di correlazione\n",
    "    fig.show()\n",
    "    # Creo una funzione che mi permette di scoprire quali sono le statistiche meglio e peggio correlate con una desiderata\n",
    "\n",
    "def best_worst(stat):\n",
    " for file in files:\n",
    "    year = year_mapping[file]\n",
    "    data_frame = pd.read_excel(file)\n",
    "    data_frame['Duels'] = data_frame['Won'] + data_frame['Lost']\n",
    "\n",
    "    data_frame.drop(columns=['Player', 'Nation', 'Pos', 'Squad', 'G+A', 'G-PK','SoT%',\n",
    "       'G/Sh', 'G/SoT', 'G-xG','Cmp%','Succ%','Won%'], inplace=True) \n",
    "\n",
    "    corr_matrix = data_frame.corr()\n",
    "\n",
    "    if stat in corr_matrix.columns:\n",
    "        # Ordina le correlazioni con la statistica scelta\n",
    "        sorted_corr = corr_matrix[stat].sort_values(ascending=False)\n",
    "\n",
    "        # Trova le 5 migliori e peggiori correlazioni (cambiare i range per saperne di più o di meno)\n",
    "        best_corr = sorted_corr[1:6]  # Parto da 1 per evitare la correlazione della statistica con se stessa\n",
    "        worst_corr = sorted_corr[-5:]\n",
    "\n",
    "        print(f\"Anno {year}: Le 5 statistiche meglio correlate con {stat} sono:\\n{best_corr}\")\n",
    "        print(f\"Anno {year}: Le 5 statistiche peggio correlate con {stat} sono:\\n{worst_corr}\")\n",
    "    else:\n",
    "        print(f\"La statistica {stat} non è presente nel dataset. Controlla l'input\")\n",
    "\n",
    "# Creo una funzione che restituisce l'elenco degli indci di correlazione di una statistica con le altre anno per anno\n",
    "\n",
    "def correlazioni_annuali(stat):\n",
    "    for file in files:\n",
    "        year = year_mapping[file]\n",
    "        data_frame = pd.read_excel(file)  \n",
    "        data_frame['Duels'] = data_frame['Won'] + data_frame['Lost']\n",
    "\n",
    "        # Rimuovi le colonne che non vuoi usare\n",
    "        data_frame.drop(columns=['Player', 'Nation', 'Pos', 'Squad', 'G+A', 'G-PK', 'SoT%',\n",
    "                                 'G/Sh', 'G/SoT', 'G-xG', 'Cmp%', 'Succ%', 'Won%'], inplace=True)\n",
    "\n",
    "        # Calcolo della matrice di correlazione\n",
    "        corr_matrix = data_frame.corr()\n",
    "\n",
    "        if stat in corr_matrix.columns:\n",
    "            sorted_corr = corr_matrix[stat].sort_values(ascending=False)\n",
    "\n",
    "            print(f\"Anno {year}: Le correlazioni per {stat} sono:\\n{sorted_corr}\\n\")\n",
    "        else:\n",
    "            print(f\"La statistica {stat} non è presente nel dataset dell'anno {year}.\")\n",
    "        \n",
    "# Creo una seconda funzione che mi dice l'indice di correlazione di due statistiche specifiche\n",
    "# ed il cambiamento di questo nel corso delle stagioni\n",
    "\n",
    "def correlazione(stat1,stat2):\n",
    " correlations = []\n",
    "\n",
    " for file in files:\n",
    "    \n",
    "    data_frame = pd.read_excel(file)\n",
    "    data_frame['Duels'] = data_frame['Won'] + data_frame['Lost']\n",
    "\n",
    "    data_frame.drop(columns=['Player', 'Nation', 'Pos', 'Squad', 'G+A', 'G-PK','SoT%',\n",
    "       'G/Sh', 'G/SoT', 'G-xG','Cmp%','Succ%','Won%'], inplace=True)\n",
    "\n",
    "    corr_matrix = data_frame.corr()\n",
    "\n",
    "    year = year_mapping[file]\n",
    "\n",
    "    # Verifica se entrambe le statistiche esistono nella matrice di correlazione\n",
    "    if stat1 in corr_matrix.columns and stat2 in corr_matrix.columns:\n",
    "        correlation_value = corr_matrix.loc[stat1, stat2]\n",
    "        correlations.append((year, correlation_value))\n",
    "        #print(f\"Anno {year}: Correlazione tra {stat1} e {stat2} = {correlation_value}\")\n",
    "    else:\n",
    "        correlations.append((year, None))\n",
    "        print('NaN')\n",
    "\n",
    "# Creazione del DataFrame per il grafico\n",
    " if stat1 in corr_matrix.columns and stat2 in corr_matrix.columns:\n",
    "    correlation_df = pd.DataFrame(correlations, columns=['Anno', 'Correlazione'])\n",
    "    \n",
    "    # Crea il grafico dell'andamento della correlazione nel tempo\n",
    "    fig = px.line(correlation_df, x='Anno', y='Correlazione', title=f\"Correlazione tra {stat1} e {stat2}\", markers=True)\n",
    "    fig.update_xaxes(dtick=1)\n",
    "    fig.update_yaxes(range = [-1,1], dtick = 0.10)\n",
    "    fig.show()\n",
    " else:\n",
    "    print(\"Nessun grafico disponibile: non sono state calcolate correlazioni valide. Controlla l'input\")\n",
    "\n",
    "# Inserisco questa riga di codice in modo da poter visualizzare le colonne usate per l'analisi\n",
    "print(f'Le colonne usate per questa analisi sono {list(data_frame.columns)}')\n"
   ]
  },
  {
   "cell_type": "markdown",
   "metadata": {},
   "source": [
    "Otteniamo in output i 5 grafici richiesti relativi alle 5 stagioni prese in considerazione. La barra sulla destra indica l'indice di correlazione in base al colore del quadrato relativo a due colonne. Muovendo il cursore sulle colonne si può vedere le due statistiche prese in considerazione ed il loro indice di correlazione. \n",
    "\n",
    "La presenza dei colori ci aiuta subito a notare che i grafici si assomigliano molto, nonostante vengano presi in considerazione 5 anni diversi nei quali hanno giocato molti giocatori diversi stagione per stagione. \n",
    "Immaginiamo quindi che gli indici di correlazione rimangano abbastanza costanti durante gli anni. Questo ci fa molto comodo, in quanto ci rassicura sul fatto che i risultati che troveremo non saranno casuali ma validi nel corso degli anni.\n",
    "\n",
    "Oltre a questa osservazione possiamo anche notare, riconoscendo i colori, che ci sono statistiche mal correlate con tutte le altre. Salta subito all'occhio la colonna relativa ai Minuti giocati, indicata con 'Min'."
   ]
  },
  {
   "cell_type": "code",
   "execution_count": null,
   "metadata": {},
   "outputs": [],
   "source": [
    "# Creo una funzione che mi permette di scoprire quali sono le statistiche meglio e peggio correlate con una desiderata\n",
    "\n",
    "def best_worst(stat):\n",
    " for file in files:\n",
    "    year = year_mapping[file]\n",
    "    data_frame = pd.read_excel(file)\n",
    "    data_frame['Duels'] = data_frame['Won'] + data_frame['Lost']\n",
    "\n",
    "    data_frame.drop(columns=['Player', 'Nation', 'Pos', 'Squad', 'G+A', 'G-PK','SoT%',\n",
    "       'G/Sh', 'G/SoT', 'G-xG','Cmp%','Succ%','Won%'], inplace=True) \n",
    "\n",
    "    corr_matrix = data_frame.corr()\n",
    "\n",
    "    if stat in corr_matrix.columns:\n",
    "        # Ordina le correlazioni con la statistica scelta\n",
    "        sorted_corr = corr_matrix[stat].sort_values(ascending=False)\n",
    "\n",
    "        # Trova le 5 migliori e peggiori correlazioni (cambiare i range per saperne di più o di meno)\n",
    "        best_corr = sorted_corr[1:6]  # Parto da 1 per evitare la correlazione della statistica con se stessa\n",
    "        worst_corr = sorted_corr[-5:]\n",
    "\n",
    "        print(f\"Anno {year}: Le 5 statistiche meglio correlate con {stat} sono:\\n{best_corr}\")\n",
    "        print(f\"Anno {year}: Le 5 statistiche peggio correlate con {stat} sono:\\n{worst_corr}\")\n",
    "    else:\n",
    "        print(f\"La statistica {stat} non è presente nel dataset. Controlla l'input\")\n",
    "\n",
    "# Creo una funzione che restituisce l'elenco degli indci di correlazione di una statistica con le altre anno per anno\n",
    "\n",
    "def correlazioni_annuali(stat):\n",
    "    for file in files:\n",
    "        year = year_mapping[file]\n",
    "        data_frame = pd.read_excel(file)  \n",
    "        data_frame['Duels'] = data_frame['Won'] + data_frame['Lost']\n",
    "\n",
    "        # Rimuovi le colonne che non vuoi usare\n",
    "        data_frame.drop(columns=['Player', 'Nation', 'Pos', 'Squad', 'G+A', 'G-PK', 'SoT%',\n",
    "                                 'G/Sh', 'G/SoT', 'G-xG', 'Cmp%', 'Succ%', 'Won%'], inplace=True)\n",
    "\n",
    "        # Calcolo della matrice di correlazione\n",
    "        corr_matrix = data_frame.corr()\n",
    "\n",
    "        if stat in corr_matrix.columns:\n",
    "            sorted_corr = corr_matrix[stat].sort_values(ascending=False)\n",
    "\n",
    "            print(f\"Anno {year}: Le correlazioni per {stat} sono:\\n{sorted_corr}\\n\")\n",
    "        else:\n",
    "            print(f\"La statistica {stat} non è presente nel dataset dell'anno {year}.\")\n",
    "        \n",
    "# Creo una seconda funzione che mi dice l'indice di correlazione di due statistiche specifiche\n",
    "# ed il cambiamento di questo nel corso delle stagioni\n",
    "\n",
    "def correlazione(stat1,stat2):\n",
    " correlations = []\n",
    "\n",
    " for file in files:\n",
    "    \n",
    "    data_frame = pd.read_excel(file)\n",
    "    data_frame['Duels'] = data_frame['Won'] + data_frame['Lost']\n",
    "\n",
    "    data_frame.drop(columns=['Player', 'Nation', 'Pos', 'Squad', 'G+A', 'G-PK','SoT%',\n",
    "       'G/Sh', 'G/SoT', 'G-xG','Cmp%','Succ%','Won%'], inplace=True)\n",
    "\n",
    "    corr_matrix = data_frame.corr()\n",
    "\n",
    "    year = year_mapping[file]\n",
    "\n",
    "    # Verifica se entrambe le statistiche esistono nella matrice di correlazione\n",
    "    if stat1 in corr_matrix.columns and stat2 in corr_matrix.columns:\n",
    "        correlation_value = corr_matrix.loc[stat1, stat2]\n",
    "        correlations.append((year, correlation_value))\n",
    "        #print(f\"Anno {year}: Correlazione tra {stat1} e {stat2} = {correlation_value}\")\n",
    "    else:\n",
    "        correlations.append((year, None))\n",
    "        print('NaN')\n",
    "\n",
    "# Creazione del DataFrame per il grafico\n",
    " if stat1 in corr_matrix.columns and stat2 in corr_matrix.columns:\n",
    "    correlation_df = pd.DataFrame(correlations, columns=['Anno', 'Correlazione'])\n",
    "    \n",
    "    # Crea il grafico dell'andamento della correlazione nel tempo\n",
    "    fig = px.line(correlation_df, x='Anno', y='Correlazione', title=f\"Correlazione tra {stat1} e {stat2}\", markers=True)\n",
    "    fig.update_xaxes(dtick=1)\n",
    "    fig.update_yaxes(range = [-1,1], dtick = 0.10)\n",
    "    fig.show()\n",
    " else:\n",
    "    print(\"Nessun grafico disponibile: non sono state calcolate correlazioni valide. Controlla l'input\")"
   ]
  },
  {
   "cell_type": "code",
   "execution_count": null,
   "metadata": {},
   "outputs": [],
   "source": [
    "stat = 'Min'\n",
    "best_worst(stat)\n",
    "\n",
    "stat1 = 'Min'\n",
    "stat2 = 'Gls'\n",
    "correlazione(stat1,stat2)\n",
    "\n",
    "stat1 = 'Min'\n",
    "stat2 = 'Ast'\n",
    "correlazione(stat1,stat2)\n",
    "\n",
    "stat1 = 'Min'\n",
    "stat2 = 'GCA'\n",
    "correlazione(stat1,stat2)"
   ]
  },
  {
   "cell_type": "markdown",
   "metadata": {},
   "source": [
    "Non c'è bisogno di richiamare tutti i valori, ci basta usare le funzioni per confermare ciò che pensavamo. \n",
    "Nel corso degli anni la statistica meglio correlata con quella dei Minuti giocati risulta essere 'Age' con un indice di 0.144865 (abbastanza basso) registrato nel 2023. Inoltre notiamo come nelle 5 statistiche meglio correlate durante gli anni, la maggior parte abbiano addirittura un indice negativo. Questo è sicuramente il primo risultato grosso ed inaspettato di questa analisi in quanto ci aspettavamo che un minutaggio elevato avesse un grosso impatto sulle statistiche del singolo. \n",
    "Vediamo come l'andamento dell'indice di correlazione risulta costantemente basso nel corso degli anni.\n",
    "\n",
    "Da un certo punto di vista però è un risultato che ci piace in quanto suggerisce che il rendimento di un attaccante non dipenda banalmente da quanto gioca ma da come gioca. Tutto ciò da ancora più valore alla nostra ricerca."
   ]
  },
  {
   "cell_type": "markdown",
   "metadata": {},
   "source": [
    "Questo risultato interessante appena trovato sui minuti ci suggerisce di testare le correlazioni delle altre statistiche non di campo ovvero 'Age' 'Starts' 'MP', rispettivamente, Età del giocatore, numero di partite titolare e numero totale di partite in cui ha giocato. Analizziamole separatamente una per volta."
   ]
  },
  {
   "cell_type": "code",
   "execution_count": null,
   "metadata": {},
   "outputs": [],
   "source": [
    "stat = 'Age'\n",
    "correlazioni_annuali(stat)\n",
    "\n",
    "stat1 = 'Age'\n",
    "stat2 = 'Gls'\n",
    "correlazione(stat1,stat2)\n",
    "\n",
    "stat1 = 'Age'\n",
    "stat2 = 'Ast'\n",
    "correlazione(stat1,stat2)\n",
    "\n",
    "stat1 = 'Age'\n",
    "stat2 = 'GCA'\n",
    "correlazione(stat1,stat2)"
   ]
  },
  {
   "cell_type": "markdown",
   "metadata": {},
   "source": [
    "Nel 2023 il range di correlazione (esclusa ovviamente se stessa) è [0.276579, -0.098984], nel 2022 [0.308650, -0.070421], nel 2021 [0.320632, -0.119382], nel 2020 [0.352202, -0.090711] e nel 2019 [0.404946, -0.017619]. Possiamo notare come nel corso degli anni gli indici di correlazione siano rimasti in un range simile, relativamente basso. Risultato un po' inaspettato in quanto pensavamo che l'esperienza di un giocatore più anziano oppure la freschezza e fantasia di un giovane potessero influire sulla performance di questo. Le nostre statistiche di interesse, ovviamente, stanno nei range appena citati e quindi vale lo stesso discorso. Vediamo, inoltre come "
   ]
  },
  {
   "cell_type": "code",
   "execution_count": null,
   "metadata": {},
   "outputs": [],
   "source": [
    "stat = 'Starts'\n",
    "correlazioni_annuali(stat)\n",
    "\n",
    "stat1 = 'Starts'\n",
    "stat2 = 'Gls'\n",
    "correlazione(stat1,stat2)\n",
    "\n",
    "stat1 = 'Starts'\n",
    "stat2 = 'Ast'\n",
    "correlazione(stat1,stat2)\n",
    "\n",
    "stat1 = 'Starts'\n",
    "stat2 = 'GCA'\n",
    "correlazione(stat1,stat2)\n",
    "\n",
    "stat1 = 'Starts'\n",
    "stat2 = 'xG'\n",
    "correlazione(stat1,stat2)\n",
    "\n",
    "stat1 = 'Starts'\n",
    "stat2 = 'xA'\n",
    "correlazione(stat1,stat2)"
   ]
  },
  {
   "cell_type": "markdown",
   "metadata": {},
   "source": [
    "Il discorso qui è molto diverso, i range di correlazione sono molto più ampi e raggiungono numeri più alti. Nel 2023 [0.931046, -0.352069], nel 2022 [0.917525, -0.351932], nel 2021 [0.930689, -0.265947], nel 2020 [0.923731, -0.328074] e nel 2019 [0.916789, -0.379672]. Controllando notiamo che solo il dato del minutaggio è sempre correlato negativamente (avevamo già detto in precedenza quanto fosse correlato male), questo spiega come gli intervalli comprendano numeri negativi. Per i restanti dati notiamo come si relazioni abbastanza bene con le statistiche interessanti. Il risultato in realtà è abbastanza prevedibile in quanto è nell'interesse delle squadre schierare titolari i giocatori migliori che quindi registrano dati migliori."
   ]
  },
  {
   "cell_type": "code",
   "execution_count": null,
   "metadata": {},
   "outputs": [],
   "source": [
    "stat = 'MP'\n",
    "correlazioni_annuali(stat)"
   ]
  },
  {
   "cell_type": "markdown",
   "metadata": {},
   "source": [
    "Il discorso riguardante il numero di partite giocate è il medesimo a quello precedente, è nell'interesse della squadra far giocare i giocatori migliori e quindi ci aspettavamo che fosse ben correlato."
   ]
  },
  {
   "cell_type": "markdown",
   "metadata": {},
   "source": [
    "Procediamo con l'analisi, rimuovendo questa volta le statistiche appena analizzate."
   ]
  },
  {
   "cell_type": "code",
   "execution_count": 35,
   "metadata": {},
   "outputs": [
    {
     "data": {
      "application/vnd.plotly.v1+json": {
       "config": {
        "plotlyServerURL": "https://plot.ly"
       },
       "data": [
        {
         "coloraxis": "coloraxis",
         "hovertemplate": "x: %{x}<br>y: %{y}<br>color: %{z}<extra></extra>",
         "name": "0",
         "type": "heatmap",
         "x": [
          "Gls",
          "Ast",
          "PK",
          "PKatt",
          "CrdY",
          "CrdR",
          "xG",
          "PrgP",
          "PrgR",
          "Sh",
          "SoT",
          "Dist",
          "FK",
          "Cmp",
          "Att",
          "xA",
          "KP",
          "PPA",
          "CrsPA",
          "SCA",
          "GCA",
          "Tkl",
          "TklW",
          "Mid 3rd",
          "Att 3rd",
          "Touches",
          "Mid 3rd.1",
          "Att 3rd.1",
          "Att.1",
          "Succ",
          "Carries",
          "TotDist",
          "2CrdY",
          "Fld",
          "Off",
          "Crs",
          "Won",
          "Lost",
          "Duels"
         ],
         "xaxis": "x",
         "y": [
          "Gls",
          "Ast",
          "PK",
          "PKatt",
          "CrdY",
          "CrdR",
          "xG",
          "PrgP",
          "PrgR",
          "Sh",
          "SoT",
          "Dist",
          "FK",
          "Cmp",
          "Att",
          "xA",
          "KP",
          "PPA",
          "CrsPA",
          "SCA",
          "GCA",
          "Tkl",
          "TklW",
          "Mid 3rd",
          "Att 3rd",
          "Touches",
          "Mid 3rd.1",
          "Att 3rd.1",
          "Att.1",
          "Succ",
          "Carries",
          "TotDist",
          "2CrdY",
          "Fld",
          "Off",
          "Crs",
          "Won",
          "Lost",
          "Duels"
         ],
         "yaxis": "y",
         "z": [
          [
           1,
           0.6800939250456844,
           0.5838358958553883,
           0.6500402037248116,
           0.5267621032789344,
           0.25193128136616566,
           0.9354220145380396,
           0.6057468564275618,
           0.7426047154367624,
           0.8559291984968797,
           0.8833771829622946,
           -0.1736929953667108,
           0.3970613430397592,
           0.6523206890985132,
           0.6760122664505072,
           0.6127378656652609,
           0.6949535142252389,
           0.5564244865710206,
           0.30688131401122287,
           0.7203084803174025,
           0.7766225953034253,
           0.4572383796119175,
           0.4423423452376122,
           0.4371936814181867,
           0.5334787830040095,
           0.7191842991930603,
           0.711094232502449,
           0.7329964413948518,
           0.5688006879079749,
           0.5330378941074359,
           0.698554520553154,
           0.584709045591724,
           0.26507628409500505,
           0.6511747214153302,
           0.6020299330812856,
           0.3978017749735697,
           0.4957964649604277,
           0.5305669648876314,
           0.5375513600491941
          ],
          [
           0.6800939250456844,
           1,
           0.3641427736512644,
           0.35121749862764745,
           0.41980489898898243,
           0.13179957121853203,
           0.654525503252893,
           0.7023777122083804,
           0.7623107289538377,
           0.6854227406295671,
           0.6937723655448662,
           -0.025632630535492574,
           0.36393212383384055,
           0.7300033280501346,
           0.7386927233530485,
           0.7740110619603474,
           0.7650364987470177,
           0.7262726830263887,
           0.5434316803659046,
           0.7532237058259635,
           0.8803916746068967,
           0.5755369253607695,
           0.5574853806762912,
           0.5246263844432494,
           0.5943434536545712,
           0.7468324023484867,
           0.7221519402857728,
           0.7647431979502772,
           0.6281015235314269,
           0.615256449704926,
           0.7448264372957568,
           0.7117906652170766,
           0.0943691366598406,
           0.6032274612744596,
           0.45569588589709076,
           0.5709756690707823,
           0.26258584286943265,
           0.2859394328278463,
           0.28734858890743903
          ],
          [
           0.5838358958553883,
           0.3641427736512644,
           1,
           0.951847731982501,
           0.3193679114392679,
           0.1501388687289396,
           0.5897515049923968,
           0.45396703981648967,
           0.3191185460650242,
           0.4264900786463896,
           0.39062991635448274,
           0.044088396817538456,
           0.3674372266286392,
           0.40836312832222593,
           0.4137814973512275,
           0.35968785547907034,
           0.45133030471958385,
           0.39494688467820976,
           0.14521034537238392,
           0.4298801814180801,
           0.4196458306567905,
           0.2174215085383965,
           0.21258872877980428,
           0.19455022081965562,
           0.3216037347368305,
           0.42207013022616735,
           0.433832694099648,
           0.4115683478466506,
           0.29285706492170016,
           0.2657427425797861,
           0.3884771173542778,
           0.30779810183037226,
           0.1610846027809718,
           0.3215544691493104,
           0.30803489809172524,
           0.26267997013547323,
           0.1568290509995705,
           0.26142079322008743,
           0.22022967771906954
          ],
          [
           0.6500402037248116,
           0.35121749862764745,
           0.951847731982501,
           1,
           0.3344924796820671,
           0.2606852736438021,
           0.670199269105294,
           0.45165381504976176,
           0.3447746531771765,
           0.49778457398021836,
           0.46151432573640966,
           0.024075716754569605,
           0.4011960988008624,
           0.4115178221673871,
           0.4241675522023418,
           0.3651020212515914,
           0.46913085163772417,
           0.3849864487985367,
           0.138934618480657,
           0.453361447181941,
           0.4233734790900489,
           0.20614426364259444,
           0.19651151406949882,
           0.18170592533604055,
           0.31578326312482397,
           0.43716505057454774,
           0.44814382768762057,
           0.4286126183039078,
           0.2960265255623247,
           0.2714301639938983,
           0.3982177503858175,
           0.3013970388119282,
           0.25872814931333593,
           0.3404362150786546,
           0.3565202440188096,
           0.25322360686255513,
           0.2519574399199378,
           0.3198896167478261,
           0.3001317349635283
          ],
          [
           0.5267621032789344,
           0.41980489898898243,
           0.3193679114392679,
           0.3344924796820671,
           1,
           0.1586045245971216,
           0.5711738490211861,
           0.481552930600438,
           0.609885129926527,
           0.6456737080433431,
           0.595929218276706,
           -0.009658188475326856,
           0.330982822120037,
           0.5839619684382595,
           0.5956278671691561,
           0.4547724926878978,
           0.5389491859548898,
           0.4514388171080144,
           0.3170340128379205,
           0.5968103133177513,
           0.5171174827501536,
           0.5718118777635619,
           0.5698158927068857,
           0.6072787840549694,
           0.44097948031348866,
           0.6387400580826524,
           0.6408003090070281,
           0.6146637002762482,
           0.6044687441291191,
           0.5957523459213059,
           0.630872318288955,
           0.5869249810645638,
           0.3070859047286207,
           0.677904834772187,
           0.4330922136796078,
           0.3799317420189454,
           0.31425753621139446,
           0.40983051530445763,
           0.38015889657998136
          ],
          [
           0.25193128136616566,
           0.13179957121853203,
           0.1501388687289396,
           0.2606852736438021,
           0.1586045245971216,
           1,
           0.28731506731337814,
           0.0754809006665326,
           0.13859268559505744,
           0.21693028933727235,
           0.2225930678862335,
           -0.08284975082011431,
           0.12817414210540284,
           0.0910990591609448,
           0.0997930349732872,
           0.0757078040429971,
           0.1570063928344627,
           0.09107209712891333,
           0.059923280561460644,
           0.13363171337734345,
           0.12414977288561942,
           0.030519284245671654,
           0.036341302660901915,
           0.021582698278919298,
           0.06302893108124698,
           0.11013118392790996,
           0.10244145552753016,
           0.11416421737046048,
           0.04272039235095979,
           0.027362467532891097,
           0.09085105936951632,
           0.05135680331124407,
           0.40468368370982555,
           0.0758558582586355,
           0.2683219164068717,
           0.036023828361777685,
           0.11002349951765607,
           0.12109660645838759,
           0.12108980381907697
          ],
          [
           0.9354220145380396,
           0.654525503252893,
           0.5897515049923968,
           0.670199269105294,
           0.5711738490211861,
           0.28731506731337814,
           1,
           0.5752506049654613,
           0.7542701742850116,
           0.9054038227288664,
           0.9097707810564096,
           -0.23479410800044861,
           0.37196941217143403,
           0.635066906201037,
           0.6586334337288245,
           0.5908269062716627,
           0.6722642674296457,
           0.5292071641193783,
           0.28110837413419293,
           0.7148586242570845,
           0.7499800590703211,
           0.47506403494679483,
           0.4581708033592625,
           0.4531487801407224,
           0.5629243577297373,
           0.7138914288405587,
           0.7079907361127181,
           0.7304343889223323,
           0.5844686620223158,
           0.5566896241026098,
           0.6904304682073314,
           0.5856072778390914,
           0.3001657363801225,
           0.6937884839282518,
           0.6890485615889798,
           0.3537114260765282,
           0.5539669206686684,
           0.5964308115829277,
           0.602558871719278
          ],
          [
           0.6057468564275618,
           0.7023777122083804,
           0.45396703981648967,
           0.45165381504976176,
           0.481552930600438,
           0.0754809006665326,
           0.5752506049654613,
           1,
           0.8071006995906848,
           0.6951629742691204,
           0.6110611246375904,
           0.21861435187479733,
           0.5772854972778889,
           0.945312040633566,
           0.9446031883236414,
           0.884351646558345,
           0.9089052239073201,
           0.9418397735867523,
           0.6803270836521472,
           0.916849331357731,
           0.7697950715100041,
           0.7292984668226236,
           0.6994615946001909,
           0.663662773299828,
           0.7002509237820799,
           0.9229128636289422,
           0.9083998451769091,
           0.9101252839832782,
           0.7693614160489699,
           0.7557752036694482,
           0.917944543833196,
           0.8754059629257828,
           0.0633029283173576,
           0.6668995107283295,
           0.2938759829638081,
           0.774533286510268,
           0.15461769512005674,
           0.24176028604482716,
           0.20855750352663066
          ],
          [
           0.7426047154367624,
           0.7623107289538377,
           0.3191185460650242,
           0.3447746531771765,
           0.609885129926527,
           0.13859268559505744,
           0.7542701742850116,
           0.8071006995906848,
           1,
           0.8812245511694597,
           0.8513546705817281,
           -0.013595995319030845,
           0.45540688175812166,
           0.8795603021636121,
           0.8947362052774168,
           0.8424998421728812,
           0.8494967163840792,
           0.8152314051544437,
           0.6252298913120412,
           0.9058658155064836,
           0.8380861682489049,
           0.7441395756755427,
           0.7202515064469418,
           0.6677498216187143,
           0.7404748508009025,
           0.9225651540444,
           0.8756844395588235,
           0.9567429006524572,
           0.8431787230159025,
           0.8070945038986332,
           0.9361581542862514,
           0.9016814806200677,
           0.162770304529119,
           0.8344365963167064,
           0.5655951826355317,
           0.6720247159627267,
           0.375594500666979,
           0.47368367651097976,
           0.4457040389644945
          ],
          [
           0.8559291984968797,
           0.6854227406295671,
           0.4264900786463896,
           0.49778457398021836,
           0.6456737080433431,
           0.21693028933727235,
           0.9054038227288664,
           0.6951629742691204,
           0.8812245511694597,
           1,
           0.955855104104282,
           -0.07398770602299407,
           0.49062526831594894,
           0.7642471964192828,
           0.7923560360523311,
           0.704133140103743,
           0.7814757599303725,
           0.661649867581646,
           0.4677400577025446,
           0.8484962756413723,
           0.7667847901711631,
           0.6463188334770079,
           0.6199367267703854,
           0.6093121549816646,
           0.6754957565015269,
           0.847084105046398,
           0.8195325852876187,
           0.8727665076889903,
           0.750406751985513,
           0.7149014619331548,
           0.8377905818003448,
           0.7638005214078816,
           0.22762018891367347,
           0.8165877003865025,
           0.6253989348593818,
           0.5442245195913138,
           0.5215413184682048,
           0.6123090291099532,
           0.5945266951036655
          ],
          [
           0.8833771829622946,
           0.6937723655448662,
           0.39062991635448274,
           0.46151432573640966,
           0.595929218276706,
           0.2225930678862335,
           0.9097707810564096,
           0.6110611246375904,
           0.8513546705817281,
           0.955855104104282,
           1,
           -0.1533796356053488,
           0.4018836706128539,
           0.6891989321008,
           0.7181402577756498,
           0.6437030298254627,
           0.7164519642025731,
           0.5814793313912008,
           0.39535364096550174,
           0.7752806520837746,
           0.7479079760417244,
           0.5777565908814258,
           0.5607670441594887,
           0.536206362063558,
           0.6248842709697587,
           0.7759340446918648,
           0.7450625290037884,
           0.8114857095941695,
           0.6903758377693743,
           0.6523092334850772,
           0.7720442167697912,
           0.6962494515405387,
           0.23713979668281984,
           0.7515250541472273,
           0.6527942722730502,
           0.47425798405178055,
           0.5261544155722644,
           0.562337620969327,
           0.5700818402300492
          ],
          [
           -0.1736929953667108,
           -0.025632630535492574,
           0.044088396817538456,
           0.024075716754569605,
           -0.009658188475326856,
           -0.08284975082011431,
           -0.23479410800044861,
           0.21861435187479733,
           -0.013595995319030845,
           -0.07398770602299407,
           -0.1533796356053488,
           1,
           0.3339534631137622,
           0.15007505655813144,
           0.14181701039711828,
           0.15702177810758497,
           0.14475392051344912,
           0.21940298887502116,
           0.24195740297746884,
           0.13668654612977535,
           -0.03590260866223727,
           0.150402070262135,
           0.14340504679946964,
           0.13442063361963977,
           0.039904375442642026,
           0.10356318310027574,
           0.08669776054189712,
           0.09543417394512163,
           0.15077828325192083,
           0.15973075427924174,
           0.11921025271369676,
           0.17552693670163674,
           0.004659527772658345,
           -0.016643887879543455,
           -0.2711764440657213,
           0.32332290387981905,
           -0.40928221869910075,
           -0.3345658033074272,
           -0.3900351495527645
          ],
          [
           0.3970613430397592,
           0.36393212383384055,
           0.3674372266286392,
           0.4011960988008624,
           0.330982822120037,
           0.12817414210540284,
           0.37196941217143403,
           0.5772854972778889,
           0.45540688175812166,
           0.49062526831594894,
           0.4018836706128539,
           0.3339534631137622,
           1,
           0.5486770698629196,
           0.561614850276189,
           0.597879963950506,
           0.6508765973818561,
           0.558913685947452,
           0.40151447110942096,
           0.6299929659214109,
           0.40293663927850903,
           0.3599230380930849,
           0.3373237636135277,
           0.3448743521365826,
           0.36926586751123647,
           0.5486201293839257,
           0.5123419959293812,
           0.5667066432394997,
           0.5138371571277758,
           0.5110154389881854,
           0.5392227956012519,
           0.5294805058126467,
           0.20125769580812777,
           0.40552480363158006,
           0.1046385439511181,
           0.6555814018338862,
           -0.04298029600001703,
           0.06195697805562504,
           0.011292982097005681
          ],
          [
           0.6523206890985132,
           0.7300033280501346,
           0.40836312832222593,
           0.4115178221673871,
           0.5839619684382595,
           0.0910990591609448,
           0.635066906201037,
           0.945312040633566,
           0.8795603021636121,
           0.7642471964192828,
           0.6891989321008,
           0.15007505655813144,
           0.5486770698629196,
           1,
           0.9938601253581293,
           0.8836807205103463,
           0.918134831215458,
           0.9023110498772926,
           0.659216682398456,
           0.9369735458991159,
           0.8112912287692757,
           0.7939962176358547,
           0.7597744684406872,
           0.728209435350676,
           0.7030355423550552,
           0.9797998407908972,
           0.969185839578324,
           0.9574407247840158,
           0.8234978865131346,
           0.8004773305507772,
           0.9780543455141988,
           0.9358415042593397,
           0.1101076763968742,
           0.7588948059538311,
           0.36318980151201324,
           0.7646573021851777,
           0.22766757269227936,
           0.30792041609932713,
           0.2813171857375221
          ],
          [
           0.6760122664505072,
           0.7386927233530485,
           0.4137814973512275,
           0.4241675522023418,
           0.5956278671691561,
           0.0997930349732872,
           0.6586334337288245,
           0.9446031883236414,
           0.8947362052774168,
           0.7923560360523311,
           0.7181402577756498,
           0.14181701039711828,
           0.561614850276189,
           0.9938601253581293,
           1,
           0.8907980388331838,
           0.9287229127534508,
           0.9000955825805467,
           0.6724554598515105,
           0.9469820637966324,
           0.8158705366675522,
           0.8019123316132286,
           0.7666575562751942,
           0.7361239814047732,
           0.7118885093731712,
           0.9911692527116571,
           0.9797204380843582,
           0.9685652270289277,
           0.8213925483206835,
           0.7925357637914301,
           0.9824210966784497,
           0.9319198951342724,
           0.11074886291443753,
           0.7823571577549626,
           0.4008381378817252,
           0.7923573243989982,
           0.28240139525517766,
           0.3573678937589211,
           0.33576702775459366
          ],
          [
           0.6127378656652609,
           0.7740110619603474,
           0.35968785547907034,
           0.3651020212515914,
           0.4547724926878978,
           0.0757078040429971,
           0.5908269062716627,
           0.884351646558345,
           0.8424998421728812,
           0.704133140103743,
           0.6437030298254627,
           0.15702177810758497,
           0.597879963950506,
           0.8836807205103463,
           0.8907980388331838,
           1,
           0.9332297411999056,
           0.9132434574363527,
           0.7406464936315231,
           0.9237050777923321,
           0.8363836170975083,
           0.6644156625706129,
           0.6321983572486853,
           0.5957347401874024,
           0.6476503359864657,
           0.8745612323295294,
           0.8309070318607573,
           0.9008885582745167,
           0.7900231815866647,
           0.7791201083356833,
           0.8819606987248692,
           0.8800441376833316,
           0.06464653336449444,
           0.682080272888164,
           0.3460595751213714,
           0.8273914624187401,
           0.11611709118107388,
           0.1930924992568628,
           0.16280994776075886
          ],
          [
           0.6949535142252389,
           0.7650364987470177,
           0.45133030471958385,
           0.46913085163772417,
           0.5389491859548898,
           0.1570063928344627,
           0.6722642674296457,
           0.9089052239073201,
           0.8494967163840792,
           0.7814757599303725,
           0.7164519642025731,
           0.14475392051344912,
           0.6508765973818561,
           0.918134831215458,
           0.9287229127534508,
           0.9332297411999056,
           1,
           0.896549853652219,
           0.6958870706700264,
           0.9758198701604817,
           0.828542161327944,
           0.694194359334991,
           0.659271702418457,
           0.6402167601829519,
           0.6867270508553389,
           0.9232291819848153,
           0.8939759277848114,
           0.9324762294081557,
           0.8030486351837044,
           0.7848311050871074,
           0.9179614575769952,
           0.8837894085222391,
           0.12564195761620248,
           0.7218226005360721,
           0.40477991110419453,
           0.8213935733600536,
           0.20015824090963838,
           0.2891093858931928,
           0.25719049306242536
          ],
          [
           0.5564244865710206,
           0.7262726830263887,
           0.39494688467820976,
           0.3849864487985367,
           0.4514388171080144,
           0.09107209712891333,
           0.5292071641193783,
           0.9418397735867523,
           0.8152314051544437,
           0.661649867581646,
           0.5814793313912008,
           0.21940298887502116,
           0.558913685947452,
           0.9023110498772926,
           0.9000955825805467,
           0.9132434574363527,
           0.896549853652219,
           1,
           0.7908823733155573,
           0.904564215606453,
           0.7880755989051269,
           0.6714861830531764,
           0.6491586398735827,
           0.6003372639934106,
           0.6503826686263151,
           0.8780383091757533,
           0.836499144441737,
           0.8991167879039534,
           0.8057142971578932,
           0.7877873740324298,
           0.8883221113940136,
           0.8853593008382313,
           0.07215169948741401,
           0.6495485258314059,
           0.2680454505030411,
           0.786750080088702,
           0.07831750951858968,
           0.15677421460989385,
           0.12404301503290692
          ],
          [
           0.30688131401122287,
           0.5434316803659046,
           0.14521034537238392,
           0.138934618480657,
           0.3170340128379205,
           0.059923280561460644,
           0.28110837413419293,
           0.6803270836521472,
           0.6252298913120412,
           0.4677400577025446,
           0.39535364096550174,
           0.24195740297746884,
           0.40151447110942096,
           0.659216682398456,
           0.6724554598515105,
           0.7406464936315231,
           0.6958870706700264,
           0.7908823733155573,
           1,
           0.6984166894133973,
           0.5451015342821214,
           0.4803415264667783,
           0.49048859239145787,
           0.39976242978411075,
           0.42719202500997905,
           0.6461634712978207,
           0.5891149775139565,
           0.6776792431444486,
           0.5959958703538378,
           0.5612779793655243,
           0.6753341567172474,
           0.7309046678079651,
           -0.012203632669751377,
           0.5355568691081596,
           0.1998985966587057,
           0.8033320590268489,
           -0.04745000606078326,
           0.029309648977203062,
           -0.008496340181330081
          ],
          [
           0.7203084803174025,
           0.7532237058259635,
           0.4298801814180801,
           0.453361447181941,
           0.5968103133177513,
           0.13363171337734345,
           0.7148586242570845,
           0.916849331357731,
           0.9058658155064836,
           0.8484962756413723,
           0.7752806520837746,
           0.13668654612977535,
           0.6299929659214109,
           0.9369735458991159,
           0.9469820637966324,
           0.9237050777923321,
           0.9758198701604817,
           0.904564215606453,
           0.6984166894133973,
           1,
           0.8457537863863566,
           0.7455931230233616,
           0.7130387090747985,
           0.6869793161072428,
           0.7341033271964169,
           0.954040928981576,
           0.9185643777423759,
           0.970528939000586,
           0.8659700530850766,
           0.846042102390602,
           0.9561813242942487,
           0.9274459461911536,
           0.12736664217214042,
           0.7938006120788103,
           0.4381864131116934,
           0.7984944952923965,
           0.2498839513480234,
           0.3494565264644767,
           0.3149299385428718
          ],
          [
           0.7766225953034253,
           0.8803916746068967,
           0.4196458306567905,
           0.4233734790900489,
           0.5171174827501536,
           0.12414977288561942,
           0.7499800590703211,
           0.7697950715100041,
           0.8380861682489049,
           0.7667847901711631,
           0.7479079760417244,
           -0.03590260866223727,
           0.40293663927850903,
           0.8112912287692757,
           0.8158705366675522,
           0.8363836170975083,
           0.828542161327944,
           0.7880755989051269,
           0.5451015342821214,
           0.8457537863863566,
           1,
           0.6079424172628538,
           0.5837298623759919,
           0.5805982085574699,
           0.6227914283706341,
           0.8251640598984059,
           0.801865522327447,
           0.8444292821297928,
           0.7144576639310383,
           0.7007705511705715,
           0.827329036087069,
           0.785862308820908,
           0.15108640660962155,
           0.6985753460350049,
           0.501009733179534,
           0.5999381933496636,
           0.28831366489158483,
           0.34567280312272874,
           0.3325122571180234
          ],
          [
           0.4572383796119175,
           0.5755369253607695,
           0.2174215085383965,
           0.20614426364259444,
           0.5718118777635619,
           0.030519284245671654,
           0.47506403494679483,
           0.7292984668226236,
           0.7441395756755427,
           0.6463188334770079,
           0.5777565908814258,
           0.150402070262135,
           0.3599230380930849,
           0.7939962176358547,
           0.8019123316132286,
           0.6644156625706129,
           0.694194359334991,
           0.6714861830531764,
           0.4803415264667783,
           0.7455931230233616,
           0.6079424172628538,
           1,
           0.9724678081913934,
           0.9421914464216741,
           0.8075071841072862,
           0.8301670977449604,
           0.8252590645249026,
           0.7884727412442156,
           0.7625992597769463,
           0.7335310038570104,
           0.8143865605808362,
           0.7986806944915127,
           0.05765234349243803,
           0.7334762899839145,
           0.25042872617133916,
           0.576003715070297,
           0.23284189199913147,
           0.32855861959062416,
           0.29502574740647997
          ],
          [
           0.4423423452376122,
           0.5574853806762912,
           0.21258872877980428,
           0.19651151406949882,
           0.5698158927068857,
           0.036341302660901915,
           0.4581708033592625,
           0.6994615946001909,
           0.7202515064469418,
           0.6199367267703854,
           0.5607670441594887,
           0.14340504679946964,
           0.3373237636135277,
           0.7597744684406872,
           0.7666575562751942,
           0.6321983572486853,
           0.659271702418457,
           0.6491586398735827,
           0.49048859239145787,
           0.7130387090747985,
           0.5837298623759919,
           0.9724678081913934,
           1,
           0.9159137652965067,
           0.8038075496302333,
           0.7943569089277429,
           0.7895376959067789,
           0.7566371841220585,
           0.7430628305152418,
           0.7178926814470442,
           0.7857710110739322,
           0.7757575926422862,
           0.0678191639851634,
           0.7169938181355437,
           0.23293232882334478,
           0.5662870596340546,
           0.20115228270736404,
           0.2916496069679961,
           0.2590600606232565
          ],
          [
           0.4371936814181867,
           0.5246263844432494,
           0.19455022081965562,
           0.18170592533604055,
           0.6072787840549694,
           0.021582698278919298,
           0.4531487801407224,
           0.663662773299828,
           0.6677498216187143,
           0.6093121549816646,
           0.536206362063558,
           0.13442063361963977,
           0.3448743521365826,
           0.728209435350676,
           0.7361239814047732,
           0.5957347401874024,
           0.6402167601829519,
           0.6003372639934106,
           0.39976242978411075,
           0.6869793161072428,
           0.5805982085574699,
           0.9421914464216741,
           0.9159137652965067,
           1,
           0.6953407568635637,
           0.7677879122125117,
           0.7798518027594129,
           0.721065527530066,
           0.6933583297590541,
           0.678981113879361,
           0.7472911552811776,
           0.7184040778659813,
           0.07330096549273837,
           0.7060527461180889,
           0.22770147683243022,
           0.5062936344290747,
           0.23386179623028605,
           0.34333830146683875,
           0.3034723761973235
          ],
          [
           0.5334787830040095,
           0.5943434536545712,
           0.3216037347368305,
           0.31578326312482397,
           0.44097948031348866,
           0.06302893108124698,
           0.5629243577297373,
           0.7002509237820799,
           0.7404748508009025,
           0.6754957565015269,
           0.6248842709697587,
           0.039904375442642026,
           0.36926586751123647,
           0.7030355423550552,
           0.7118885093731712,
           0.6476503359864657,
           0.6867270508553389,
           0.6503826686263151,
           0.42719202500997905,
           0.7341033271964169,
           0.6227914283706341,
           0.8075071841072862,
           0.8038075496302333,
           0.6953407568635637,
           1,
           0.74652986642161,
           0.7218829543339935,
           0.7607829140278647,
           0.7086193602742856,
           0.6823986483695453,
           0.740570565655899,
           0.7239176947161221,
           0.06362856408157554,
           0.6644545206020112,
           0.33551608619940554,
           0.4982211727848869,
           0.2792987704895321,
           0.40638871940108295,
           0.36047292300823924
          ],
          [
           0.7191842991930603,
           0.7468324023484867,
           0.42207013022616735,
           0.43716505057454774,
           0.6387400580826524,
           0.11013118392790996,
           0.7138914288405587,
           0.9229128636289422,
           0.9225651540444,
           0.847084105046398,
           0.7759340446918648,
           0.10356318310027574,
           0.5486201293839257,
           0.9797998407908972,
           0.9911692527116571,
           0.8745612323295294,
           0.9232291819848153,
           0.8780383091757533,
           0.6461634712978207,
           0.954040928981576,
           0.8251640598984059,
           0.8301670977449604,
           0.7943569089277429,
           0.7677879122125117,
           0.74652986642161,
           1,
           0.9874290265685878,
           0.9810353109207335,
           0.8533111480512515,
           0.8200382477080654,
           0.9901530612880564,
           0.93506188991422,
           0.12596478062208058,
           0.8304012468953278,
           0.45052674862169895,
           0.757579985859911,
           0.34980972579072234,
           0.43746102127002534,
           0.41311979618211647
          ],
          [
           0.711094232502449,
           0.7221519402857728,
           0.433832694099648,
           0.44814382768762057,
           0.6408003090070281,
           0.10244145552753016,
           0.7079907361127181,
           0.9083998451769091,
           0.8756844395588235,
           0.8195325852876187,
           0.7450625290037884,
           0.08669776054189712,
           0.5123419959293812,
           0.969185839578324,
           0.9797204380843582,
           0.8309070318607573,
           0.8939759277848114,
           0.836499144441737,
           0.5891149775139565,
           0.9185643777423759,
           0.801865522327447,
           0.8252590645249026,
           0.7895376959067789,
           0.7798518027594129,
           0.7218829543339935,
           0.9874290265685878,
           1,
           0.9425233984660414,
           0.8113518093395939,
           0.7828340050360324,
           0.9685454144824996,
           0.8942831264979495,
           0.11630609493170052,
           0.8096634243441202,
           0.4393921175657889,
           0.7085825049090542,
           0.3854378298639731,
           0.4648339959076835,
           0.4459813258351197
          ],
          [
           0.7329964413948518,
           0.7647431979502772,
           0.4115683478466506,
           0.4286126183039078,
           0.6146637002762482,
           0.11416421737046048,
           0.7304343889223323,
           0.9101252839832782,
           0.9567429006524572,
           0.8727665076889903,
           0.8114857095941695,
           0.09543417394512163,
           0.5667066432394997,
           0.9574407247840158,
           0.9685652270289277,
           0.9008885582745167,
           0.9324762294081557,
           0.8991167879039534,
           0.6776792431444486,
           0.970528939000586,
           0.8444292821297928,
           0.7884727412442156,
           0.7566371841220585,
           0.721065527530066,
           0.7607829140278647,
           0.9810353109207335,
           0.9425233984660414,
           1,
           0.8812144886136646,
           0.8471376180964588,
           0.9844301835502342,
           0.9507465678721787,
           0.12996565070865881,
           0.8347906354390263,
           0.4625552087898587,
           0.7733443656488299,
           0.3177729955774934,
           0.41460080227788393,
           0.38451115106868056
          ],
          [
           0.5688006879079749,
           0.6281015235314269,
           0.29285706492170016,
           0.2960265255623247,
           0.6044687441291191,
           0.04272039235095979,
           0.5844686620223158,
           0.7693614160489699,
           0.8431787230159025,
           0.750406751985513,
           0.6903758377693743,
           0.15077828325192083,
           0.5138371571277758,
           0.8234978865131346,
           0.8213925483206835,
           0.7900231815866647,
           0.8030486351837044,
           0.8057142971578932,
           0.5959958703538378,
           0.8659700530850766,
           0.7144576639310383,
           0.7625992597769463,
           0.7430628305152418,
           0.6933583297590541,
           0.7086193602742856,
           0.8533111480512515,
           0.8113518093395939,
           0.8812144886136646,
           1,
           0.9816944602996251,
           0.8864719956010078,
           0.9275235980959918,
           0.10549008829406717,
           0.7973725073364939,
           0.29881735586821134,
           0.6492645570440452,
           0.18352213283043722,
           0.29154102831628065,
           0.2500048001001595
          ],
          [
           0.5330378941074359,
           0.615256449704926,
           0.2657427425797861,
           0.2714301639938983,
           0.5957523459213059,
           0.027362467532891097,
           0.5566896241026098,
           0.7557752036694482,
           0.8070945038986332,
           0.7149014619331548,
           0.6523092334850772,
           0.15973075427924174,
           0.5110154389881854,
           0.8004773305507772,
           0.7925357637914301,
           0.7791201083356833,
           0.7848311050871074,
           0.7877873740324298,
           0.5612779793655243,
           0.846042102390602,
           0.7007705511705715,
           0.7335310038570104,
           0.7178926814470442,
           0.678981113879361,
           0.6823986483695453,
           0.8200382477080654,
           0.7828340050360324,
           0.8471376180964588,
           0.9816944602996251,
           1,
           0.8542141584819712,
           0.9033100302309212,
           0.08966548036922957,
           0.7557499034955915,
           0.2728403755676437,
           0.6167528149299344,
           0.15374932428193638,
           0.2489977962248737,
           0.21199573812876868
          ],
          [
           0.698554520553154,
           0.7448264372957568,
           0.3884771173542778,
           0.3982177503858175,
           0.630872318288955,
           0.09085105936951632,
           0.6904304682073314,
           0.917944543833196,
           0.9361581542862514,
           0.8377905818003448,
           0.7720442167697912,
           0.11921025271369676,
           0.5392227956012519,
           0.9780543455141988,
           0.9824210966784497,
           0.8819606987248692,
           0.9179614575769952,
           0.8883221113940136,
           0.6753341567172474,
           0.9561813242942487,
           0.827329036087069,
           0.8143865605808362,
           0.7857710110739322,
           0.7472911552811776,
           0.740570565655899,
           0.9901530612880564,
           0.9685454144824996,
           0.9844301835502342,
           0.8864719956010078,
           0.8542141584819712,
           1,
           0.9661920786439891,
           0.12193974683169453,
           0.8432692526676743,
           0.42720069007755324,
           0.7629903319670871,
           0.29788023324577506,
           0.3926711701004276,
           0.36259888624846703
          ],
          [
           0.584709045591724,
           0.7117906652170766,
           0.30779810183037226,
           0.3013970388119282,
           0.5869249810645638,
           0.05135680331124407,
           0.5856072778390914,
           0.8754059629257828,
           0.9016814806200677,
           0.7638005214078816,
           0.6962494515405387,
           0.17552693670163674,
           0.5294805058126467,
           0.9358415042593397,
           0.9319198951342724,
           0.8800441376833316,
           0.8837894085222391,
           0.8853593008382313,
           0.7309046678079651,
           0.9274459461911536,
           0.785862308820908,
           0.7986806944915127,
           0.7757575926422862,
           0.7184040778659813,
           0.7239176947161221,
           0.93506188991422,
           0.8942831264979495,
           0.9507465678721787,
           0.9275235980959918,
           0.9033100302309212,
           0.9661920786439891,
           1,
           0.08435549194773043,
           0.8174369063197359,
           0.3274591290500471,
           0.7885906117147948,
           0.1671078047158033,
           0.2616144415194409,
           0.2255789900228106
          ],
          [
           0.26507628409500505,
           0.0943691366598406,
           0.1610846027809718,
           0.25872814931333593,
           0.3070859047286207,
           0.40468368370982555,
           0.3001657363801225,
           0.0633029283173576,
           0.162770304529119,
           0.22762018891367347,
           0.23713979668281984,
           0.004659527772658345,
           0.20125769580812777,
           0.1101076763968742,
           0.11074886291443753,
           0.06464653336449444,
           0.12564195761620248,
           0.07215169948741401,
           -0.012203632669751377,
           0.12736664217214042,
           0.15108640660962155,
           0.05765234349243803,
           0.0678191639851634,
           0.07330096549273837,
           0.06362856408157554,
           0.12596478062208058,
           0.11630609493170052,
           0.12996565070865881,
           0.10549008829406717,
           0.08966548036922957,
           0.12193974683169453,
           0.08435549194773043,
           1,
           0.15279057025795095,
           0.267752087058574,
           0.038266993183428744,
           0.06634357217839171,
           0.0785828442844361,
           0.07599945496594317
          ],
          [
           0.6511747214153302,
           0.6032274612744596,
           0.3215544691493104,
           0.3404362150786546,
           0.677904834772187,
           0.0758558582586355,
           0.6937884839282518,
           0.6668995107283295,
           0.8344365963167064,
           0.8165877003865025,
           0.7515250541472273,
           -0.016643887879543455,
           0.40552480363158006,
           0.7588948059538311,
           0.7823571577549626,
           0.682080272888164,
           0.7218226005360721,
           0.6495485258314059,
           0.5355568691081596,
           0.7938006120788103,
           0.6985753460350049,
           0.7334762899839145,
           0.7169938181355437,
           0.7060527461180889,
           0.6644545206020112,
           0.8304012468953278,
           0.8096634243441202,
           0.8347906354390263,
           0.7973725073364939,
           0.7557499034955915,
           0.8432692526676743,
           0.8174369063197359,
           0.15279057025795095,
           1,
           0.5007104396539578,
           0.5989350650872728,
           0.4318398422549471,
           0.5194674331512993,
           0.4989604347272731
          ],
          [
           0.6020299330812856,
           0.45569588589709076,
           0.30803489809172524,
           0.3565202440188096,
           0.4330922136796078,
           0.2683219164068717,
           0.6890485615889798,
           0.2938759829638081,
           0.5655951826355317,
           0.6253989348593818,
           0.6527942722730502,
           -0.2711764440657213,
           0.1046385439511181,
           0.36318980151201324,
           0.4008381378817252,
           0.3460595751213714,
           0.40477991110419453,
           0.2680454505030411,
           0.1998985966587057,
           0.4381864131116934,
           0.501009733179534,
           0.25042872617133916,
           0.23293232882334478,
           0.22770147683243022,
           0.33551608619940554,
           0.45052674862169895,
           0.4393921175657889,
           0.4625552087898587,
           0.29881735586821134,
           0.2728403755676437,
           0.42720069007755324,
           0.3274591290500471,
           0.267752087058574,
           0.5007104396539578,
           1,
           0.23453610004237446,
           0.5211668855735017,
           0.5571436964205482,
           0.5647511662573917
          ],
          [
           0.3978017749735697,
           0.5709756690707823,
           0.26267997013547323,
           0.25322360686255513,
           0.3799317420189454,
           0.036023828361777685,
           0.3537114260765282,
           0.774533286510268,
           0.6720247159627267,
           0.5442245195913138,
           0.47425798405178055,
           0.32332290387981905,
           0.6555814018338862,
           0.7646573021851777,
           0.7923573243989982,
           0.8273914624187401,
           0.8213935733600536,
           0.786750080088702,
           0.8033320590268489,
           0.7984944952923965,
           0.5999381933496636,
           0.576003715070297,
           0.5662870596340546,
           0.5062936344290747,
           0.4982211727848869,
           0.757579985859911,
           0.7085825049090542,
           0.7733443656488299,
           0.6492645570440452,
           0.6167528149299344,
           0.7629903319670871,
           0.7885906117147948,
           0.038266993183428744,
           0.5989350650872728,
           0.23453610004237446,
           1,
           -0.02253892860933205,
           0.05714782065073543,
           0.019145547567370375
          ],
          [
           0.4957964649604277,
           0.26258584286943265,
           0.1568290509995705,
           0.2519574399199378,
           0.31425753621139446,
           0.11002349951765607,
           0.5539669206686684,
           0.15461769512005674,
           0.375594500666979,
           0.5215413184682048,
           0.5261544155722644,
           -0.40928221869910075,
           -0.04298029600001703,
           0.22766757269227936,
           0.28240139525517766,
           0.11611709118107388,
           0.20015824090963838,
           0.07831750951858968,
           -0.04745000606078326,
           0.2498839513480234,
           0.28831366489158483,
           0.23284189199913147,
           0.20115228270736404,
           0.23386179623028605,
           0.2792987704895321,
           0.34980972579072234,
           0.3854378298639731,
           0.3177729955774934,
           0.18352213283043722,
           0.15374932428193638,
           0.29788023324577506,
           0.1671078047158033,
           0.06634357217839171,
           0.4318398422549471,
           0.5211668855735017,
           -0.02253892860933205,
           1,
           0.8257303461555473,
           0.9531491526560091
          ],
          [
           0.5305669648876314,
           0.2859394328278463,
           0.26142079322008743,
           0.3198896167478261,
           0.40983051530445763,
           0.12109660645838759,
           0.5964308115829277,
           0.24176028604482716,
           0.47368367651097976,
           0.6123090291099532,
           0.562337620969327,
           -0.3345658033074272,
           0.06195697805562504,
           0.30792041609932713,
           0.3573678937589211,
           0.1930924992568628,
           0.2891093858931928,
           0.15677421460989385,
           0.029309648977203062,
           0.3494565264644767,
           0.34567280312272874,
           0.32855861959062416,
           0.2916496069679961,
           0.34333830146683875,
           0.40638871940108295,
           0.43746102127002534,
           0.4648339959076835,
           0.41460080227788393,
           0.29154102831628065,
           0.2489977962248737,
           0.3926711701004276,
           0.2616144415194409,
           0.0785828442844361,
           0.5194674331512993,
           0.5571436964205482,
           0.05714782065073543,
           0.8257303461555473,
           1,
           0.9576742741866452
          ],
          [
           0.5375513600491941,
           0.28734858890743903,
           0.22022967771906954,
           0.3001317349635283,
           0.38015889657998136,
           0.12108980381907697,
           0.602558871719278,
           0.20855750352663066,
           0.4457040389644945,
           0.5945266951036655,
           0.5700818402300492,
           -0.3900351495527645,
           0.011292982097005681,
           0.2813171857375221,
           0.33576702775459366,
           0.16280994776075886,
           0.25719049306242536,
           0.12404301503290692,
           -0.008496340181330081,
           0.3149299385428718,
           0.3325122571180234,
           0.29502574740647997,
           0.2590600606232565,
           0.3034723761973235,
           0.36047292300823924,
           0.41311979618211647,
           0.4459813258351197,
           0.38451115106868056,
           0.2500048001001595,
           0.21199573812876868,
           0.36259888624846703,
           0.2255789900228106,
           0.07599945496594317,
           0.4989604347272731,
           0.5647511662573917,
           0.019145547567370375,
           0.9531491526560091,
           0.9576742741866452,
           1
          ]
         ]
        }
       ],
       "layout": {
        "coloraxis": {
         "colorscale": [
          [
           0,
           "#0d0887"
          ],
          [
           0.1111111111111111,
           "#46039f"
          ],
          [
           0.2222222222222222,
           "#7201a8"
          ],
          [
           0.3333333333333333,
           "#9c179e"
          ],
          [
           0.4444444444444444,
           "#bd3786"
          ],
          [
           0.5555555555555556,
           "#d8576b"
          ],
          [
           0.6666666666666666,
           "#ed7953"
          ],
          [
           0.7777777777777778,
           "#fb9f3a"
          ],
          [
           0.8888888888888888,
           "#fdca26"
          ],
          [
           1,
           "#f0f921"
          ]
         ]
        },
        "template": {
         "data": {
          "bar": [
           {
            "error_x": {
             "color": "#2a3f5f"
            },
            "error_y": {
             "color": "#2a3f5f"
            },
            "marker": {
             "line": {
              "color": "#E5ECF6",
              "width": 0.5
             },
             "pattern": {
              "fillmode": "overlay",
              "size": 10,
              "solidity": 0.2
             }
            },
            "type": "bar"
           }
          ],
          "barpolar": [
           {
            "marker": {
             "line": {
              "color": "#E5ECF6",
              "width": 0.5
             },
             "pattern": {
              "fillmode": "overlay",
              "size": 10,
              "solidity": 0.2
             }
            },
            "type": "barpolar"
           }
          ],
          "carpet": [
           {
            "aaxis": {
             "endlinecolor": "#2a3f5f",
             "gridcolor": "white",
             "linecolor": "white",
             "minorgridcolor": "white",
             "startlinecolor": "#2a3f5f"
            },
            "baxis": {
             "endlinecolor": "#2a3f5f",
             "gridcolor": "white",
             "linecolor": "white",
             "minorgridcolor": "white",
             "startlinecolor": "#2a3f5f"
            },
            "type": "carpet"
           }
          ],
          "choropleth": [
           {
            "colorbar": {
             "outlinewidth": 0,
             "ticks": ""
            },
            "type": "choropleth"
           }
          ],
          "contour": [
           {
            "colorbar": {
             "outlinewidth": 0,
             "ticks": ""
            },
            "colorscale": [
             [
              0,
              "#0d0887"
             ],
             [
              0.1111111111111111,
              "#46039f"
             ],
             [
              0.2222222222222222,
              "#7201a8"
             ],
             [
              0.3333333333333333,
              "#9c179e"
             ],
             [
              0.4444444444444444,
              "#bd3786"
             ],
             [
              0.5555555555555556,
              "#d8576b"
             ],
             [
              0.6666666666666666,
              "#ed7953"
             ],
             [
              0.7777777777777778,
              "#fb9f3a"
             ],
             [
              0.8888888888888888,
              "#fdca26"
             ],
             [
              1,
              "#f0f921"
             ]
            ],
            "type": "contour"
           }
          ],
          "contourcarpet": [
           {
            "colorbar": {
             "outlinewidth": 0,
             "ticks": ""
            },
            "type": "contourcarpet"
           }
          ],
          "heatmap": [
           {
            "colorbar": {
             "outlinewidth": 0,
             "ticks": ""
            },
            "colorscale": [
             [
              0,
              "#0d0887"
             ],
             [
              0.1111111111111111,
              "#46039f"
             ],
             [
              0.2222222222222222,
              "#7201a8"
             ],
             [
              0.3333333333333333,
              "#9c179e"
             ],
             [
              0.4444444444444444,
              "#bd3786"
             ],
             [
              0.5555555555555556,
              "#d8576b"
             ],
             [
              0.6666666666666666,
              "#ed7953"
             ],
             [
              0.7777777777777778,
              "#fb9f3a"
             ],
             [
              0.8888888888888888,
              "#fdca26"
             ],
             [
              1,
              "#f0f921"
             ]
            ],
            "type": "heatmap"
           }
          ],
          "heatmapgl": [
           {
            "colorbar": {
             "outlinewidth": 0,
             "ticks": ""
            },
            "colorscale": [
             [
              0,
              "#0d0887"
             ],
             [
              0.1111111111111111,
              "#46039f"
             ],
             [
              0.2222222222222222,
              "#7201a8"
             ],
             [
              0.3333333333333333,
              "#9c179e"
             ],
             [
              0.4444444444444444,
              "#bd3786"
             ],
             [
              0.5555555555555556,
              "#d8576b"
             ],
             [
              0.6666666666666666,
              "#ed7953"
             ],
             [
              0.7777777777777778,
              "#fb9f3a"
             ],
             [
              0.8888888888888888,
              "#fdca26"
             ],
             [
              1,
              "#f0f921"
             ]
            ],
            "type": "heatmapgl"
           }
          ],
          "histogram": [
           {
            "marker": {
             "pattern": {
              "fillmode": "overlay",
              "size": 10,
              "solidity": 0.2
             }
            },
            "type": "histogram"
           }
          ],
          "histogram2d": [
           {
            "colorbar": {
             "outlinewidth": 0,
             "ticks": ""
            },
            "colorscale": [
             [
              0,
              "#0d0887"
             ],
             [
              0.1111111111111111,
              "#46039f"
             ],
             [
              0.2222222222222222,
              "#7201a8"
             ],
             [
              0.3333333333333333,
              "#9c179e"
             ],
             [
              0.4444444444444444,
              "#bd3786"
             ],
             [
              0.5555555555555556,
              "#d8576b"
             ],
             [
              0.6666666666666666,
              "#ed7953"
             ],
             [
              0.7777777777777778,
              "#fb9f3a"
             ],
             [
              0.8888888888888888,
              "#fdca26"
             ],
             [
              1,
              "#f0f921"
             ]
            ],
            "type": "histogram2d"
           }
          ],
          "histogram2dcontour": [
           {
            "colorbar": {
             "outlinewidth": 0,
             "ticks": ""
            },
            "colorscale": [
             [
              0,
              "#0d0887"
             ],
             [
              0.1111111111111111,
              "#46039f"
             ],
             [
              0.2222222222222222,
              "#7201a8"
             ],
             [
              0.3333333333333333,
              "#9c179e"
             ],
             [
              0.4444444444444444,
              "#bd3786"
             ],
             [
              0.5555555555555556,
              "#d8576b"
             ],
             [
              0.6666666666666666,
              "#ed7953"
             ],
             [
              0.7777777777777778,
              "#fb9f3a"
             ],
             [
              0.8888888888888888,
              "#fdca26"
             ],
             [
              1,
              "#f0f921"
             ]
            ],
            "type": "histogram2dcontour"
           }
          ],
          "mesh3d": [
           {
            "colorbar": {
             "outlinewidth": 0,
             "ticks": ""
            },
            "type": "mesh3d"
           }
          ],
          "parcoords": [
           {
            "line": {
             "colorbar": {
              "outlinewidth": 0,
              "ticks": ""
             }
            },
            "type": "parcoords"
           }
          ],
          "pie": [
           {
            "automargin": true,
            "type": "pie"
           }
          ],
          "scatter": [
           {
            "fillpattern": {
             "fillmode": "overlay",
             "size": 10,
             "solidity": 0.2
            },
            "type": "scatter"
           }
          ],
          "scatter3d": [
           {
            "line": {
             "colorbar": {
              "outlinewidth": 0,
              "ticks": ""
             }
            },
            "marker": {
             "colorbar": {
              "outlinewidth": 0,
              "ticks": ""
             }
            },
            "type": "scatter3d"
           }
          ],
          "scattercarpet": [
           {
            "marker": {
             "colorbar": {
              "outlinewidth": 0,
              "ticks": ""
             }
            },
            "type": "scattercarpet"
           }
          ],
          "scattergeo": [
           {
            "marker": {
             "colorbar": {
              "outlinewidth": 0,
              "ticks": ""
             }
            },
            "type": "scattergeo"
           }
          ],
          "scattergl": [
           {
            "marker": {
             "colorbar": {
              "outlinewidth": 0,
              "ticks": ""
             }
            },
            "type": "scattergl"
           }
          ],
          "scattermapbox": [
           {
            "marker": {
             "colorbar": {
              "outlinewidth": 0,
              "ticks": ""
             }
            },
            "type": "scattermapbox"
           }
          ],
          "scatterpolar": [
           {
            "marker": {
             "colorbar": {
              "outlinewidth": 0,
              "ticks": ""
             }
            },
            "type": "scatterpolar"
           }
          ],
          "scatterpolargl": [
           {
            "marker": {
             "colorbar": {
              "outlinewidth": 0,
              "ticks": ""
             }
            },
            "type": "scatterpolargl"
           }
          ],
          "scatterternary": [
           {
            "marker": {
             "colorbar": {
              "outlinewidth": 0,
              "ticks": ""
             }
            },
            "type": "scatterternary"
           }
          ],
          "surface": [
           {
            "colorbar": {
             "outlinewidth": 0,
             "ticks": ""
            },
            "colorscale": [
             [
              0,
              "#0d0887"
             ],
             [
              0.1111111111111111,
              "#46039f"
             ],
             [
              0.2222222222222222,
              "#7201a8"
             ],
             [
              0.3333333333333333,
              "#9c179e"
             ],
             [
              0.4444444444444444,
              "#bd3786"
             ],
             [
              0.5555555555555556,
              "#d8576b"
             ],
             [
              0.6666666666666666,
              "#ed7953"
             ],
             [
              0.7777777777777778,
              "#fb9f3a"
             ],
             [
              0.8888888888888888,
              "#fdca26"
             ],
             [
              1,
              "#f0f921"
             ]
            ],
            "type": "surface"
           }
          ],
          "table": [
           {
            "cells": {
             "fill": {
              "color": "#EBF0F8"
             },
             "line": {
              "color": "white"
             }
            },
            "header": {
             "fill": {
              "color": "#C8D4E3"
             },
             "line": {
              "color": "white"
             }
            },
            "type": "table"
           }
          ]
         },
         "layout": {
          "annotationdefaults": {
           "arrowcolor": "#2a3f5f",
           "arrowhead": 0,
           "arrowwidth": 1
          },
          "autotypenumbers": "strict",
          "coloraxis": {
           "colorbar": {
            "outlinewidth": 0,
            "ticks": ""
           }
          },
          "colorscale": {
           "diverging": [
            [
             0,
             "#8e0152"
            ],
            [
             0.1,
             "#c51b7d"
            ],
            [
             0.2,
             "#de77ae"
            ],
            [
             0.3,
             "#f1b6da"
            ],
            [
             0.4,
             "#fde0ef"
            ],
            [
             0.5,
             "#f7f7f7"
            ],
            [
             0.6,
             "#e6f5d0"
            ],
            [
             0.7,
             "#b8e186"
            ],
            [
             0.8,
             "#7fbc41"
            ],
            [
             0.9,
             "#4d9221"
            ],
            [
             1,
             "#276419"
            ]
           ],
           "sequential": [
            [
             0,
             "#0d0887"
            ],
            [
             0.1111111111111111,
             "#46039f"
            ],
            [
             0.2222222222222222,
             "#7201a8"
            ],
            [
             0.3333333333333333,
             "#9c179e"
            ],
            [
             0.4444444444444444,
             "#bd3786"
            ],
            [
             0.5555555555555556,
             "#d8576b"
            ],
            [
             0.6666666666666666,
             "#ed7953"
            ],
            [
             0.7777777777777778,
             "#fb9f3a"
            ],
            [
             0.8888888888888888,
             "#fdca26"
            ],
            [
             1,
             "#f0f921"
            ]
           ],
           "sequentialminus": [
            [
             0,
             "#0d0887"
            ],
            [
             0.1111111111111111,
             "#46039f"
            ],
            [
             0.2222222222222222,
             "#7201a8"
            ],
            [
             0.3333333333333333,
             "#9c179e"
            ],
            [
             0.4444444444444444,
             "#bd3786"
            ],
            [
             0.5555555555555556,
             "#d8576b"
            ],
            [
             0.6666666666666666,
             "#ed7953"
            ],
            [
             0.7777777777777778,
             "#fb9f3a"
            ],
            [
             0.8888888888888888,
             "#fdca26"
            ],
            [
             1,
             "#f0f921"
            ]
           ]
          },
          "colorway": [
           "#636efa",
           "#EF553B",
           "#00cc96",
           "#ab63fa",
           "#FFA15A",
           "#19d3f3",
           "#FF6692",
           "#B6E880",
           "#FF97FF",
           "#FECB52"
          ],
          "font": {
           "color": "#2a3f5f"
          },
          "geo": {
           "bgcolor": "white",
           "lakecolor": "white",
           "landcolor": "#E5ECF6",
           "showlakes": true,
           "showland": true,
           "subunitcolor": "white"
          },
          "hoverlabel": {
           "align": "left"
          },
          "hovermode": "closest",
          "mapbox": {
           "style": "light"
          },
          "paper_bgcolor": "white",
          "plot_bgcolor": "#E5ECF6",
          "polar": {
           "angularaxis": {
            "gridcolor": "white",
            "linecolor": "white",
            "ticks": ""
           },
           "bgcolor": "#E5ECF6",
           "radialaxis": {
            "gridcolor": "white",
            "linecolor": "white",
            "ticks": ""
           }
          },
          "scene": {
           "xaxis": {
            "backgroundcolor": "#E5ECF6",
            "gridcolor": "white",
            "gridwidth": 2,
            "linecolor": "white",
            "showbackground": true,
            "ticks": "",
            "zerolinecolor": "white"
           },
           "yaxis": {
            "backgroundcolor": "#E5ECF6",
            "gridcolor": "white",
            "gridwidth": 2,
            "linecolor": "white",
            "showbackground": true,
            "ticks": "",
            "zerolinecolor": "white"
           },
           "zaxis": {
            "backgroundcolor": "#E5ECF6",
            "gridcolor": "white",
            "gridwidth": 2,
            "linecolor": "white",
            "showbackground": true,
            "ticks": "",
            "zerolinecolor": "white"
           }
          },
          "shapedefaults": {
           "line": {
            "color": "#2a3f5f"
           }
          },
          "ternary": {
           "aaxis": {
            "gridcolor": "white",
            "linecolor": "white",
            "ticks": ""
           },
           "baxis": {
            "gridcolor": "white",
            "linecolor": "white",
            "ticks": ""
           },
           "bgcolor": "#E5ECF6",
           "caxis": {
            "gridcolor": "white",
            "linecolor": "white",
            "ticks": ""
           }
          },
          "title": {
           "x": 0.05
          },
          "xaxis": {
           "automargin": true,
           "gridcolor": "white",
           "linecolor": "white",
           "ticks": "",
           "title": {
            "standoff": 15
           },
           "zerolinecolor": "white",
           "zerolinewidth": 2
          },
          "yaxis": {
           "automargin": true,
           "gridcolor": "white",
           "linecolor": "white",
           "ticks": "",
           "title": {
            "standoff": 15
           },
           "zerolinecolor": "white",
           "zerolinewidth": 2
          }
         }
        },
        "title": {
         "text": "Matrice di Correlazione - Anno 2023"
        },
        "xaxis": {
         "anchor": "y",
         "constrain": "domain",
         "domain": [
          0,
          1
         ],
         "scaleanchor": "y"
        },
        "yaxis": {
         "anchor": "x",
         "autorange": "reversed",
         "constrain": "domain",
         "domain": [
          0,
          1
         ]
        }
       }
      }
     },
     "metadata": {},
     "output_type": "display_data"
    },
    {
     "data": {
      "application/vnd.plotly.v1+json": {
       "config": {
        "plotlyServerURL": "https://plot.ly"
       },
       "data": [
        {
         "coloraxis": "coloraxis",
         "hovertemplate": "x: %{x}<br>y: %{y}<br>color: %{z}<extra></extra>",
         "name": "0",
         "type": "heatmap",
         "x": [
          "Gls",
          "Ast",
          "PK",
          "PKatt",
          "CrdY",
          "CrdR",
          "xG",
          "PrgP",
          "PrgR",
          "Sh",
          "SoT",
          "Dist",
          "FK",
          "Cmp",
          "Att",
          "xA",
          "KP",
          "PPA",
          "CrsPA",
          "SCA",
          "GCA",
          "Tkl",
          "TklW",
          "Mid 3rd",
          "Att 3rd",
          "Touches",
          "Mid 3rd.1",
          "Att 3rd.1",
          "Att.1",
          "Succ",
          "Carries",
          "TotDist",
          "2CrdY",
          "Fld",
          "Off",
          "Crs",
          "Won",
          "Lost",
          "Duels"
         ],
         "xaxis": "x",
         "y": [
          "Gls",
          "Ast",
          "PK",
          "PKatt",
          "CrdY",
          "CrdR",
          "xG",
          "PrgP",
          "PrgR",
          "Sh",
          "SoT",
          "Dist",
          "FK",
          "Cmp",
          "Att",
          "xA",
          "KP",
          "PPA",
          "CrsPA",
          "SCA",
          "GCA",
          "Tkl",
          "TklW",
          "Mid 3rd",
          "Att 3rd",
          "Touches",
          "Mid 3rd.1",
          "Att 3rd.1",
          "Att.1",
          "Succ",
          "Carries",
          "TotDist",
          "2CrdY",
          "Fld",
          "Off",
          "Crs",
          "Won",
          "Lost",
          "Duels"
         ],
         "yaxis": "y",
         "z": [
          [
           1,
           0.6082915727428799,
           0.6312645153023138,
           0.6456181213122918,
           0.4906088472940096,
           0.18642314972510593,
           0.9307850335682799,
           0.5288349454027487,
           0.6945274267762425,
           0.8624172617878183,
           0.9087517497517295,
           -0.17521475457900001,
           0.20325105745988123,
           0.5535249865280188,
           0.5788171164163327,
           0.5890976434583299,
           0.6573880624821443,
           0.4851813193837809,
           0.2581332865836672,
           0.6957576456113,
           0.6945701502448344,
           0.2912365249836826,
           0.28111549968822963,
           0.29702495824830355,
           0.4143713659662173,
           0.6409602974518894,
           0.5923049310348809,
           0.6883170199939346,
           0.5494403324803361,
           0.5078950313510031,
           0.6218658701193525,
           0.5445746529153616,
           0.23125450449844187,
           0.5710813178615497,
           0.6149412963588579,
           0.26717026335202826,
           0.3997494501968943,
           0.47991320345559535,
           0.4709161589171
          ],
          [
           0.6082915727428799,
           1,
           0.440313686798876,
           0.42501526681405893,
           0.35721496154051363,
           0.15396195964120776,
           0.6079169037978603,
           0.6788136614357156,
           0.7320782744212745,
           0.6672091509655751,
           0.6218635198908881,
           0.008936100288814927,
           0.2996432133543477,
           0.6389803765465148,
           0.6565955033730857,
           0.8057140831372767,
           0.824409649505297,
           0.7144183044138582,
           0.49652345123433705,
           0.7904804821141883,
           0.8635363323741351,
           0.3354627651979348,
           0.29582979192118747,
           0.2877402412480265,
           0.4631890880141454,
           0.6723101193814114,
           0.6075891846312765,
           0.7397535292062386,
           0.6476134517565266,
           0.616803962828975,
           0.7043577936736548,
           0.7048300347200683,
           0.21311308476529417,
           0.5570553568295957,
           0.38604293961798813,
           0.48284465505857055,
           0.19967834783943147,
           0.2448890773353715,
           0.23802021085269431
          ],
          [
           0.6312645153023138,
           0.440313686798876,
           1,
           0.9730810805983322,
           0.36662174356993626,
           0.1381334965429446,
           0.6226687905346934,
           0.3607415191595787,
           0.4406401605757647,
           0.5250979276358378,
           0.48584312246084366,
           0.04593830325861056,
           0.31587457571589933,
           0.3493336950729874,
           0.3860511719569385,
           0.4588004826736923,
           0.4617023964570422,
           0.3617657102698255,
           0.2241353365354478,
           0.48332205949888746,
           0.45260230528365064,
           0.13228864104343926,
           0.10168782152436877,
           0.11321788830836474,
           0.25460764001900404,
           0.4064566653876112,
           0.3592610523586316,
           0.45720274438775166,
           0.2669303552194859,
           0.23942004110551726,
           0.3996396015450775,
           0.3213410003905675,
           0.1240962532903867,
           0.36355567637269176,
           0.3569490555765662,
           0.32877891470895504,
           0.18542360168819888,
           0.22405264074000963,
           0.21921534478091684
          ],
          [
           0.6456181213122918,
           0.42501526681405893,
           0.9730810805983322,
           1,
           0.3422827984163398,
           0.11725755927902604,
           0.6551156249429989,
           0.34797102458427653,
           0.4287470113922109,
           0.549249813083822,
           0.5117226039705172,
           0.02532154636562807,
           0.31411892894922294,
           0.3269513797123902,
           0.3658601974075203,
           0.42591174878272553,
           0.4534050098659674,
           0.3435180509342605,
           0.2112733542714289,
           0.47259177643882744,
           0.44083395096385475,
           0.13723607887274233,
           0.09923523935882961,
           0.1257202669105067,
           0.2570636137055548,
           0.3924051675841474,
           0.343477898562115,
           0.44762885559175875,
           0.2453365542787662,
           0.21332752276558758,
           0.38130302992677695,
           0.29569610234159716,
           0.11582153502605773,
           0.3636612215889451,
           0.3926105226266595,
           0.3056315941422467,
           0.1982369435899944,
           0.26799939650074195,
           0.2497488234853443
          ],
          [
           0.4906088472940096,
           0.35721496154051363,
           0.36662174356993626,
           0.3422827984163398,
           1,
           0.37578488138296745,
           0.4938932573051476,
           0.5597313863224201,
           0.6108693677955795,
           0.5631677881031845,
           0.516516934153586,
           -0.01916903233294124,
           0.3228664120358643,
           0.5950841716916524,
           0.6277251671034102,
           0.49460106326402503,
           0.5334977094923663,
           0.49185857638594516,
           0.32995987845032515,
           0.588858080010307,
           0.4316806772126452,
           0.5238449334446702,
           0.52609791289973,
           0.5055275131951177,
           0.4327787935652356,
           0.6631063450793273,
           0.6463540928932588,
           0.6231878445309618,
           0.52327508567255,
           0.4952615776717646,
           0.6508076094067374,
           0.5965143569031456,
           0.4145983262212641,
           0.6567988205930757,
           0.39573395225552405,
           0.4137051207867067,
           0.29926634360957804,
           0.4077163447208167,
           0.37872458169228246
          ],
          [
           0.18642314972510593,
           0.15396195964120776,
           0.1381334965429446,
           0.11725755927902604,
           0.37578488138296745,
           1,
           0.17142870077098457,
           0.20374513912861963,
           0.19828005744521984,
           0.22704251997856695,
           0.2052015606634228,
           0.08042858134693759,
           0.3081498587420468,
           0.14911243163681373,
           0.18494371589026048,
           0.24469104144010345,
           0.22410063789225385,
           0.2166720528328464,
           0.18630110511197726,
           0.23772164250448966,
           0.16471414656263875,
           0.16488200207519546,
           0.23267645405648968,
           0.12044998780670997,
           0.13120150331252706,
           0.19825938620880432,
           0.1783713827820632,
           0.1973037242415573,
           0.239231738944444,
           0.2492938663155046,
           0.1810553239480548,
           0.20988490389981881,
           0.8625897139956262,
           0.1256659025499016,
           0.08620957515458808,
           0.2753664862069159,
           0.0462818356645508,
           0.04023430728604403,
           0.046236056582031386
          ],
          [
           0.9307850335682799,
           0.6079169037978603,
           0.6226687905346934,
           0.6551156249429989,
           0.4938932573051476,
           0.17142870077098457,
           1,
           0.5109650976017264,
           0.7380484418208515,
           0.923948495555203,
           0.9330056753949554,
           -0.2546931605309423,
           0.21429853084169506,
           0.5288962964297708,
           0.568021069488746,
           0.5735845287075249,
           0.662600775044449,
           0.4697370091292934,
           0.22963716490785258,
           0.7064322309702673,
           0.680560505942382,
           0.2681570746486428,
           0.2567219299396163,
           0.27952747140376455,
           0.39184461402722814,
           0.6441635246628387,
           0.5924489962638317,
           0.7003241813856699,
           0.5217062005911214,
           0.46554810950747044,
           0.6127607308664229,
           0.5151517665274629,
           0.1906330467336031,
           0.5900594582412483,
           0.7278225926239716,
           0.2444621408971508,
           0.48522056572007116,
           0.5879445178331002,
           0.5745332363546584
          ],
          [
           0.5288349454027487,
           0.6788136614357156,
           0.3607415191595787,
           0.34797102458427653,
           0.5597313863224201,
           0.20374513912861963,
           0.5109650976017264,
           1,
           0.7568555356565617,
           0.6533581939824892,
           0.5923298326964319,
           0.14155324541297717,
           0.36870792713011913,
           0.8951585132215664,
           0.9126162532793286,
           0.8654476484926287,
           0.8746036326316988,
           0.9102615264250014,
           0.6094410524900409,
           0.907730486951511,
           0.7718492738121959,
           0.6993227635342362,
           0.6545140844801983,
           0.6966842835455566,
           0.6093927769228544,
           0.9040002333476113,
           0.8852411638729363,
           0.8708804483877715,
           0.7545354674174715,
           0.7482510035914909,
           0.9134273133036304,
           0.8863302257031426,
           0.21595802400283048,
           0.6902673246415736,
           0.24871068730839438,
           0.6924525079463539,
           0.15901814948627457,
           0.22249409789010768,
           0.2044010233481148
          ],
          [
           0.6945274267762425,
           0.7320782744212745,
           0.4406401605757647,
           0.4287470113922109,
           0.6108693677955795,
           0.19828005744521984,
           0.7380484418208515,
           0.7568555356565617,
           1,
           0.8293541553246196,
           0.7871567254097293,
           -0.08516675373247878,
           0.2816615584987453,
           0.8002341574647172,
           0.8358716751479555,
           0.809759184735484,
           0.8500017369649058,
           0.7588515854623262,
           0.5569156590843817,
           0.9001856323392913,
           0.8086350956024478,
           0.5350461994899686,
           0.5376895845639705,
           0.4764776173183728,
           0.6157337469503646,
           0.8799986020176127,
           0.7892747901007973,
           0.9463070880419328,
           0.8224728437929225,
           0.7777812676396967,
           0.8911252911157227,
           0.8573436679291073,
           0.22451624191392244,
           0.7735511175934375,
           0.5857116061054314,
           0.5753012250340334,
           0.33766512201434756,
           0.4693929118153429,
           0.43237918024301886
          ],
          [
           0.8624172617878183,
           0.6672091509655751,
           0.5250979276358378,
           0.549249813083822,
           0.5631677881031845,
           0.22704251997856695,
           0.923948495555203,
           0.6533581939824892,
           0.8293541553246196,
           1,
           0.9483305901586643,
           -0.09021896420172218,
           0.32620532687287723,
           0.6527542137887089,
           0.7025731510436285,
           0.691399007912124,
           0.7671199943229963,
           0.6130006151419867,
           0.3904776454245266,
           0.8255069456042363,
           0.72927192762074,
           0.400888535664773,
           0.38578542024874707,
           0.3744898763839296,
           0.522735134747019,
           0.7718436369922439,
           0.7030995620033547,
           0.8293572025936288,
           0.6588060150734981,
           0.5996640681067806,
           0.7508969542943369,
           0.6745122593218301,
           0.2377822186475932,
           0.684329909447426,
           0.6755778959524774,
           0.46163370439079177,
           0.45384056994744176,
           0.578006441981389,
           0.5525575334567522
          ],
          [
           0.9087517497517295,
           0.6218635198908881,
           0.48584312246084366,
           0.5117226039705172,
           0.516516934153586,
           0.2052015606634228,
           0.9330056753949554,
           0.5923298326964319,
           0.7871567254097293,
           0.9483305901586643,
           1,
           -0.1616023005294725,
           0.27503878138005383,
           0.6195070592371982,
           0.6568122625697842,
           0.6289078059977459,
           0.722347192703678,
           0.5419231167900099,
           0.30621111274933344,
           0.7676006591221342,
           0.7030869950238622,
           0.3923060530293678,
           0.39083096500797787,
           0.38219025944669316,
           0.4967679998925912,
           0.7248731373121944,
           0.6644162809287758,
           0.7756123200092394,
           0.6166020830308879,
           0.5576919880843434,
           0.6966836339832215,
           0.6140717442554849,
           0.23528770065422855,
           0.6500402857222551,
           0.6678638409146548,
           0.3592621212135308,
           0.4391339375460842,
           0.5415511965948354,
           0.5250714761362092
          ],
          [
           -0.17521475457900001,
           0.008936100288814927,
           0.04593830325861056,
           0.02532154636562807,
           -0.01916903233294124,
           0.08042858134693759,
           -0.2546931605309423,
           0.14155324541297717,
           -0.08516675373247878,
           -0.09021896420172218,
           -0.1616023005294725,
           1,
           0.2920331860644792,
           0.049752861745756265,
           0.05611801743858115,
           0.12544303529472006,
           0.05581261423039464,
           0.16684790847411982,
           0.23935999852843323,
           0.06068377373993426,
           -0.03334346402647778,
           0.11173065450955916,
           0.09281684391345593,
           0.044159886471930684,
           0.0819468645392713,
           0.019561521159266054,
           -0.003144198865498895,
           0.024658437156251906,
           0.09452121477508614,
           0.09839897832688836,
           0.06046621475764989,
           0.13749365587544668,
           0.054526046129713054,
           -0.04878592727825502,
           -0.3110857895921389,
           0.411370419467786,
           -0.36614473718861135,
           -0.35468272248101645,
           -0.38666566960447035
          ],
          [
           0.20325105745988123,
           0.2996432133543477,
           0.31587457571589933,
           0.31411892894922294,
           0.3228664120358643,
           0.3081498587420468,
           0.21429853084169506,
           0.36870792713011913,
           0.2816615584987453,
           0.32620532687287723,
           0.27503878138005383,
           0.2920331860644792,
           1,
           0.2903230575461711,
           0.3345255189080317,
           0.4053405437438117,
           0.44195676400973205,
           0.3751175532703691,
           0.22572196024066374,
           0.4138020162237503,
           0.23677769293804493,
           0.19463742081588103,
           0.19611928805202028,
           0.1342351593520385,
           0.248887532259317,
           0.32156706791656015,
           0.2732590148972349,
           0.356096289560181,
           0.25955635459956455,
           0.24919039966787546,
           0.3209433448696172,
           0.30608190691506015,
           0.35962511152169685,
           0.25019321335883954,
           0.1121947034781655,
           0.5754902844041685,
           0.002269166374475526,
           -0.018295197159749064,
           -0.00868800886804428
          ],
          [
           0.5535249865280188,
           0.6389803765465148,
           0.3493336950729874,
           0.3269513797123902,
           0.5950841716916524,
           0.14911243163681373,
           0.5288962964297708,
           0.8951585132215664,
           0.8002341574647172,
           0.6527542137887089,
           0.6195070592371982,
           0.049752861745756265,
           0.2903230575461711,
           1,
           0.9905253623208818,
           0.7827781937581544,
           0.8246811423375492,
           0.7980875728432599,
           0.5408086283748132,
           0.8682981786739056,
           0.7561819079564238,
           0.7405252121176769,
           0.7106261356648107,
           0.7163486622965914,
           0.6448954931541906,
           0.9710242859443041,
           0.9663144295000169,
           0.900619608964437,
           0.7249262328187006,
           0.7122886408896244,
           0.9657488377055112,
           0.8868731294510799,
           0.16189388040215769,
           0.7141289334812223,
           0.33494868048549487,
           0.6081121525259551,
           0.20182344547861536,
           0.29568744823434473,
           0.2666121513351818
          ],
          [
           0.5788171164163327,
           0.6565955033730857,
           0.3860511719569385,
           0.3658601974075203,
           0.6277251671034102,
           0.18494371589026048,
           0.568021069488746,
           0.9126162532793286,
           0.8358716751479555,
           0.7025731510436285,
           0.6568122625697842,
           0.05611801743858115,
           0.3345255189080317,
           0.9905253623208818,
           1,
           0.8133102964754825,
           0.8589986979288547,
           0.819894679071543,
           0.5691682302719288,
           0.9027002597126876,
           0.769587563943411,
           0.7450055572129519,
           0.7169164279958824,
           0.7145628570846593,
           0.6621711749556733,
           0.9894279180763879,
           0.9753917352054506,
           0.9314576222843656,
           0.7476082207064499,
           0.730563359231511,
           0.9785699499254388,
           0.8984417703890141,
           0.1938350830761896,
           0.7479785280556327,
           0.37449172518933455,
           0.6579883465234824,
           0.2669515187206973,
           0.34441848516294316,
           0.3274128646487235
          ],
          [
           0.5890976434583299,
           0.8057140831372767,
           0.4588004826736923,
           0.42591174878272553,
           0.49460106326402503,
           0.24469104144010345,
           0.5735845287075249,
           0.8654476484926287,
           0.809759184735484,
           0.691399007912124,
           0.6289078059977459,
           0.12544303529472006,
           0.4053405437438117,
           0.7827781937581544,
           0.8133102964754825,
           1,
           0.9011080114851377,
           0.9227768496803838,
           0.6706355009652268,
           0.9099844190252602,
           0.8350546856333756,
           0.5241121793833555,
           0.49983630991411726,
           0.46917995995504286,
           0.5786730493570423,
           0.8192885684771182,
           0.7383395815369743,
           0.8787990831036698,
           0.7916971454012828,
           0.7678828943830931,
           0.8448963893641078,
           0.8473569027461423,
           0.252610174886687,
           0.6370507159744787,
           0.2967400143021715,
           0.726773492388031,
           0.1372281855190042,
           0.18108590630484564,
           0.17048985771804231
          ],
          [
           0.6573880624821443,
           0.824409649505297,
           0.4617023964570422,
           0.4534050098659674,
           0.5334977094923663,
           0.22410063789225385,
           0.662600775044449,
           0.8746036326316988,
           0.8500017369649058,
           0.7671199943229963,
           0.722347192703678,
           0.05581261423039464,
           0.44195676400973205,
           0.8246811423375492,
           0.8589986979288547,
           0.9011080114851377,
           1,
           0.8563452246694873,
           0.6194384725672131,
           0.9631882492629986,
           0.8127020676862713,
           0.5602812353435552,
           0.5227824545827908,
           0.5246102566536314,
           0.5994275612532244,
           0.8768329938691822,
           0.8106085299929807,
           0.9171961323482714,
           0.7814285271221111,
           0.7523483355873031,
           0.8834441240988314,
           0.8593793031725143,
           0.2412242622750848,
           0.694150237145193,
           0.4309529842898049,
           0.7122893704253314,
           0.2578766922944517,
           0.32931907410225353,
           0.3144497553904295
          ],
          [
           0.4851813193837809,
           0.7144183044138582,
           0.3617657102698255,
           0.3435180509342605,
           0.49185857638594516,
           0.2166720528328464,
           0.4697370091292934,
           0.9102615264250014,
           0.7588515854623262,
           0.6130006151419867,
           0.5419231167900099,
           0.16684790847411982,
           0.3751175532703691,
           0.7980875728432599,
           0.819894679071543,
           0.9227768496803838,
           0.8563452246694873,
           1,
           0.7734776866555415,
           0.874850106687029,
           0.7866623881944987,
           0.5891228761480589,
           0.5600592504231591,
           0.5476651962958313,
           0.5769006014804039,
           0.8145511652976531,
           0.7491096948498968,
           0.852346410879962,
           0.7842906812078658,
           0.7711008030588177,
           0.8465270807528638,
           0.8666580600941038,
           0.23545950386803993,
           0.6100007760730446,
           0.19553694077716768,
           0.7304165513446379,
           0.07863213393427726,
           0.1396833198385237,
           0.11710651617704362
          ],
          [
           0.2581332865836672,
           0.49652345123433705,
           0.2241353365354478,
           0.2112733542714289,
           0.32995987845032515,
           0.18630110511197726,
           0.22963716490785258,
           0.6094410524900409,
           0.5569156590843817,
           0.3904776454245266,
           0.30621111274933344,
           0.23935999852843323,
           0.22572196024066374,
           0.5408086283748132,
           0.5691682302719288,
           0.6706355009652268,
           0.6194384725672131,
           0.7734776866555415,
           1,
           0.6257326330299668,
           0.5196896454159321,
           0.4302165900794934,
           0.40697828231537414,
           0.33559038224841015,
           0.4344743318474055,
           0.5621343651275154,
           0.47033728127370683,
           0.6250633423271991,
           0.6315514889321421,
           0.6127380355523887,
           0.6097544573482866,
           0.6803872700546346,
           0.20257724291762258,
           0.4019899446399605,
           0.03580689983379536,
           0.7473307022091399,
           -0.039629025007430166,
           -0.00044007289297065305,
           -0.0212067691485652
          ],
          [
           0.6957576456113,
           0.7904804821141883,
           0.48332205949888746,
           0.47259177643882744,
           0.588858080010307,
           0.23772164250448966,
           0.7064322309702673,
           0.907730486951511,
           0.9001856323392913,
           0.8255069456042363,
           0.7676006591221342,
           0.06068377373993426,
           0.4138020162237503,
           0.8682981786739056,
           0.9027002597126876,
           0.9099844190252602,
           0.9631882492629986,
           0.874850106687029,
           0.6257326330299668,
           1,
           0.8532593000040551,
           0.6137152611003815,
           0.5854045431114056,
           0.5755912999070415,
           0.6454718333552055,
           0.9263494235485942,
           0.8600139204086207,
           0.9604782758412573,
           0.8356662340443904,
           0.8013121093090092,
           0.9348583231930879,
           0.9047506271331303,
           0.24805562832845715,
           0.7628282358369837,
           0.44970250752649144,
           0.711918469125942,
           0.27450063032653044,
           0.36745781686619505,
           0.3438602597665513
          ],
          [
           0.6945701502448344,
           0.8635363323741351,
           0.45260230528365064,
           0.44083395096385475,
           0.4316806772126452,
           0.16471414656263875,
           0.680560505942382,
           0.7718492738121959,
           0.8086350956024478,
           0.72927192762074,
           0.7030869950238622,
           -0.03334346402647778,
           0.23677769293804493,
           0.7561819079564238,
           0.769587563943411,
           0.8350546856333756,
           0.8127020676862713,
           0.7866623881944987,
           0.5196896454159321,
           0.8532593000040551,
           1,
           0.4808911268187469,
           0.45701528563879174,
           0.45066408259643925,
           0.5447684797012219,
           0.7884045416819713,
           0.7344255541504827,
           0.8290442066484706,
           0.7447352057983627,
           0.7261940476211287,
           0.8094255233209547,
           0.791875329057275,
           0.21282453272121932,
           0.6172638167615229,
           0.4283501374846756,
           0.49714309231614895,
           0.20853032429459756,
           0.2770185139861133,
           0.260070261564663
          ],
          [
           0.2912365249836826,
           0.3354627651979348,
           0.13228864104343926,
           0.13723607887274233,
           0.5238449334446702,
           0.16488200207519546,
           0.2681570746486428,
           0.6993227635342362,
           0.5350461994899686,
           0.400888535664773,
           0.3923060530293678,
           0.11173065450955916,
           0.19463742081588103,
           0.7405252121176769,
           0.7450055572129519,
           0.5241121793833555,
           0.5602812353435552,
           0.5891228761480589,
           0.4302165900794934,
           0.6137152611003815,
           0.4808911268187469,
           1,
           0.9722172110472678,
           0.9461665752218613,
           0.8032255478367798,
           0.7531860999882672,
           0.7539932412949234,
           0.6594046308367397,
           0.5939763620945404,
           0.5970623833015545,
           0.7302847863919522,
           0.6790212744889085,
           0.15835465693164294,
           0.5943324227735843,
           0.11341050442933615,
           0.47818127638884517,
           0.09063821268504402,
           0.1992236598223358,
           0.15564129832415366
          ],
          [
           0.28111549968822963,
           0.29582979192118747,
           0.10168782152436877,
           0.09923523935882961,
           0.52609791289973,
           0.23267645405648968,
           0.2567219299396163,
           0.6545140844801983,
           0.5376895845639705,
           0.38578542024874707,
           0.39083096500797787,
           0.09281684391345593,
           0.19611928805202028,
           0.7106261356648107,
           0.7169164279958824,
           0.49983630991411726,
           0.5227824545827908,
           0.5600592504231591,
           0.40697828231537414,
           0.5854045431114056,
           0.45701528563879174,
           0.9722172110472678,
           1,
           0.9124845770727006,
           0.7706907435703663,
           0.7260775226295191,
           0.7233137708637535,
           0.63727106850901,
           0.5789055390265242,
           0.5912834038771313,
           0.6984209442251141,
           0.6544202703564619,
           0.2280180737076046,
           0.5811903352218548,
           0.1307690567402883,
           0.45008684092703494,
           0.10189124728009857,
           0.19266726306529194,
           0.15805183443598125
          ],
          [
           0.29702495824830355,
           0.2877402412480265,
           0.11321788830836474,
           0.1257202669105067,
           0.5055275131951177,
           0.12044998780670997,
           0.27952747140376455,
           0.6966842835455566,
           0.4764776173183728,
           0.3744898763839296,
           0.38219025944669316,
           0.044159886471930684,
           0.1342351593520385,
           0.7163486622965914,
           0.7145628570846593,
           0.46917995995504286,
           0.5246102566536314,
           0.5476651962958313,
           0.33559038224841015,
           0.5755912999070415,
           0.45066408259643925,
           0.9461665752218613,
           0.9124845770727006,
           1,
           0.6577148627246576,
           0.7216880958466324,
           0.7591507495882459,
           0.5998611352853755,
           0.516430143648986,
           0.5301080607714849,
           0.6912720609674927,
           0.6209868970059631,
           0.11493361155820098,
           0.5837580777307948,
           0.09915236737465936,
           0.38067343038890666,
           0.11399475516771164,
           0.22010089601310195,
           0.179284250473479
          ],
          [
           0.4143713659662173,
           0.4631890880141454,
           0.25460764001900404,
           0.2570636137055548,
           0.4327787935652356,
           0.13120150331252706,
           0.39184461402722814,
           0.6093927769228544,
           0.6157337469503646,
           0.522735134747019,
           0.4967679998925912,
           0.0819468645392713,
           0.248887532259317,
           0.6448954931541906,
           0.6621711749556733,
           0.5786730493570423,
           0.5994275612532244,
           0.5769006014804039,
           0.4344743318474055,
           0.6454718333552055,
           0.5447684797012219,
           0.8032255478367798,
           0.7706907435703663,
           0.6577148627246576,
           1,
           0.6952230255815445,
           0.6343312713459468,
           0.7055166792364517,
           0.6555380376047178,
           0.6231029437866087,
           0.6935978404835667,
           0.6544266704537279,
           0.14104077499820336,
           0.586302283883214,
           0.21642162121995767,
           0.46644268707653674,
           0.1889957652600523,
           0.3082532225793748,
           0.26661653715591227
          ],
          [
           0.6409602974518894,
           0.6723101193814114,
           0.4064566653876112,
           0.3924051675841474,
           0.6631063450793273,
           0.19825938620880432,
           0.6441635246628387,
           0.9040002333476113,
           0.8799986020176127,
           0.7718436369922439,
           0.7248731373121944,
           0.019561521159266054,
           0.32156706791656015,
           0.9710242859443041,
           0.9894279180763879,
           0.8192885684771182,
           0.8768329938691822,
           0.8145511652976531,
           0.5621343651275154,
           0.9263494235485942,
           0.7884045416819713,
           0.7531860999882672,
           0.7260775226295191,
           0.7216880958466324,
           0.6952230255815445,
           1,
           0.9748654031603555,
           0.9591074832839579,
           0.7906902949930966,
           0.7649303775327256,
           0.9873185846388456,
           0.9091069769809071,
           0.20711321688519668,
           0.7886983927221788,
           0.44281124660946247,
           0.6424226558676729,
           0.322870809119915,
           0.42687254908269984,
           0.401568486592495
          ],
          [
           0.5923049310348809,
           0.6075891846312765,
           0.3592610523586316,
           0.343477898562115,
           0.6463540928932588,
           0.1783713827820632,
           0.5924489962638317,
           0.8852411638729363,
           0.7892747901007973,
           0.7030995620033547,
           0.6644162809287758,
           -0.003144198865498895,
           0.2732590148972349,
           0.9663144295000169,
           0.9753917352054506,
           0.7383395815369743,
           0.8106085299929807,
           0.7491096948498968,
           0.47033728127370683,
           0.8600139204086207,
           0.7344255541504827,
           0.7539932412949234,
           0.7233137708637535,
           0.7591507495882459,
           0.6343312713459468,
           0.9748654031603555,
           1,
           0.8788018049647942,
           0.7009307451113141,
           0.6908007939344266,
           0.9517761254563691,
           0.8494667521426638,
           0.17991132783215388,
           0.7707842560252625,
           0.3949537620347306,
           0.5560313740689923,
           0.33400382680916835,
           0.43217116760053675,
           0.4103232438737626
          ],
          [
           0.6883170199939346,
           0.7397535292062386,
           0.45720274438775166,
           0.44762885559175875,
           0.6231878445309618,
           0.1973037242415573,
           0.7003241813856699,
           0.8708804483877715,
           0.9463070880419328,
           0.8293572025936288,
           0.7756123200092394,
           0.024658437156251906,
           0.356096289560181,
           0.900619608964437,
           0.9314576222843656,
           0.8787990831036698,
           0.9171961323482714,
           0.852346410879962,
           0.6250633423271991,
           0.9604782758412573,
           0.8290442066484706,
           0.6594046308367397,
           0.63727106850901,
           0.5998611352853755,
           0.7055166792364517,
           0.9591074832839579,
           0.8788018049647942,
           1,
           0.8601116864561663,
           0.8194911640890225,
           0.9623564903448504,
           0.9207285757300413,
           0.21812400805279872,
           0.7701474922475172,
           0.48953333189640297,
           0.6864620816308425,
           0.31585717098164384,
           0.42351689699917083,
           0.39604360475712785
          ],
          [
           0.5494403324803361,
           0.6476134517565266,
           0.2669303552194859,
           0.2453365542787662,
           0.52327508567255,
           0.239231738944444,
           0.5217062005911214,
           0.7545354674174715,
           0.8224728437929225,
           0.6588060150734981,
           0.6166020830308879,
           0.09452121477508614,
           0.25955635459956455,
           0.7249262328187006,
           0.7476082207064499,
           0.7916971454012828,
           0.7814285271221111,
           0.7842906812078658,
           0.6315514889321421,
           0.8356662340443904,
           0.7447352057983627,
           0.5939763620945404,
           0.5789055390265242,
           0.516430143648986,
           0.6555380376047178,
           0.7906902949930966,
           0.7009307451113141,
           0.8601116864561663,
           1,
           0.9749304606881013,
           0.83879578578754,
           0.9201525296518945,
           0.2607475407581487,
           0.6656303207110051,
           0.29332780199944636,
           0.6600114909247722,
           0.1270797862404699,
           0.24013749133407972,
           0.1970378649154537
          ],
          [
           0.5078950313510031,
           0.616803962828975,
           0.23942004110551726,
           0.21332752276558758,
           0.4952615776717646,
           0.2492938663155046,
           0.46554810950747044,
           0.7482510035914909,
           0.7777812676396967,
           0.5996640681067806,
           0.5576919880843434,
           0.09839897832688836,
           0.24919039966787546,
           0.7122886408896244,
           0.730563359231511,
           0.7678828943830931,
           0.7523483355873031,
           0.7711008030588177,
           0.6127380355523887,
           0.8013121093090092,
           0.7261940476211287,
           0.5970623833015545,
           0.5912834038771313,
           0.5301080607714849,
           0.6231029437866087,
           0.7649303775327256,
           0.6908007939344266,
           0.8194911640890225,
           0.9749304606881013,
           1,
           0.8092700364259612,
           0.898536654256944,
           0.28103613980723197,
           0.6172022572479535,
           0.24159601382640356,
           0.6365682189437026,
           0.10735089174316242,
           0.2093502137145936,
           0.16995795758894164
          ],
          [
           0.6218658701193525,
           0.7043577936736548,
           0.3996396015450775,
           0.38130302992677695,
           0.6508076094067374,
           0.1810553239480548,
           0.6127607308664229,
           0.9134273133036304,
           0.8911252911157227,
           0.7508969542943369,
           0.6966836339832215,
           0.06046621475764989,
           0.3209433448696172,
           0.9657488377055112,
           0.9785699499254388,
           0.8448963893641078,
           0.8834441240988314,
           0.8465270807528638,
           0.6097544573482866,
           0.9348583231930879,
           0.8094255233209547,
           0.7302847863919522,
           0.6984209442251141,
           0.6912720609674927,
           0.6935978404835667,
           0.9873185846388456,
           0.9517761254563691,
           0.9623564903448504,
           0.83879578578754,
           0.8092700364259612,
           1,
           0.9516848407304838,
           0.19590483913017695,
           0.8038140130075475,
           0.4002757495140445,
           0.6772958792018836,
           0.2341905611646248,
           0.35547274492502684,
           0.316052970124501
          ],
          [
           0.5445746529153616,
           0.7048300347200683,
           0.3213410003905675,
           0.29569610234159716,
           0.5965143569031456,
           0.20988490389981881,
           0.5151517665274629,
           0.8863302257031426,
           0.8573436679291073,
           0.6745122593218301,
           0.6140717442554849,
           0.13749365587544668,
           0.30608190691506015,
           0.8868731294510799,
           0.8984417703890141,
           0.8473569027461423,
           0.8593793031725143,
           0.8666580600941038,
           0.6803872700546346,
           0.9047506271331303,
           0.791875329057275,
           0.6790212744889085,
           0.6544202703564619,
           0.6209868970059631,
           0.6544266704537279,
           0.9091069769809071,
           0.8494667521426638,
           0.9207285757300413,
           0.9201525296518945,
           0.898536654256944,
           0.9516848407304838,
           1,
           0.24471627535675144,
           0.7351007909126646,
           0.3116857470537954,
           0.7360484209771632,
           0.10647971085689821,
           0.223379481363891,
           0.177079915261014
          ],
          [
           0.23125450449844187,
           0.21311308476529417,
           0.1240962532903867,
           0.11582153502605773,
           0.4145983262212641,
           0.8625897139956262,
           0.1906330467336031,
           0.21595802400283048,
           0.22451624191392244,
           0.2377822186475932,
           0.23528770065422855,
           0.054526046129713054,
           0.35962511152169685,
           0.16189388040215769,
           0.1938350830761896,
           0.252610174886687,
           0.2412242622750848,
           0.23545950386803993,
           0.20257724291762258,
           0.24805562832845715,
           0.21282453272121932,
           0.15835465693164294,
           0.2280180737076046,
           0.11493361155820098,
           0.14104077499820336,
           0.20711321688519668,
           0.17991132783215388,
           0.21812400805279872,
           0.2607475407581487,
           0.28103613980723197,
           0.19590483913017695,
           0.24471627535675144,
           1,
           0.15323162069619234,
           0.09425497088920466,
           0.2536297687665437,
           0.08871565228292642,
           0.04478762016387922,
           0.07115016256910651
          ],
          [
           0.5710813178615497,
           0.5570553568295957,
           0.36355567637269176,
           0.3636612215889451,
           0.6567988205930757,
           0.1256659025499016,
           0.5900594582412483,
           0.6902673246415736,
           0.7735511175934375,
           0.684329909447426,
           0.6500402857222551,
           -0.04878592727825502,
           0.25019321335883954,
           0.7141289334812223,
           0.7479785280556327,
           0.6370507159744787,
           0.694150237145193,
           0.6100007760730446,
           0.4019899446399605,
           0.7628282358369837,
           0.6172638167615229,
           0.5943324227735843,
           0.5811903352218548,
           0.5837580777307948,
           0.586302283883214,
           0.7886983927221788,
           0.7707842560252625,
           0.7701474922475172,
           0.6656303207110051,
           0.6172022572479535,
           0.8038140130075475,
           0.7351007909126646,
           0.15323162069619234,
           1,
           0.40985897367910284,
           0.4681099406094146,
           0.36845664431084457,
           0.4665914194883911,
           0.44715767089160313
          ],
          [
           0.6149412963588579,
           0.38604293961798813,
           0.3569490555765662,
           0.3926105226266595,
           0.39573395225552405,
           0.08620957515458808,
           0.7278225926239716,
           0.24871068730839438,
           0.5857116061054314,
           0.6755778959524774,
           0.6678638409146548,
           -0.3110857895921389,
           0.1121947034781655,
           0.33494868048549487,
           0.37449172518933455,
           0.2967400143021715,
           0.4309529842898049,
           0.19553694077716768,
           0.03580689983379536,
           0.44970250752649144,
           0.4283501374846756,
           0.11341050442933615,
           0.1307690567402883,
           0.09915236737465936,
           0.21642162121995767,
           0.44281124660946247,
           0.3949537620347306,
           0.48953333189640297,
           0.29332780199944636,
           0.24159601382640356,
           0.4002757495140445,
           0.3116857470537954,
           0.09425497088920466,
           0.40985897367910284,
           1,
           0.0780059708114666,
           0.43523716336228646,
           0.6005939177125227,
           0.554922614772957
          ],
          [
           0.26717026335202826,
           0.48284465505857055,
           0.32877891470895504,
           0.3056315941422467,
           0.4137051207867067,
           0.2753664862069159,
           0.2444621408971508,
           0.6924525079463539,
           0.5753012250340334,
           0.46163370439079177,
           0.3592621212135308,
           0.411370419467786,
           0.5754902844041685,
           0.6081121525259551,
           0.6579883465234824,
           0.726773492388031,
           0.7122893704253314,
           0.7304165513446379,
           0.7473307022091399,
           0.711918469125942,
           0.49714309231614895,
           0.47818127638884517,
           0.45008684092703494,
           0.38067343038890666,
           0.46644268707653674,
           0.6424226558676729,
           0.5560313740689923,
           0.6864620816308425,
           0.6600114909247722,
           0.6365682189437026,
           0.6772958792018836,
           0.7360484209771632,
           0.2536297687665437,
           0.4681099406094146,
           0.0780059708114666,
           1,
           -0.09560174513784091,
           -0.047959627503436866,
           -0.07650829498970006
          ],
          [
           0.3997494501968943,
           0.19967834783943147,
           0.18542360168819888,
           0.1982369435899944,
           0.29926634360957804,
           0.0462818356645508,
           0.48522056572007116,
           0.15901814948627457,
           0.33766512201434756,
           0.45384056994744176,
           0.4391339375460842,
           -0.36614473718861135,
           0.002269166374475526,
           0.20182344547861536,
           0.2669515187206973,
           0.1372281855190042,
           0.2578766922944517,
           0.07863213393427726,
           -0.039629025007430166,
           0.27450063032653044,
           0.20853032429459756,
           0.09063821268504402,
           0.10189124728009857,
           0.11399475516771164,
           0.1889957652600523,
           0.322870809119915,
           0.33400382680916835,
           0.31585717098164384,
           0.1270797862404699,
           0.10735089174316242,
           0.2341905611646248,
           0.10647971085689821,
           0.08871565228292642,
           0.36845664431084457,
           0.43523716336228646,
           -0.09560174513784091,
           1,
           0.7480328595665804,
           0.9334474472319375
          ],
          [
           0.47991320345559535,
           0.2448890773353715,
           0.22405264074000963,
           0.26799939650074195,
           0.4077163447208167,
           0.04023430728604403,
           0.5879445178331002,
           0.22249409789010768,
           0.4693929118153429,
           0.578006441981389,
           0.5415511965948354,
           -0.35468272248101645,
           -0.018295197159749064,
           0.29568744823434473,
           0.34441848516294316,
           0.18108590630484564,
           0.32931907410225353,
           0.1396833198385237,
           -0.00044007289297065305,
           0.36745781686619505,
           0.2770185139861133,
           0.1992236598223358,
           0.19266726306529194,
           0.22010089601310195,
           0.3082532225793748,
           0.42687254908269984,
           0.43217116760053675,
           0.42351689699917083,
           0.24013749133407972,
           0.2093502137145936,
           0.35547274492502684,
           0.223379481363891,
           0.04478762016387922,
           0.4665914194883911,
           0.6005939177125227,
           -0.047959627503436866,
           0.7480328595665804,
           1,
           0.9363142230367019
          ],
          [
           0.4709161589171,
           0.23802021085269431,
           0.21921534478091684,
           0.2497488234853443,
           0.37872458169228246,
           0.046236056582031386,
           0.5745332363546584,
           0.2044010233481148,
           0.43237918024301886,
           0.5525575334567522,
           0.5250714761362092,
           -0.38666566960447035,
           -0.00868800886804428,
           0.2666121513351818,
           0.3274128646487235,
           0.17048985771804231,
           0.3144497553904295,
           0.11710651617704362,
           -0.0212067691485652,
           0.3438602597665513,
           0.260070261564663,
           0.15564129832415366,
           0.15805183443598125,
           0.179284250473479,
           0.26661653715591227,
           0.401568486592495,
           0.4103232438737626,
           0.39604360475712785,
           0.1970378649154537,
           0.16995795758894164,
           0.316052970124501,
           0.177079915261014,
           0.07115016256910651,
           0.44715767089160313,
           0.554922614772957,
           -0.07650829498970006,
           0.9334474472319375,
           0.9363142230367019,
           1
          ]
         ]
        }
       ],
       "layout": {
        "coloraxis": {
         "colorscale": [
          [
           0,
           "#0d0887"
          ],
          [
           0.1111111111111111,
           "#46039f"
          ],
          [
           0.2222222222222222,
           "#7201a8"
          ],
          [
           0.3333333333333333,
           "#9c179e"
          ],
          [
           0.4444444444444444,
           "#bd3786"
          ],
          [
           0.5555555555555556,
           "#d8576b"
          ],
          [
           0.6666666666666666,
           "#ed7953"
          ],
          [
           0.7777777777777778,
           "#fb9f3a"
          ],
          [
           0.8888888888888888,
           "#fdca26"
          ],
          [
           1,
           "#f0f921"
          ]
         ]
        },
        "template": {
         "data": {
          "bar": [
           {
            "error_x": {
             "color": "#2a3f5f"
            },
            "error_y": {
             "color": "#2a3f5f"
            },
            "marker": {
             "line": {
              "color": "#E5ECF6",
              "width": 0.5
             },
             "pattern": {
              "fillmode": "overlay",
              "size": 10,
              "solidity": 0.2
             }
            },
            "type": "bar"
           }
          ],
          "barpolar": [
           {
            "marker": {
             "line": {
              "color": "#E5ECF6",
              "width": 0.5
             },
             "pattern": {
              "fillmode": "overlay",
              "size": 10,
              "solidity": 0.2
             }
            },
            "type": "barpolar"
           }
          ],
          "carpet": [
           {
            "aaxis": {
             "endlinecolor": "#2a3f5f",
             "gridcolor": "white",
             "linecolor": "white",
             "minorgridcolor": "white",
             "startlinecolor": "#2a3f5f"
            },
            "baxis": {
             "endlinecolor": "#2a3f5f",
             "gridcolor": "white",
             "linecolor": "white",
             "minorgridcolor": "white",
             "startlinecolor": "#2a3f5f"
            },
            "type": "carpet"
           }
          ],
          "choropleth": [
           {
            "colorbar": {
             "outlinewidth": 0,
             "ticks": ""
            },
            "type": "choropleth"
           }
          ],
          "contour": [
           {
            "colorbar": {
             "outlinewidth": 0,
             "ticks": ""
            },
            "colorscale": [
             [
              0,
              "#0d0887"
             ],
             [
              0.1111111111111111,
              "#46039f"
             ],
             [
              0.2222222222222222,
              "#7201a8"
             ],
             [
              0.3333333333333333,
              "#9c179e"
             ],
             [
              0.4444444444444444,
              "#bd3786"
             ],
             [
              0.5555555555555556,
              "#d8576b"
             ],
             [
              0.6666666666666666,
              "#ed7953"
             ],
             [
              0.7777777777777778,
              "#fb9f3a"
             ],
             [
              0.8888888888888888,
              "#fdca26"
             ],
             [
              1,
              "#f0f921"
             ]
            ],
            "type": "contour"
           }
          ],
          "contourcarpet": [
           {
            "colorbar": {
             "outlinewidth": 0,
             "ticks": ""
            },
            "type": "contourcarpet"
           }
          ],
          "heatmap": [
           {
            "colorbar": {
             "outlinewidth": 0,
             "ticks": ""
            },
            "colorscale": [
             [
              0,
              "#0d0887"
             ],
             [
              0.1111111111111111,
              "#46039f"
             ],
             [
              0.2222222222222222,
              "#7201a8"
             ],
             [
              0.3333333333333333,
              "#9c179e"
             ],
             [
              0.4444444444444444,
              "#bd3786"
             ],
             [
              0.5555555555555556,
              "#d8576b"
             ],
             [
              0.6666666666666666,
              "#ed7953"
             ],
             [
              0.7777777777777778,
              "#fb9f3a"
             ],
             [
              0.8888888888888888,
              "#fdca26"
             ],
             [
              1,
              "#f0f921"
             ]
            ],
            "type": "heatmap"
           }
          ],
          "heatmapgl": [
           {
            "colorbar": {
             "outlinewidth": 0,
             "ticks": ""
            },
            "colorscale": [
             [
              0,
              "#0d0887"
             ],
             [
              0.1111111111111111,
              "#46039f"
             ],
             [
              0.2222222222222222,
              "#7201a8"
             ],
             [
              0.3333333333333333,
              "#9c179e"
             ],
             [
              0.4444444444444444,
              "#bd3786"
             ],
             [
              0.5555555555555556,
              "#d8576b"
             ],
             [
              0.6666666666666666,
              "#ed7953"
             ],
             [
              0.7777777777777778,
              "#fb9f3a"
             ],
             [
              0.8888888888888888,
              "#fdca26"
             ],
             [
              1,
              "#f0f921"
             ]
            ],
            "type": "heatmapgl"
           }
          ],
          "histogram": [
           {
            "marker": {
             "pattern": {
              "fillmode": "overlay",
              "size": 10,
              "solidity": 0.2
             }
            },
            "type": "histogram"
           }
          ],
          "histogram2d": [
           {
            "colorbar": {
             "outlinewidth": 0,
             "ticks": ""
            },
            "colorscale": [
             [
              0,
              "#0d0887"
             ],
             [
              0.1111111111111111,
              "#46039f"
             ],
             [
              0.2222222222222222,
              "#7201a8"
             ],
             [
              0.3333333333333333,
              "#9c179e"
             ],
             [
              0.4444444444444444,
              "#bd3786"
             ],
             [
              0.5555555555555556,
              "#d8576b"
             ],
             [
              0.6666666666666666,
              "#ed7953"
             ],
             [
              0.7777777777777778,
              "#fb9f3a"
             ],
             [
              0.8888888888888888,
              "#fdca26"
             ],
             [
              1,
              "#f0f921"
             ]
            ],
            "type": "histogram2d"
           }
          ],
          "histogram2dcontour": [
           {
            "colorbar": {
             "outlinewidth": 0,
             "ticks": ""
            },
            "colorscale": [
             [
              0,
              "#0d0887"
             ],
             [
              0.1111111111111111,
              "#46039f"
             ],
             [
              0.2222222222222222,
              "#7201a8"
             ],
             [
              0.3333333333333333,
              "#9c179e"
             ],
             [
              0.4444444444444444,
              "#bd3786"
             ],
             [
              0.5555555555555556,
              "#d8576b"
             ],
             [
              0.6666666666666666,
              "#ed7953"
             ],
             [
              0.7777777777777778,
              "#fb9f3a"
             ],
             [
              0.8888888888888888,
              "#fdca26"
             ],
             [
              1,
              "#f0f921"
             ]
            ],
            "type": "histogram2dcontour"
           }
          ],
          "mesh3d": [
           {
            "colorbar": {
             "outlinewidth": 0,
             "ticks": ""
            },
            "type": "mesh3d"
           }
          ],
          "parcoords": [
           {
            "line": {
             "colorbar": {
              "outlinewidth": 0,
              "ticks": ""
             }
            },
            "type": "parcoords"
           }
          ],
          "pie": [
           {
            "automargin": true,
            "type": "pie"
           }
          ],
          "scatter": [
           {
            "fillpattern": {
             "fillmode": "overlay",
             "size": 10,
             "solidity": 0.2
            },
            "type": "scatter"
           }
          ],
          "scatter3d": [
           {
            "line": {
             "colorbar": {
              "outlinewidth": 0,
              "ticks": ""
             }
            },
            "marker": {
             "colorbar": {
              "outlinewidth": 0,
              "ticks": ""
             }
            },
            "type": "scatter3d"
           }
          ],
          "scattercarpet": [
           {
            "marker": {
             "colorbar": {
              "outlinewidth": 0,
              "ticks": ""
             }
            },
            "type": "scattercarpet"
           }
          ],
          "scattergeo": [
           {
            "marker": {
             "colorbar": {
              "outlinewidth": 0,
              "ticks": ""
             }
            },
            "type": "scattergeo"
           }
          ],
          "scattergl": [
           {
            "marker": {
             "colorbar": {
              "outlinewidth": 0,
              "ticks": ""
             }
            },
            "type": "scattergl"
           }
          ],
          "scattermapbox": [
           {
            "marker": {
             "colorbar": {
              "outlinewidth": 0,
              "ticks": ""
             }
            },
            "type": "scattermapbox"
           }
          ],
          "scatterpolar": [
           {
            "marker": {
             "colorbar": {
              "outlinewidth": 0,
              "ticks": ""
             }
            },
            "type": "scatterpolar"
           }
          ],
          "scatterpolargl": [
           {
            "marker": {
             "colorbar": {
              "outlinewidth": 0,
              "ticks": ""
             }
            },
            "type": "scatterpolargl"
           }
          ],
          "scatterternary": [
           {
            "marker": {
             "colorbar": {
              "outlinewidth": 0,
              "ticks": ""
             }
            },
            "type": "scatterternary"
           }
          ],
          "surface": [
           {
            "colorbar": {
             "outlinewidth": 0,
             "ticks": ""
            },
            "colorscale": [
             [
              0,
              "#0d0887"
             ],
             [
              0.1111111111111111,
              "#46039f"
             ],
             [
              0.2222222222222222,
              "#7201a8"
             ],
             [
              0.3333333333333333,
              "#9c179e"
             ],
             [
              0.4444444444444444,
              "#bd3786"
             ],
             [
              0.5555555555555556,
              "#d8576b"
             ],
             [
              0.6666666666666666,
              "#ed7953"
             ],
             [
              0.7777777777777778,
              "#fb9f3a"
             ],
             [
              0.8888888888888888,
              "#fdca26"
             ],
             [
              1,
              "#f0f921"
             ]
            ],
            "type": "surface"
           }
          ],
          "table": [
           {
            "cells": {
             "fill": {
              "color": "#EBF0F8"
             },
             "line": {
              "color": "white"
             }
            },
            "header": {
             "fill": {
              "color": "#C8D4E3"
             },
             "line": {
              "color": "white"
             }
            },
            "type": "table"
           }
          ]
         },
         "layout": {
          "annotationdefaults": {
           "arrowcolor": "#2a3f5f",
           "arrowhead": 0,
           "arrowwidth": 1
          },
          "autotypenumbers": "strict",
          "coloraxis": {
           "colorbar": {
            "outlinewidth": 0,
            "ticks": ""
           }
          },
          "colorscale": {
           "diverging": [
            [
             0,
             "#8e0152"
            ],
            [
             0.1,
             "#c51b7d"
            ],
            [
             0.2,
             "#de77ae"
            ],
            [
             0.3,
             "#f1b6da"
            ],
            [
             0.4,
             "#fde0ef"
            ],
            [
             0.5,
             "#f7f7f7"
            ],
            [
             0.6,
             "#e6f5d0"
            ],
            [
             0.7,
             "#b8e186"
            ],
            [
             0.8,
             "#7fbc41"
            ],
            [
             0.9,
             "#4d9221"
            ],
            [
             1,
             "#276419"
            ]
           ],
           "sequential": [
            [
             0,
             "#0d0887"
            ],
            [
             0.1111111111111111,
             "#46039f"
            ],
            [
             0.2222222222222222,
             "#7201a8"
            ],
            [
             0.3333333333333333,
             "#9c179e"
            ],
            [
             0.4444444444444444,
             "#bd3786"
            ],
            [
             0.5555555555555556,
             "#d8576b"
            ],
            [
             0.6666666666666666,
             "#ed7953"
            ],
            [
             0.7777777777777778,
             "#fb9f3a"
            ],
            [
             0.8888888888888888,
             "#fdca26"
            ],
            [
             1,
             "#f0f921"
            ]
           ],
           "sequentialminus": [
            [
             0,
             "#0d0887"
            ],
            [
             0.1111111111111111,
             "#46039f"
            ],
            [
             0.2222222222222222,
             "#7201a8"
            ],
            [
             0.3333333333333333,
             "#9c179e"
            ],
            [
             0.4444444444444444,
             "#bd3786"
            ],
            [
             0.5555555555555556,
             "#d8576b"
            ],
            [
             0.6666666666666666,
             "#ed7953"
            ],
            [
             0.7777777777777778,
             "#fb9f3a"
            ],
            [
             0.8888888888888888,
             "#fdca26"
            ],
            [
             1,
             "#f0f921"
            ]
           ]
          },
          "colorway": [
           "#636efa",
           "#EF553B",
           "#00cc96",
           "#ab63fa",
           "#FFA15A",
           "#19d3f3",
           "#FF6692",
           "#B6E880",
           "#FF97FF",
           "#FECB52"
          ],
          "font": {
           "color": "#2a3f5f"
          },
          "geo": {
           "bgcolor": "white",
           "lakecolor": "white",
           "landcolor": "#E5ECF6",
           "showlakes": true,
           "showland": true,
           "subunitcolor": "white"
          },
          "hoverlabel": {
           "align": "left"
          },
          "hovermode": "closest",
          "mapbox": {
           "style": "light"
          },
          "paper_bgcolor": "white",
          "plot_bgcolor": "#E5ECF6",
          "polar": {
           "angularaxis": {
            "gridcolor": "white",
            "linecolor": "white",
            "ticks": ""
           },
           "bgcolor": "#E5ECF6",
           "radialaxis": {
            "gridcolor": "white",
            "linecolor": "white",
            "ticks": ""
           }
          },
          "scene": {
           "xaxis": {
            "backgroundcolor": "#E5ECF6",
            "gridcolor": "white",
            "gridwidth": 2,
            "linecolor": "white",
            "showbackground": true,
            "ticks": "",
            "zerolinecolor": "white"
           },
           "yaxis": {
            "backgroundcolor": "#E5ECF6",
            "gridcolor": "white",
            "gridwidth": 2,
            "linecolor": "white",
            "showbackground": true,
            "ticks": "",
            "zerolinecolor": "white"
           },
           "zaxis": {
            "backgroundcolor": "#E5ECF6",
            "gridcolor": "white",
            "gridwidth": 2,
            "linecolor": "white",
            "showbackground": true,
            "ticks": "",
            "zerolinecolor": "white"
           }
          },
          "shapedefaults": {
           "line": {
            "color": "#2a3f5f"
           }
          },
          "ternary": {
           "aaxis": {
            "gridcolor": "white",
            "linecolor": "white",
            "ticks": ""
           },
           "baxis": {
            "gridcolor": "white",
            "linecolor": "white",
            "ticks": ""
           },
           "bgcolor": "#E5ECF6",
           "caxis": {
            "gridcolor": "white",
            "linecolor": "white",
            "ticks": ""
           }
          },
          "title": {
           "x": 0.05
          },
          "xaxis": {
           "automargin": true,
           "gridcolor": "white",
           "linecolor": "white",
           "ticks": "",
           "title": {
            "standoff": 15
           },
           "zerolinecolor": "white",
           "zerolinewidth": 2
          },
          "yaxis": {
           "automargin": true,
           "gridcolor": "white",
           "linecolor": "white",
           "ticks": "",
           "title": {
            "standoff": 15
           },
           "zerolinecolor": "white",
           "zerolinewidth": 2
          }
         }
        },
        "title": {
         "text": "Matrice di Correlazione - Anno 2022"
        },
        "xaxis": {
         "anchor": "y",
         "constrain": "domain",
         "domain": [
          0,
          1
         ],
         "scaleanchor": "y"
        },
        "yaxis": {
         "anchor": "x",
         "autorange": "reversed",
         "constrain": "domain",
         "domain": [
          0,
          1
         ]
        }
       }
      }
     },
     "metadata": {},
     "output_type": "display_data"
    },
    {
     "data": {
      "application/vnd.plotly.v1+json": {
       "config": {
        "plotlyServerURL": "https://plot.ly"
       },
       "data": [
        {
         "coloraxis": "coloraxis",
         "hovertemplate": "x: %{x}<br>y: %{y}<br>color: %{z}<extra></extra>",
         "name": "0",
         "type": "heatmap",
         "x": [
          "Gls",
          "Ast",
          "PK",
          "PKatt",
          "CrdY",
          "CrdR",
          "xG",
          "PrgP",
          "PrgR",
          "Sh",
          "SoT",
          "Dist",
          "FK",
          "Cmp",
          "Att",
          "xA",
          "KP",
          "PPA",
          "CrsPA",
          "SCA",
          "GCA",
          "Tkl",
          "TklW",
          "Mid 3rd",
          "Att 3rd",
          "Touches",
          "Mid 3rd.1",
          "Att 3rd.1",
          "Att.1",
          "Succ",
          "Carries",
          "TotDist",
          "2CrdY",
          "Fld",
          "Off",
          "Crs",
          "Won",
          "Lost",
          "Duels"
         ],
         "xaxis": "x",
         "y": [
          "Gls",
          "Ast",
          "PK",
          "PKatt",
          "CrdY",
          "CrdR",
          "xG",
          "PrgP",
          "PrgR",
          "Sh",
          "SoT",
          "Dist",
          "FK",
          "Cmp",
          "Att",
          "xA",
          "KP",
          "PPA",
          "CrsPA",
          "SCA",
          "GCA",
          "Tkl",
          "TklW",
          "Mid 3rd",
          "Att 3rd",
          "Touches",
          "Mid 3rd.1",
          "Att 3rd.1",
          "Att.1",
          "Succ",
          "Carries",
          "TotDist",
          "2CrdY",
          "Fld",
          "Off",
          "Crs",
          "Won",
          "Lost",
          "Duels"
         ],
         "yaxis": "y",
         "z": [
          [
           1,
           0.5526504212795946,
           0.6552445692844043,
           0.6571079306394467,
           0.5763569751076416,
           0.07090053049654749,
           0.9406995365569356,
           0.5823784193827011,
           0.7812720678402927,
           0.903543745184995,
           0.9412925398873004,
           -0.06721095578896724,
           0.39048175325150564,
           0.6353396881201547,
           0.658603948913631,
           0.5895639394939728,
           0.667735641575855,
           0.5562288839596952,
           0.26906595155026614,
           0.717862571919284,
           0.7312023254948118,
           0.40497619799558326,
           0.3531991560121003,
           0.39798732749817956,
           0.49814549234701977,
           0.708417456398665,
           0.6816984489965677,
           0.7436387069675164,
           0.5659048206276689,
           0.5254617906832626,
           0.6799602048719595,
           0.5800043605592905,
           0.07207093712737044,
           0.6380359800203999,
           0.6949197608337555,
           0.32144405793155134,
           0.47498704033237,
           0.5843940448178933,
           0.5573061859354003
          ],
          [
           0.5526504212795946,
           1,
           0.4500952091215246,
           0.43528943238510615,
           0.4424556548699318,
           0.14964576328006646,
           0.5416318043106403,
           0.8035081384504483,
           0.757869677569895,
           0.6747754842065046,
           0.6331758831006101,
           0.14982087787979986,
           0.44835820947493976,
           0.787707176531708,
           0.8038559517744046,
           0.8713995391935595,
           0.8414514714895436,
           0.8159069997469022,
           0.6319731639556214,
           0.8337083653965729,
           0.8830594581066825,
           0.5292488342522573,
           0.5076269514089993,
           0.5202956839447395,
           0.47596581936851307,
           0.7992647620888526,
           0.7659656008803754,
           0.8161763395466886,
           0.6813103239423176,
           0.6503629278186358,
           0.8108663060552899,
           0.8022417949334187,
           0.13051312695490502,
           0.6029248013402075,
           0.3793514120867715,
           0.6610398193146776,
           0.23563893073202843,
           0.26154076188643977,
           0.2615270284934465
          ],
          [
           0.6552445692844043,
           0.4500952091215246,
           1,
           0.9715675658320677,
           0.32950531223202045,
           -0.03469647062805018,
           0.7019352887838713,
           0.47047986097861694,
           0.5027797971039814,
           0.6066751492725555,
           0.5728908073129271,
           0.08940212824066858,
           0.5344771174042106,
           0.4864528603692165,
           0.5006552003431645,
           0.47214935210354525,
           0.4958312943931718,
           0.4251318718659453,
           0.19369243786394777,
           0.5205323760322398,
           0.5186945758286693,
           0.2043257659377517,
           0.191881087165735,
           0.2201334035690887,
           0.19990300264435623,
           0.5083116738190919,
           0.492539861439026,
           0.5349863472272803,
           0.3558862487626658,
           0.31898254066930903,
           0.5046871760665917,
           0.4147013683378303,
           0.004196510899148653,
           0.4543695249517331,
           0.34230967042643184,
           0.29499858439114673,
           0.24766317329421295,
           0.30080501962013495,
           0.28852822248738524
          ],
          [
           0.6571079306394467,
           0.43528943238510615,
           0.9715675658320677,
           1,
           0.32918716136638765,
           -0.019254808652210628,
           0.7120756015270457,
           0.46201983208808306,
           0.487647049413269,
           0.6073000377464913,
           0.5768321367947252,
           0.10367211658495233,
           0.5446414242586372,
           0.4932627673108322,
           0.503067342071561,
           0.46422762689138525,
           0.48677517181978286,
           0.4186030528170479,
           0.19722290014554367,
           0.508029685514262,
           0.5112559411421105,
           0.2008097500714045,
           0.18936174614587128,
           0.2116779687606297,
           0.1986505703986198,
           0.5078026714771398,
           0.4922513730885347,
           0.5302549827629982,
           0.3448676649072208,
           0.30815541957856857,
           0.5057356261802408,
           0.41044547757563676,
           0.0015474112949534597,
           0.43284237074057835,
           0.3514792423317174,
           0.30202971227424724,
           0.21362172699958487,
           0.27229205331348233,
           0.25563127624623416
          ],
          [
           0.5763569751076416,
           0.4424556548699318,
           0.32950531223202045,
           0.32918716136638765,
           1,
           0.42621697334654346,
           0.5741126573993008,
           0.5366887937611595,
           0.6320249661383242,
           0.6505813031479019,
           0.6079151245356833,
           0.04326946188503427,
           0.35185434301026763,
           0.5811457822541097,
           0.6040905414817644,
           0.5300334827511802,
           0.5648165788823682,
           0.5068081148569418,
           0.2711667691438725,
           0.6283694188901692,
           0.5595706426405241,
           0.5143169688969726,
           0.5075326726884619,
           0.4836054254387695,
           0.5798677635289777,
           0.6493159060787682,
           0.639150405499545,
           0.6380119057492665,
           0.590222584803213,
           0.55452195453877,
           0.6268092174205121,
           0.5917052608137325,
           0.3719847353620565,
           0.6927967963880571,
           0.49935285032967563,
           0.38955222893849745,
           0.4357877833980833,
           0.4992959680704494,
           0.4918872829025284
          ],
          [
           0.07090053049654749,
           0.14964576328006646,
           -0.03469647062805018,
           -0.019254808652210628,
           0.42621697334654346,
           1,
           0.08766697281865879,
           0.24205735093936656,
           0.2180588812187287,
           0.18101146093974785,
           0.13447983396739677,
           0.0710569737781596,
           -0.008177885522881418,
           0.2268047379367614,
           0.23434645600832046,
           0.21170822491546634,
           0.18410845257616323,
           0.1949878934993263,
           0.18436361067329682,
           0.23920587480414718,
           0.23729357643396684,
           0.2339575508307283,
           0.24661000577366776,
           0.27752870349012,
           0.22735860519369358,
           0.2522643073400987,
           0.26098794377592205,
           0.22589999776437442,
           0.3018833627012979,
           0.2808008581964632,
           0.26492332580439293,
           0.3070271979739064,
           0.7313208372216118,
           0.3317479520534249,
           0.05821385164725518,
           0.2345889413762702,
           0.06396331277858987,
           0.05969698303215549,
           0.06503818403085893
          ],
          [
           0.9406995365569356,
           0.5416318043106403,
           0.7019352887838713,
           0.7120756015270457,
           0.5741126573993008,
           0.08766697281865879,
           1,
           0.5523078367997465,
           0.7885215772679863,
           0.918534245499598,
           0.9224083001483014,
           -0.11880767082885559,
           0.3535791221329077,
           0.6261216843060187,
           0.6486496711498669,
           0.5595507825861252,
           0.6532787824028982,
           0.5305287354504862,
           0.28602635560606393,
           0.7083092215835846,
           0.7148138020233469,
           0.40530700047803525,
           0.3635768100889443,
           0.40688283976149614,
           0.47263980168642017,
           0.7061126886376285,
           0.682375201880872,
           0.740074975438811,
           0.5838746040099767,
           0.5397013387217613,
           0.6714414821810581,
           0.5743064820619408,
           0.09443084205077877,
           0.6551474711207201,
           0.6759296391399648,
           0.28863320286125255,
           0.5435542482318287,
           0.6578007587975758,
           0.6319851430793967
          ],
          [
           0.5823784193827011,
           0.8035081384504483,
           0.47047986097861694,
           0.46201983208808306,
           0.5366887937611595,
           0.24205735093936656,
           0.5523078367997465,
           1,
           0.7892401003630323,
           0.7085438481300333,
           0.6561849969894257,
           0.26068218421091227,
           0.5347992516004898,
           0.9406962008771309,
           0.9448818540851048,
           0.9174864151832713,
           0.9091212704775412,
           0.9440484619213918,
           0.6183288100156639,
           0.9155718110428755,
           0.8313091326887903,
           0.6795033263519088,
           0.6482210071285868,
           0.669329286976469,
           0.6027832959073494,
           0.927048082331909,
           0.9155325371966373,
           0.9010776120134667,
           0.7679610343142761,
           0.7481049862010076,
           0.934394121166759,
           0.9115889065955485,
           0.18007649689793737,
           0.6385238107383653,
           0.3649860781968977,
           0.7462183427349556,
           0.16892480834925686,
           0.24462092335398392,
           0.2175830786570562
          ],
          [
           0.7812720678402927,
           0.757869677569895,
           0.5027797971039814,
           0.487647049413269,
           0.6320249661383242,
           0.2180588812187287,
           0.7885215772679863,
           0.7892401003630323,
           1,
           0.8955684841772777,
           0.8533319387691539,
           0.047297873384502274,
           0.38877971153706536,
           0.8431688218062853,
           0.865921082472731,
           0.8251104400054942,
           0.8764447613079351,
           0.8229155035820211,
           0.5531653501944501,
           0.9161389368455973,
           0.8720088435252228,
           0.6463035528365934,
           0.603757486148024,
           0.6237574962050849,
           0.6770243068450634,
           0.9048712112306403,
           0.8495427897919956,
           0.9513088298557629,
           0.8378283139504571,
           0.7890818454092544,
           0.9031096001416458,
           0.8684109719747999,
           0.17584959463037186,
           0.7841150379725197,
           0.6964445506339713,
           0.5927027450175393,
           0.3971957190411347,
           0.5435676037972207,
           0.49495000002690054
          ],
          [
           0.903543745184995,
           0.6747754842065046,
           0.6066751492725555,
           0.6073000377464913,
           0.6505813031479019,
           0.18101146093974785,
           0.918534245499598,
           0.7085438481300333,
           0.8955684841772777,
           1,
           0.9683342142149945,
           0.04521243678792531,
           0.45587369805564804,
           0.758557263487766,
           0.7877613158622836,
           0.7252540268949733,
           0.8001347559125304,
           0.7012781399328294,
           0.455680034814943,
           0.8649868053192649,
           0.822113027813096,
           0.5287042409569945,
           0.4813252324059184,
           0.523074582483074,
           0.6205446687346804,
           0.8391164072660735,
           0.8013775368718871,
           0.8780816867448257,
           0.7353252952441107,
           0.6988194668538564,
           0.8167811682951578,
           0.746506644399199,
           0.1398091850169612,
           0.7576735291764726,
           0.6923361037231596,
           0.48921381767083844,
           0.5025679386356132,
           0.6190714574190006,
           0.5900588800972271
          ],
          [
           0.9412925398873004,
           0.6331758831006101,
           0.5728908073129271,
           0.5768321367947252,
           0.6079151245356833,
           0.13447983396739677,
           0.9224083001483014,
           0.6561849969894257,
           0.8533319387691539,
           0.9683342142149945,
           1,
           0.00685115687573847,
           0.4084534120227674,
           0.7066863483267609,
           0.7313588076482841,
           0.6690299062725619,
           0.7507256573063188,
           0.6485041830425322,
           0.37758676131643093,
           0.8117107914730393,
           0.7868612734983969,
           0.4946454609487218,
           0.44297003669022794,
           0.4899593864196041,
           0.5860380896708087,
           0.7866036817239321,
           0.7519529097965244,
           0.8262198549493142,
           0.690395921598418,
           0.6515728578120972,
           0.76491502241873,
           0.6950482920608729,
           0.10509214266263227,
           0.7064360628026977,
           0.7052969504782501,
           0.41273501814384617,
           0.48074263736157824,
           0.6008587648660225,
           0.5690032349836849
          ],
          [
           -0.06721095578896724,
           0.14982087787979986,
           0.08940212824066858,
           0.10367211658495233,
           0.04326946188503427,
           0.0710569737781596,
           -0.11880767082885559,
           0.26068218421091227,
           0.047297873384502274,
           0.04521243678792531,
           0.00685115687573847,
           1,
           0.3473111874176755,
           0.21537898175555822,
           0.21646638666162826,
           0.24500057040618312,
           0.20301134124207057,
           0.2612420269791172,
           0.27266163210312394,
           0.219744753855261,
           0.12928115849628274,
           0.24061248410553293,
           0.21872950411419975,
           0.2232018209186316,
           0.19121542162358518,
           0.19004881711829782,
           0.18669133929735837,
           0.17105222198233738,
           0.22295185947078627,
           0.2466468138004217,
           0.2150305085220463,
           0.25081364812159074,
           -0.029760700556052264,
           0.08607272032126516,
           -0.13895624043658275,
           0.35976622778529854,
           -0.2695763082855688,
           -0.23536772355330857,
           -0.26650691038241453
          ],
          [
           0.39048175325150564,
           0.44835820947493976,
           0.5344771174042106,
           0.5446414242586372,
           0.35185434301026763,
           -0.008177885522881418,
           0.3535791221329077,
           0.5347992516004898,
           0.38877971153706536,
           0.45587369805564804,
           0.4084534120227674,
           0.3473111874176755,
           1,
           0.4862755547142034,
           0.5124453471753508,
           0.5924456332306068,
           0.5763486874055656,
           0.5374643792212176,
           0.3560686584564912,
           0.5598676095102071,
           0.4470745321759406,
           0.2494997754266885,
           0.23779927064196862,
           0.2463021156532259,
           0.2578543606298318,
           0.49278524375451144,
           0.46027195754470707,
           0.5234738032889972,
           0.3779791455054552,
           0.36038147374435553,
           0.4849339296760422,
           0.43456479730708153,
           -0.035933375450118064,
           0.36448454946186976,
           0.28504794098581077,
           0.6224371148693063,
           0.03137023935403974,
           0.07713557766218745,
           0.05711285867697373
          ],
          [
           0.6353396881201547,
           0.787707176531708,
           0.4864528603692165,
           0.4932627673108322,
           0.5811457822541097,
           0.2268047379367614,
           0.6261216843060187,
           0.9406962008771309,
           0.8431688218062853,
           0.758557263487766,
           0.7066863483267609,
           0.21537898175555822,
           0.4862755547142034,
           1,
           0.9935971162468846,
           0.8851754663678862,
           0.9011708322285439,
           0.891463091197015,
           0.6063485772107261,
           0.9180790850523645,
           0.8583096274271921,
           0.7653013027297767,
           0.7326255940459261,
           0.7201609603112574,
           0.6752388301592406,
           0.9815899012742468,
           0.9782599300018814,
           0.9380029687854105,
           0.7737439959458745,
           0.7604515218522094,
           0.9808796456802553,
           0.9311763056319273,
           0.1802470726777475,
           0.6988910947908338,
           0.42774207690756133,
           0.6924569050256584,
           0.2553058041274202,
           0.34332351845388465,
           0.31494339831350066
          ],
          [
           0.658603948913631,
           0.8038559517744046,
           0.5006552003431645,
           0.503067342071561,
           0.6040905414817644,
           0.23434645600832046,
           0.6486496711498669,
           0.9448818540851048,
           0.865921082472731,
           0.7877613158622836,
           0.7313588076482841,
           0.21646638666162826,
           0.5124453471753508,
           0.9935971162468846,
           1,
           0.9055680476210638,
           0.9229201819969666,
           0.9064865906546242,
           0.647939624701238,
           0.9367661812975632,
           0.8698395054987182,
           0.7551166702761862,
           0.7221493337654702,
           0.7138250290598424,
           0.6788849162902447,
           0.9919061194403628,
           0.9815356955214055,
           0.9576523454887118,
           0.7828070555622525,
           0.7615785013841897,
           0.9870843960685776,
           0.9316353810568205,
           0.16738046931536935,
           0.7227395400718207,
           0.4683267147292585,
           0.7372188639528304,
           0.29879454067999034,
           0.3811328174642122,
           0.3576988604025639
          ],
          [
           0.5895639394939728,
           0.8713995391935595,
           0.47214935210354525,
           0.46422762689138525,
           0.5300334827511802,
           0.21170822491546634,
           0.5595507825861252,
           0.9174864151832713,
           0.8251104400054942,
           0.7252540268949733,
           0.6690299062725619,
           0.24500057040618312,
           0.5924456332306068,
           0.8851754663678862,
           0.9055680476210638,
           1,
           0.9580004489081857,
           0.9447462445236474,
           0.6786520262252859,
           0.9373202924232367,
           0.8541703664806616,
           0.5941164309594055,
           0.5637829310869967,
           0.5657532801568581,
           0.5767323972692618,
           0.8956588886360526,
           0.8484400338134677,
           0.9205460648508594,
           0.7839744251461235,
           0.7540247851532261,
           0.906659582158308,
           0.8902911525529968,
           0.1488977300300868,
           0.6575294218656347,
           0.43779959000471924,
           0.8014909845774739,
           0.21047424895419645,
           0.2514808137748678,
           0.24301354499338543
          ],
          [
           0.667735641575855,
           0.8414514714895436,
           0.4958312943931718,
           0.48677517181978286,
           0.5648165788823682,
           0.18410845257616323,
           0.6532787824028982,
           0.9091212704775412,
           0.8764447613079351,
           0.8001347559125304,
           0.7507256573063188,
           0.20301134124207057,
           0.5763486874055656,
           0.9011708322285439,
           0.9229201819969666,
           0.9580004489081857,
           1,
           0.9314790014232753,
           0.6188839838188215,
           0.9733361708117382,
           0.8752366007108713,
           0.6303659942863883,
           0.595231241527607,
           0.6150885011587544,
           0.621349170257255,
           0.9232710304753619,
           0.876957881431867,
           0.9504680384921097,
           0.7960404308571305,
           0.7650534181651021,
           0.9213347698141912,
           0.884527478498908,
           0.12084670107640767,
           0.6698406978523671,
           0.5146328735714137,
           0.7555730851088344,
           0.2836616475188829,
           0.33480824820336436,
           0.32534546320793917
          ],
          [
           0.5562288839596952,
           0.8159069997469022,
           0.4251318718659453,
           0.4186030528170479,
           0.5068081148569418,
           0.1949878934993263,
           0.5305287354504862,
           0.9440484619213918,
           0.8229155035820211,
           0.7012781399328294,
           0.6485041830425322,
           0.2612420269791172,
           0.5374643792212176,
           0.891463091197015,
           0.9064865906546242,
           0.9447462445236474,
           0.9314790014232753,
           1,
           0.7107830475870408,
           0.9226391434524409,
           0.8262820326542043,
           0.6555992998211899,
           0.6346937201263495,
           0.6364214088679133,
           0.5884236418318144,
           0.8944300752579257,
           0.8473757468261078,
           0.9137339723065325,
           0.7997018328719182,
           0.7719253112661939,
           0.9089811991537672,
           0.914386072704096,
           0.1292142921097063,
           0.6060542152847908,
           0.41859751238696596,
           0.8149623025173092,
           0.10885789807787556,
           0.2006668701553689,
           0.16288544863080656
          ],
          [
           0.26906595155026614,
           0.6319731639556214,
           0.19369243786394777,
           0.19722290014554367,
           0.2711667691438725,
           0.18436361067329682,
           0.28602635560606393,
           0.6183288100156639,
           0.5531653501944501,
           0.455680034814943,
           0.37758676131643093,
           0.27266163210312394,
           0.3560686584564912,
           0.6063485772107261,
           0.647939624701238,
           0.6786520262252859,
           0.6188839838188215,
           0.7107830475870408,
           1,
           0.6095650243323332,
           0.5901205186317127,
           0.47049608735901083,
           0.46370675255798166,
           0.4185067902305649,
           0.395981259818399,
           0.629906759138363,
           0.5893095727052999,
           0.6302629994730409,
           0.5155058170462198,
           0.47629417680460423,
           0.6399353113222334,
           0.6528574752223604,
           0.07394493836180699,
           0.4472375700232443,
           0.26233839450544627,
           0.8365203195534716,
           0.037660018844649895,
           0.1058011150404284,
           0.07551880049047435
          ],
          [
           0.717862571919284,
           0.8337083653965729,
           0.5205323760322398,
           0.508029685514262,
           0.6283694188901692,
           0.23920587480414718,
           0.7083092215835846,
           0.9155718110428755,
           0.9161389368455973,
           0.8649868053192649,
           0.8117107914730393,
           0.219744753855261,
           0.5598676095102071,
           0.9180790850523645,
           0.9367661812975632,
           0.9373202924232367,
           0.9733361708117382,
           0.9226391434524409,
           0.6095650243323332,
           1,
           0.9096214260913306,
           0.6896952545076008,
           0.649957038274369,
           0.674132282109198,
           0.6889738383071138,
           0.9506224621682963,
           0.9074375709917836,
           0.9749409136256723,
           0.8594490752571537,
           0.8334722121195558,
           0.9488731594963311,
           0.9186039703416737,
           0.16031529701528438,
           0.7496535481102172,
           0.5391853790355072,
           0.7229311189521278,
           0.3080306746129778,
           0.3935161971859495,
           0.3690730207945807
          ],
          [
           0.7312023254948118,
           0.8830594581066825,
           0.5186945758286693,
           0.5112559411421105,
           0.5595706426405241,
           0.23729357643396684,
           0.7148138020233469,
           0.8313091326887903,
           0.8720088435252228,
           0.822113027813096,
           0.7868612734983969,
           0.12928115849628274,
           0.4470745321759406,
           0.8583096274271921,
           0.8698395054987182,
           0.8541703664806616,
           0.8752366007108713,
           0.8262820326542043,
           0.5901205186317127,
           0.9096214260913306,
           1,
           0.6450426953371713,
           0.6120214370030064,
           0.6287593019760584,
           0.6238921737357751,
           0.8859911606336252,
           0.8558996843221343,
           0.8974366349907266,
           0.7759587660327671,
           0.7484693986559485,
           0.8867188166491081,
           0.8552062802075632,
           0.18605724515320293,
           0.7416558224917509,
           0.48640764186252017,
           0.6090656997235778,
           0.32138055209340183,
           0.37592304625025663,
           0.36681301010506
          ],
          [
           0.40497619799558326,
           0.5292488342522573,
           0.2043257659377517,
           0.2008097500714045,
           0.5143169688969726,
           0.2339575508307283,
           0.40530700047803525,
           0.6795033263519088,
           0.6463035528365934,
           0.5287042409569945,
           0.4946454609487218,
           0.24061248410553293,
           0.2494997754266885,
           0.7653013027297767,
           0.7551166702761862,
           0.5941164309594055,
           0.6303659942863883,
           0.6555992998211899,
           0.47049608735901083,
           0.6896952545076008,
           0.6450426953371713,
           1,
           0.9749054399277649,
           0.9486786404822853,
           0.8356520636095917,
           0.7755954541764798,
           0.7866258083724288,
           0.7082386576596802,
           0.7161685473858883,
           0.715912855592131,
           0.7576842297299313,
           0.7481945384431409,
           0.1408901868947069,
           0.6169466729357559,
           0.2591860372487095,
           0.4871303982610323,
           0.1636727996412172,
           0.2810040315374369,
           0.23399510996750642
          ],
          [
           0.3531991560121003,
           0.5076269514089993,
           0.191881087165735,
           0.18936174614587128,
           0.5075326726884619,
           0.24661000577366776,
           0.3635768100889443,
           0.6482210071285868,
           0.603757486148024,
           0.4813252324059184,
           0.44297003669022794,
           0.21872950411419975,
           0.23779927064196862,
           0.7326255940459261,
           0.7221493337654702,
           0.5637829310869967,
           0.595231241527607,
           0.6346937201263495,
           0.46370675255798166,
           0.649957038274369,
           0.6120214370030064,
           0.9749054399277649,
           1,
           0.9213104178193663,
           0.7961061886650256,
           0.7397470822407649,
           0.7531574095210826,
           0.6679943768333181,
           0.669302885310409,
           0.6703548477935538,
           0.7209188254789658,
           0.7130150919443845,
           0.15353155728489223,
           0.5937798165303761,
           0.2368416631544158,
           0.4752315340264129,
           0.14513310351875922,
           0.2484661562377707,
           0.20711691002269217
          ],
          [
           0.39798732749817956,
           0.5202956839447395,
           0.2201334035690887,
           0.2116779687606297,
           0.4836054254387695,
           0.27752870349012,
           0.40688283976149614,
           0.669329286976469,
           0.6237574962050849,
           0.523074582483074,
           0.4899593864196041,
           0.2232018209186316,
           0.2463021156532259,
           0.7201609603112574,
           0.7138250290598424,
           0.5657532801568581,
           0.6150885011587544,
           0.6364214088679133,
           0.4185067902305649,
           0.674132282109198,
           0.6287593019760584,
           0.9486786404822853,
           0.9213104178193663,
           1,
           0.7530758859176827,
           0.7374326985941696,
           0.7556469661557257,
           0.6787045677809298,
           0.6984198594784589,
           0.6976641883242776,
           0.715966811094271,
           0.7058625113924735,
           0.16793873953349953,
           0.5865989130679754,
           0.23553518837415247,
           0.4507326332509787,
           0.1681994823987753,
           0.27848523328210567,
           0.235044792579029
          ],
          [
           0.49814549234701977,
           0.47596581936851307,
           0.19990300264435623,
           0.1986505703986198,
           0.5798677635289777,
           0.22735860519369358,
           0.47263980168642017,
           0.6027832959073494,
           0.6770243068450634,
           0.6205446687346804,
           0.5860380896708087,
           0.19121542162358518,
           0.2578543606298318,
           0.6752388301592406,
           0.6788849162902447,
           0.5767323972692618,
           0.621349170257255,
           0.5884236418318144,
           0.395981259818399,
           0.6889738383071138,
           0.6238921737357751,
           0.8356520636095917,
           0.7961061886650256,
           0.7530758859176827,
           1,
           0.7189606749712657,
           0.7086588563935524,
           0.7006165809759323,
           0.7257300791710797,
           0.7170650969041976,
           0.7100182078648637,
           0.6990208228644578,
           0.17442030511913922,
           0.663087567253862,
           0.3506799180487539,
           0.4600796763516234,
           0.21798464292806513,
           0.349918961772747,
           0.29882244516237283
          ],
          [
           0.708417456398665,
           0.7992647620888526,
           0.5083116738190919,
           0.5078026714771398,
           0.6493159060787682,
           0.2522643073400987,
           0.7061126886376285,
           0.927048082331909,
           0.9048712112306403,
           0.8391164072660735,
           0.7866036817239321,
           0.19004881711829782,
           0.49278524375451144,
           0.9815899012742468,
           0.9919061194403628,
           0.8956588886360526,
           0.9232710304753619,
           0.8944300752579257,
           0.629906759138363,
           0.9506224621682963,
           0.8859911606336252,
           0.7755954541764798,
           0.7397470822407649,
           0.7374326985941696,
           0.7189606749712657,
           1,
           0.9859054161530646,
           0.9746067010754789,
           0.823392420257137,
           0.7955610739340078,
           0.9908995673129677,
           0.9372225070132303,
           0.1843818037979901,
           0.7731408968936095,
           0.5302865925605911,
           0.7051829091541768,
           0.35578075121788705,
           0.45978549336456065,
           0.4290610690617928
          ],
          [
           0.6816984489965677,
           0.7659656008803754,
           0.492539861439026,
           0.4922513730885347,
           0.639150405499545,
           0.26098794377592205,
           0.682375201880872,
           0.9155325371966373,
           0.8495427897919956,
           0.8013775368718871,
           0.7519529097965244,
           0.18669133929735837,
           0.46027195754470707,
           0.9782599300018814,
           0.9815356955214055,
           0.8484400338134677,
           0.876957881431867,
           0.8473757468261078,
           0.5893095727052999,
           0.9074375709917836,
           0.8558996843221343,
           0.7866258083724288,
           0.7531574095210826,
           0.7556469661557257,
           0.7086588563935524,
           0.9859054161530646,
           1,
           0.9281363433139355,
           0.7753499497692983,
           0.7577634197100002,
           0.9710182327915293,
           0.9038907919911279,
           0.19900232230267922,
           0.7624651866615095,
           0.48102368866538886,
           0.6469319313210687,
           0.3720741070295796,
           0.46616202736337703,
           0.4409758104939346
          ],
          [
           0.7436387069675164,
           0.8161763395466886,
           0.5349863472272803,
           0.5302549827629982,
           0.6380119057492665,
           0.22589999776437442,
           0.740074975438811,
           0.9010776120134667,
           0.9513088298557629,
           0.8780816867448257,
           0.8262198549493142,
           0.17105222198233738,
           0.5234738032889972,
           0.9380029687854105,
           0.9576523454887118,
           0.9205460648508594,
           0.9504680384921097,
           0.9137339723065325,
           0.6302629994730409,
           0.9749409136256723,
           0.8974366349907266,
           0.7082386576596802,
           0.6679943768333181,
           0.6787045677809298,
           0.7006165809759323,
           0.9746067010754789,
           0.9281363433139355,
           1,
           0.8607378028277843,
           0.822718326951081,
           0.9721712261114056,
           0.935991368233746,
           0.16526009827728538,
           0.7709365943167356,
           0.5871395749389756,
           0.7242833932117364,
           0.35038093318671404,
           0.46216317322951955,
           0.4274785818572324
          ],
          [
           0.5659048206276689,
           0.6813103239423176,
           0.3558862487626658,
           0.3448676649072208,
           0.590222584803213,
           0.3018833627012979,
           0.5838746040099767,
           0.7679610343142761,
           0.8378283139504571,
           0.7353252952441107,
           0.690395921598418,
           0.22295185947078627,
           0.3779791455054552,
           0.7737439959458745,
           0.7828070555622525,
           0.7839744251461235,
           0.7960404308571305,
           0.7997018328719182,
           0.5155058170462198,
           0.8594490752571537,
           0.7759587660327671,
           0.7161685473858883,
           0.669302885310409,
           0.6984198594784589,
           0.7257300791710797,
           0.823392420257137,
           0.7753499497692983,
           0.8607378028277843,
           1,
           0.977835164559903,
           0.8427183098599798,
           0.907759182096685,
           0.2074615162091115,
           0.7146446994276017,
           0.4516685155503065,
           0.5887231419868446,
           0.22805834307947104,
           0.3695015155029271,
           0.3144295092769273
          ],
          [
           0.5254617906832626,
           0.6503629278186358,
           0.31898254066930903,
           0.30815541957856857,
           0.55452195453877,
           0.2808008581964632,
           0.5397013387217613,
           0.7481049862010076,
           0.7890818454092544,
           0.6988194668538564,
           0.6515728578120972,
           0.2466468138004217,
           0.36038147374435553,
           0.7604515218522094,
           0.7615785013841897,
           0.7540247851532261,
           0.7650534181651021,
           0.7719253112661939,
           0.47629417680460423,
           0.8334722121195558,
           0.7484693986559485,
           0.715912855592131,
           0.6703548477935538,
           0.6976641883242776,
           0.7170650969041976,
           0.7955610739340078,
           0.7577634197100002,
           0.822718326951081,
           0.977835164559903,
           1,
           0.8155676996656808,
           0.8864883988994132,
           0.17790671788559534,
           0.6653537840591411,
           0.3777144409766398,
           0.550779011648471,
           0.20103162262190588,
           0.3306656977204033,
           0.2797767974473208
          ],
          [
           0.6799602048719595,
           0.8108663060552899,
           0.5046871760665917,
           0.5057356261802408,
           0.6268092174205121,
           0.26492332580439293,
           0.6714414821810581,
           0.934394121166759,
           0.9031096001416458,
           0.8167811682951578,
           0.76491502241873,
           0.2150305085220463,
           0.4849339296760422,
           0.9808796456802553,
           0.9870843960685776,
           0.906659582158308,
           0.9213347698141912,
           0.9089811991537672,
           0.6399353113222334,
           0.9488731594963311,
           0.8867188166491081,
           0.7576842297299313,
           0.7209188254789658,
           0.715966811094271,
           0.7100182078648637,
           0.9908995673129677,
           0.9710182327915293,
           0.9721712261114056,
           0.8427183098599798,
           0.8155676996656808,
           1,
           0.962137734569313,
           0.19332182191505742,
           0.7691263618724538,
           0.5031196796006044,
           0.7200105333616478,
           0.2831599902444911,
           0.4050664650511565,
           0.36209997731004817
          ],
          [
           0.5800043605592905,
           0.8022417949334187,
           0.4147013683378303,
           0.41044547757563676,
           0.5917052608137325,
           0.3070271979739064,
           0.5743064820619408,
           0.9115889065955485,
           0.8684109719747999,
           0.746506644399199,
           0.6950482920608729,
           0.25081364812159074,
           0.43456479730708153,
           0.9311763056319273,
           0.9316353810568205,
           0.8902911525529968,
           0.884527478498908,
           0.914386072704096,
           0.6528574752223604,
           0.9186039703416737,
           0.8552062802075632,
           0.7481945384431409,
           0.7130150919443845,
           0.7058625113924735,
           0.6990208228644578,
           0.9372225070132303,
           0.9038907919911279,
           0.935991368233746,
           0.907759182096685,
           0.8864883988994132,
           0.962137734569313,
           1,
           0.23627593693819612,
           0.722966657864812,
           0.42058376587834906,
           0.7213713066189342,
           0.1788103032787934,
           0.3009704039986528,
           0.25246322112821057
          ],
          [
           0.07207093712737044,
           0.13051312695490502,
           0.004196510899148653,
           0.0015474112949534597,
           0.3719847353620565,
           0.7313208372216118,
           0.09443084205077877,
           0.18007649689793737,
           0.17584959463037186,
           0.1398091850169612,
           0.10509214266263227,
           -0.029760700556052264,
           -0.035933375450118064,
           0.1802470726777475,
           0.16738046931536935,
           0.1488977300300868,
           0.12084670107640767,
           0.1292142921097063,
           0.07394493836180699,
           0.16031529701528438,
           0.18605724515320293,
           0.1408901868947069,
           0.15353155728489223,
           0.16793873953349953,
           0.17442030511913922,
           0.1843818037979901,
           0.19900232230267922,
           0.16526009827728538,
           0.2074615162091115,
           0.17790671788559534,
           0.19332182191505742,
           0.23627593693819612,
           1,
           0.2967292951405152,
           0.02641481505165098,
           0.07910599365032947,
           0.07015974619747949,
           0.04639897332325656,
           0.061285200164755305
          ],
          [
           0.6380359800203999,
           0.6029248013402075,
           0.4543695249517331,
           0.43284237074057835,
           0.6927967963880571,
           0.3317479520534249,
           0.6551474711207201,
           0.6385238107383653,
           0.7841150379725197,
           0.7576735291764726,
           0.7064360628026977,
           0.08607272032126516,
           0.36448454946186976,
           0.6988910947908338,
           0.7227395400718207,
           0.6575294218656347,
           0.6698406978523671,
           0.6060542152847908,
           0.4472375700232443,
           0.7496535481102172,
           0.7416558224917509,
           0.6169466729357559,
           0.5937798165303761,
           0.5865989130679754,
           0.663087567253862,
           0.7731408968936095,
           0.7624651866615095,
           0.7709365943167356,
           0.7146446994276017,
           0.6653537840591411,
           0.7691263618724538,
           0.722966657864812,
           0.2967292951405152,
           1,
           0.5903028834169934,
           0.45142350407379167,
           0.4750585525230953,
           0.5860112147182436,
           0.5581957950062184
          ],
          [
           0.6949197608337555,
           0.3793514120867715,
           0.34230967042643184,
           0.3514792423317174,
           0.49935285032967563,
           0.05821385164725518,
           0.6759296391399648,
           0.3649860781968977,
           0.6964445506339713,
           0.6923361037231596,
           0.7052969504782501,
           -0.13895624043658275,
           0.28504794098581077,
           0.42774207690756133,
           0.4683267147292585,
           0.43779959000471924,
           0.5146328735714137,
           0.41859751238696596,
           0.26233839450544627,
           0.5391853790355072,
           0.48640764186252017,
           0.2591860372487095,
           0.2368416631544158,
           0.23553518837415247,
           0.3506799180487539,
           0.5302865925605911,
           0.48102368866538886,
           0.5871395749389756,
           0.4516685155503065,
           0.3777144409766398,
           0.5031196796006044,
           0.42058376587834906,
           0.02641481505165098,
           0.5903028834169934,
           1,
           0.28449815224113634,
           0.44409253106298885,
           0.6470703888575958,
           0.5741077520916994
          ],
          [
           0.32144405793155134,
           0.6610398193146776,
           0.29499858439114673,
           0.30202971227424724,
           0.38955222893849745,
           0.2345889413762702,
           0.28863320286125255,
           0.7462183427349556,
           0.5927027450175393,
           0.48921381767083844,
           0.41273501814384617,
           0.35976622778529854,
           0.6224371148693063,
           0.6924569050256584,
           0.7372188639528304,
           0.8014909845774739,
           0.7555730851088344,
           0.8149623025173092,
           0.8365203195534716,
           0.7229311189521278,
           0.6090656997235778,
           0.4871303982610323,
           0.4752315340264129,
           0.4507326332509787,
           0.4600796763516234,
           0.7051829091541768,
           0.6469319313210687,
           0.7242833932117364,
           0.5887231419868446,
           0.550779011648471,
           0.7200105333616478,
           0.7213713066189342,
           0.07910599365032947,
           0.45142350407379167,
           0.28449815224113634,
           1,
           -0.038621831731141636,
           0.03196368977525195,
           -0.003437769945508323
          ],
          [
           0.47498704033237,
           0.23563893073202843,
           0.24766317329421295,
           0.21362172699958487,
           0.4357877833980833,
           0.06396331277858987,
           0.5435542482318287,
           0.16892480834925686,
           0.3971957190411347,
           0.5025679386356132,
           0.48074263736157824,
           -0.2695763082855688,
           0.03137023935403974,
           0.2553058041274202,
           0.29879454067999034,
           0.21047424895419645,
           0.2836616475188829,
           0.10885789807787556,
           0.037660018844649895,
           0.3080306746129778,
           0.32138055209340183,
           0.1636727996412172,
           0.14513310351875922,
           0.1681994823987753,
           0.21798464292806513,
           0.35578075121788705,
           0.3720741070295796,
           0.35038093318671404,
           0.22805834307947104,
           0.20103162262190588,
           0.2831599902444911,
           0.1788103032787934,
           0.07015974619747949,
           0.4750585525230953,
           0.44409253106298885,
           -0.038621831731141636,
           1,
           0.8073479177805791,
           0.9504421936590816
          ],
          [
           0.5843940448178933,
           0.26154076188643977,
           0.30080501962013495,
           0.27229205331348233,
           0.4992959680704494,
           0.05969698303215549,
           0.6578007587975758,
           0.24462092335398392,
           0.5435676037972207,
           0.6190714574190006,
           0.6008587648660225,
           -0.23536772355330857,
           0.07713557766218745,
           0.34332351845388465,
           0.3811328174642122,
           0.2514808137748678,
           0.33480824820336436,
           0.2006668701553689,
           0.1058011150404284,
           0.3935161971859495,
           0.37592304625025663,
           0.2810040315374369,
           0.2484661562377707,
           0.27848523328210567,
           0.349918961772747,
           0.45978549336456065,
           0.46616202736337703,
           0.46216317322951955,
           0.3695015155029271,
           0.3306656977204033,
           0.4050664650511565,
           0.3009704039986528,
           0.04639897332325656,
           0.5860112147182436,
           0.6470703888575958,
           0.03196368977525195,
           0.8073479177805791,
           1,
           0.9507928475812928
          ],
          [
           0.5573061859354003,
           0.2615270284934465,
           0.28852822248738524,
           0.25563127624623416,
           0.4918872829025284,
           0.06503818403085893,
           0.6319851430793967,
           0.2175830786570562,
           0.49495000002690054,
           0.5900588800972271,
           0.5690032349836849,
           -0.26650691038241453,
           0.05711285867697373,
           0.31494339831350066,
           0.3576988604025639,
           0.24301354499338543,
           0.32534546320793917,
           0.16288544863080656,
           0.07551880049047435,
           0.3690730207945807,
           0.36681301010506,
           0.23399510996750642,
           0.20711691002269217,
           0.235044792579029,
           0.29882244516237283,
           0.4290610690617928,
           0.4409758104939346,
           0.4274785818572324,
           0.3144295092769273,
           0.2797767974473208,
           0.36209997731004817,
           0.25246322112821057,
           0.061285200164755305,
           0.5581957950062184,
           0.5741077520916994,
           -0.003437769945508323,
           0.9504421936590816,
           0.9507928475812928,
           1
          ]
         ]
        }
       ],
       "layout": {
        "coloraxis": {
         "colorscale": [
          [
           0,
           "#0d0887"
          ],
          [
           0.1111111111111111,
           "#46039f"
          ],
          [
           0.2222222222222222,
           "#7201a8"
          ],
          [
           0.3333333333333333,
           "#9c179e"
          ],
          [
           0.4444444444444444,
           "#bd3786"
          ],
          [
           0.5555555555555556,
           "#d8576b"
          ],
          [
           0.6666666666666666,
           "#ed7953"
          ],
          [
           0.7777777777777778,
           "#fb9f3a"
          ],
          [
           0.8888888888888888,
           "#fdca26"
          ],
          [
           1,
           "#f0f921"
          ]
         ]
        },
        "template": {
         "data": {
          "bar": [
           {
            "error_x": {
             "color": "#2a3f5f"
            },
            "error_y": {
             "color": "#2a3f5f"
            },
            "marker": {
             "line": {
              "color": "#E5ECF6",
              "width": 0.5
             },
             "pattern": {
              "fillmode": "overlay",
              "size": 10,
              "solidity": 0.2
             }
            },
            "type": "bar"
           }
          ],
          "barpolar": [
           {
            "marker": {
             "line": {
              "color": "#E5ECF6",
              "width": 0.5
             },
             "pattern": {
              "fillmode": "overlay",
              "size": 10,
              "solidity": 0.2
             }
            },
            "type": "barpolar"
           }
          ],
          "carpet": [
           {
            "aaxis": {
             "endlinecolor": "#2a3f5f",
             "gridcolor": "white",
             "linecolor": "white",
             "minorgridcolor": "white",
             "startlinecolor": "#2a3f5f"
            },
            "baxis": {
             "endlinecolor": "#2a3f5f",
             "gridcolor": "white",
             "linecolor": "white",
             "minorgridcolor": "white",
             "startlinecolor": "#2a3f5f"
            },
            "type": "carpet"
           }
          ],
          "choropleth": [
           {
            "colorbar": {
             "outlinewidth": 0,
             "ticks": ""
            },
            "type": "choropleth"
           }
          ],
          "contour": [
           {
            "colorbar": {
             "outlinewidth": 0,
             "ticks": ""
            },
            "colorscale": [
             [
              0,
              "#0d0887"
             ],
             [
              0.1111111111111111,
              "#46039f"
             ],
             [
              0.2222222222222222,
              "#7201a8"
             ],
             [
              0.3333333333333333,
              "#9c179e"
             ],
             [
              0.4444444444444444,
              "#bd3786"
             ],
             [
              0.5555555555555556,
              "#d8576b"
             ],
             [
              0.6666666666666666,
              "#ed7953"
             ],
             [
              0.7777777777777778,
              "#fb9f3a"
             ],
             [
              0.8888888888888888,
              "#fdca26"
             ],
             [
              1,
              "#f0f921"
             ]
            ],
            "type": "contour"
           }
          ],
          "contourcarpet": [
           {
            "colorbar": {
             "outlinewidth": 0,
             "ticks": ""
            },
            "type": "contourcarpet"
           }
          ],
          "heatmap": [
           {
            "colorbar": {
             "outlinewidth": 0,
             "ticks": ""
            },
            "colorscale": [
             [
              0,
              "#0d0887"
             ],
             [
              0.1111111111111111,
              "#46039f"
             ],
             [
              0.2222222222222222,
              "#7201a8"
             ],
             [
              0.3333333333333333,
              "#9c179e"
             ],
             [
              0.4444444444444444,
              "#bd3786"
             ],
             [
              0.5555555555555556,
              "#d8576b"
             ],
             [
              0.6666666666666666,
              "#ed7953"
             ],
             [
              0.7777777777777778,
              "#fb9f3a"
             ],
             [
              0.8888888888888888,
              "#fdca26"
             ],
             [
              1,
              "#f0f921"
             ]
            ],
            "type": "heatmap"
           }
          ],
          "heatmapgl": [
           {
            "colorbar": {
             "outlinewidth": 0,
             "ticks": ""
            },
            "colorscale": [
             [
              0,
              "#0d0887"
             ],
             [
              0.1111111111111111,
              "#46039f"
             ],
             [
              0.2222222222222222,
              "#7201a8"
             ],
             [
              0.3333333333333333,
              "#9c179e"
             ],
             [
              0.4444444444444444,
              "#bd3786"
             ],
             [
              0.5555555555555556,
              "#d8576b"
             ],
             [
              0.6666666666666666,
              "#ed7953"
             ],
             [
              0.7777777777777778,
              "#fb9f3a"
             ],
             [
              0.8888888888888888,
              "#fdca26"
             ],
             [
              1,
              "#f0f921"
             ]
            ],
            "type": "heatmapgl"
           }
          ],
          "histogram": [
           {
            "marker": {
             "pattern": {
              "fillmode": "overlay",
              "size": 10,
              "solidity": 0.2
             }
            },
            "type": "histogram"
           }
          ],
          "histogram2d": [
           {
            "colorbar": {
             "outlinewidth": 0,
             "ticks": ""
            },
            "colorscale": [
             [
              0,
              "#0d0887"
             ],
             [
              0.1111111111111111,
              "#46039f"
             ],
             [
              0.2222222222222222,
              "#7201a8"
             ],
             [
              0.3333333333333333,
              "#9c179e"
             ],
             [
              0.4444444444444444,
              "#bd3786"
             ],
             [
              0.5555555555555556,
              "#d8576b"
             ],
             [
              0.6666666666666666,
              "#ed7953"
             ],
             [
              0.7777777777777778,
              "#fb9f3a"
             ],
             [
              0.8888888888888888,
              "#fdca26"
             ],
             [
              1,
              "#f0f921"
             ]
            ],
            "type": "histogram2d"
           }
          ],
          "histogram2dcontour": [
           {
            "colorbar": {
             "outlinewidth": 0,
             "ticks": ""
            },
            "colorscale": [
             [
              0,
              "#0d0887"
             ],
             [
              0.1111111111111111,
              "#46039f"
             ],
             [
              0.2222222222222222,
              "#7201a8"
             ],
             [
              0.3333333333333333,
              "#9c179e"
             ],
             [
              0.4444444444444444,
              "#bd3786"
             ],
             [
              0.5555555555555556,
              "#d8576b"
             ],
             [
              0.6666666666666666,
              "#ed7953"
             ],
             [
              0.7777777777777778,
              "#fb9f3a"
             ],
             [
              0.8888888888888888,
              "#fdca26"
             ],
             [
              1,
              "#f0f921"
             ]
            ],
            "type": "histogram2dcontour"
           }
          ],
          "mesh3d": [
           {
            "colorbar": {
             "outlinewidth": 0,
             "ticks": ""
            },
            "type": "mesh3d"
           }
          ],
          "parcoords": [
           {
            "line": {
             "colorbar": {
              "outlinewidth": 0,
              "ticks": ""
             }
            },
            "type": "parcoords"
           }
          ],
          "pie": [
           {
            "automargin": true,
            "type": "pie"
           }
          ],
          "scatter": [
           {
            "fillpattern": {
             "fillmode": "overlay",
             "size": 10,
             "solidity": 0.2
            },
            "type": "scatter"
           }
          ],
          "scatter3d": [
           {
            "line": {
             "colorbar": {
              "outlinewidth": 0,
              "ticks": ""
             }
            },
            "marker": {
             "colorbar": {
              "outlinewidth": 0,
              "ticks": ""
             }
            },
            "type": "scatter3d"
           }
          ],
          "scattercarpet": [
           {
            "marker": {
             "colorbar": {
              "outlinewidth": 0,
              "ticks": ""
             }
            },
            "type": "scattercarpet"
           }
          ],
          "scattergeo": [
           {
            "marker": {
             "colorbar": {
              "outlinewidth": 0,
              "ticks": ""
             }
            },
            "type": "scattergeo"
           }
          ],
          "scattergl": [
           {
            "marker": {
             "colorbar": {
              "outlinewidth": 0,
              "ticks": ""
             }
            },
            "type": "scattergl"
           }
          ],
          "scattermapbox": [
           {
            "marker": {
             "colorbar": {
              "outlinewidth": 0,
              "ticks": ""
             }
            },
            "type": "scattermapbox"
           }
          ],
          "scatterpolar": [
           {
            "marker": {
             "colorbar": {
              "outlinewidth": 0,
              "ticks": ""
             }
            },
            "type": "scatterpolar"
           }
          ],
          "scatterpolargl": [
           {
            "marker": {
             "colorbar": {
              "outlinewidth": 0,
              "ticks": ""
             }
            },
            "type": "scatterpolargl"
           }
          ],
          "scatterternary": [
           {
            "marker": {
             "colorbar": {
              "outlinewidth": 0,
              "ticks": ""
             }
            },
            "type": "scatterternary"
           }
          ],
          "surface": [
           {
            "colorbar": {
             "outlinewidth": 0,
             "ticks": ""
            },
            "colorscale": [
             [
              0,
              "#0d0887"
             ],
             [
              0.1111111111111111,
              "#46039f"
             ],
             [
              0.2222222222222222,
              "#7201a8"
             ],
             [
              0.3333333333333333,
              "#9c179e"
             ],
             [
              0.4444444444444444,
              "#bd3786"
             ],
             [
              0.5555555555555556,
              "#d8576b"
             ],
             [
              0.6666666666666666,
              "#ed7953"
             ],
             [
              0.7777777777777778,
              "#fb9f3a"
             ],
             [
              0.8888888888888888,
              "#fdca26"
             ],
             [
              1,
              "#f0f921"
             ]
            ],
            "type": "surface"
           }
          ],
          "table": [
           {
            "cells": {
             "fill": {
              "color": "#EBF0F8"
             },
             "line": {
              "color": "white"
             }
            },
            "header": {
             "fill": {
              "color": "#C8D4E3"
             },
             "line": {
              "color": "white"
             }
            },
            "type": "table"
           }
          ]
         },
         "layout": {
          "annotationdefaults": {
           "arrowcolor": "#2a3f5f",
           "arrowhead": 0,
           "arrowwidth": 1
          },
          "autotypenumbers": "strict",
          "coloraxis": {
           "colorbar": {
            "outlinewidth": 0,
            "ticks": ""
           }
          },
          "colorscale": {
           "diverging": [
            [
             0,
             "#8e0152"
            ],
            [
             0.1,
             "#c51b7d"
            ],
            [
             0.2,
             "#de77ae"
            ],
            [
             0.3,
             "#f1b6da"
            ],
            [
             0.4,
             "#fde0ef"
            ],
            [
             0.5,
             "#f7f7f7"
            ],
            [
             0.6,
             "#e6f5d0"
            ],
            [
             0.7,
             "#b8e186"
            ],
            [
             0.8,
             "#7fbc41"
            ],
            [
             0.9,
             "#4d9221"
            ],
            [
             1,
             "#276419"
            ]
           ],
           "sequential": [
            [
             0,
             "#0d0887"
            ],
            [
             0.1111111111111111,
             "#46039f"
            ],
            [
             0.2222222222222222,
             "#7201a8"
            ],
            [
             0.3333333333333333,
             "#9c179e"
            ],
            [
             0.4444444444444444,
             "#bd3786"
            ],
            [
             0.5555555555555556,
             "#d8576b"
            ],
            [
             0.6666666666666666,
             "#ed7953"
            ],
            [
             0.7777777777777778,
             "#fb9f3a"
            ],
            [
             0.8888888888888888,
             "#fdca26"
            ],
            [
             1,
             "#f0f921"
            ]
           ],
           "sequentialminus": [
            [
             0,
             "#0d0887"
            ],
            [
             0.1111111111111111,
             "#46039f"
            ],
            [
             0.2222222222222222,
             "#7201a8"
            ],
            [
             0.3333333333333333,
             "#9c179e"
            ],
            [
             0.4444444444444444,
             "#bd3786"
            ],
            [
             0.5555555555555556,
             "#d8576b"
            ],
            [
             0.6666666666666666,
             "#ed7953"
            ],
            [
             0.7777777777777778,
             "#fb9f3a"
            ],
            [
             0.8888888888888888,
             "#fdca26"
            ],
            [
             1,
             "#f0f921"
            ]
           ]
          },
          "colorway": [
           "#636efa",
           "#EF553B",
           "#00cc96",
           "#ab63fa",
           "#FFA15A",
           "#19d3f3",
           "#FF6692",
           "#B6E880",
           "#FF97FF",
           "#FECB52"
          ],
          "font": {
           "color": "#2a3f5f"
          },
          "geo": {
           "bgcolor": "white",
           "lakecolor": "white",
           "landcolor": "#E5ECF6",
           "showlakes": true,
           "showland": true,
           "subunitcolor": "white"
          },
          "hoverlabel": {
           "align": "left"
          },
          "hovermode": "closest",
          "mapbox": {
           "style": "light"
          },
          "paper_bgcolor": "white",
          "plot_bgcolor": "#E5ECF6",
          "polar": {
           "angularaxis": {
            "gridcolor": "white",
            "linecolor": "white",
            "ticks": ""
           },
           "bgcolor": "#E5ECF6",
           "radialaxis": {
            "gridcolor": "white",
            "linecolor": "white",
            "ticks": ""
           }
          },
          "scene": {
           "xaxis": {
            "backgroundcolor": "#E5ECF6",
            "gridcolor": "white",
            "gridwidth": 2,
            "linecolor": "white",
            "showbackground": true,
            "ticks": "",
            "zerolinecolor": "white"
           },
           "yaxis": {
            "backgroundcolor": "#E5ECF6",
            "gridcolor": "white",
            "gridwidth": 2,
            "linecolor": "white",
            "showbackground": true,
            "ticks": "",
            "zerolinecolor": "white"
           },
           "zaxis": {
            "backgroundcolor": "#E5ECF6",
            "gridcolor": "white",
            "gridwidth": 2,
            "linecolor": "white",
            "showbackground": true,
            "ticks": "",
            "zerolinecolor": "white"
           }
          },
          "shapedefaults": {
           "line": {
            "color": "#2a3f5f"
           }
          },
          "ternary": {
           "aaxis": {
            "gridcolor": "white",
            "linecolor": "white",
            "ticks": ""
           },
           "baxis": {
            "gridcolor": "white",
            "linecolor": "white",
            "ticks": ""
           },
           "bgcolor": "#E5ECF6",
           "caxis": {
            "gridcolor": "white",
            "linecolor": "white",
            "ticks": ""
           }
          },
          "title": {
           "x": 0.05
          },
          "xaxis": {
           "automargin": true,
           "gridcolor": "white",
           "linecolor": "white",
           "ticks": "",
           "title": {
            "standoff": 15
           },
           "zerolinecolor": "white",
           "zerolinewidth": 2
          },
          "yaxis": {
           "automargin": true,
           "gridcolor": "white",
           "linecolor": "white",
           "ticks": "",
           "title": {
            "standoff": 15
           },
           "zerolinecolor": "white",
           "zerolinewidth": 2
          }
         }
        },
        "title": {
         "text": "Matrice di Correlazione - Anno 2021"
        },
        "xaxis": {
         "anchor": "y",
         "constrain": "domain",
         "domain": [
          0,
          1
         ],
         "scaleanchor": "y"
        },
        "yaxis": {
         "anchor": "x",
         "autorange": "reversed",
         "constrain": "domain",
         "domain": [
          0,
          1
         ]
        }
       }
      }
     },
     "metadata": {},
     "output_type": "display_data"
    },
    {
     "data": {
      "application/vnd.plotly.v1+json": {
       "config": {
        "plotlyServerURL": "https://plot.ly"
       },
       "data": [
        {
         "coloraxis": "coloraxis",
         "hovertemplate": "x: %{x}<br>y: %{y}<br>color: %{z}<extra></extra>",
         "name": "0",
         "type": "heatmap",
         "x": [
          "Gls",
          "Ast",
          "PK",
          "PKatt",
          "CrdY",
          "CrdR",
          "xG",
          "PrgP",
          "PrgR",
          "Sh",
          "SoT",
          "Dist",
          "FK",
          "Cmp",
          "Att",
          "xA",
          "KP",
          "PPA",
          "CrsPA",
          "SCA",
          "GCA",
          "Tkl",
          "TklW",
          "Mid 3rd",
          "Att 3rd",
          "Touches",
          "Mid 3rd.1",
          "Att 3rd.1",
          "Att.1",
          "Succ",
          "Carries",
          "TotDist",
          "2CrdY",
          "Fld",
          "Off",
          "Crs",
          "Won",
          "Lost",
          "Duels"
         ],
         "xaxis": "x",
         "y": [
          "Gls",
          "Ast",
          "PK",
          "PKatt",
          "CrdY",
          "CrdR",
          "xG",
          "PrgP",
          "PrgR",
          "Sh",
          "SoT",
          "Dist",
          "FK",
          "Cmp",
          "Att",
          "xA",
          "KP",
          "PPA",
          "CrsPA",
          "SCA",
          "GCA",
          "Tkl",
          "TklW",
          "Mid 3rd",
          "Att 3rd",
          "Touches",
          "Mid 3rd.1",
          "Att 3rd.1",
          "Att.1",
          "Succ",
          "Carries",
          "TotDist",
          "2CrdY",
          "Fld",
          "Off",
          "Crs",
          "Won",
          "Lost",
          "Duels"
         ],
         "yaxis": "y",
         "z": [
          [
           1,
           0.5999035473537215,
           0.7881337078847487,
           0.8135839019524738,
           0.3071921442319995,
           0.19177278119470995,
           0.9565836298172762,
           0.5841843046432752,
           0.7858155737855222,
           0.8870896362235532,
           0.9283686095812319,
           -0.037231621854365855,
           0.45868284430051093,
           0.6141329465643092,
           0.6423995586079386,
           0.6099665981271734,
           0.6253644984522817,
           0.5780132138150769,
           0.36304909465144375,
           0.7170283372954023,
           0.7426234839049484,
           0.38948738177396847,
           0.34986405279080524,
           0.3615276761524686,
           0.47771110320579296,
           0.6916902595854186,
           0.6514274022914718,
           0.7342255565180231,
           0.5893770955524222,
           0.5536636484813308,
           0.6571314636455052,
           0.602208617270921,
           -0.014811605183125767,
           0.6227065053271829,
           0.6619375251453516,
           0.3456669549946226,
           0.452573432221758,
           0.593856177552431,
           0.551754331386554
          ],
          [
           0.5999035473537215,
           1,
           0.4108176183760538,
           0.41213778378687116,
           0.42995723489822213,
           0.19814943621554496,
           0.5832082707390356,
           0.8084728223013838,
           0.7696940662721562,
           0.6988675823967608,
           0.6840181787542353,
           0.13419610979229157,
           0.49569564747708483,
           0.7905141175364052,
           0.8053256383578346,
           0.8847975606015525,
           0.8734439167080568,
           0.81527874479213,
           0.6342630992735546,
           0.8506936598864602,
           0.8773607972759542,
           0.5457514107203582,
           0.48554878670967444,
           0.5178564173765173,
           0.5697220497454921,
           0.8055785831750116,
           0.7674124268296013,
           0.8293042263299311,
           0.6899687385017268,
           0.6581170186913228,
           0.7991111274420373,
           0.7545336102484207,
           0.012303285026616423,
           0.6358510318893121,
           0.37253391001216707,
           0.6620476728273833,
           0.26265576852105416,
           0.3723372312453668,
           0.3353825990231561
          ],
          [
           0.7881337078847487,
           0.4108176183760538,
           1,
           0.9687978368840291,
           0.1884888440456713,
           0.13062881399461182,
           0.7840531951135559,
           0.4753874939034366,
           0.5510763975559638,
           0.6615634987376781,
           0.6499578468608818,
           0.04467426838098484,
           0.4495470370077623,
           0.4959854717190303,
           0.5136397281262994,
           0.44206930595491334,
           0.4347485928493767,
           0.48892621703541894,
           0.27766156535520975,
           0.5239516050837493,
           0.5190274313327834,
           0.26261257901942175,
           0.22359060764673888,
           0.26717932684567697,
           0.27104286674605305,
           0.5407315098326335,
           0.5475289435794797,
           0.5273804924777196,
           0.3925396796938401,
           0.37749181721634023,
           0.5031687502365295,
           0.42685158820408703,
           -0.03817396729812609,
           0.4896792464617123,
           0.47247058133094644,
           0.22671616502713654,
           0.38161546999291535,
           0.4451099377294528,
           0.43476921000866003
          ],
          [
           0.8135839019524738,
           0.41213778378687116,
           0.9687978368840291,
           1,
           0.17975654029021337,
           0.19719874912941615,
           0.8200735594383128,
           0.4909908025079638,
           0.5678884604694281,
           0.7072994009182982,
           0.7037876847751546,
           0.05051428211719591,
           0.49197691759887313,
           0.5021073849297053,
           0.5226183052753912,
           0.45738903732741065,
           0.4550957820668366,
           0.5040258528100121,
           0.27948021564145453,
           0.5506497826952634,
           0.5408771291121391,
           0.2456649522303672,
           0.22578339878993323,
           0.24684246888342484,
           0.265082212668731,
           0.5489142040333038,
           0.5455200857286608,
           0.5477003562509543,
           0.3890521519017906,
           0.3748362234260983,
           0.5086052843841239,
           0.4355948387303525,
           -0.044450755478235106,
           0.4904434889209005,
           0.5356654678645751,
           0.23768278811813623,
           0.3873297165249691,
           0.44373633340291424,
           0.4368759777779644
          ],
          [
           0.3071921442319995,
           0.42995723489822213,
           0.1884888440456713,
           0.17975654029021337,
           1,
           0.27245850017457623,
           0.32687439009218805,
           0.5177064022940308,
           0.5007912838147415,
           0.4218209597392435,
           0.37566082828797326,
           0.05600635604346393,
           0.17903906866296185,
           0.5616673804233636,
           0.5717696065425023,
           0.4507127002171931,
           0.5047007957403526,
           0.4174865561850778,
           0.3667188613022084,
           0.5280999267542086,
           0.47558028773736716,
           0.5988307976708508,
           0.5990325020665805,
           0.5885030731143824,
           0.4672793304300338,
           0.5871446183717959,
           0.6099085952176594,
           0.5305055931412183,
           0.5044101921722343,
           0.49133977520337535,
           0.5654944912884651,
           0.5467852280811499,
           0.24758775985997955,
           0.5896146199018846,
           0.2767027802400303,
           0.36058874884058034,
           0.3606104101350714,
           0.4033815238873413,
           0.40140101696250596
          ],
          [
           0.19177278119470995,
           0.19814943621554496,
           0.13062881399461182,
           0.19719874912941615,
           0.27245850017457623,
           1,
           0.16467831864208302,
           0.21243212059283628,
           0.19777874376199372,
           0.19447647726342196,
           0.2144926258118428,
           0.02687906236770605,
           0.08292732790835375,
           0.2220085535213024,
           0.21896397579507734,
           0.22424323890897516,
           0.21965230708274272,
           0.22829167445443013,
           0.11932811390793312,
           0.2468854808379236,
           0.2552769665497041,
           0.13739463550732695,
           0.16038513562132736,
           0.15348999069144767,
           0.1324532357065044,
           0.21670787148144485,
           0.20153912313890376,
           0.22765479138503267,
           0.17884554207061373,
           0.16697989056608714,
           0.21693814345960757,
           0.21467969235593196,
           0.5601120336112041,
           0.16852314048479206,
           0.16959389245213444,
           0.14078070798972314,
           -0.00923179189067432,
           0.0007898367781028014,
           -0.004186596579511839
          ],
          [
           0.9565836298172762,
           0.5832082707390356,
           0.7840531951135559,
           0.8200735594383128,
           0.32687439009218805,
           0.16467831864208302,
           1,
           0.5598913388497532,
           0.8059433649391295,
           0.9090463267676503,
           0.9351340660521554,
           -0.07895595636844255,
           0.4616708984977155,
           0.60754678883022,
           0.6399734586936029,
           0.5922292226471909,
           0.6212534203716108,
           0.5515047142403722,
           0.3380151214983614,
           0.7173568162060749,
           0.7238076452867717,
           0.39288639954836874,
           0.3533349692784212,
           0.3710431143094932,
           0.4711194123112061,
           0.6943290175132139,
           0.6591489292751828,
           0.7322102221417218,
           0.5729295164572259,
           0.53735616200604,
           0.6474568262979553,
           0.5869203602439514,
           -0.031606319538561765,
           0.6539299927615503,
           0.7373054123404872,
           0.3264947461260712,
           0.5475761024437625,
           0.6581864512298762,
           0.6345291101316866
          ],
          [
           0.5841843046432752,
           0.8084728223013838,
           0.4753874939034366,
           0.4909908025079638,
           0.5177064022940308,
           0.21243212059283628,
           0.5598913388497532,
           1,
           0.7921014041004357,
           0.7552167757987189,
           0.6896713209058527,
           0.24423127755465146,
           0.6548990584315724,
           0.9538402103448422,
           0.9565019056418145,
           0.899681617704047,
           0.8952070267119365,
           0.946973176059785,
           0.7529258387612837,
           0.9185058834047273,
           0.8437426654327262,
           0.6701115235939158,
           0.6237394655582204,
           0.6318232924388951,
           0.6005739895109672,
           0.9365945576604225,
           0.9229862347488469,
           0.9168404091185215,
           0.7992087871006133,
           0.7919645987164944,
           0.9405116820259504,
           0.9176072249692045,
           0.0634030029071511,
           0.6888827033327198,
           0.3083592139949374,
           0.7691433733898295,
           0.1809569546871541,
           0.3034454667269082,
           0.2567658907442381
          ],
          [
           0.7858155737855222,
           0.7696940662721562,
           0.5510763975559638,
           0.5678884604694281,
           0.5007912838147415,
           0.19777874376199372,
           0.8059433649391295,
           0.7921014041004357,
           1,
           0.8788475021011986,
           0.8749996000499821,
           0.006756832659531798,
           0.45512673123622605,
           0.8610207014962823,
           0.8818828889352812,
           0.8184477557890515,
           0.8374270180944907,
           0.7771731872866727,
           0.6175168154561793,
           0.9077720339529869,
           0.8541966578316389,
           0.6264611363541017,
           0.5771810307163958,
           0.5566687632244144,
           0.6470643821717857,
           0.9130017170340503,
           0.8565188766122013,
           0.9492851629720186,
           0.8231862932978834,
           0.7747493430003567,
           0.9093612126663947,
           0.8759457989676125,
           0.06626481020979241,
           0.7938793017438874,
           0.6447827831335217,
           0.6008537560646982,
           0.42075838311177816,
           0.5946692355616089,
           0.536280611761741
          ],
          [
           0.8870896362235532,
           0.6988675823967608,
           0.6615634987376781,
           0.7072994009182982,
           0.4218209597392435,
           0.19447647726342196,
           0.9090463267676503,
           0.7552167757987189,
           0.8788475021011986,
           1,
           0.9684787344788652,
           0.05809076026152367,
           0.6324642233249055,
           0.7814313924227015,
           0.8133459079737624,
           0.7638225030395325,
           0.785617392954971,
           0.7317787801181401,
           0.5646841290822768,
           0.8726824418006702,
           0.8171233380411919,
           0.561736263472264,
           0.5302888784600516,
           0.5291410224978789,
           0.593865296662245,
           0.8507416805727197,
           0.8092799113845037,
           0.8802789995308137,
           0.7068967341568456,
           0.6770407226236209,
           0.8202509411729119,
           0.7820079312932575,
           0.00905626799528439,
           0.7410844339347525,
           0.6387049968093288,
           0.5736854872105311,
           0.4652379573646781,
           0.607552490530547,
           0.5655937774823232
          ],
          [
           0.9283686095812319,
           0.6840181787542353,
           0.6499578468608818,
           0.7037876847751546,
           0.37566082828797326,
           0.2144926258118428,
           0.9351340660521554,
           0.6896713209058527,
           0.8749996000499821,
           0.9684787344788652,
           1,
           0.008005495762809756,
           0.5619800528799365,
           0.7201423860382236,
           0.7543341528423455,
           0.7241670113116754,
           0.7394184096399574,
           0.6725555712033086,
           0.5028712795652651,
           0.8286577321303908,
           0.8112654441323098,
           0.5005348433771432,
           0.45678700910911696,
           0.4665402321825614,
           0.5640321574668526,
           0.7989735862278052,
           0.7500260920214926,
           0.8424247533430805,
           0.6903670941746368,
           0.6532200816855833,
           0.7694738447584543,
           0.7315632087645554,
           0.005657802541307545,
           0.71135197138209,
           0.6872045286150842,
           0.5107002771314796,
           0.46496591874532806,
           0.6212850572108819,
           0.572980095148784
          ],
          [
           -0.037231621854365855,
           0.13419610979229157,
           0.04467426838098484,
           0.05051428211719591,
           0.05600635604346393,
           0.02687906236770605,
           -0.07895595636844255,
           0.24423127755465146,
           0.006756832659531798,
           0.05809076026152367,
           0.008005495762809756,
           1,
           0.27881025592434205,
           0.18026508521718487,
           0.18004971196345795,
           0.17552828025053765,
           0.14861800150823684,
           0.2113231343539103,
           0.2493850745251768,
           0.14924381091889083,
           0.118051421021898,
           0.1665141155946147,
           0.1767079632719736,
           0.15561084277806378,
           0.0803397126998438,
           0.15048482966399485,
           0.15504086714101678,
           0.12050762605125918,
           0.13165380999459703,
           0.1452254498724301,
           0.16412347428115628,
           0.18773308247714823,
           0.029890187995801596,
           0.026485242648504513,
           -0.1913454639146942,
           0.3081089767781793,
           -0.23646505216777586,
           -0.19573186489370645,
           -0.22690211604359173
          ],
          [
           0.45868284430051093,
           0.49569564747708483,
           0.4495470370077623,
           0.49197691759887313,
           0.17903906866296185,
           0.08292732790835375,
           0.4616708984977155,
           0.6548990584315724,
           0.45512673123622605,
           0.6324642233249055,
           0.5619800528799365,
           0.27881025592434205,
           1,
           0.5941654390434619,
           0.6191696323871284,
           0.6319600451811052,
           0.6251824999286696,
           0.6314549310504605,
           0.6218981022899431,
           0.6486358990453335,
           0.5609926749686139,
           0.37202267997398397,
           0.34028824458029544,
           0.3587393746465056,
           0.3275241040798218,
           0.60103259076974,
           0.5825136226397426,
           0.599279617595422,
           0.47176144683408916,
           0.48882365263138466,
           0.5800457122486986,
           0.5680145817674257,
           -0.06803737753205469,
           0.41282300750761036,
           0.2078705307848808,
           0.7683074092880482,
           0.10787255640224028,
           0.16452103266105192,
           0.14409697416015607
          ],
          [
           0.6141329465643092,
           0.7905141175364052,
           0.4959854717190303,
           0.5021073849297053,
           0.5616673804233636,
           0.2220085535213024,
           0.60754678883022,
           0.9538402103448422,
           0.8610207014962823,
           0.7814313924227015,
           0.7201423860382236,
           0.18026508521718487,
           0.5941654390434619,
           1,
           0.9947190123927283,
           0.8756464760366509,
           0.8881548339607306,
           0.8884239121301076,
           0.7198457882844617,
           0.9272458797538695,
           0.821705289239358,
           0.7015377203360735,
           0.6588735534829182,
           0.646198194614496,
           0.6244870777886946,
           0.9824209093229254,
           0.9708981879163993,
           0.9533278581628821,
           0.8348484661330583,
           0.8156710553352857,
           0.9827477576757434,
           0.9471622138916909,
           0.08316128841350938,
           0.7255367677862632,
           0.4040407009245075,
           0.7371004056739701,
           0.2528125473419072,
           0.38797078854321837,
           0.33902117002743776
          ],
          [
           0.6423995586079386,
           0.8053256383578346,
           0.5136397281262994,
           0.5226183052753912,
           0.5717696065425023,
           0.21896397579507734,
           0.6399734586936029,
           0.9565019056418145,
           0.8818828889352812,
           0.8133459079737624,
           0.7543341528423455,
           0.18004971196345795,
           0.6191696323871284,
           0.9947190123927283,
           1,
           0.8906753568725776,
           0.9050907019765017,
           0.8942813002698461,
           0.7390161946661009,
           0.9440005609595703,
           0.8423537520324247,
           0.723486694446557,
           0.6753066599704174,
           0.6705774557349354,
           0.6478433539722099,
           0.9931717916290327,
           0.9782168171926686,
           0.9673475520155533,
           0.840590456405802,
           0.820330076583106,
           0.9871664007323593,
           0.9487788154093043,
           0.07511826817515,
           0.7501419095263111,
           0.4258984926405316,
           0.7643980740057509,
           0.3004644116390921,
           0.4349433582772854,
           0.38859510571802613
          ],
          [
           0.6099665981271734,
           0.8847975606015525,
           0.44206930595491334,
           0.45738903732741065,
           0.4507127002171931,
           0.22424323890897516,
           0.5922292226471909,
           0.899681617704047,
           0.8184477557890515,
           0.7638225030395325,
           0.7241670113116754,
           0.17552828025053765,
           0.6319600451811052,
           0.8756464760366509,
           0.8906753568725776,
           1,
           0.9510268702467384,
           0.9221979868791926,
           0.7730205972569565,
           0.9406767343604486,
           0.8836167069929508,
           0.5844217659009193,
           0.522933782750989,
           0.5426392058983407,
           0.5987716810956398,
           0.8789484746968621,
           0.8272318162795921,
           0.909758001433786,
           0.7393972073120624,
           0.7198578296403144,
           0.8827965033668393,
           0.8516825841755277,
           0.03738399068850271,
           0.6543318625780802,
           0.3582914142749954,
           0.7926332175098579,
           0.1980004517593557,
           0.31252804381022686,
           0.2702690998461365
          ],
          [
           0.6253644984522817,
           0.8734439167080568,
           0.4347485928493767,
           0.4550957820668366,
           0.5047007957403526,
           0.21965230708274272,
           0.6212534203716108,
           0.8952070267119365,
           0.8374270180944907,
           0.785617392954971,
           0.7394184096399574,
           0.14861800150823684,
           0.6251824999286696,
           0.8881548339607306,
           0.9050907019765017,
           0.9510268702467384,
           1,
           0.8814311707013853,
           0.7348771047107288,
           0.9630458611278572,
           0.8775815782848398,
           0.6077997036005119,
           0.5532886626066877,
           0.5722257169187807,
           0.6178070616526451,
           0.9004997246068297,
           0.8554901699450131,
           0.9233549463254845,
           0.7388944991927398,
           0.716629162420726,
           0.8917668401677966,
           0.8493644408691832,
           0.04410962954628461,
           0.6729217292476967,
           0.3953337382519446,
           0.7916743839994864,
           0.2507273016037699,
           0.4029986066922034,
           0.3462097384317262
          ],
          [
           0.5780132138150769,
           0.81527874479213,
           0.48892621703541894,
           0.5040258528100121,
           0.4174865561850778,
           0.22829167445443013,
           0.5515047142403722,
           0.946973176059785,
           0.7771731872866727,
           0.7317787801181401,
           0.6725555712033086,
           0.2113231343539103,
           0.6314549310504605,
           0.8884239121301076,
           0.8942813002698461,
           0.9221979868791926,
           0.8814311707013853,
           1,
           0.8072462949699213,
           0.904530711104776,
           0.8451881840141504,
           0.5975188555873511,
           0.5550692371310149,
           0.5379902986495151,
           0.5856542596680516,
           0.872515059250997,
           0.8287137987205796,
           0.8898601723466224,
           0.74997664601302,
           0.740466881905749,
           0.8890468431802215,
           0.8754490376296657,
           0.044036656423182045,
           0.6371048585687477,
           0.2789306315607117,
           0.7518762652756933,
           0.12997850507203682,
           0.24451087964769982,
           0.1989748893073414
          ],
          [
           0.36304909465144375,
           0.6342630992735546,
           0.27766156535520975,
           0.27948021564145453,
           0.3667188613022084,
           0.11932811390793312,
           0.3380151214983614,
           0.7529258387612837,
           0.6175168154561793,
           0.5646841290822768,
           0.5028712795652651,
           0.2493850745251768,
           0.6218981022899431,
           0.7198457882844617,
           0.7390161946661009,
           0.7730205972569565,
           0.7348771047107288,
           0.8072462949699213,
           1,
           0.7335128113699447,
           0.622118565999332,
           0.587910309055897,
           0.5325005349997552,
           0.5102230035456117,
           0.5054263669317101,
           0.7158597194649499,
           0.6681428383625122,
           0.724996530276631,
           0.5932030728646494,
           0.5885282969421016,
           0.7302858001442701,
           0.7412023395640372,
           0.025506742597808742,
           0.4664616392863657,
           0.13183396702024228,
           0.8341155612534499,
           0.003097112423641141,
           0.13982138901470925,
           0.07814115069842459
          ],
          [
           0.7170283372954023,
           0.8506936598864602,
           0.5239516050837493,
           0.5506497826952634,
           0.5280999267542086,
           0.2468854808379236,
           0.7173568162060749,
           0.9185058834047273,
           0.9077720339529869,
           0.8726824418006702,
           0.8286577321303908,
           0.14924381091889083,
           0.6486358990453335,
           0.9272458797538695,
           0.9440005609595703,
           0.9406767343604486,
           0.9630458611278572,
           0.904530711104776,
           0.7335128113699447,
           1,
           0.9235580629153494,
           0.6764270879982677,
           0.6335768291000125,
           0.6272314159130589,
           0.6687153569060812,
           0.9503780229286045,
           0.9053935625131876,
           0.9702907302971964,
           0.8202725176826214,
           0.7963229317869888,
           0.9416677034163639,
           0.9160219079662711,
           0.08253571872511968,
           0.7658804618057592,
           0.46621476640618964,
           0.7627324190885963,
           0.2935935614199215,
           0.4490028544270768,
           0.39285870296635333
          ],
          [
           0.7426234839049484,
           0.8773607972759542,
           0.5190274313327834,
           0.5408771291121391,
           0.47558028773736716,
           0.2552769665497041,
           0.7238076452867717,
           0.8437426654327262,
           0.8541966578316389,
           0.8171233380411919,
           0.8112654441323098,
           0.118051421021898,
           0.5609926749686139,
           0.821705289239358,
           0.8423537520324247,
           0.8836167069929508,
           0.8775815782848398,
           0.8451881840141504,
           0.622118565999332,
           0.9235580629153494,
           1,
           0.6165696402062261,
           0.5690002212531435,
           0.5857700578552266,
           0.627914831953163,
           0.8573656104673127,
           0.8077448824830871,
           0.8936605865605627,
           0.7706975126464829,
           0.7452543717655581,
           0.845664982352851,
           0.8177351249903687,
           0.07907016919023502,
           0.7282865320449601,
           0.46186550504065493,
           0.6461162105404805,
           0.29884502890422987,
           0.4241736911176526,
           0.3818854087530212
          ],
          [
           0.38948738177396847,
           0.5457514107203582,
           0.26261257901942175,
           0.2456649522303672,
           0.5988307976708508,
           0.13739463550732695,
           0.39288639954836874,
           0.6701115235939158,
           0.6264611363541017,
           0.561736263472264,
           0.5005348433771432,
           0.1665141155946147,
           0.37202267997398397,
           0.7015377203360735,
           0.723486694446557,
           0.5844217659009193,
           0.6077997036005119,
           0.5975188555873511,
           0.587910309055897,
           0.6764270879982677,
           0.6165696402062261,
           1,
           0.9625526389668289,
           0.9452731095592459,
           0.838896742246866,
           0.7441606655863906,
           0.7453184668282226,
           0.6866056091432764,
           0.6774690373062134,
           0.6739902271265477,
           0.7152997940093836,
           0.7091967569419934,
           0.11377569139221694,
           0.6364281919137253,
           0.21380183937143485,
           0.5483491794140798,
           0.26311400386198386,
           0.4060562521280746,
           0.35408251454627176
          ],
          [
           0.34986405279080524,
           0.48554878670967444,
           0.22359060764673888,
           0.22578339878993323,
           0.5990325020665805,
           0.16038513562132736,
           0.3533349692784212,
           0.6237394655582204,
           0.5771810307163958,
           0.5302888784600516,
           0.45678700910911696,
           0.1767079632719736,
           0.34028824458029544,
           0.6588735534829182,
           0.6753066599704174,
           0.522933782750989,
           0.5532886626066877,
           0.5550692371310149,
           0.5325005349997552,
           0.6335768291000125,
           0.5690002212531435,
           0.9625526389668289,
           1,
           0.8946481305116226,
           0.7942539680714259,
           0.6940270717647531,
           0.6922496099854527,
           0.6385165219938457,
           0.6458352123989332,
           0.6462224278124336,
           0.6724903316205243,
           0.68035057198356,
           0.11669260918575884,
           0.610495052943758,
           0.1897457836933764,
           0.487343376597162,
           0.21134084046210394,
           0.33739239225288253,
           0.2905643586138468
          ],
          [
           0.3615276761524686,
           0.5178564173765173,
           0.26717932684567697,
           0.24684246888342484,
           0.5885030731143824,
           0.15348999069144767,
           0.3710431143094932,
           0.6318232924388951,
           0.5566687632244144,
           0.5291410224978789,
           0.4665402321825614,
           0.15561084277806378,
           0.3587393746465056,
           0.646198194614496,
           0.6705774557349354,
           0.5426392058983407,
           0.5722257169187807,
           0.5379902986495151,
           0.5102230035456117,
           0.6272314159130589,
           0.5857700578552266,
           0.9452731095592459,
           0.8946481305116226,
           1,
           0.7107021590600736,
           0.6923029874069649,
           0.7170466423760027,
           0.6220233556699661,
           0.6005088915383671,
           0.6010543318866437,
           0.6537260977948092,
           0.6323025577867529,
           0.1167385200570564,
           0.6259943201025064,
           0.21249620274212455,
           0.4854730977784851,
           0.30161734104877835,
           0.42225745063118525,
           0.38222289355772276
          ],
          [
           0.47771110320579296,
           0.5697220497454921,
           0.27104286674605305,
           0.265082212668731,
           0.4672793304300338,
           0.1324532357065044,
           0.4711194123112061,
           0.6005739895109672,
           0.6470643821717857,
           0.593865296662245,
           0.5640321574668526,
           0.0803397126998438,
           0.3275241040798218,
           0.6244870777886946,
           0.6478433539722099,
           0.5987716810956398,
           0.6178070616526451,
           0.5856542596680516,
           0.5054263669317101,
           0.6687153569060812,
           0.627914831953163,
           0.838896742246866,
           0.7942539680714259,
           0.7107021590600736,
           1,
           0.6802599950689338,
           0.6492776874158566,
           0.6794564390088127,
           0.6400170874394102,
           0.6176652959520994,
           0.6572358315191533,
           0.6470241160750708,
           0.03199385583429279,
           0.6044192336685882,
           0.32405566821990495,
           0.46893031453362694,
           0.2880446910094044,
           0.45623351227569536,
           0.3940430646920862
          ],
          [
           0.6916902595854186,
           0.8055785831750116,
           0.5407315098326335,
           0.5489142040333038,
           0.5871446183717959,
           0.21670787148144485,
           0.6943290175132139,
           0.9365945576604225,
           0.9130017170340503,
           0.8507416805727197,
           0.7989735862278052,
           0.15048482966399485,
           0.60103259076974,
           0.9824209093229254,
           0.9931717916290327,
           0.8789484746968621,
           0.9004997246068297,
           0.872515059250997,
           0.7158597194649499,
           0.9503780229286045,
           0.8573656104673127,
           0.7441606655863906,
           0.6940270717647531,
           0.6923029874069649,
           0.6802599950689338,
           1,
           0.9831842234207467,
           0.9780080543142803,
           0.8646686002889846,
           0.8398413787432735,
           0.9892695105074554,
           0.9496449232745122,
           0.06935917553372226,
           0.7958156437043673,
           0.4823545261533189,
           0.7365687520831159,
           0.36024740708568165,
           0.5119522268601954,
           0.46069232650451064
          ],
          [
           0.6514274022914718,
           0.7674124268296013,
           0.5475289435794797,
           0.5455200857286608,
           0.6099085952176594,
           0.20153912313890376,
           0.6591489292751828,
           0.9229862347488469,
           0.8565188766122013,
           0.8092799113845037,
           0.7500260920214926,
           0.15504086714101678,
           0.5825136226397426,
           0.9708981879163993,
           0.9782168171926686,
           0.8272318162795921,
           0.8554901699450131,
           0.8287137987205796,
           0.6681428383625122,
           0.9053935625131876,
           0.8077448824830871,
           0.7453184668282226,
           0.6922496099854527,
           0.7170466423760027,
           0.6492776874158566,
           0.9831842234207467,
           1,
           0.9274520502063088,
           0.8322650398014798,
           0.8167965965465034,
           0.9649211365618975,
           0.9165373991905392,
           0.06577211458789918,
           0.7991539086687848,
           0.46540378822695605,
           0.6899629041362891,
           0.39420724777266863,
           0.5323858503989157,
           0.48887774562387093
          ],
          [
           0.7342255565180231,
           0.8293042263299311,
           0.5273804924777196,
           0.5477003562509543,
           0.5305055931412183,
           0.22765479138503267,
           0.7322102221417218,
           0.9168404091185215,
           0.9492851629720186,
           0.8802789995308137,
           0.8424247533430805,
           0.12050762605125918,
           0.599279617595422,
           0.9533278581628821,
           0.9673475520155533,
           0.909758001433786,
           0.9233549463254845,
           0.8898601723466224,
           0.724996530276631,
           0.9702907302971964,
           0.8936605865605627,
           0.6866056091432764,
           0.6385165219938457,
           0.6220233556699661,
           0.6794564390088127,
           0.9780080543142803,
           0.9274520502063088,
           1,
           0.8653967459613887,
           0.8311939537256612,
           0.9761243211692473,
           0.9443634004089182,
           0.0672383037885668,
           0.7743210666988032,
           0.5161117482033855,
           0.7428634015952402,
           0.3299256417342739,
           0.4951609784369442,
           0.4363224914297041
          ],
          [
           0.5893770955524222,
           0.6899687385017268,
           0.3925396796938401,
           0.3890521519017906,
           0.5044101921722343,
           0.17884554207061373,
           0.5729295164572259,
           0.7992087871006133,
           0.8231862932978834,
           0.7068967341568456,
           0.6903670941746368,
           0.13165380999459703,
           0.47176144683408916,
           0.8348484661330583,
           0.840590456405802,
           0.7393972073120624,
           0.7388944991927398,
           0.74997664601302,
           0.5932030728646494,
           0.8202725176826214,
           0.7706975126464829,
           0.6774690373062134,
           0.6458352123989332,
           0.6005088915383671,
           0.6400170874394102,
           0.8646686002889846,
           0.8322650398014798,
           0.8653967459613887,
           1,
           0.9840578123865027,
           0.8840789039833645,
           0.9175891172675371,
           0.06980090652629828,
           0.7486048580094976,
           0.384791762386135,
           0.6206745485928631,
           0.21868770888419428,
           0.3958314895062707,
           0.32625227882427493
          ],
          [
           0.5536636484813308,
           0.6581170186913228,
           0.37749181721634023,
           0.3748362234260983,
           0.49133977520337535,
           0.16697989056608714,
           0.53735616200604,
           0.7919645987164944,
           0.7747493430003567,
           0.6770407226236209,
           0.6532200816855833,
           0.1452254498724301,
           0.48882365263138466,
           0.8156710553352857,
           0.820330076583106,
           0.7198578296403144,
           0.716629162420726,
           0.740466881905749,
           0.5885282969421016,
           0.7963229317869888,
           0.7452543717655581,
           0.6739902271265477,
           0.6462224278124336,
           0.6010543318866437,
           0.6176652959520994,
           0.8398413787432735,
           0.8167965965465034,
           0.8311939537256612,
           0.9840578123865027,
           1,
           0.8566608347883437,
           0.9014119310208927,
           0.05297782137027599,
           0.7115006928200481,
           0.3549854700189331,
           0.618020929317802,
           0.19130884417272112,
           0.36469386338298654,
           0.29549629473779015
          ],
          [
           0.6571314636455052,
           0.7991111274420373,
           0.5031687502365295,
           0.5086052843841239,
           0.5654944912884651,
           0.21693814345960757,
           0.6474568262979553,
           0.9405116820259504,
           0.9093612126663947,
           0.8202509411729119,
           0.7694738447584543,
           0.16412347428115628,
           0.5800457122486986,
           0.9827477576757434,
           0.9871664007323593,
           0.8827965033668393,
           0.8917668401677966,
           0.8890468431802215,
           0.7302858001442701,
           0.9416677034163639,
           0.845664982352851,
           0.7152997940093836,
           0.6724903316205243,
           0.6537260977948092,
           0.6572358315191533,
           0.9892695105074554,
           0.9649211365618975,
           0.9761243211692473,
           0.8840789039833645,
           0.8566608347883437,
           1,
           0.9726588298880257,
           0.0774193283432513,
           0.7878930577585471,
           0.44815223036905816,
           0.7373690501048887,
           0.2871928738269863,
           0.4552826574607909,
           0.3930959862741963
          ],
          [
           0.602208617270921,
           0.7545336102484207,
           0.42685158820408703,
           0.4355948387303525,
           0.5467852280811499,
           0.21467969235593196,
           0.5869203602439514,
           0.9176072249692045,
           0.8759457989676125,
           0.7820079312932575,
           0.7315632087645554,
           0.18773308247714823,
           0.5680145817674257,
           0.9471622138916909,
           0.9487788154093043,
           0.8516825841755277,
           0.8493644408691832,
           0.8754490376296657,
           0.7412023395640372,
           0.9160219079662711,
           0.8177351249903687,
           0.7091967569419934,
           0.68035057198356,
           0.6323025577867529,
           0.6470241160750708,
           0.9496449232745122,
           0.9165373991905392,
           0.9443634004089182,
           0.9175891172675371,
           0.9014119310208927,
           0.9726588298880257,
           1,
           0.07752832263242197,
           0.7522879810476747,
           0.38070507704997664,
           0.746757591643433,
           0.18833608454002632,
           0.3645156263543011,
           0.29391119877416166
          ],
          [
           -0.014811605183125767,
           0.012303285026616423,
           -0.03817396729812609,
           -0.044450755478235106,
           0.24758775985997955,
           0.5601120336112041,
           -0.031606319538561765,
           0.0634030029071511,
           0.06626481020979241,
           0.00905626799528439,
           0.005657802541307545,
           0.029890187995801596,
           -0.06803737753205469,
           0.08316128841350938,
           0.07511826817515,
           0.03738399068850271,
           0.04410962954628461,
           0.044036656423182045,
           0.025506742597808742,
           0.08253571872511968,
           0.07907016919023502,
           0.11377569139221694,
           0.11669260918575884,
           0.1167385200570564,
           0.03199385583429279,
           0.06935917553372226,
           0.06577211458789918,
           0.0672383037885668,
           0.06980090652629828,
           0.05297782137027599,
           0.0774193283432513,
           0.07752832263242197,
           1,
           0.05176997333247443,
           -0.03338098906352184,
           0.042485933325751686,
           -0.0724771966088817,
           -0.056483698284165815,
           -0.06720564527891365
          ],
          [
           0.6227065053271829,
           0.6358510318893121,
           0.4896792464617123,
           0.4904434889209005,
           0.5896146199018846,
           0.16852314048479206,
           0.6539299927615503,
           0.6888827033327198,
           0.7938793017438874,
           0.7410844339347525,
           0.71135197138209,
           0.026485242648504513,
           0.41282300750761036,
           0.7255367677862632,
           0.7501419095263111,
           0.6543318625780802,
           0.6729217292476967,
           0.6371048585687477,
           0.4664616392863657,
           0.7658804618057592,
           0.7282865320449601,
           0.6364281919137253,
           0.610495052943758,
           0.6259943201025064,
           0.6044192336685882,
           0.7958156437043673,
           0.7991539086687848,
           0.7743210666988032,
           0.7486048580094976,
           0.7115006928200481,
           0.7878930577585471,
           0.7522879810476747,
           0.05176997333247443,
           1,
           0.5569743077171369,
           0.4523454790554842,
           0.5269562041443796,
           0.6865037753866857,
           0.6397233461549866
          ],
          [
           0.6619375251453516,
           0.37253391001216707,
           0.47247058133094644,
           0.5356654678645751,
           0.2767027802400303,
           0.16959389245213444,
           0.7373054123404872,
           0.3083592139949374,
           0.6447827831335217,
           0.6387049968093288,
           0.6872045286150842,
           -0.1913454639146942,
           0.2078705307848808,
           0.4040407009245075,
           0.4258984926405316,
           0.3582914142749954,
           0.3953337382519446,
           0.2789306315607117,
           0.13183396702024228,
           0.46621476640618964,
           0.46186550504065493,
           0.21380183937143485,
           0.1897457836933764,
           0.21249620274212455,
           0.32405566821990495,
           0.4823545261533189,
           0.46540378822695605,
           0.5161117482033855,
           0.384791762386135,
           0.3549854700189331,
           0.44815223036905816,
           0.38070507704997664,
           -0.03338098906352184,
           0.5569743077171369,
           1,
           0.10218691883860793,
           0.5666006314299401,
           0.680045462312588,
           0.6560222406183724
          ],
          [
           0.3456669549946226,
           0.6620476728273833,
           0.22671616502713654,
           0.23768278811813623,
           0.36058874884058034,
           0.14078070798972314,
           0.3264947461260712,
           0.7691433733898295,
           0.6008537560646982,
           0.5736854872105311,
           0.5107002771314796,
           0.3081089767781793,
           0.7683074092880482,
           0.7371004056739701,
           0.7643980740057509,
           0.7926332175098579,
           0.7916743839994864,
           0.7518762652756933,
           0.8341155612534499,
           0.7627324190885963,
           0.6461162105404805,
           0.5483491794140798,
           0.487343376597162,
           0.4854730977784851,
           0.46893031453362694,
           0.7365687520831159,
           0.6899629041362891,
           0.7428634015952402,
           0.6206745485928631,
           0.618020929317802,
           0.7373690501048887,
           0.746757591643433,
           0.042485933325751686,
           0.4523454790554842,
           0.10218691883860793,
           1,
           0.007183171111936564,
           0.1481105374190211,
           0.08472630241475364
          ],
          [
           0.452573432221758,
           0.26265576852105416,
           0.38161546999291535,
           0.3873297165249691,
           0.3606104101350714,
           -0.00923179189067432,
           0.5475761024437625,
           0.1809569546871541,
           0.42075838311177816,
           0.4652379573646781,
           0.46496591874532806,
           -0.23646505216777586,
           0.10787255640224028,
           0.2528125473419072,
           0.3004644116390921,
           0.1980004517593557,
           0.2507273016037699,
           0.12997850507203682,
           0.003097112423641141,
           0.2935935614199215,
           0.29884502890422987,
           0.26311400386198386,
           0.21134084046210394,
           0.30161734104877835,
           0.2880446910094044,
           0.36024740708568165,
           0.39420724777266863,
           0.3299256417342739,
           0.21868770888419428,
           0.19130884417272112,
           0.2871928738269863,
           0.18833608454002632,
           -0.0724771966088817,
           0.5269562041443796,
           0.5666006314299401,
           0.007183171111936564,
           1,
           0.8201192043895571,
           0.9496092744588456
          ],
          [
           0.593856177552431,
           0.3723372312453668,
           0.4451099377294528,
           0.44373633340291424,
           0.4033815238873413,
           0.0007898367781028014,
           0.6581864512298762,
           0.3034454667269082,
           0.5946692355616089,
           0.607552490530547,
           0.6212850572108819,
           -0.19573186489370645,
           0.16452103266105192,
           0.38797078854321837,
           0.4349433582772854,
           0.31252804381022686,
           0.4029986066922034,
           0.24451087964769982,
           0.13982138901470925,
           0.4490028544270768,
           0.4241736911176526,
           0.4060562521280746,
           0.33739239225288253,
           0.42225745063118525,
           0.45623351227569536,
           0.5119522268601954,
           0.5323858503989157,
           0.4951609784369442,
           0.3958314895062707,
           0.36469386338298654,
           0.4552826574607909,
           0.3645156263543011,
           -0.056483698284165815,
           0.6865037753866857,
           0.680045462312588,
           0.1481105374190211,
           0.8201192043895571,
           1,
           0.9581386861067482
          ],
          [
           0.551754331386554,
           0.3353825990231561,
           0.43476921000866003,
           0.4368759777779644,
           0.40140101696250596,
           -0.004186596579511839,
           0.6345291101316866,
           0.2567658907442381,
           0.536280611761741,
           0.5655937774823232,
           0.572980095148784,
           -0.22690211604359173,
           0.14409697416015607,
           0.33902117002743776,
           0.38859510571802613,
           0.2702690998461365,
           0.3462097384317262,
           0.1989748893073414,
           0.07814115069842459,
           0.39285870296635333,
           0.3818854087530212,
           0.35408251454627176,
           0.2905643586138468,
           0.38222289355772276,
           0.3940430646920862,
           0.46069232650451064,
           0.48887774562387093,
           0.4363224914297041,
           0.32625227882427493,
           0.29549629473779015,
           0.3930959862741963,
           0.29391119877416166,
           -0.06720564527891365,
           0.6397233461549866,
           0.6560222406183724,
           0.08472630241475364,
           0.9496092744588456,
           0.9581386861067482,
           1
          ]
         ]
        }
       ],
       "layout": {
        "coloraxis": {
         "colorscale": [
          [
           0,
           "#0d0887"
          ],
          [
           0.1111111111111111,
           "#46039f"
          ],
          [
           0.2222222222222222,
           "#7201a8"
          ],
          [
           0.3333333333333333,
           "#9c179e"
          ],
          [
           0.4444444444444444,
           "#bd3786"
          ],
          [
           0.5555555555555556,
           "#d8576b"
          ],
          [
           0.6666666666666666,
           "#ed7953"
          ],
          [
           0.7777777777777778,
           "#fb9f3a"
          ],
          [
           0.8888888888888888,
           "#fdca26"
          ],
          [
           1,
           "#f0f921"
          ]
         ]
        },
        "template": {
         "data": {
          "bar": [
           {
            "error_x": {
             "color": "#2a3f5f"
            },
            "error_y": {
             "color": "#2a3f5f"
            },
            "marker": {
             "line": {
              "color": "#E5ECF6",
              "width": 0.5
             },
             "pattern": {
              "fillmode": "overlay",
              "size": 10,
              "solidity": 0.2
             }
            },
            "type": "bar"
           }
          ],
          "barpolar": [
           {
            "marker": {
             "line": {
              "color": "#E5ECF6",
              "width": 0.5
             },
             "pattern": {
              "fillmode": "overlay",
              "size": 10,
              "solidity": 0.2
             }
            },
            "type": "barpolar"
           }
          ],
          "carpet": [
           {
            "aaxis": {
             "endlinecolor": "#2a3f5f",
             "gridcolor": "white",
             "linecolor": "white",
             "minorgridcolor": "white",
             "startlinecolor": "#2a3f5f"
            },
            "baxis": {
             "endlinecolor": "#2a3f5f",
             "gridcolor": "white",
             "linecolor": "white",
             "minorgridcolor": "white",
             "startlinecolor": "#2a3f5f"
            },
            "type": "carpet"
           }
          ],
          "choropleth": [
           {
            "colorbar": {
             "outlinewidth": 0,
             "ticks": ""
            },
            "type": "choropleth"
           }
          ],
          "contour": [
           {
            "colorbar": {
             "outlinewidth": 0,
             "ticks": ""
            },
            "colorscale": [
             [
              0,
              "#0d0887"
             ],
             [
              0.1111111111111111,
              "#46039f"
             ],
             [
              0.2222222222222222,
              "#7201a8"
             ],
             [
              0.3333333333333333,
              "#9c179e"
             ],
             [
              0.4444444444444444,
              "#bd3786"
             ],
             [
              0.5555555555555556,
              "#d8576b"
             ],
             [
              0.6666666666666666,
              "#ed7953"
             ],
             [
              0.7777777777777778,
              "#fb9f3a"
             ],
             [
              0.8888888888888888,
              "#fdca26"
             ],
             [
              1,
              "#f0f921"
             ]
            ],
            "type": "contour"
           }
          ],
          "contourcarpet": [
           {
            "colorbar": {
             "outlinewidth": 0,
             "ticks": ""
            },
            "type": "contourcarpet"
           }
          ],
          "heatmap": [
           {
            "colorbar": {
             "outlinewidth": 0,
             "ticks": ""
            },
            "colorscale": [
             [
              0,
              "#0d0887"
             ],
             [
              0.1111111111111111,
              "#46039f"
             ],
             [
              0.2222222222222222,
              "#7201a8"
             ],
             [
              0.3333333333333333,
              "#9c179e"
             ],
             [
              0.4444444444444444,
              "#bd3786"
             ],
             [
              0.5555555555555556,
              "#d8576b"
             ],
             [
              0.6666666666666666,
              "#ed7953"
             ],
             [
              0.7777777777777778,
              "#fb9f3a"
             ],
             [
              0.8888888888888888,
              "#fdca26"
             ],
             [
              1,
              "#f0f921"
             ]
            ],
            "type": "heatmap"
           }
          ],
          "heatmapgl": [
           {
            "colorbar": {
             "outlinewidth": 0,
             "ticks": ""
            },
            "colorscale": [
             [
              0,
              "#0d0887"
             ],
             [
              0.1111111111111111,
              "#46039f"
             ],
             [
              0.2222222222222222,
              "#7201a8"
             ],
             [
              0.3333333333333333,
              "#9c179e"
             ],
             [
              0.4444444444444444,
              "#bd3786"
             ],
             [
              0.5555555555555556,
              "#d8576b"
             ],
             [
              0.6666666666666666,
              "#ed7953"
             ],
             [
              0.7777777777777778,
              "#fb9f3a"
             ],
             [
              0.8888888888888888,
              "#fdca26"
             ],
             [
              1,
              "#f0f921"
             ]
            ],
            "type": "heatmapgl"
           }
          ],
          "histogram": [
           {
            "marker": {
             "pattern": {
              "fillmode": "overlay",
              "size": 10,
              "solidity": 0.2
             }
            },
            "type": "histogram"
           }
          ],
          "histogram2d": [
           {
            "colorbar": {
             "outlinewidth": 0,
             "ticks": ""
            },
            "colorscale": [
             [
              0,
              "#0d0887"
             ],
             [
              0.1111111111111111,
              "#46039f"
             ],
             [
              0.2222222222222222,
              "#7201a8"
             ],
             [
              0.3333333333333333,
              "#9c179e"
             ],
             [
              0.4444444444444444,
              "#bd3786"
             ],
             [
              0.5555555555555556,
              "#d8576b"
             ],
             [
              0.6666666666666666,
              "#ed7953"
             ],
             [
              0.7777777777777778,
              "#fb9f3a"
             ],
             [
              0.8888888888888888,
              "#fdca26"
             ],
             [
              1,
              "#f0f921"
             ]
            ],
            "type": "histogram2d"
           }
          ],
          "histogram2dcontour": [
           {
            "colorbar": {
             "outlinewidth": 0,
             "ticks": ""
            },
            "colorscale": [
             [
              0,
              "#0d0887"
             ],
             [
              0.1111111111111111,
              "#46039f"
             ],
             [
              0.2222222222222222,
              "#7201a8"
             ],
             [
              0.3333333333333333,
              "#9c179e"
             ],
             [
              0.4444444444444444,
              "#bd3786"
             ],
             [
              0.5555555555555556,
              "#d8576b"
             ],
             [
              0.6666666666666666,
              "#ed7953"
             ],
             [
              0.7777777777777778,
              "#fb9f3a"
             ],
             [
              0.8888888888888888,
              "#fdca26"
             ],
             [
              1,
              "#f0f921"
             ]
            ],
            "type": "histogram2dcontour"
           }
          ],
          "mesh3d": [
           {
            "colorbar": {
             "outlinewidth": 0,
             "ticks": ""
            },
            "type": "mesh3d"
           }
          ],
          "parcoords": [
           {
            "line": {
             "colorbar": {
              "outlinewidth": 0,
              "ticks": ""
             }
            },
            "type": "parcoords"
           }
          ],
          "pie": [
           {
            "automargin": true,
            "type": "pie"
           }
          ],
          "scatter": [
           {
            "fillpattern": {
             "fillmode": "overlay",
             "size": 10,
             "solidity": 0.2
            },
            "type": "scatter"
           }
          ],
          "scatter3d": [
           {
            "line": {
             "colorbar": {
              "outlinewidth": 0,
              "ticks": ""
             }
            },
            "marker": {
             "colorbar": {
              "outlinewidth": 0,
              "ticks": ""
             }
            },
            "type": "scatter3d"
           }
          ],
          "scattercarpet": [
           {
            "marker": {
             "colorbar": {
              "outlinewidth": 0,
              "ticks": ""
             }
            },
            "type": "scattercarpet"
           }
          ],
          "scattergeo": [
           {
            "marker": {
             "colorbar": {
              "outlinewidth": 0,
              "ticks": ""
             }
            },
            "type": "scattergeo"
           }
          ],
          "scattergl": [
           {
            "marker": {
             "colorbar": {
              "outlinewidth": 0,
              "ticks": ""
             }
            },
            "type": "scattergl"
           }
          ],
          "scattermapbox": [
           {
            "marker": {
             "colorbar": {
              "outlinewidth": 0,
              "ticks": ""
             }
            },
            "type": "scattermapbox"
           }
          ],
          "scatterpolar": [
           {
            "marker": {
             "colorbar": {
              "outlinewidth": 0,
              "ticks": ""
             }
            },
            "type": "scatterpolar"
           }
          ],
          "scatterpolargl": [
           {
            "marker": {
             "colorbar": {
              "outlinewidth": 0,
              "ticks": ""
             }
            },
            "type": "scatterpolargl"
           }
          ],
          "scatterternary": [
           {
            "marker": {
             "colorbar": {
              "outlinewidth": 0,
              "ticks": ""
             }
            },
            "type": "scatterternary"
           }
          ],
          "surface": [
           {
            "colorbar": {
             "outlinewidth": 0,
             "ticks": ""
            },
            "colorscale": [
             [
              0,
              "#0d0887"
             ],
             [
              0.1111111111111111,
              "#46039f"
             ],
             [
              0.2222222222222222,
              "#7201a8"
             ],
             [
              0.3333333333333333,
              "#9c179e"
             ],
             [
              0.4444444444444444,
              "#bd3786"
             ],
             [
              0.5555555555555556,
              "#d8576b"
             ],
             [
              0.6666666666666666,
              "#ed7953"
             ],
             [
              0.7777777777777778,
              "#fb9f3a"
             ],
             [
              0.8888888888888888,
              "#fdca26"
             ],
             [
              1,
              "#f0f921"
             ]
            ],
            "type": "surface"
           }
          ],
          "table": [
           {
            "cells": {
             "fill": {
              "color": "#EBF0F8"
             },
             "line": {
              "color": "white"
             }
            },
            "header": {
             "fill": {
              "color": "#C8D4E3"
             },
             "line": {
              "color": "white"
             }
            },
            "type": "table"
           }
          ]
         },
         "layout": {
          "annotationdefaults": {
           "arrowcolor": "#2a3f5f",
           "arrowhead": 0,
           "arrowwidth": 1
          },
          "autotypenumbers": "strict",
          "coloraxis": {
           "colorbar": {
            "outlinewidth": 0,
            "ticks": ""
           }
          },
          "colorscale": {
           "diverging": [
            [
             0,
             "#8e0152"
            ],
            [
             0.1,
             "#c51b7d"
            ],
            [
             0.2,
             "#de77ae"
            ],
            [
             0.3,
             "#f1b6da"
            ],
            [
             0.4,
             "#fde0ef"
            ],
            [
             0.5,
             "#f7f7f7"
            ],
            [
             0.6,
             "#e6f5d0"
            ],
            [
             0.7,
             "#b8e186"
            ],
            [
             0.8,
             "#7fbc41"
            ],
            [
             0.9,
             "#4d9221"
            ],
            [
             1,
             "#276419"
            ]
           ],
           "sequential": [
            [
             0,
             "#0d0887"
            ],
            [
             0.1111111111111111,
             "#46039f"
            ],
            [
             0.2222222222222222,
             "#7201a8"
            ],
            [
             0.3333333333333333,
             "#9c179e"
            ],
            [
             0.4444444444444444,
             "#bd3786"
            ],
            [
             0.5555555555555556,
             "#d8576b"
            ],
            [
             0.6666666666666666,
             "#ed7953"
            ],
            [
             0.7777777777777778,
             "#fb9f3a"
            ],
            [
             0.8888888888888888,
             "#fdca26"
            ],
            [
             1,
             "#f0f921"
            ]
           ],
           "sequentialminus": [
            [
             0,
             "#0d0887"
            ],
            [
             0.1111111111111111,
             "#46039f"
            ],
            [
             0.2222222222222222,
             "#7201a8"
            ],
            [
             0.3333333333333333,
             "#9c179e"
            ],
            [
             0.4444444444444444,
             "#bd3786"
            ],
            [
             0.5555555555555556,
             "#d8576b"
            ],
            [
             0.6666666666666666,
             "#ed7953"
            ],
            [
             0.7777777777777778,
             "#fb9f3a"
            ],
            [
             0.8888888888888888,
             "#fdca26"
            ],
            [
             1,
             "#f0f921"
            ]
           ]
          },
          "colorway": [
           "#636efa",
           "#EF553B",
           "#00cc96",
           "#ab63fa",
           "#FFA15A",
           "#19d3f3",
           "#FF6692",
           "#B6E880",
           "#FF97FF",
           "#FECB52"
          ],
          "font": {
           "color": "#2a3f5f"
          },
          "geo": {
           "bgcolor": "white",
           "lakecolor": "white",
           "landcolor": "#E5ECF6",
           "showlakes": true,
           "showland": true,
           "subunitcolor": "white"
          },
          "hoverlabel": {
           "align": "left"
          },
          "hovermode": "closest",
          "mapbox": {
           "style": "light"
          },
          "paper_bgcolor": "white",
          "plot_bgcolor": "#E5ECF6",
          "polar": {
           "angularaxis": {
            "gridcolor": "white",
            "linecolor": "white",
            "ticks": ""
           },
           "bgcolor": "#E5ECF6",
           "radialaxis": {
            "gridcolor": "white",
            "linecolor": "white",
            "ticks": ""
           }
          },
          "scene": {
           "xaxis": {
            "backgroundcolor": "#E5ECF6",
            "gridcolor": "white",
            "gridwidth": 2,
            "linecolor": "white",
            "showbackground": true,
            "ticks": "",
            "zerolinecolor": "white"
           },
           "yaxis": {
            "backgroundcolor": "#E5ECF6",
            "gridcolor": "white",
            "gridwidth": 2,
            "linecolor": "white",
            "showbackground": true,
            "ticks": "",
            "zerolinecolor": "white"
           },
           "zaxis": {
            "backgroundcolor": "#E5ECF6",
            "gridcolor": "white",
            "gridwidth": 2,
            "linecolor": "white",
            "showbackground": true,
            "ticks": "",
            "zerolinecolor": "white"
           }
          },
          "shapedefaults": {
           "line": {
            "color": "#2a3f5f"
           }
          },
          "ternary": {
           "aaxis": {
            "gridcolor": "white",
            "linecolor": "white",
            "ticks": ""
           },
           "baxis": {
            "gridcolor": "white",
            "linecolor": "white",
            "ticks": ""
           },
           "bgcolor": "#E5ECF6",
           "caxis": {
            "gridcolor": "white",
            "linecolor": "white",
            "ticks": ""
           }
          },
          "title": {
           "x": 0.05
          },
          "xaxis": {
           "automargin": true,
           "gridcolor": "white",
           "linecolor": "white",
           "ticks": "",
           "title": {
            "standoff": 15
           },
           "zerolinecolor": "white",
           "zerolinewidth": 2
          },
          "yaxis": {
           "automargin": true,
           "gridcolor": "white",
           "linecolor": "white",
           "ticks": "",
           "title": {
            "standoff": 15
           },
           "zerolinecolor": "white",
           "zerolinewidth": 2
          }
         }
        },
        "title": {
         "text": "Matrice di Correlazione - Anno 2020"
        },
        "xaxis": {
         "anchor": "y",
         "constrain": "domain",
         "domain": [
          0,
          1
         ],
         "scaleanchor": "y"
        },
        "yaxis": {
         "anchor": "x",
         "autorange": "reversed",
         "constrain": "domain",
         "domain": [
          0,
          1
         ]
        }
       }
      }
     },
     "metadata": {},
     "output_type": "display_data"
    },
    {
     "data": {
      "application/vnd.plotly.v1+json": {
       "config": {
        "plotlyServerURL": "https://plot.ly"
       },
       "data": [
        {
         "coloraxis": "coloraxis",
         "hovertemplate": "x: %{x}<br>y: %{y}<br>color: %{z}<extra></extra>",
         "name": "0",
         "type": "heatmap",
         "x": [
          "Gls",
          "Ast",
          "PK",
          "PKatt",
          "CrdY",
          "CrdR",
          "xG",
          "PrgP",
          "PrgR",
          "Sh",
          "SoT",
          "Dist",
          "FK",
          "Cmp",
          "Att",
          "xA",
          "KP",
          "PPA",
          "CrsPA",
          "SCA",
          "GCA",
          "Tkl",
          "TklW",
          "Mid 3rd",
          "Att 3rd",
          "Touches",
          "Mid 3rd.1",
          "Att 3rd.1",
          "Att.1",
          "Succ",
          "Carries",
          "TotDist",
          "2CrdY",
          "Fld",
          "Off",
          "Crs",
          "Won",
          "Lost",
          "Duels"
         ],
         "xaxis": "x",
         "y": [
          "Gls",
          "Ast",
          "PK",
          "PKatt",
          "CrdY",
          "CrdR",
          "xG",
          "PrgP",
          "PrgR",
          "Sh",
          "SoT",
          "Dist",
          "FK",
          "Cmp",
          "Att",
          "xA",
          "KP",
          "PPA",
          "CrsPA",
          "SCA",
          "GCA",
          "Tkl",
          "TklW",
          "Mid 3rd",
          "Att 3rd",
          "Touches",
          "Mid 3rd.1",
          "Att 3rd.1",
          "Att.1",
          "Succ",
          "Carries",
          "TotDist",
          "2CrdY",
          "Fld",
          "Off",
          "Crs",
          "Won",
          "Lost",
          "Duels"
         ],
         "yaxis": "y",
         "z": [
          [
           1,
           0.5622417652246772,
           0.7291029168418389,
           0.7309695236814095,
           0.39675990364897906,
           0.05166642829845851,
           0.9438927059160955,
           0.5423228154391674,
           0.7727131796501114,
           0.8635110104388699,
           0.899682388497485,
           -0.09708415911988218,
           0.45635513711356723,
           0.5893372381751801,
           0.6121128895672208,
           0.5905365541090986,
           0.6533144945603422,
           0.5301693978936517,
           0.15793930171364298,
           0.695669501879752,
           0.7147507045880123,
           0.3783276704816688,
           0.3745029287441573,
           0.3634383473494241,
           0.4460744892915372,
           0.6702142606542649,
           0.6285403648747864,
           0.715139979505117,
           0.5545733945121109,
           0.5066898505214638,
           0.6358697752607292,
           0.5794711386705468,
           -0.03487181146754494,
           0.6092854963134923,
           0.7297969833935829,
           0.23828565124656204,
           0.5402264857546808,
           0.5647013515735229,
           0.5750742150970518
          ],
          [
           0.5622417652246772,
           1,
           0.29112307076030647,
           0.28982004347709994,
           0.34617627291611763,
           0.024314720922893048,
           0.5608290361064519,
           0.8378651564422038,
           0.6888889674218053,
           0.6633993065968591,
           0.6714915073551198,
           0.09264288610974558,
           0.375676903154111,
           0.8032947717955631,
           0.8116951400454144,
           0.8607413104725158,
           0.8597972183320889,
           0.8340518499175167,
           0.5571489569845095,
           0.81634310713038,
           0.8532180052590581,
           0.532225530146617,
           0.5093382614184035,
           0.49793306175458624,
           0.5112546894529376,
           0.798273209741427,
           0.7823927377521526,
           0.7956859986936532,
           0.6337078722665043,
           0.6022885365628341,
           0.7875456293589124,
           0.771231481493869,
           -0.004369128868632277,
           0.5807629645681339,
           0.37171913972271975,
           0.6806990767775101,
           0.2005242535303307,
           0.23566925556612123,
           0.2278828526737103
          ],
          [
           0.7291029168418389,
           0.29112307076030647,
           1,
           0.9854167227408615,
           0.21399925078967622,
           -0.007816848360927645,
           0.7503838039037345,
           0.3288778746007312,
           0.471517044015725,
           0.5905266946736895,
           0.5661513851544844,
           0.05757019870045053,
           0.4098637446880363,
           0.3690464014603547,
           0.3826747523183531,
           0.3446202034564095,
           0.38602007130652694,
           0.27879583793796403,
           0.06882953829245853,
           0.415657100984492,
           0.3657038446773838,
           0.20500741398752714,
           0.20976106703975217,
           0.2143914819833976,
           0.2255446781976094,
           0.41572032908651735,
           0.39274877974335054,
           0.43680007032808194,
           0.2669925553937324,
           0.24007235236819224,
           0.38959699854379015,
           0.3560302982390465,
           -0.06992225677177107,
           0.3378649938874827,
           0.5103008847706116,
           0.11100875200576278,
           0.3321897937232786,
           0.3623268162566468,
           0.36196830258991286
          ],
          [
           0.7309695236814095,
           0.28982004347709994,
           0.9854167227408615,
           1,
           0.2304944632274888,
           -0.011644991474710247,
           0.7650414466962884,
           0.33454575392729397,
           0.4808316892177483,
           0.6103489631798075,
           0.580701624979506,
           0.05292101483349202,
           0.4232376314250298,
           0.3705062339891808,
           0.3867503098702866,
           0.3489971696809846,
           0.3849176266133828,
           0.28664085760973923,
           0.06505285855834204,
           0.42385301167255407,
           0.3658409713702656,
           0.2153261677329803,
           0.21609343180758264,
           0.22615490987477907,
           0.2438437212897748,
           0.42443466502919813,
           0.40083905942697157,
           0.44410678823543953,
           0.27850747142464466,
           0.25194847942413384,
           0.3964305439307418,
           0.3617744201602406,
           -0.06647417988722071,
           0.363058708166419,
           0.5286203270300907,
           0.10589223983784199,
           0.3508963975952455,
           0.38957814871415386,
           0.38614178768078955
          ],
          [
           0.39675990364897906,
           0.34617627291611763,
           0.21399925078967622,
           0.2304944632274888,
           1,
           0.2943955176454711,
           0.42278961903473955,
           0.4448775980591316,
           0.47530150220150685,
           0.4973250785572282,
           0.45064799642223397,
           0.034096418781088184,
           0.27305166456783947,
           0.46358819073045926,
           0.489816417299429,
           0.41850049062260375,
           0.4468950553349674,
           0.3803724255982461,
           0.20643256458222184,
           0.47752000129448174,
           0.4459198967275685,
           0.6372653189195052,
           0.617123389761943,
           0.600839254538725,
           0.5132859986176365,
           0.5350908495673988,
           0.559595003103597,
           0.4810082062095655,
           0.4207139282194409,
           0.39135786272284445,
           0.4931342054358251,
           0.4355592628274667,
           0.24209728358603114,
           0.5915636563356486,
           0.41330943980128526,
           0.2749432576541825,
           0.39677128622588137,
           0.5253014701297096,
           0.48355411135865084
          ],
          [
           0.05166642829845851,
           0.024314720922893048,
           -0.007816848360927645,
           -0.011644991474710247,
           0.2943955176454711,
           1,
           0.027465398709553907,
           0.07746883779949379,
           0.03485026143215891,
           0.08380358901826454,
           0.06900195104652766,
           0.04398999751686881,
           0.16779448829378935,
           0.03569622647559074,
           0.04578897420659207,
           0.05854801395392949,
           0.0217864172635017,
           0.07748580662128707,
           -0.0010934761438395801,
           0.07361896486490994,
           0.08184032273108761,
           0.13919187522152757,
           0.13726251152930946,
           0.13444746726348594,
           0.07170205273412716,
           0.061600962279720416,
           0.047937457695325515,
           0.06162377852056245,
           0.08862652772787592,
           0.0843680031166731,
           0.0611125113448726,
           0.046423180000913854,
           0.59907311994093,
           0.1680057393739054,
           0.020683545455769108,
           0.023271171086566917,
           0.020867846837400093,
           0.0740136474055589,
           0.05110537113048335
          ],
          [
           0.9438927059160955,
           0.5608290361064519,
           0.7503838039037345,
           0.7650414466962884,
           0.42278961903473955,
           0.027465398709553907,
           1,
           0.5707894795754452,
           0.8201615082281316,
           0.9202996217451271,
           0.920366418507446,
           -0.1262185852931134,
           0.4796186237055421,
           0.6160276700410143,
           0.6463028797721909,
           0.6134199042687537,
           0.6727984253931089,
           0.5484991594193593,
           0.19871160703876511,
           0.7189737878960976,
           0.6997921125432285,
           0.4199974386814954,
           0.40102217452599953,
           0.3954240983160973,
           0.5094722627554996,
           0.7092445767196639,
           0.6683957122948981,
           0.7507167657507571,
           0.55631730886136,
           0.4980584146080277,
           0.672756327555459,
           0.6043084723028578,
           -0.07372478583764837,
           0.655281616523805,
           0.8066058853404005,
           0.2835191532728346,
           0.6026841802034805,
           0.6316499786334819,
           0.6424802726794
          ],
          [
           0.5423228154391674,
           0.8378651564422038,
           0.3288778746007312,
           0.33454575392729397,
           0.4448775980591316,
           0.07746883779949379,
           0.5707894795754452,
           1,
           0.7619600512705214,
           0.7355224152471461,
           0.7235759841713486,
           0.23902177903156108,
           0.5301506878409208,
           0.9538766785475603,
           0.9561365797771065,
           0.9253411707317225,
           0.9259687441294826,
           0.953830761991271,
           0.6688013698476494,
           0.934794549024461,
           0.8596165404356353,
           0.701236837098751,
           0.6842620071326024,
           0.6874509176956414,
           0.606161486268021,
           0.937580182390315,
           0.9341541831247856,
           0.9148795523972807,
           0.7787756705049369,
           0.7592403727822957,
           0.9473479943764143,
           0.9305808928886741,
           0.05414456511667799,
           0.6886575401524813,
           0.35642696125802975,
           0.7802483107667803,
           0.2296247120388961,
           0.27326259885983745,
           0.2628313368270603
          ],
          [
           0.7727131796501114,
           0.6888889674218053,
           0.471517044015725,
           0.4808316892177483,
           0.47530150220150685,
           0.03485026143215891,
           0.8201615082281316,
           0.7619600512705214,
           1,
           0.8734334099541888,
           0.8598979984233943,
           -0.016966096553566873,
           0.4362544370494569,
           0.8272768448136593,
           0.8559359607170187,
           0.8122232749427416,
           0.8644147936034494,
           0.7806166916755706,
           0.5076184977558447,
           0.8845953217442384,
           0.8031532345025784,
           0.574512304202537,
           0.5520554004446775,
           0.5324327342638769,
           0.6110870671422586,
           0.8953291457879924,
           0.8469129404546383,
           0.9288059722831581,
           0.805178730518184,
           0.7458758303427496,
           0.8817309745868888,
           0.8336265586098233,
           -0.017678650602844032,
           0.7786324024045099,
           0.750193385785239,
           0.5823744124313741,
           0.5007384915720738,
           0.587104563132568,
           0.5682841960258639
          ],
          [
           0.8635110104388699,
           0.6633993065968591,
           0.5905266946736895,
           0.6103489631798075,
           0.4973250785572282,
           0.08380358901826454,
           0.9202996217451271,
           0.7355224152471461,
           0.8734334099541888,
           1,
           0.9682745718699008,
           0.01862267822377759,
           0.6311379811210837,
           0.7763975060618544,
           0.8040501696973962,
           0.7633863359657707,
           0.8038126637191625,
           0.7132152246169222,
           0.3702014917199762,
           0.861959693036894,
           0.8006602204149804,
           0.5490924725482208,
           0.518753978088346,
           0.5113647414043901,
           0.5942483312894422,
           0.8543558529710863,
           0.8118906608069012,
           0.8880805202921442,
           0.702457357600364,
           0.6512735386956515,
           0.8299595530472804,
           0.7639979694118897,
           -0.03868610679864303,
           0.7592125927905653,
           0.7308125776819119,
           0.4924084593824726,
           0.5344277618060509,
           0.5907899125829807,
           0.5866955468607454
          ],
          [
           0.899682388497485,
           0.6714915073551198,
           0.5661513851544844,
           0.580701624979506,
           0.45064799642223397,
           0.06900195104652766,
           0.920366418507446,
           0.7235759841713486,
           0.8598979984233943,
           0.9682745718699008,
           1,
           -0.020474702031590634,
           0.5681087363062443,
           0.7488429099045711,
           0.7724057695708293,
           0.7466992431578118,
           0.794052454875791,
           0.7157976491211175,
           0.3344422590232819,
           0.8488028494498422,
           0.8238952439232073,
           0.5079044695512438,
           0.4859955454671648,
           0.47701928633975604,
           0.5769931249204602,
           0.8208288046256387,
           0.7749286813674949,
           0.8650434682675082,
           0.6839414161174638,
           0.6325324898413492,
           0.7989288518971834,
           0.741132043609304,
           -0.02439043919570615,
           0.7184105415839497,
           0.7118434663473104,
           0.45107320558950975,
           0.5008637149473907,
           0.5582634322273891,
           0.5523823047185713
          ],
          [
           -0.09708415911988218,
           0.09264288610974558,
           0.05757019870045053,
           0.05292101483349202,
           0.034096418781088184,
           0.04398999751686881,
           -0.1262185852931134,
           0.23902177903156108,
           -0.016966096553566873,
           0.01862267822377759,
           -0.020474702031590634,
           1,
           0.2730179671494997,
           0.20551821002960752,
           0.19672753629463832,
           0.18939498433726162,
           0.14610026114171235,
           0.2093386502353771,
           0.2635428287311016,
           0.15402408915552604,
           0.07851090666581946,
           0.20445508481666383,
           0.21486567709281576,
           0.193052921240614,
           0.06212511875892723,
           0.16093174064939586,
           0.1717487525707885,
           0.125769113608602,
           0.11689760735050586,
           0.13212508741227838,
           0.1705651217149713,
           0.19514911570025587,
           0.050392044686222194,
           0.01384552639412489,
           -0.22874253130878527,
           0.302860607204662,
           -0.21100882602532903,
           -0.21861204751224111,
           -0.2237643091440518
          ],
          [
           0.45635513711356723,
           0.375676903154111,
           0.4098637446880363,
           0.4232376314250298,
           0.27305166456783947,
           0.16779448829378935,
           0.4796186237055421,
           0.5301506878409208,
           0.4362544370494569,
           0.6311379811210837,
           0.5681087363062443,
           0.2730179671494997,
           1,
           0.5453028497778479,
           0.5651849209290836,
           0.5510936324935171,
           0.501275156427063,
           0.4850385809706311,
           0.32257934179646625,
           0.5598629337399469,
           0.45367576553041866,
           0.3703236563949249,
           0.36606927065616285,
           0.3323524618135866,
           0.3142636637231143,
           0.5675640956040573,
           0.5412942137926784,
           0.5785913843812234,
           0.41859270002148447,
           0.4065827434218416,
           0.558038514996233,
           0.5006127566365726,
           0.029084881717066042,
           0.45356543716968906,
           0.2787544701205545,
           0.5217338690579222,
           0.21173731031332246,
           0.18873160742760245,
           0.20735329031318847
          ],
          [
           0.5893372381751801,
           0.8032947717955631,
           0.3690464014603547,
           0.3705062339891808,
           0.46358819073045926,
           0.03569622647559074,
           0.6160276700410143,
           0.9538766785475603,
           0.8272768448136593,
           0.7763975060618544,
           0.7488429099045711,
           0.20551821002960752,
           0.5453028497778479,
           1,
           0.9942021346299015,
           0.9206550627518332,
           0.9391300612157276,
           0.9128175900425227,
           0.6610453855481786,
           0.9451280083680648,
           0.8453373803968365,
           0.6993384604113827,
           0.6831517700843072,
           0.6708221108375343,
           0.6035689189576899,
           0.9774060083085875,
           0.9721702311096675,
           0.9542229309614307,
           0.7910976060420051,
           0.7650338700490228,
           0.9799410331597526,
           0.9371840140589467,
           0.021001745394870458,
           0.6956542757819032,
           0.43572475175006176,
           0.7725520112504611,
           0.2615301897391788,
           0.32722349414183177,
           0.30820192019718284
          ],
          [
           0.6121128895672208,
           0.8116951400454144,
           0.3826747523183531,
           0.3867503098702866,
           0.489816417299429,
           0.04578897420659207,
           0.6463028797721909,
           0.9561365797771065,
           0.8559359607170187,
           0.8040501696973962,
           0.7724057695708293,
           0.19672753629463832,
           0.5651849209290836,
           0.9942021346299015,
           1,
           0.9312935245230688,
           0.9518820898212167,
           0.9191449383207234,
           0.6714824809765368,
           0.956811654270165,
           0.8536287640815479,
           0.7230350020397077,
           0.7015592236516917,
           0.6894101305109925,
           0.6270258899993071,
           0.9911365244466315,
           0.9825404110225261,
           0.9688838444690012,
           0.8009046201236777,
           0.7667113194632774,
           0.9860405432353728,
           0.9402442138717467,
           0.017551091017856825,
           0.7314725829828368,
           0.47402073472883766,
           0.7941670904438284,
           0.3163878883969688,
           0.38340450016324523,
           0.36595511733236724
          ],
          [
           0.5905365541090986,
           0.8607413104725158,
           0.3446202034564095,
           0.3489971696809846,
           0.41850049062260375,
           0.05854801395392949,
           0.6134199042687537,
           0.9253411707317225,
           0.8122232749427416,
           0.7633863359657707,
           0.7466992431578118,
           0.18939498433726162,
           0.5510936324935171,
           0.9206550627518332,
           0.9312935245230688,
           1,
           0.9534023913867586,
           0.9408338612242061,
           0.7247549253501684,
           0.9468360725472456,
           0.8661639079360267,
           0.6224908221031422,
           0.6109528023409471,
           0.6036849143837056,
           0.5577213980406049,
           0.9181894221377163,
           0.8855213242091374,
           0.9290117271351696,
           0.7852070260091604,
           0.7503596893390786,
           0.9243057748714933,
           0.8974019290391719,
           0.0255801515186131,
           0.6821393051262759,
           0.424737527150463,
           0.8355075900277777,
           0.20474075142596368,
           0.2709136589469855,
           0.249438672893732
          ],
          [
           0.6533144945603422,
           0.8597972183320889,
           0.38602007130652694,
           0.3849176266133828,
           0.4468950553349674,
           0.0217864172635017,
           0.6727984253931089,
           0.9259687441294826,
           0.8644147936034494,
           0.8038126637191625,
           0.794052454875791,
           0.14610026114171235,
           0.501275156427063,
           0.9391300612157276,
           0.9518820898212167,
           0.9534023913867586,
           1,
           0.9299055727955767,
           0.6890600764743112,
           0.9702468974072995,
           0.8823206230535252,
           0.6506859528725947,
           0.6333226002583439,
           0.6356008732848984,
           0.595254407505323,
           0.9473098723529516,
           0.9216145804804017,
           0.9521059528407942,
           0.7785545165755672,
           0.7437306669012745,
           0.9408451197768392,
           0.904021184641549,
           -0.007245766615129037,
           0.6865327848790512,
           0.48605230717686526,
           0.7872446396273234,
           0.2966559368280799,
           0.3463900011850425,
           0.33587972028587615
          ],
          [
           0.5301693978936517,
           0.8340518499175167,
           0.27879583793796403,
           0.28664085760973923,
           0.3803724255982461,
           0.07748580662128707,
           0.5484991594193593,
           0.953830761991271,
           0.7806166916755706,
           0.7132152246169222,
           0.7157976491211175,
           0.2093386502353771,
           0.4850385809706311,
           0.9128175900425227,
           0.9191449383207234,
           0.9408338612242061,
           0.9299055727955767,
           1,
           0.7331305646270384,
           0.9285393397163131,
           0.85159613543891,
           0.6059212220783912,
           0.5910477864864166,
           0.5866237461221314,
           0.5516281602699734,
           0.9005713393191539,
           0.8680425157668175,
           0.9119531376213366,
           0.7815571275691486,
           0.7501147753770027,
           0.9195641736363565,
           0.9122755715263677,
           0.07075245758380456,
           0.6495867167237825,
           0.3497783380905716,
           0.8037570096305957,
           0.1571850700503393,
           0.22239365904960323,
           0.19947410787052466
          ],
          [
           0.15793930171364298,
           0.5571489569845095,
           0.06882953829245853,
           0.06505285855834204,
           0.20643256458222184,
           -0.0010934761438395801,
           0.19871160703876511,
           0.6688013698476494,
           0.5076184977558447,
           0.3702014917199762,
           0.3344422590232819,
           0.2635428287311016,
           0.32257934179646625,
           0.6610453855481786,
           0.6714824809765368,
           0.7247549253501684,
           0.6890600764743112,
           0.7331305646270384,
           1,
           0.6378698032070197,
           0.4994335669892392,
           0.4379304415049035,
           0.4333253490802521,
           0.4251752422388313,
           0.3087863627580806,
           0.6285293850280599,
           0.6144626412697076,
           0.6120859181810907,
           0.4713166832401237,
           0.4486227170992923,
           0.6369812834875921,
           0.6228984857981775,
           0.019884724447045043,
           0.4163167963204094,
           0.12683360872597685,
           0.8454977074927045,
           0.015509348474880346,
           0.07216417454259526,
           0.04747772834105703
          ],
          [
           0.695669501879752,
           0.81634310713038,
           0.415657100984492,
           0.42385301167255407,
           0.47752000129448174,
           0.07361896486490994,
           0.7189737878960976,
           0.934794549024461,
           0.8845953217442384,
           0.861959693036894,
           0.8488028494498422,
           0.15402408915552604,
           0.5598629337399469,
           0.9451280083680648,
           0.956811654270165,
           0.9468360725472456,
           0.9702468974072995,
           0.9285393397163131,
           0.6378698032070197,
           1,
           0.9113751646147881,
           0.6621802008073306,
           0.643434071577279,
           0.6530856156816881,
           0.6123721759548277,
           0.9631039493333026,
           0.9330200652275834,
           0.9755402578095319,
           0.8425895224736101,
           0.8155665478475862,
           0.9633203411222677,
           0.9297883234023736,
           0.046274728030725215,
           0.769152209342031,
           0.5293329325590534,
           0.7462733194099078,
           0.3300113705946764,
           0.3945782692191676,
           0.3787599384997471
          ],
          [
           0.7147507045880123,
           0.8532180052590581,
           0.3657038446773838,
           0.3658409713702656,
           0.4459198967275685,
           0.08184032273108761,
           0.6997921125432285,
           0.8596165404356353,
           0.8031532345025784,
           0.8006602204149804,
           0.8238952439232073,
           0.07851090666581946,
           0.45367576553041866,
           0.8453373803968365,
           0.8536287640815479,
           0.8661639079360267,
           0.8823206230535252,
           0.85159613543891,
           0.4994335669892392,
           0.9113751646147881,
           1,
           0.5918372035162559,
           0.5848353970484182,
           0.5621086634274015,
           0.6012829377035601,
           0.8648685488532526,
           0.8358927402034233,
           0.8833475019270633,
           0.783895383149203,
           0.7483739607452734,
           0.8646408854799147,
           0.8353454906712494,
           0.038280264926669826,
           0.7196534716876786,
           0.4912621028910238,
           0.6121649289295991,
           0.3091063809446539,
           0.3555631650593645,
           0.3470072146597591
          ],
          [
           0.3783276704816688,
           0.532225530146617,
           0.20500741398752714,
           0.2153261677329803,
           0.6372653189195052,
           0.13919187522152757,
           0.4199974386814954,
           0.701236837098751,
           0.574512304202537,
           0.5490924725482208,
           0.5079044695512438,
           0.20445508481666383,
           0.3703236563949249,
           0.6993384604113827,
           0.7230350020397077,
           0.6224908221031422,
           0.6506859528725947,
           0.6059212220783912,
           0.4379304415049035,
           0.6621802008073306,
           0.5918372035162559,
           1,
           0.9735590025560842,
           0.937042815681029,
           0.7020685169634654,
           0.7500080898667656,
           0.7814504496079262,
           0.6593981022473069,
           0.6186998952119386,
           0.580991814960831,
           0.7068294443367876,
           0.6843631290571791,
           0.08770612570923744,
           0.6010958728649434,
           0.28440465313036684,
           0.5546893232922528,
           0.31860280564163207,
           0.44514126770155993,
           0.4012010200350719
          ],
          [
           0.3745029287441573,
           0.5093382614184035,
           0.20976106703975217,
           0.21609343180758264,
           0.617123389761943,
           0.13726251152930946,
           0.40102217452599953,
           0.6842620071326024,
           0.5520554004446775,
           0.518753978088346,
           0.4859955454671648,
           0.21486567709281576,
           0.36606927065616285,
           0.6831517700843072,
           0.7015592236516917,
           0.6109528023409471,
           0.6333226002583439,
           0.5910477864864166,
           0.4333253490802521,
           0.643434071577279,
           0.5848353970484182,
           0.9735590025560842,
           1,
           0.9125406631438006,
           0.6808657568269151,
           0.723990708540932,
           0.758295779502832,
           0.6325168859194235,
           0.6052564668299216,
           0.5737639704210579,
           0.6840424758776716,
           0.6654869365274761,
           0.10170196518381429,
           0.5706945787481817,
           0.24679438889694322,
           0.5349140158783743,
           0.2896947605875982,
           0.41047525826801445,
           0.3679662369359476
          ],
          [
           0.3634383473494241,
           0.49793306175458624,
           0.2143914819833976,
           0.22615490987477907,
           0.600839254538725,
           0.13444746726348594,
           0.3954240983160973,
           0.6874509176956414,
           0.5324327342638769,
           0.5113647414043901,
           0.47701928633975604,
           0.193052921240614,
           0.3323524618135866,
           0.6708221108375343,
           0.6894101305109925,
           0.6036849143837056,
           0.6356008732848984,
           0.5866237461221314,
           0.4251752422388313,
           0.6530856156816881,
           0.5621086634274015,
           0.937042815681029,
           0.9125406631438006,
           1,
           0.5708558196244896,
           0.7136823219828248,
           0.7539322898918609,
           0.6267149848466179,
           0.6181469723019121,
           0.5940943926671242,
           0.6813885778749582,
           0.6721637476600033,
           0.1401937990366134,
           0.5741299338429178,
           0.2458761379039275,
           0.5190390202323246,
           0.2884180199728338,
           0.4116630444932972,
           0.3680031987916187
          ],
          [
           0.4460744892915372,
           0.5112546894529376,
           0.2255446781976094,
           0.2438437212897748,
           0.5132859986176365,
           0.07170205273412716,
           0.5094722627554996,
           0.606161486268021,
           0.6110870671422586,
           0.5942483312894422,
           0.5769931249204602,
           0.06212511875892723,
           0.3142636637231143,
           0.6035689189576899,
           0.6270258899993071,
           0.5577213980406049,
           0.595254407505323,
           0.5516281602699734,
           0.3087863627580806,
           0.6123721759548277,
           0.6012829377035601,
           0.7020685169634654,
           0.6808657568269151,
           0.5708558196244896,
           1,
           0.6611745050421932,
           0.6578026779407361,
           0.6452712466628636,
           0.5271263929310501,
           0.4710544811113962,
           0.6270907119611364,
           0.5764650334073655,
           0.03560643078080952,
           0.5717868162604721,
           0.44739002650755233,
           0.42531502343872835,
           0.3802872773432403,
           0.4999194796493651,
           0.46149534457615954
          ],
          [
           0.6702142606542649,
           0.798273209741427,
           0.41572032908651735,
           0.42443466502919813,
           0.5350908495673988,
           0.061600962279720416,
           0.7092445767196639,
           0.937580182390315,
           0.8953291457879924,
           0.8543558529710863,
           0.8208288046256387,
           0.16093174064939586,
           0.5675640956040573,
           0.9774060083085875,
           0.9911365244466315,
           0.9181894221377163,
           0.9473098723529516,
           0.9005713393191539,
           0.6285293850280599,
           0.9631039493333026,
           0.8648685488532526,
           0.7500080898667656,
           0.723990708540932,
           0.7136823219828248,
           0.6611745050421932,
           1,
           0.9877076588879853,
           0.9809113295391172,
           0.8309128819093102,
           0.7896213922219166,
           0.9884206756330963,
           0.943438759437588,
           0.01379163080591653,
           0.7831117270820122,
           0.545722904081036,
           0.7540164003235976,
           0.39334424072390656,
           0.47476148428919296,
           0.45391626350064745
          ],
          [
           0.6285403648747864,
           0.7823927377521526,
           0.39274877974335054,
           0.40083905942697157,
           0.559595003103597,
           0.047937457695325515,
           0.6683957122948981,
           0.9341541831247856,
           0.8469129404546383,
           0.8118906608069012,
           0.7749286813674949,
           0.1717487525707885,
           0.5412942137926784,
           0.9721702311096675,
           0.9825404110225261,
           0.8855213242091374,
           0.9216145804804017,
           0.8680425157668175,
           0.6144626412697076,
           0.9330200652275834,
           0.8358927402034233,
           0.7814504496079262,
           0.758295779502832,
           0.7539322898918609,
           0.6578026779407361,
           0.9877076588879853,
           1,
           0.9423611466881291,
           0.7898892792218156,
           0.7565675756686652,
           0.9706202207663883,
           0.9211154966215915,
           0.014171670020802697,
           0.7680855439496557,
           0.5147817049609172,
           0.7261432318916896,
           0.4135850554858896,
           0.49076771044169604,
           0.4726114665097537
          ],
          [
           0.715139979505117,
           0.7956859986936532,
           0.43680007032808194,
           0.44410678823543953,
           0.4810082062095655,
           0.06162377852056245,
           0.7507167657507571,
           0.9148795523972807,
           0.9288059722831581,
           0.8880805202921442,
           0.8650434682675082,
           0.125769113608602,
           0.5785913843812234,
           0.9542229309614307,
           0.9688838444690012,
           0.9290117271351696,
           0.9521059528407942,
           0.9119531376213366,
           0.6120859181810907,
           0.9755402578095319,
           0.8833475019270633,
           0.6593981022473069,
           0.6325168859194235,
           0.6267149848466179,
           0.6452712466628636,
           0.9809113295391172,
           0.9423611466881291,
           1,
           0.8506106476223361,
           0.8050394516784976,
           0.9800829088480938,
           0.938557054148024,
           0.01307287411569855,
           0.7782383920264762,
           0.5853654228580684,
           0.7461782181773416,
           0.3692974234027048,
           0.451008971112526,
           0.4290841487660935
          ],
          [
           0.5545733945121109,
           0.6337078722665043,
           0.2669925553937324,
           0.27850747142464466,
           0.4207139282194409,
           0.08862652772787592,
           0.55631730886136,
           0.7787756705049369,
           0.805178730518184,
           0.702457357600364,
           0.6839414161174638,
           0.11689760735050586,
           0.41859270002148447,
           0.7910976060420051,
           0.8009046201236777,
           0.7852070260091604,
           0.7785545165755672,
           0.7815571275691486,
           0.4713166832401237,
           0.8425895224736101,
           0.783895383149203,
           0.6186998952119386,
           0.6052564668299216,
           0.6181469723019121,
           0.5271263929310501,
           0.8309128819093102,
           0.7898892792218156,
           0.8506106476223361,
           1,
           0.9810886555181303,
           0.8578569363288898,
           0.9107566961615127,
           0.03747592069964443,
           0.760551220933207,
           0.44530495066230186,
           0.5890479762363467,
           0.24692481388805845,
           0.35894079686897434,
           0.3186589256688476
          ],
          [
           0.5066898505214638,
           0.6022885365628341,
           0.24007235236819224,
           0.25194847942413384,
           0.39135786272284445,
           0.0843680031166731,
           0.4980584146080277,
           0.7592403727822957,
           0.7458758303427496,
           0.6512735386956515,
           0.6325324898413492,
           0.13212508741227838,
           0.4065827434218416,
           0.7650338700490228,
           0.7667113194632774,
           0.7503596893390786,
           0.7437306669012745,
           0.7501147753770027,
           0.4486227170992923,
           0.8155665478475862,
           0.7483739607452734,
           0.580991814960831,
           0.5737639704210579,
           0.5940943926671242,
           0.4710544811113962,
           0.7896213922219166,
           0.7565675756686652,
           0.8050394516784976,
           0.9810886555181303,
           1,
           0.82424404602881,
           0.8893668754186803,
           0.04882050505400656,
           0.7349071932992247,
           0.39283082205730874,
           0.5492124056046502,
           0.22359359950842606,
           0.315218276154315,
           0.2831217342790602
          ],
          [
           0.6358697752607292,
           0.7875456293589124,
           0.38959699854379015,
           0.3964305439307418,
           0.4931342054358251,
           0.0611125113448726,
           0.672756327555459,
           0.9473479943764143,
           0.8817309745868888,
           0.8299595530472804,
           0.7989288518971834,
           0.1705651217149713,
           0.558038514996233,
           0.9799410331597526,
           0.9860405432353728,
           0.9243057748714933,
           0.9408451197768392,
           0.9195641736363565,
           0.6369812834875921,
           0.9633203411222677,
           0.8646408854799147,
           0.7068294443367876,
           0.6840424758776716,
           0.6813885778749582,
           0.6270907119611364,
           0.9884206756330963,
           0.9706202207663883,
           0.9800829088480938,
           0.8578569363288898,
           0.82424404602881,
           1,
           0.9684243198983008,
           0.023178131123197488,
           0.7738943534091931,
           0.5083753430235339,
           0.7562380371527648,
           0.3270500911001612,
           0.41636273115281885,
           0.38937795655067825
          ],
          [
           0.5794711386705468,
           0.771231481493869,
           0.3560302982390465,
           0.3617744201602406,
           0.4355592628274667,
           0.046423180000913854,
           0.6043084723028578,
           0.9305808928886741,
           0.8336265586098233,
           0.7639979694118897,
           0.741132043609304,
           0.19514911570025587,
           0.5006127566365726,
           0.9371840140589467,
           0.9402442138717467,
           0.8974019290391719,
           0.904021184641549,
           0.9122755715263677,
           0.6228984857981775,
           0.9297883234023736,
           0.8353454906712494,
           0.6843631290571791,
           0.6654869365274761,
           0.6721637476600033,
           0.5764650334073655,
           0.943438759437588,
           0.9211154966215915,
           0.938557054148024,
           0.9107566961615127,
           0.8893668754186803,
           0.9684243198983008,
           1,
           0.010196111398969499,
           0.7459727708628003,
           0.43490245685707485,
           0.7377031445918055,
           0.24665062382524158,
           0.3406549408630772,
           0.3084049797993287
          ],
          [
           -0.03487181146754494,
           -0.004369128868632277,
           -0.06992225677177107,
           -0.06647417988722071,
           0.24209728358603114,
           0.59907311994093,
           -0.07372478583764837,
           0.05414456511667799,
           -0.017678650602844032,
           -0.03868610679864303,
           -0.02439043919570615,
           0.050392044686222194,
           0.029084881717066042,
           0.021001745394870458,
           0.017551091017856825,
           0.0255801515186131,
           -0.007245766615129037,
           0.07075245758380456,
           0.019884724447045043,
           0.046274728030725215,
           0.038280264926669826,
           0.08770612570923744,
           0.10170196518381429,
           0.1401937990366134,
           0.03560643078080952,
           0.01379163080591653,
           0.014171670020802697,
           0.01307287411569855,
           0.03747592069964443,
           0.04882050505400656,
           0.023178131123197488,
           0.010196111398969499,
           1,
           0.02134080968160591,
           -0.07164132689581539,
           0.005956716547997519,
           -0.056529097699625504,
           -0.021460826487722993,
           -0.03934879827901134
          ],
          [
           0.6092854963134923,
           0.5807629645681339,
           0.3378649938874827,
           0.363058708166419,
           0.5915636563356486,
           0.1680057393739054,
           0.655281616523805,
           0.6886575401524813,
           0.7786324024045099,
           0.7592125927905653,
           0.7184105415839497,
           0.01384552639412489,
           0.45356543716968906,
           0.6956542757819032,
           0.7314725829828368,
           0.6821393051262759,
           0.6865327848790512,
           0.6495867167237825,
           0.4163167963204094,
           0.769152209342031,
           0.7196534716876786,
           0.6010958728649434,
           0.5706945787481817,
           0.5741299338429178,
           0.5717868162604721,
           0.7831117270820122,
           0.7680855439496557,
           0.7782383920264762,
           0.760551220933207,
           0.7349071932992247,
           0.7738943534091931,
           0.7459727708628003,
           0.02134080968160591,
           1,
           0.6262114109108738,
           0.5180182787658394,
           0.5580512331531703,
           0.673858119530123,
           0.6441514803027174
          ],
          [
           0.7297969833935829,
           0.37171913972271975,
           0.5103008847706116,
           0.5286203270300907,
           0.41330943980128526,
           0.020683545455769108,
           0.8066058853404005,
           0.35642696125802975,
           0.750193385785239,
           0.7308125776819119,
           0.7118434663473104,
           -0.22874253130878527,
           0.2787544701205545,
           0.43572475175006176,
           0.47402073472883766,
           0.424737527150463,
           0.48605230717686526,
           0.3497783380905716,
           0.12683360872597685,
           0.5293329325590534,
           0.4912621028910238,
           0.28440465313036684,
           0.24679438889694322,
           0.2458761379039275,
           0.44739002650755233,
           0.545722904081036,
           0.5147817049609172,
           0.5853654228580684,
           0.44530495066230186,
           0.39283082205730874,
           0.5083753430235339,
           0.43490245685707485,
           -0.07164132689581539,
           0.6262114109108738,
           1,
           0.1623772420235541,
           0.6350472872275754,
           0.7300768207442905,
           0.7126838807923483
          ],
          [
           0.23828565124656204,
           0.6806990767775101,
           0.11100875200576278,
           0.10589223983784199,
           0.2749432576541825,
           0.023271171086566917,
           0.2835191532728346,
           0.7802483107667803,
           0.5823744124313741,
           0.4924084593824726,
           0.45107320558950975,
           0.302860607204662,
           0.5217338690579222,
           0.7725520112504611,
           0.7941670904438284,
           0.8355075900277777,
           0.7872446396273234,
           0.8037570096305957,
           0.8454977074927045,
           0.7462733194099078,
           0.6121649289295991,
           0.5546893232922528,
           0.5349140158783743,
           0.5190390202323246,
           0.42531502343872835,
           0.7540164003235976,
           0.7261432318916896,
           0.7461782181773416,
           0.5890479762363467,
           0.5492124056046502,
           0.7562380371527648,
           0.7377031445918055,
           0.005956716547997519,
           0.5180182787658394,
           0.1623772420235541,
           1,
           0.033231064892503014,
           0.09899296628044035,
           0.07093873393710177
          ],
          [
           0.5402264857546808,
           0.2005242535303307,
           0.3321897937232786,
           0.3508963975952455,
           0.39677128622588137,
           0.020867846837400093,
           0.6026841802034805,
           0.2296247120388961,
           0.5007384915720738,
           0.5344277618060509,
           0.5008637149473907,
           -0.21100882602532903,
           0.21173731031332246,
           0.2615301897391788,
           0.3163878883969688,
           0.20474075142596368,
           0.2966559368280799,
           0.1571850700503393,
           0.015509348474880346,
           0.3300113705946764,
           0.3091063809446539,
           0.31860280564163207,
           0.2896947605875982,
           0.2884180199728338,
           0.3802872773432403,
           0.39334424072390656,
           0.4135850554858896,
           0.3692974234027048,
           0.24692481388805845,
           0.22359359950842606,
           0.3270500911001612,
           0.24665062382524158,
           -0.056529097699625504,
           0.5580512331531703,
           0.6350472872275754,
           0.033231064892503014,
           1,
           0.8505073308380484,
           0.9566909111956756
          ],
          [
           0.5647013515735229,
           0.23566925556612123,
           0.3623268162566468,
           0.38957814871415386,
           0.5253014701297096,
           0.0740136474055589,
           0.6316499786334819,
           0.27326259885983745,
           0.587104563132568,
           0.5907899125829807,
           0.5582634322273891,
           -0.21861204751224111,
           0.18873160742760245,
           0.32722349414183177,
           0.38340450016324523,
           0.2709136589469855,
           0.3463900011850425,
           0.22239365904960323,
           0.07216417454259526,
           0.3945782692191676,
           0.3555631650593645,
           0.44514126770155993,
           0.41047525826801445,
           0.4116630444932972,
           0.4999194796493651,
           0.47476148428919296,
           0.49076771044169604,
           0.451008971112526,
           0.35894079686897434,
           0.315218276154315,
           0.41636273115281885,
           0.3406549408630772,
           -0.021460826487722993,
           0.673858119530123,
           0.7300768207442905,
           0.09899296628044035,
           0.8505073308380484,
           1,
           0.9667834913166401
          ],
          [
           0.5750742150970518,
           0.2278828526737103,
           0.36196830258991286,
           0.38614178768078955,
           0.48355411135865084,
           0.05110537113048335,
           0.6424802726794,
           0.2628313368270603,
           0.5682841960258639,
           0.5866955468607454,
           0.5523823047185713,
           -0.2237643091440518,
           0.20735329031318847,
           0.30820192019718284,
           0.36595511733236724,
           0.249438672893732,
           0.33587972028587615,
           0.19947410787052466,
           0.04747772834105703,
           0.3787599384997471,
           0.3470072146597591,
           0.4012010200350719,
           0.3679662369359476,
           0.3680031987916187,
           0.46149534457615954,
           0.45391626350064745,
           0.4726114665097537,
           0.4290841487660935,
           0.3186589256688476,
           0.2831217342790602,
           0.38937795655067825,
           0.3084049797993287,
           -0.03934879827901134,
           0.6441514803027174,
           0.7126838807923483,
           0.07093873393710177,
           0.9566909111956756,
           0.9667834913166401,
           1
          ]
         ]
        }
       ],
       "layout": {
        "coloraxis": {
         "colorscale": [
          [
           0,
           "#0d0887"
          ],
          [
           0.1111111111111111,
           "#46039f"
          ],
          [
           0.2222222222222222,
           "#7201a8"
          ],
          [
           0.3333333333333333,
           "#9c179e"
          ],
          [
           0.4444444444444444,
           "#bd3786"
          ],
          [
           0.5555555555555556,
           "#d8576b"
          ],
          [
           0.6666666666666666,
           "#ed7953"
          ],
          [
           0.7777777777777778,
           "#fb9f3a"
          ],
          [
           0.8888888888888888,
           "#fdca26"
          ],
          [
           1,
           "#f0f921"
          ]
         ]
        },
        "template": {
         "data": {
          "bar": [
           {
            "error_x": {
             "color": "#2a3f5f"
            },
            "error_y": {
             "color": "#2a3f5f"
            },
            "marker": {
             "line": {
              "color": "#E5ECF6",
              "width": 0.5
             },
             "pattern": {
              "fillmode": "overlay",
              "size": 10,
              "solidity": 0.2
             }
            },
            "type": "bar"
           }
          ],
          "barpolar": [
           {
            "marker": {
             "line": {
              "color": "#E5ECF6",
              "width": 0.5
             },
             "pattern": {
              "fillmode": "overlay",
              "size": 10,
              "solidity": 0.2
             }
            },
            "type": "barpolar"
           }
          ],
          "carpet": [
           {
            "aaxis": {
             "endlinecolor": "#2a3f5f",
             "gridcolor": "white",
             "linecolor": "white",
             "minorgridcolor": "white",
             "startlinecolor": "#2a3f5f"
            },
            "baxis": {
             "endlinecolor": "#2a3f5f",
             "gridcolor": "white",
             "linecolor": "white",
             "minorgridcolor": "white",
             "startlinecolor": "#2a3f5f"
            },
            "type": "carpet"
           }
          ],
          "choropleth": [
           {
            "colorbar": {
             "outlinewidth": 0,
             "ticks": ""
            },
            "type": "choropleth"
           }
          ],
          "contour": [
           {
            "colorbar": {
             "outlinewidth": 0,
             "ticks": ""
            },
            "colorscale": [
             [
              0,
              "#0d0887"
             ],
             [
              0.1111111111111111,
              "#46039f"
             ],
             [
              0.2222222222222222,
              "#7201a8"
             ],
             [
              0.3333333333333333,
              "#9c179e"
             ],
             [
              0.4444444444444444,
              "#bd3786"
             ],
             [
              0.5555555555555556,
              "#d8576b"
             ],
             [
              0.6666666666666666,
              "#ed7953"
             ],
             [
              0.7777777777777778,
              "#fb9f3a"
             ],
             [
              0.8888888888888888,
              "#fdca26"
             ],
             [
              1,
              "#f0f921"
             ]
            ],
            "type": "contour"
           }
          ],
          "contourcarpet": [
           {
            "colorbar": {
             "outlinewidth": 0,
             "ticks": ""
            },
            "type": "contourcarpet"
           }
          ],
          "heatmap": [
           {
            "colorbar": {
             "outlinewidth": 0,
             "ticks": ""
            },
            "colorscale": [
             [
              0,
              "#0d0887"
             ],
             [
              0.1111111111111111,
              "#46039f"
             ],
             [
              0.2222222222222222,
              "#7201a8"
             ],
             [
              0.3333333333333333,
              "#9c179e"
             ],
             [
              0.4444444444444444,
              "#bd3786"
             ],
             [
              0.5555555555555556,
              "#d8576b"
             ],
             [
              0.6666666666666666,
              "#ed7953"
             ],
             [
              0.7777777777777778,
              "#fb9f3a"
             ],
             [
              0.8888888888888888,
              "#fdca26"
             ],
             [
              1,
              "#f0f921"
             ]
            ],
            "type": "heatmap"
           }
          ],
          "heatmapgl": [
           {
            "colorbar": {
             "outlinewidth": 0,
             "ticks": ""
            },
            "colorscale": [
             [
              0,
              "#0d0887"
             ],
             [
              0.1111111111111111,
              "#46039f"
             ],
             [
              0.2222222222222222,
              "#7201a8"
             ],
             [
              0.3333333333333333,
              "#9c179e"
             ],
             [
              0.4444444444444444,
              "#bd3786"
             ],
             [
              0.5555555555555556,
              "#d8576b"
             ],
             [
              0.6666666666666666,
              "#ed7953"
             ],
             [
              0.7777777777777778,
              "#fb9f3a"
             ],
             [
              0.8888888888888888,
              "#fdca26"
             ],
             [
              1,
              "#f0f921"
             ]
            ],
            "type": "heatmapgl"
           }
          ],
          "histogram": [
           {
            "marker": {
             "pattern": {
              "fillmode": "overlay",
              "size": 10,
              "solidity": 0.2
             }
            },
            "type": "histogram"
           }
          ],
          "histogram2d": [
           {
            "colorbar": {
             "outlinewidth": 0,
             "ticks": ""
            },
            "colorscale": [
             [
              0,
              "#0d0887"
             ],
             [
              0.1111111111111111,
              "#46039f"
             ],
             [
              0.2222222222222222,
              "#7201a8"
             ],
             [
              0.3333333333333333,
              "#9c179e"
             ],
             [
              0.4444444444444444,
              "#bd3786"
             ],
             [
              0.5555555555555556,
              "#d8576b"
             ],
             [
              0.6666666666666666,
              "#ed7953"
             ],
             [
              0.7777777777777778,
              "#fb9f3a"
             ],
             [
              0.8888888888888888,
              "#fdca26"
             ],
             [
              1,
              "#f0f921"
             ]
            ],
            "type": "histogram2d"
           }
          ],
          "histogram2dcontour": [
           {
            "colorbar": {
             "outlinewidth": 0,
             "ticks": ""
            },
            "colorscale": [
             [
              0,
              "#0d0887"
             ],
             [
              0.1111111111111111,
              "#46039f"
             ],
             [
              0.2222222222222222,
              "#7201a8"
             ],
             [
              0.3333333333333333,
              "#9c179e"
             ],
             [
              0.4444444444444444,
              "#bd3786"
             ],
             [
              0.5555555555555556,
              "#d8576b"
             ],
             [
              0.6666666666666666,
              "#ed7953"
             ],
             [
              0.7777777777777778,
              "#fb9f3a"
             ],
             [
              0.8888888888888888,
              "#fdca26"
             ],
             [
              1,
              "#f0f921"
             ]
            ],
            "type": "histogram2dcontour"
           }
          ],
          "mesh3d": [
           {
            "colorbar": {
             "outlinewidth": 0,
             "ticks": ""
            },
            "type": "mesh3d"
           }
          ],
          "parcoords": [
           {
            "line": {
             "colorbar": {
              "outlinewidth": 0,
              "ticks": ""
             }
            },
            "type": "parcoords"
           }
          ],
          "pie": [
           {
            "automargin": true,
            "type": "pie"
           }
          ],
          "scatter": [
           {
            "fillpattern": {
             "fillmode": "overlay",
             "size": 10,
             "solidity": 0.2
            },
            "type": "scatter"
           }
          ],
          "scatter3d": [
           {
            "line": {
             "colorbar": {
              "outlinewidth": 0,
              "ticks": ""
             }
            },
            "marker": {
             "colorbar": {
              "outlinewidth": 0,
              "ticks": ""
             }
            },
            "type": "scatter3d"
           }
          ],
          "scattercarpet": [
           {
            "marker": {
             "colorbar": {
              "outlinewidth": 0,
              "ticks": ""
             }
            },
            "type": "scattercarpet"
           }
          ],
          "scattergeo": [
           {
            "marker": {
             "colorbar": {
              "outlinewidth": 0,
              "ticks": ""
             }
            },
            "type": "scattergeo"
           }
          ],
          "scattergl": [
           {
            "marker": {
             "colorbar": {
              "outlinewidth": 0,
              "ticks": ""
             }
            },
            "type": "scattergl"
           }
          ],
          "scattermapbox": [
           {
            "marker": {
             "colorbar": {
              "outlinewidth": 0,
              "ticks": ""
             }
            },
            "type": "scattermapbox"
           }
          ],
          "scatterpolar": [
           {
            "marker": {
             "colorbar": {
              "outlinewidth": 0,
              "ticks": ""
             }
            },
            "type": "scatterpolar"
           }
          ],
          "scatterpolargl": [
           {
            "marker": {
             "colorbar": {
              "outlinewidth": 0,
              "ticks": ""
             }
            },
            "type": "scatterpolargl"
           }
          ],
          "scatterternary": [
           {
            "marker": {
             "colorbar": {
              "outlinewidth": 0,
              "ticks": ""
             }
            },
            "type": "scatterternary"
           }
          ],
          "surface": [
           {
            "colorbar": {
             "outlinewidth": 0,
             "ticks": ""
            },
            "colorscale": [
             [
              0,
              "#0d0887"
             ],
             [
              0.1111111111111111,
              "#46039f"
             ],
             [
              0.2222222222222222,
              "#7201a8"
             ],
             [
              0.3333333333333333,
              "#9c179e"
             ],
             [
              0.4444444444444444,
              "#bd3786"
             ],
             [
              0.5555555555555556,
              "#d8576b"
             ],
             [
              0.6666666666666666,
              "#ed7953"
             ],
             [
              0.7777777777777778,
              "#fb9f3a"
             ],
             [
              0.8888888888888888,
              "#fdca26"
             ],
             [
              1,
              "#f0f921"
             ]
            ],
            "type": "surface"
           }
          ],
          "table": [
           {
            "cells": {
             "fill": {
              "color": "#EBF0F8"
             },
             "line": {
              "color": "white"
             }
            },
            "header": {
             "fill": {
              "color": "#C8D4E3"
             },
             "line": {
              "color": "white"
             }
            },
            "type": "table"
           }
          ]
         },
         "layout": {
          "annotationdefaults": {
           "arrowcolor": "#2a3f5f",
           "arrowhead": 0,
           "arrowwidth": 1
          },
          "autotypenumbers": "strict",
          "coloraxis": {
           "colorbar": {
            "outlinewidth": 0,
            "ticks": ""
           }
          },
          "colorscale": {
           "diverging": [
            [
             0,
             "#8e0152"
            ],
            [
             0.1,
             "#c51b7d"
            ],
            [
             0.2,
             "#de77ae"
            ],
            [
             0.3,
             "#f1b6da"
            ],
            [
             0.4,
             "#fde0ef"
            ],
            [
             0.5,
             "#f7f7f7"
            ],
            [
             0.6,
             "#e6f5d0"
            ],
            [
             0.7,
             "#b8e186"
            ],
            [
             0.8,
             "#7fbc41"
            ],
            [
             0.9,
             "#4d9221"
            ],
            [
             1,
             "#276419"
            ]
           ],
           "sequential": [
            [
             0,
             "#0d0887"
            ],
            [
             0.1111111111111111,
             "#46039f"
            ],
            [
             0.2222222222222222,
             "#7201a8"
            ],
            [
             0.3333333333333333,
             "#9c179e"
            ],
            [
             0.4444444444444444,
             "#bd3786"
            ],
            [
             0.5555555555555556,
             "#d8576b"
            ],
            [
             0.6666666666666666,
             "#ed7953"
            ],
            [
             0.7777777777777778,
             "#fb9f3a"
            ],
            [
             0.8888888888888888,
             "#fdca26"
            ],
            [
             1,
             "#f0f921"
            ]
           ],
           "sequentialminus": [
            [
             0,
             "#0d0887"
            ],
            [
             0.1111111111111111,
             "#46039f"
            ],
            [
             0.2222222222222222,
             "#7201a8"
            ],
            [
             0.3333333333333333,
             "#9c179e"
            ],
            [
             0.4444444444444444,
             "#bd3786"
            ],
            [
             0.5555555555555556,
             "#d8576b"
            ],
            [
             0.6666666666666666,
             "#ed7953"
            ],
            [
             0.7777777777777778,
             "#fb9f3a"
            ],
            [
             0.8888888888888888,
             "#fdca26"
            ],
            [
             1,
             "#f0f921"
            ]
           ]
          },
          "colorway": [
           "#636efa",
           "#EF553B",
           "#00cc96",
           "#ab63fa",
           "#FFA15A",
           "#19d3f3",
           "#FF6692",
           "#B6E880",
           "#FF97FF",
           "#FECB52"
          ],
          "font": {
           "color": "#2a3f5f"
          },
          "geo": {
           "bgcolor": "white",
           "lakecolor": "white",
           "landcolor": "#E5ECF6",
           "showlakes": true,
           "showland": true,
           "subunitcolor": "white"
          },
          "hoverlabel": {
           "align": "left"
          },
          "hovermode": "closest",
          "mapbox": {
           "style": "light"
          },
          "paper_bgcolor": "white",
          "plot_bgcolor": "#E5ECF6",
          "polar": {
           "angularaxis": {
            "gridcolor": "white",
            "linecolor": "white",
            "ticks": ""
           },
           "bgcolor": "#E5ECF6",
           "radialaxis": {
            "gridcolor": "white",
            "linecolor": "white",
            "ticks": ""
           }
          },
          "scene": {
           "xaxis": {
            "backgroundcolor": "#E5ECF6",
            "gridcolor": "white",
            "gridwidth": 2,
            "linecolor": "white",
            "showbackground": true,
            "ticks": "",
            "zerolinecolor": "white"
           },
           "yaxis": {
            "backgroundcolor": "#E5ECF6",
            "gridcolor": "white",
            "gridwidth": 2,
            "linecolor": "white",
            "showbackground": true,
            "ticks": "",
            "zerolinecolor": "white"
           },
           "zaxis": {
            "backgroundcolor": "#E5ECF6",
            "gridcolor": "white",
            "gridwidth": 2,
            "linecolor": "white",
            "showbackground": true,
            "ticks": "",
            "zerolinecolor": "white"
           }
          },
          "shapedefaults": {
           "line": {
            "color": "#2a3f5f"
           }
          },
          "ternary": {
           "aaxis": {
            "gridcolor": "white",
            "linecolor": "white",
            "ticks": ""
           },
           "baxis": {
            "gridcolor": "white",
            "linecolor": "white",
            "ticks": ""
           },
           "bgcolor": "#E5ECF6",
           "caxis": {
            "gridcolor": "white",
            "linecolor": "white",
            "ticks": ""
           }
          },
          "title": {
           "x": 0.05
          },
          "xaxis": {
           "automargin": true,
           "gridcolor": "white",
           "linecolor": "white",
           "ticks": "",
           "title": {
            "standoff": 15
           },
           "zerolinecolor": "white",
           "zerolinewidth": 2
          },
          "yaxis": {
           "automargin": true,
           "gridcolor": "white",
           "linecolor": "white",
           "ticks": "",
           "title": {
            "standoff": 15
           },
           "zerolinecolor": "white",
           "zerolinewidth": 2
          }
         }
        },
        "title": {
         "text": "Matrice di Correlazione - Anno 2019"
        },
        "xaxis": {
         "anchor": "y",
         "constrain": "domain",
         "domain": [
          0,
          1
         ],
         "scaleanchor": "y"
        },
        "yaxis": {
         "anchor": "x",
         "autorange": "reversed",
         "constrain": "domain",
         "domain": [
          0,
          1
         ]
        }
       }
      }
     },
     "metadata": {},
     "output_type": "display_data"
    },
    {
     "name": "stdout",
     "output_type": "stream",
     "text": [
      "Le colonne usate per questa analisi sono ['Gls', 'Ast', 'PK', 'PKatt', 'CrdY', 'CrdR', 'xG', 'PrgP', 'PrgR', 'Sh', 'SoT', 'Dist', 'FK', 'Cmp', 'Att', 'xA', 'KP', 'PPA', 'CrsPA', 'SCA', 'GCA', 'Tkl', 'TklW', 'Mid 3rd', 'Att 3rd', 'Touches', 'Mid 3rd.1', 'Att 3rd.1', 'Att.1', 'Succ', 'Carries', 'TotDist', '2CrdY', 'Fld', 'Off', 'Crs', 'Won', 'Lost', 'Duels']\n"
     ]
    }
   ],
   "source": [
    "correlations = []\n",
    "years = []\n",
    "\n",
    "for file in files:\n",
    "    \n",
    "    data_frame = pd.read_excel(file)\n",
    "    data_frame['Duels'] = data_frame['Won'] + data_frame['Lost'] # Creo la colonna dei duelli aerei, può essere utile per l'analisi\n",
    "\n",
    "    # Uso .drop per rimuovere dal data frame quelle statistiche che non voglio usare in questa analisi\n",
    "    data_frame.drop(columns=['Player', 'Nation', 'Pos', 'Squad', 'Age', 'MP', 'Starts', 'Min', 'G+A', 'G-PK','SoT%',\n",
    "       'G/Sh', 'G/SoT', 'G-xG','Cmp%','Succ%','Won%'], inplace=True) \n",
    "\n",
    "    corr_matrix = data_frame.corr()  # Calcolo la matrice di correlazione\n",
    "\n",
    "    year = year_mapping[file]  # Ottengo l'anno dal file usando il mapping\n",
    "    years.append(year)\n",
    "\n",
    "    fig = px.imshow(corr_matrix, title=f\"Matrice di Correlazione - Anno {year}\")  # Ottengo in output il grafico di correlazione\n",
    "    fig.show()\n",
    "\n",
    "# Inserisco questa riga di codice in modo da poter visualizzare le colonne usate per l'analisi\n",
    "print(f'Le colonne usate per questa analisi sono {list(data_frame.columns)}')"
   ]
  }
 ],
 "metadata": {
  "kernelspec": {
   "display_name": "base",
   "language": "python",
   "name": "python3"
  },
  "language_info": {
   "codemirror_mode": {
    "name": "ipython",
    "version": 3
   },
   "file_extension": ".py",
   "mimetype": "text/x-python",
   "name": "python",
   "nbconvert_exporter": "python",
   "pygments_lexer": "ipython3",
   "version": "3.12.2"
  }
 },
 "nbformat": 4,
 "nbformat_minor": 2
}
