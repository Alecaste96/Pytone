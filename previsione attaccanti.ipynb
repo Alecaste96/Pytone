{
 "cells": [
  {
   "cell_type": "code",
   "execution_count": null,
   "metadata": {},
   "outputs": [],
   "source": [
    "import pandas as pd\n",
    "\n",
    "f1 = 'attaccanti_19.xlsx'\n",
    "f2 = 'attaccanti_20.xlsx'\n",
    "f3 = 'attaccanti_21.xlsx'\n",
    "f4 = 'attaccanti_22.xlsx'\n",
    "\n",
    "df1 = pd.read_excel(f1)\n",
    "df2 = pd.read_excel(f2).iloc[1:].reset_index(drop = True)\n",
    "df3 = pd.read_excel(f3).iloc[1:].reset_index(drop = True)\n",
    "df4 = pd.read_excel(f4).iloc[1:].reset_index(drop = True)\n",
    "\n",
    "df_unito = pd.concat([df1,df2,df3,df4], ingnore_index = True)"
   ]
  },
  {
   "cell_type": "code",
   "execution_count": null,
   "metadata": {},
   "outputs": [],
   "source": [
    "colonne_da_eliminare = ['Player', 'Nation', 'Pos', 'Squad','Age', 'MP', 'Starts', 'Min', 'G+A', 'G-PK', 'PK',\n",
    "       'PKatt', 'CrdY', 'CrdR', 'PrgP', 'PrgR','SoT%',\n",
    "       'G/Sh', 'G/SoT', 'Dist', 'FK', 'G-xG', 'Cmp', 'Att', 'Cmp%', 'CrsPA', 'Tkl', 'TklW', 'Mid 3rd', 'Att 3rd',\n",
    "       'Mid 3rd.1', 'Succ%',\n",
    "       'TotDist', '2CrdY', 'Fld', 'Off', 'Crs', 'Duels', 'Won', 'Lost',\n",
    "       'Won%']"
   ]
  },
  {
   "cell_type": "code",
   "execution_count": null,
   "metadata": {},
   "outputs": [],
   "source": [
    "df_unito.drop(columns = colonne_da_eliminare, inplace = True)\n"
   ]
  }
 ],
 "metadata": {
  "language_info": {
   "name": "python"
  }
 },
 "nbformat": 4,
 "nbformat_minor": 2
}
