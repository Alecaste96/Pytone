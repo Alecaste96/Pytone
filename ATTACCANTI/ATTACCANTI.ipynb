{
 "cells": [
  {
   "cell_type": "markdown",
   "metadata": {},
   "source": [
    "In questa parte ci occupiamo della parte 'demografica' della Serie A. Adremo ad analizzare come son distribuite le età, le nazionalità ed i minuti giocati, per gli attaccanti. "
   ]
  },
  {
   "cell_type": "code",
   "execution_count": null,
   "metadata": {},
   "outputs": [],
   "source": [
    "import pandas as pd\n",
    "import matplotlib.pyplot as plt\n",
    "import plotly.express as px\n",
    "import plotly.graph_objects as go\n",
    "pd.set_option('display.max_columns', None)\n",
    "data = pd.read_excel('attaccanti_23.xlsx')\n",
    "\n",
    "# Elenco dei file da leggere\n",
    "files = ['attaccanti_23.xlsx', 'attaccanti_22.xlsx', 'attaccanti_21.xlsx', 'attaccanti_20.xlsx', 'attaccanti_19.xlsx']\n",
    "\n",
    "# Faccio un dizionario per mappare i file agli anni\n",
    "year= {'attaccanti_23.xlsx': 2023,'attaccanti_22.xlsx': 2022,'attaccanti_21.xlsx': 2021,'attaccanti_20.xlsx': 2020,\n",
    "                'attaccanti_19.xlsx': 2019}"
   ]
  },
  {
   "cell_type": "markdown",
   "metadata": {},
   "source": [
    "Dopo aver importato i file necessari andiamo ad analizzare come sono variate le età nei 5 anni analizzati, visualizziamo il tutto con un diagramma a torta."
   ]
  },
  {
   "cell_type": "code",
   "execution_count": null,
   "metadata": {},
   "outputs": [],
   "source": [
    "# Diagrammi a torta\n",
    "\n",
    "# Definisci le fasce di età\n",
    "bins = [15, 20, 25, 30, 35, 40]\n",
    "labels = ['15-20', '21-25', '26-30', '31-35', '36-40']\n",
    "\n",
    "# Ciclo sui file per generare i grafici\n",
    "for file in files:\n",
    "    # Leggi i dati da ogni file (si presuppone che ci sia una colonna 'Age')\n",
    "    data = pd.read_excel(file)\n",
    "    eta = data['Age']\n",
    "\n",
    "    # Categorizza le età nelle fasce specificate\n",
    "    eta_bins = pd.cut(eta, bins=bins, labels=labels, right=True, include_lowest=True)\n",
    "\n",
    "    # Conta il numero di attaccanti in ciascuna fascia\n",
    "    eta_counts = eta_bins.value_counts().sort_index()\n",
    "\n",
    "    # Crea una figura e un oggetto ax\n",
    "    fig, ax = plt.subplots(figsize=(8, 8))\n",
    "\n",
    "    # Crea il diagramma a torta sull'oggetto ax\n",
    "    ax.pie(eta_counts, labels=eta_counts.index, autopct='%1.1f%%', startangle=140)\n",
    "\n",
    "    # Imposta il titolo per ogni anno\n",
    "    ax.set_title(f\"Distribuzione delle età degli attaccanti Anno: {year[file]}\")\n",
    "\n",
    "    # Assicura che il grafico sia circolare\n",
    "    ax.axis('equal')\n",
    "\n",
    "    # Aggiungi la legenda con i valori percentuali\n",
    "    ax.legend([f\"{label} - {int(count)} ({pct:.1f}%)\" for label, count, \n",
    "               pct in zip(eta_counts.index, eta_counts, 100*eta_counts/eta_counts.sum())],\n",
    "              title=\"Fasce d'età\", loc=\"center left\", bbox_to_anchor=(1, 0, 0.5, 1))\n",
    "\n",
    "    # Mostra il diagramma a torta\n",
    "    plt.show()\n",
    "    \n",
    "    # Calcola e stampa la media dell'età\n",
    "    media_eta = eta.mean()\n",
    "    print(f\"La media dell'età per l'anno {year[file]} è: {media_eta:.2f}\")"
   ]
  },
  {
   "cell_type": "markdown",
   "metadata": {},
   "source": [
    "Dai grafici possiamo notare che la media delle età è andata calando con gli anni, evidentemente l'idea delle squadre è quello di comprare attaccanti più giovani oppure investire nel reparto giovanile, migliorare il vivaio e promuovere gli attaccanti direttamente dalla Primavera (squadra U19)."
   ]
  },
  {
   "cell_type": "markdown",
   "metadata": {},
   "source": [
    "Passiamo ora all'analisi delle nazionalità. Vediamo quali sono le nazionalità più presenti in Serie A."
   ]
  },
  {
   "cell_type": "code",
   "execution_count": null,
   "metadata": {},
   "outputs": [],
   "source": [
    "# Ciclo sui file per generare i grafici\n",
    "for file in files:\n",
    "\n",
    "    data = pd.read_excel(file)\n",
    "     \n",
    "    nazionalita = data['Nation']   #istogramma nazionalità\n",
    "\n",
    "    # Conta il numero di calciatori per ciascuna nazionalità\n",
    "    nazionalita_counts = nazionalita.value_counts()\n",
    "\n",
    "    # Crea l'istogramma\n",
    "    fig, ax = plt.subplots(figsize=(10, 6))\n",
    "    nazionalita_counts.plot(kind='bar', ax=ax, color='skyblue')\n",
    "\n",
    "    # Aggiungi i titoli e le etichette\n",
    "    ax.set_title(f'Distribuzione delle Nazionalità degli attaccanti Anno: {year[file]}')\n",
    "    ax.set_xlabel('Nazionalità')\n",
    "    ax.set_ylabel('Numero di calciatori')\n",
    "\n",
    "    # Ruota le etichette sull'asse x per una migliore leggibilità\n",
    "    plt.xticks(rotation=45, ha='right')\n",
    "\n",
    "    # Mostra il grafico\n",
    "    plt.tight_layout()\n",
    "    plt.show()"
   ]
  },
  {
   "cell_type": "markdown",
   "metadata": {},
   "source": [
    "Come ci immaginavamo la nazionale più presente, per distacco, è l'Italia. Risultano infatti circa 60 nel 2023, circa 50 nel 2022 (il minimo registrato), circa 70 nel 2021, circa 65 nel 2020 e circa 75 nel 2019 (massimo registrato). Notiamo che oltre all'Italia ci sono anche altre nazioni costantemente molto presenti durante gli anni. Nelle 3 nazioni più presenti è sempre presente l'Argentina con 10 attaccanti circa ogni anno. Se ampliamo il range a 5 notiamo anche la costante presenza di Francia e Spagna che non sono presenti nella top5 solo in un anno, rispettivamente nel 2021 e nel 2023. Fra le altre, le nazioni che meritano una menzione sono sicuramente la Costa d'Avorio presente nel 2019-2020 nella top5 ed il Brasile che solo nel 2022 esce dalla top6."
   ]
  },
  {
   "cell_type": "code",
   "execution_count": null,
   "metadata": {},
   "outputs": [],
   "source": [
    "import numpy as np\n",
    "from scipy.interpolate import make_interp_spline\n",
    "for file in files:\n",
    " data = pd.read_excel(file)\n",
    "\n",
    " # Estrai i dati rilevanti (calciatori e valori nella settima colonna)\n",
    " calciatori = data['Player']  # Assume che i nomi dei calciatori siano nella prima colonna\n",
    " valori = data['MP']      # Settima colonna partendo da sinistra\n",
    "\n",
    " filtrato = valori > 20\n",
    " calciatori_filtrati = calciatori[filtrato]\n",
    " valori_filtrati = valori[filtrato]\n",
    "\n",
    " # Crea un istogramma\n",
    " plt.figure(figsize=(12, 8))\n",
    " plt.bar(calciatori_filtrati, valori_filtrati, color='skyblue', edgecolor='black')\n",
    "\n",
    " # Ottimizza il layout\n",
    " plt.xlabel('Calciatori', fontsize=14)\n",
    " plt.ylabel('Valori', fontsize=14)\n",
    " plt.title(f\"Minuti giocati dai Calciatori divisi per 90' Anno: {year[file]}\")\n",
    " plt.xticks(rotation=45, ha='right', fontsize=10)\n",
    " plt.yticks(fontsize=12)\n",
    "\n",
    " # Aggiungi una curva di fit\n",
    " x = np.arange(len(calciatori_filtrati))  # Converti l'indice dei calciatori filtrati in numerico\n",
    " spl = make_interp_spline(x, valori_filtrati, k=3)  # Fit con spline\n",
    " x_smooth = np.linspace(x.min(), x.max(), 500)  # Genera un range di valori lisciato\n",
    " y_smooth = spl(x_smooth)\n",
    "\n",
    " plt.plot(x_smooth, y_smooth, color='red', linewidth=2, label='Fit Curva')\n",
    "\n",
    " plt.tight_layout()\n",
    " plt.legend()\n",
    " plt.show()\n",
    "\n",
    " media_valori_filtrati = valori_filtrati.mean()\n",
    "\n",
    " # Mostra il risultato\n",
    " print(f\"La media per l'Anno {year[file]} è:{media_valori_filtrati}\")"
   ]
  },
  {
   "cell_type": "markdown",
   "metadata": {},
   "source": [
    "In questi grafici vediamo la distribuzione dei minuti giocati diviso 90 dagli attaccanti. In altre parole calcoliamo quante partite complete vengono giocate dagli attaccanti. Abbiamo messo un bound inferiore di 20 minuti giocati per evitare che i dati vengano sfalsati da giocatori con pochi minuti giocati. Vediamo che la distribuzione e la media rimane più o meno la stessa nel corso degli anni. La media addirittura oscilla fra 29.42 e 29.98."
   ]
  },
  {
   "cell_type": "code",
   "execution_count": null,
   "metadata": {},
   "outputs": [],
   "source": [
    "# Aggiungiamo una cella di codice che stampa gli istogrammi di tutte le statistiche di tutti 5 gli anni. In modo da poterli \n",
    "# analizzare singolarmente in seguito, senza appesantire il codice con tutti i grafici."
   ]
  },
  {
   "cell_type": "code",
   "execution_count": null,
   "metadata": {},
   "outputs": [],
   "source": [
    "import scipy.stats as stats\n",
    "import numpy as np\n",
    "\n",
    "for file in files:\n",
    " data = pd.read_excel(file)\n",
    "\n",
    "# Selezionare solo le colonne numeriche\n",
    "numeric_data = data.select_dtypes(include=[np.number])\n",
    "\n",
    "# Funzione per calcolare il numero di bin con la regola di Freedman-Diaconis\n",
    "def freedman_diaconis_bins(data):\n",
    "    q25, q75 = np.percentile(data, [25, 75])\n",
    "    iqr = q75 - q25\n",
    "    if iqr == 0:  # Evitare divisioni per zero\n",
    "        return 20  # Numero di bin di default in caso di IQR nullo\n",
    "    bin_width = 2 * iqr / (len(data) ** (1 / 3))\n",
    "    if bin_width == 0:\n",
    "        return 5  # Numero di bin di default in caso di width troppo piccolo\n",
    "    return int(np.ceil((data.max() - data.min()) / bin_width))\n",
    "\n",
    "# Creare istogrammi per ogni colonna numerica con controllo su variazioni minime\n",
    "for column in numeric_data.columns:\n",
    "    col_data = numeric_data[column].dropna()  # Rimuovi eventuali valori NaN\n",
    "    if col_data.empty or col_data.max() == col_data.min():\n",
    "        continue\n",
    "    \n",
    "    # Calcolare il numero di bin con la regola di Freedman-Diaconis\n",
    "    bins = freedman_diaconis_bins(col_data)\n",
    "    \n",
    "    # Creare l'istogramma\n",
    "    plt.figure(figsize=(10, 6))\n",
    "    plt.hist(col_data, bins=bins, density=False, color='k', edgecolor = 'r', label='Dati')\n",
    "\n",
    "    # Titolo e etichette\n",
    "    plt.title(f'Istogramma della colonna: {column}')\n",
    "    plt.xlabel(f'{column}')\n",
    "    plt.ylabel('Numero di giocatori')\n",
    "\n",
    "    # Printa tutti gli istogrammi, commentare le righe sotto per evitare\n",
    "    plt.show()\n",
    "    media = col_data.mean()\n",
    "    print(f\"La media di {column} per l'anno {year[file]} è: {media:.2f}\")"
   ]
  },
  {
   "cell_type": "code",
   "execution_count": null,
   "metadata": {},
   "outputs": [],
   "source": [
    "# Creiamo una funzione che, dati in input la statistica e l'anno desiderato, restituisce l'istogramma di quella statistica\n",
    "# relativa a quell'anno"
   ]
  },
  {
   "cell_type": "code",
   "execution_count": null,
   "metadata": {},
   "outputs": [],
   "source": [
    "# Mappatura dei file agli anni\n",
    "year_mapping = {2023: 'attaccanti_23.xlsx', 2022: 'attaccanti_22.xlsx', 2021: 'attaccanti_21.xlsx',2020: 'attaccanti_20.xlsx',\n",
    "    2019: 'attaccanti_19.xlsx'}\n",
    "\n",
    "def istogramma(statistica, anno):\n",
    "    # Verifica che l'anno esista nel mapping\n",
    "    if anno not in year_mapping:\n",
    "        print(f\"L'anno {anno} non è valido. Gli anni disponibili sono: {list(year_mapping.keys())}\")\n",
    "        return\n",
    "\n",
    "    # Carica il dataset corrispondente all'anno\n",
    "    file = year_mapping[anno]\n",
    "    data = pd.read_excel(file)\n",
    "\n",
    "    # Seleziona la colonna specificata\n",
    "    if statistica not in data.columns:\n",
    "        print(f\"La statistica '{statistica}' non è presente nei dati.\")\n",
    "        return\n",
    "    \n",
    "    col_data = data[statistica].dropna()  # Rimuovi eventuali valori NaN\n",
    "\n",
    "    if col_data.empty or col_data.max() == col_data.min():\n",
    "        print(f\"La colonna '{statistica}' non ha abbastanza variabilità per creare un istogramma.\")\n",
    "        return\n",
    "\n",
    "    # Calcolare il numero di bin con la regola di Freedman-Diaconis\n",
    "    def freedman_diaconis_bins(data):\n",
    "        q25, q75 = np.percentile(data, [25, 75])\n",
    "        iqr = q75 - q25\n",
    "        if iqr == 0:  # Evitare divisioni per zero\n",
    "            return 20  # Numero di bin di default in caso di IQR nullo\n",
    "        bin_width = 2 * iqr / (len(data) ** (1 / 3))\n",
    "        if bin_width == 0:\n",
    "            return 5  # Numero di bin di default in caso di width troppo piccolo\n",
    "        return int(np.ceil((data.max() - data.min()) / bin_width))\n",
    "\n",
    "    # Calcolare il numero di bin\n",
    "    bins = freedman_diaconis_bins(col_data)\n",
    "\n",
    "    # Creare l'istogramma\n",
    "    plt.figure(figsize=(10, 6))\n",
    "    plt.hist(col_data, bins=bins, density=False, color='k', edgecolor='r', label='Dati')\n",
    "\n",
    "    # Titolo e etichette con l'anno specificato\n",
    "    plt.title(f'Istogramma della colonna: {statistica} ({anno})')\n",
    "    plt.xlabel(f'{statistica}')\n",
    "    plt.ylabel('Numero di giocatori')\n",
    "\n",
    "    # Mostrare il grafico\n",
    "    plt.show()\n",
    "\n",
    "    # Calcola e stampa la media della colonna\n",
    "    media = col_data.mean()\n",
    "    print(f\"La media di {statistica} per l'anno {anno} è: {media:.2f}\")\n",
    "    giocatore_max = data.loc[data[statistica].idxmax()]['Player']\n",
    "    max_value = col_data.max()\n",
    "    print(f\"Il giocatore che ha registrato il maggior numero di {statistica} è {giocatore_max} con {max_value:.2f}.\")"
   ]
  },
  {
   "cell_type": "markdown",
   "metadata": {},
   "source": [
    "Con questa funzione possiamo richiamare dei grafici specifici e analizzarli se ci interessa."
   ]
  },
  {
   "cell_type": "code",
   "execution_count": null,
   "metadata": {},
   "outputs": [],
   "source": [
    "statistica = 'Won'\n",
    "anno = 2019\n",
    "istogramma(statistica,anno)"
   ]
  },
  {
   "cell_type": "markdown",
   "metadata": {},
   "source": [
    "Questa sezione tratta la correlazione delle statistiche.\n",
    "\n",
    "Il calcio moderno è diventato molto caro, sopratutto per il reparto di attacco. Le società chiedono tantissimi soldi per un giocatore \"solamente\" perchè ha realizzato molti Gol o Assist. Non tutte le squadre, però, hanno una disponibilità economica elevata per puntare su un attaccante già affermato che ha realizzato numeri altissimi. L'idea dietro a questa analisi è quella di capire se ci sono delle statistiche ben relazionate con quelle sopracitate, che una squadra può andare ad analizzare per trovare un attaccante d'impatto per la propria squadra. Vogliamo trovare quali sono queste statisitche.\n"
   ]
  },
  {
   "cell_type": "code",
   "execution_count": null,
   "metadata": {},
   "outputs": [],
   "source": [
    "\n",
    "# Importo le librerie necessarie per il codice\n",
    "\n",
    "import pandas as pd\n",
    "import plotly.express as px\n",
    "pd.set_option('display.max_columns', None)\n",
    "\n",
    "# Elenco dei file da leggere\n",
    "files = ['attaccanti_23.xlsx', 'attaccanti_22.xlsx', 'attaccanti_21.xlsx', 'attaccanti_20.xlsx', 'attaccanti_19.xlsx']\n",
    "\n",
    "# Faccio un dizionario per mappare i file agli anni\n",
    "year_mapping = {'attaccanti_23.xlsx': 2023,'attaccanti_22.xlsx': 2022,'attaccanti_21.xlsx': 2021,'attaccanti_20.xlsx': 2020,'attaccanti_19.xlsx': 2019}\n"
   ]
  },
  {
   "cell_type": "code",
   "execution_count": null,
   "metadata": {},
   "outputs": [],
   "source": [
    "\n",
    "# Questa sezione è divisa in due parti. \n",
    "\n",
    "# La prima parte si occupa esclusivamente  delle tabelle di correlazione infatti, una volta scaricati i file,\n",
    "# si potranno visualizzare cinque quadrati interattivi che riportano come si correlano tra di loro le statistiche \n",
    "# selezionate nel dataframe. \n",
    "# Alla fine per comodità verranno riportate le colonne usate.\n",
    "\n",
    "# Nella seconda parte abbiamo inserito una funzione che ha come scopo quello di scoprire quali sono le 5 statistiche meglio e peggio\n",
    "# correlate con quella desiderata data in input. Ed una funzione che restituisce l'elenco di tutti gli indici di correlazione\n",
    "# con le altre statistiche. Ed infine una terza funzione che ha come scopo quello di vedere come sono correlate\n",
    "# due statistiche specifiche, date in input alla funzione, e vedere come la loro correlazione è cambiata negli ultimi 5 anni,\n",
    "# sicuramente utile per scoprire se la correlazione o scorrelazione di due dati sia casuale o una cosa costante nel tempo."
   ]
  },
  {
   "cell_type": "markdown",
   "metadata": {},
   "source": [
    "\n",
    "Prima di tutto bisogna fare un processo di 'data cleaning' ovvero una pulizia del dataframe, aggiungendo colonne che possono essere utili oppure togliendone altre che non voglio prendere in considerazione.\n",
    "\n",
    "Per prima cosa togliamo i dati dei cartellini gialli e rossi collezionati dai giocatori, in quanto rappresentano la disciplina di questi e non le loro capacità balistiche. Dopodiche eliminiamo le colonne relative ai calci piazzati in quanto rigori e punizioni hanno i propri specialisti scelti dall'allenatore, che non devono essere obbligatoriamente attaccanti, che battono tutti quelli che vengono assegnati nelle partite. Non sarebbe quindi equo considerare una statistica alla quale la maggior parte dei giocatori non prendono neanche parte.\n",
    "\n",
    "Ovviamente scartiamo le celle relative al Nome del giocatore, la Squadra per cui gioca e la sua Nazionalità. Subito dopo togliamo quelle colonne che rappresentano \"operazioni\" fra altre statistiche, come ad esempio somme fra due dati, percentuali o rapporti, in quanto non sono statistiche di gioco (realizzate sul campo dal giocatore) ma create ad hoc per altri tipi di analisi non inerenti al nostro.\n"
   ]
  },
  {
   "cell_type": "code",
   "execution_count": null,
   "metadata": {},
   "outputs": [],
   "source": [
    "# Questa parte di codice crea 5 figure che rappresentano il riquadro di correlazione fra le statistiche per annata\n",
    "\n",
    "correlations = []\n",
    "years = []\n",
    "\n",
    "colonne_da_eliminare = ['Player', 'Nation', 'Pos', 'Squad', 'G+A', 'G-PK','SoT%','PK',\n",
    "       'PKatt',  'FK', 'G/Sh', 'G/SoT', 'G-xG','CrdY', 'CrdR', '2CrdY', 'Cmp%','Succ%','Won%']\n",
    "\n",
    "for file in files:\n",
    "    \n",
    "    data_frame = pd.read_excel(file)\n",
    "    data_frame['Duels'] = data_frame['Won'] + data_frame['Lost'] # Creo la colonna dei duelli aerei, può essere utile per l'analisi\n",
    "\n",
    "    # Uso .drop per rimuovere dal data frame quelle statistiche che non voglio usare in questa analisi\n",
    "    data_frame.drop(columns=colonne_da_eliminare, inplace=True) \n",
    "\n",
    "    corr_matrix = data_frame.corr()  # Calcolo la matrice di correlazione\n",
    "\n",
    "    year = year_mapping[file]  # Ottengo l'anno dal file usando il mapping\n",
    "    years.append(year)\n",
    "\n",
    "    fig = px.imshow(corr_matrix, title=f\"Matrice di Correlazione - Anno {year}\")\n",
    "    # Ottengo in output il grafico di correlazione\n",
    "\n",
    "    fig.show()\n",
    "\n",
    "# Inserisco questa riga di codice in modo da poter visualizzare le colonne usate per l'analisi\n",
    "print(f'Le colonne usate per questa analisi sono {list(data_frame.columns)}')"
   ]
  },
  {
   "cell_type": "code",
   "execution_count": null,
   "metadata": {},
   "outputs": [],
   "source": [
    "# Creo una funzione che mi permette di scoprire quali sono le statistiche meglio e peggio correlate con una desiderata\n",
    "\n",
    "def best_worst(stat):\n",
    " for file in files:\n",
    "    year = year_mapping[file]\n",
    "    data_frame = pd.read_excel(file)\n",
    "    data_frame['Duels'] = data_frame['Won'] + data_frame['Lost']\n",
    "\n",
    "    data_frame.drop(columns=colonne_da_eliminare, inplace=True) \n",
    "\n",
    "    corr_matrix = data_frame.corr()\n",
    "\n",
    "    if stat in corr_matrix.columns:\n",
    "        # Ordina le correlazioni con la statistica scelta\n",
    "        sorted_corr = corr_matrix[stat].sort_values(ascending=False)\n",
    "\n",
    "        # Trova le 5 migliori e peggiori correlazioni (cambiare i range per saperne di più o di meno)\n",
    "        best_corr = sorted_corr[1:6]  # Parto da 1 per evitare la correlazione della statistica con se stessa\n",
    "        worst_corr = sorted_corr[-5:]\n",
    "\n",
    "        print(f\"Anno {year}: Le 5 statistiche meglio correlate con {stat} sono:\\n{best_corr}\")\n",
    "        print(f\"Anno {year}: Le 5 statistiche peggio correlate con {stat} sono:\\n{worst_corr}\")\n",
    "    else:\n",
    "        print(f\"La statistica {stat} non è presente nel dataset. Controlla l'input\")\n",
    "\n",
    "# Creo una funzione che restituisce l'elenco degli indci di correlazione di una statistica con le altre anno per anno\n",
    "\n",
    "def correlazioni_annuali(stat):\n",
    "    for file in files:\n",
    "        year = year_mapping[file]\n",
    "        data_frame = pd.read_excel(file)  \n",
    "        data_frame['Duels'] = data_frame['Won'] + data_frame['Lost']\n",
    "\n",
    "        data_frame.drop(columns=colonne_da_eliminare, inplace=True)\n",
    "\n",
    "        corr_matrix = data_frame.corr()\n",
    "\n",
    "        if stat in corr_matrix.columns:\n",
    "            sorted_corr = corr_matrix[stat].sort_values(ascending=False)\n",
    "\n",
    "            print(f\"Anno {year}: Le correlazioni per {stat} sono:\\n{sorted_corr}\\n\")\n",
    "        else:\n",
    "            print(f\"La statistica {stat} non è presente nel dataset dell'anno {year}.\")\n",
    "        \n",
    "# Creo una seconda funzione che mi dice l'indice di correlazione di due statistiche specifiche\n",
    "# ed il cambiamento di questo nel corso delle stagioni\n",
    "\n",
    "def correlazione(stat1,stat2):\n",
    " correlations = []\n",
    "\n",
    " for file in files:\n",
    "    \n",
    "    data_frame = pd.read_excel(file)\n",
    "    data_frame['Duels'] = data_frame['Won'] + data_frame['Lost']\n",
    "\n",
    "    data_frame.drop(columns=colonne_da_eliminare, inplace=True)\n",
    "\n",
    "    corr_matrix = data_frame.corr()\n",
    "\n",
    "    year = year_mapping[file]\n",
    "\n",
    "    # Verifica se entrambe le statistiche esistono nella matrice di correlazione\n",
    "    if stat1 in corr_matrix.columns and stat2 in corr_matrix.columns:\n",
    "        correlation_value = corr_matrix.loc[stat1, stat2]\n",
    "        correlations.append((year, correlation_value))\n",
    "        #print(f\"Anno {year}: Correlazione tra {stat1} e {stat2} = {correlation_value}\")\n",
    "    else:\n",
    "        correlations.append((year, None))\n",
    "\n",
    "# Creazione del DataFrame per il grafico\n",
    " if stat1 in corr_matrix.columns and stat2 in corr_matrix.columns:\n",
    "    correlation_df = pd.DataFrame(correlations, columns=['Anno', 'Correlazione'])\n",
    "    \n",
    "    # Crea il grafico dell'andamento della correlazione nel tempo\n",
    "    fig = px.line(correlation_df, x='Anno', y='Correlazione', title=f\"Correlazione tra {stat1} e {stat2}\", markers=True)\n",
    "    fig.update_xaxes(dtick=1)\n",
    "    fig.update_yaxes(range = [-1,1], dtick = 0.10)\n",
    "    fig.show()\n",
    " else:\n",
    "    print(\"Nessun grafico disponibile: non sono state calcolate correlazioni valide. Controlla l'input\")"
   ]
  },
  {
   "cell_type": "markdown",
   "metadata": {},
   "source": [
    "\n",
    "Otteniamo in output i 5 grafici richiesti relativi alle 5 stagioni prese in considerazione. La barra sulla destra indica l'indice di correlazione in base al colore del quadrato relativo a due colonne. Muovendo il cursore sulle colonne si può vedere le due statistiche prese in considerazione ed il loro indice di correlazione.\n",
    "\n",
    "La presenza dei colori ci aiuta subito a notare che i grafici si assomigliano molto, nonostante vengano presi in considerazione 5 anni diversi nei quali hanno giocato molti giocatori diversi stagione per stagione. Immaginiamo quindi che gli indici di correlazione rimangano abbastanza costanti durante gli anni. Questo ci fa molto comodo, in quanto ci rassicura sul fatto che i risultati che troveremo non saranno casuali ma validi nel corso degli anni.\n",
    "\n",
    "Oltre a questa osservazione possiamo anche notare, riconoscendo i colori, che ci sono statistiche mal correlate con tutte le altre. Salta subito all'occhio la colonna relativa ai Minuti giocati, indicata con 'Min'.\n"
   ]
  },
  {
   "cell_type": "code",
   "execution_count": null,
   "metadata": {},
   "outputs": [],
   "source": [
    "stat = 'Min'\n",
    "best_worst(stat)\n",
    "\n",
    "stat1 = 'Min'\n",
    "stat2 = 'Gls'\n",
    "correlazione(stat1,stat2)\n",
    "\n",
    "stat2 = 'Ast'\n",
    "correlazione(stat1,stat2)"
   ]
  },
  {
   "cell_type": "markdown",
   "metadata": {},
   "source": [
    "\n",
    "Non c'è bisogno di richiamare tutti i valori, ci basta usare le funzioni per confermare ciò che pensavamo. Nel corso degli anni il range di correlazione risulta sempre essere vicino allo 0. Questo è sicuramente il primo risultato grosso ed inaspettato di questa analisi in quanto ci aspettavamo che un minutaggio elevato avesse un grosso impatto sulle statistiche del singolo. Vediamo come l'andamento dell'indice di correlazione risulta costantemente vicino allo 0 nel corso degli anni.\n",
    "\n",
    "Da un certo punto di vista però è un risultato che ci piace in quanto suggerisce che il rendimento di un attaccante non dipenda banalmente da quanto gioca ma da come gioca. Tutto ciò da ancora più valore alla nostra ricerca.\n",
    "\n",
    "Questo risultato interessante appena trovato sui minuti ci suggerisce di testare le correlazioni delle altre statistiche non di campo ovvero 'Age' 'Starts' 'MP', rispettivamente, Età del giocatore, numero di partite titolare e numero totale di partite in cui ha giocato. Analizziamole separatamente una per volta.\n"
   ]
  },
  {
   "cell_type": "code",
   "execution_count": null,
   "metadata": {},
   "outputs": [],
   "source": [
    "stat = 'Age'\n",
    "correlazioni_annuali(stat)\n",
    "\n",
    "stat1 = 'Age'\n",
    "stat2 = 'Gls'\n",
    "correlazione(stat1,stat2)\n",
    "\n",
    "stat2 = 'Ast'\n",
    "correlazione(stat1,stat2)"
   ]
  },
  {
   "cell_type": "markdown",
   "metadata": {},
   "source": [
    "Nel 2023 il range di correlazione (esclusa ovviamente se stessa) è [0.276579, -0.098984], nel 2022 [0.308650, -0.070421], nel 2021 [0.320632, -0.119382], nel 2020 [0.352202, -0.090711] e nel 2019 [0.404946, -0.017619]. Possiamo notare come nel corso degli anni gli indici di correlazione siano rimasti in un range simile, vicino allo 0. Altro risultato inaspettato, in quanto pensavamo che l'esperienza di un giocatore più anziano oppure la freschezza e fantasia di un giovane potessero influire sulla performance di questo. Le nostre statistiche di interesse, ovviamente, stanno nei range appena citati e quindi vale lo stesso discorso.\n"
   ]
  },
  {
   "cell_type": "code",
   "execution_count": null,
   "metadata": {},
   "outputs": [],
   "source": [
    "stat = 'Starts'\n",
    "correlazioni_annuali(stat)\n",
    "\n",
    "stat1 = 'Starts'\n",
    "stat2 = 'Gls'\n",
    "correlazione(stat1,stat2)\n",
    "\n",
    "stat2 = 'Ast'\n",
    "correlazione(stat1,stat2)"
   ]
  },
  {
   "cell_type": "markdown",
   "metadata": {},
   "source": [
    "\n",
    "Il discorso qui è molto diverso, i range di correlazione sono molto più ampi e raggiungono numeri più alti. Nel 2023 [0.931046, -0.352069], nel 2022 [0.917525, -0.351932], nel 2021 [0.930689, -0.265947], nel 2020 [0.923731, -0.328074] e nel 2019 [0.916789, -0.379672]. Questa statistica è quindi correlata bene con alcune e male con altre. Notiamo, inoltre, come si relazioni abbastanza bene con le statistiche interessanti. Il risultato in realtà è abbastanza prevedibile in quanto è nell'interesse delle squadre schierare titolari i giocatori migliori che quindi registrano dati migliori.\n"
   ]
  },
  {
   "cell_type": "code",
   "execution_count": null,
   "metadata": {},
   "outputs": [],
   "source": [
    "stat = 'MP'\n",
    "correlazioni_annuali(stat)\n",
    "\n",
    "stat1 = 'MP'\n",
    "stat2 = 'Gls'\n",
    "correlazione(stat1,stat2)\n",
    "\n",
    "stat2 = 'Ast'\n",
    "correlazione(stat1,stat2)"
   ]
  },
  {
   "cell_type": "markdown",
   "metadata": {},
   "source": [
    "\n",
    "Il discorso riguardante il numero di partite giocate è il medesimo a quello precedente, è nell'interesse della squadra far giocare i giocatori migliori e quindi ci aspettavamo che fosse ben correlato.\n",
    "\n",
    "Adesso ci concentriamo su quei dati che un attaccante registra quando messo a confronto con gli avversari, ovvero dribbling, contrasti, numero di tocchi, conduzioni di palla, distanza percorsa palla al piede, falli subiti e duelli aerei. Fra queste sono presenti colonne chiamate Mid 3rd e Att 3rd, questo indica in che area di campo viene registrata la statistica.\n"
   ]
  },
  {
   "cell_type": "code",
   "execution_count": null,
   "metadata": {},
   "outputs": [],
   "source": [
    "correlations = []\n",
    "years = []\n",
    "\n",
    "colonne_da_eliminare = ['Player', 'Nation', 'Pos', 'Squad','Age', 'MP', 'Starts', 'Min', 'G+A', 'G-PK', 'PK',\n",
    "       'PKatt', 'CrdY', 'CrdR', 'xG', 'PrgP', 'PrgR', 'Sh', 'SoT', 'SoT%',\n",
    "       'G/Sh', 'G/SoT', 'Dist', 'FK', 'G-xG', 'Cmp', 'Att', 'Cmp%', 'xA', 'KP',\n",
    "       'PPA', 'CrsPA', 'SCA', 'Succ%','2CrdY', 'Off', 'Crs','Won%']\n",
    "\n",
    "for file in files:\n",
    "    \n",
    "    data_frame = pd.read_excel(file)\n",
    "    data_frame['Duels'] = data_frame['Won'] + data_frame['Lost'] \n",
    "    data_frame.drop(columns=colonne_da_eliminare, inplace=True) \n",
    "\n",
    "    corr_matrix = data_frame.corr()\n",
    "\n",
    "    year = year_mapping[file] \n",
    "    years.append(year)\n",
    "\n",
    "    fig = px.imshow(corr_matrix, title=f\"Matrice di Correlazione - Anno {year}\")\n",
    "    fig.show()"
   ]
  },
  {
   "cell_type": "markdown",
   "metadata": {},
   "source": [
    "\n",
    "Dal range di correlazione indicato sulla destra capiamo come alcune statistiche siano correlate male e dal colore possiamo individuarle. Le colonne relative ai duelli aerei che sono correlate decentemente solamente con i Gol, quelle relative ai contrasti hanno indici bassi con quelle che ci interessano. Ci aspettavamo che i falli subiti fossero ben correlati, in quanto una squadra potrebbe ricorrere ai falli per fermare un giocatore forte ed invece gli indici di correlazione sono abbastanza normali, si aggirano intorno al 0.6. Sono relazionati molto bene invece i dati sui dribbling, con i dati di Assist, inoltre vediamo quelle di conduzioni di palla e in aggiunta quelle relative alla distanza percorsa palla al piede.\n"
   ]
  },
  {
   "cell_type": "code",
   "execution_count": null,
   "metadata": {},
   "outputs": [],
   "source": [
    "#Correlazione delle statistiche sopracitate nel tempo\n",
    "# Assist\n",
    "\n",
    "stat1 = 'Ast'\n",
    "stat2 = 'Carries'\n",
    "correlazione(stat1,stat2)\n",
    "\n",
    "stat2 = 'TotDist'\n",
    "correlazione(stat1,stat2)\n",
    "\n",
    "stat2 = 'Att.1'\n",
    "correlazione(stat1,stat2)\n",
    "\n",
    "stat2 = 'Succ'\n",
    "correlazione(stat1,stat2)"
   ]
  },
  {
   "cell_type": "code",
   "execution_count": null,
   "metadata": {},
   "outputs": [],
   "source": [
    "# Gol\n",
    "\n",
    "stat1 = 'Gls'\n",
    "stat2 = 'Carries'\n",
    "correlazione(stat1,stat2)\n",
    "\n",
    "stat2 = 'TotDist'\n",
    "correlazione(stat1,stat2)\n",
    "\n",
    "stat2 = 'Att.1'\n",
    "correlazione(stat1,stat2)\n",
    "\n",
    "stat2 = 'Succ'\n",
    "correlazione(stat1,stat2)"
   ]
  },
  {
   "cell_type": "markdown",
   "metadata": {},
   "source": [
    "\n",
    "Questo risultato ci dice che un giocatore fisico che vince molti contrasti e duelli aerei non sia del tutto necessario al fine dei Gol e gli altri dati di riferimento, piuttosto dovrebbe concentrarsi nell'ingaggiare un attaccante più tecnico ed agile che sia in grado di saltare l'uomo e portare palla. Le due caratteristiche non si escludono a vicenda, un giocatore può essere molto tecnico e anche fisico, stiamo dando una sorta di precedenza quando si va a studiare le doti principali di un atleta.\n",
    "\n",
    "Analizziamo finalmente le statistiche di gioco, ovvero quelle relative ai tiri, passaggi, i calci piazzati. Ma prima occupiamoci del concetto di Gol ed Assist attesi. Questi dati indicano la probabilità di ogni tiro di essere gol o di un passaggio di essere un assist.\n"
   ]
  },
  {
   "cell_type": "code",
   "execution_count": null,
   "metadata": {},
   "outputs": [],
   "source": [
    "colonne_da_eliminare = ['Player', 'Nation', 'Pos', 'Squad','Age', 'MP', 'Starts', 'Min', 'G+A', 'G-PK', 'PK',\n",
    "       'PKatt', 'CrdY', 'CrdR', 'SoT%',\n",
    "       'G/Sh', 'G/SoT', 'FK', 'G-xG','Cmp%','Tkl', 'TklW', 'Mid 3rd', 'Att 3rd',\n",
    "       'Touches', 'Mid 3rd.1', 'Att 3rd.1', 'Att.1', 'Succ', 'Succ%',\n",
    "       'Carries', 'TotDist', '2CrdY', 'Fld', 'Duels', 'Won', 'Lost',\n",
    "       'Won%']"
   ]
  },
  {
   "cell_type": "code",
   "execution_count": null,
   "metadata": {},
   "outputs": [],
   "source": [
    "stat1 = 'Gls'\n",
    "stat2 = 'xG'\n",
    "correlazione(stat1,stat2)"
   ]
  },
  {
   "cell_type": "code",
   "execution_count": null,
   "metadata": {},
   "outputs": [],
   "source": [
    "stat1 = 'Ast'\n",
    "stat2 = 'xA'\n",
    "correlazione(stat1,stat2)"
   ]
  },
  {
   "cell_type": "markdown",
   "metadata": {},
   "source": [
    "\n",
    "Il dato sui gol attesi tiene in considerazione tantissime variabili, ad esempio della difficoltà oggettiva del tiro, del numero di difensori presenti a contrastare o disturbare il tiro dell'attaccante, della qualità di questi difensori, tiene conto della posizione da cui sta tirando questo giocatore ed i risultati dei tiri fatti da altri giocatori in quella posizione, tiene conto del piede con cui calcia il giocatore, della sua posizione del corpo al momento dell'impatto e moltissime altre variabili. Tutti questi dati restituiscono la percentuale di un giocatore di segnare con il tiro che ha fatto, ad esempio un tiro da centrocampo avrà un indice di xG molto minore rispetto ad un calcio di rigore, oppure se due calciatori fanno due tiri identici il calciatore migliore avrà un indice di xG più alto. Dalla spiegazione riusciamo a comprendere come mai i due dati siano correlati quasi alla perfezione. Il dato sugli xG è frutto di un calcolo realizzato da intelligenze artificiali di ultimissima generazione che quindi riescono a fare una stima molto precisa.\n",
    "\n",
    "Il concetto di Assist atteso è il medesimo, indica la probabilità che ogni passaggio che porta al tiro diventi un assist. Ed anche questo tiene conto di tantissime variabili. Il dato di correlazione è leggermente inferiore negli anni, perchè il dato non tiene in considerazione del giocatore che riceve la palla, infatti calcola solamente la probabilità che un determinato passaggio diventi assist. Logicamente un giocatore forte riuscirà a concretizzare il passaggio più spesso rendendo la differenza fra assist ed assist attesi del compagno minore.\n"
   ]
  },
  {
   "cell_type": "code",
   "execution_count": null,
   "metadata": {},
   "outputs": [],
   "source": [
    "correlations = []\n",
    "years = []\n",
    "\n",
    "colonne_da_eliminare = ['Player', 'Nation', 'Pos', 'Squad','Age', 'MP', 'Starts', 'Min', 'G+A', 'G-PK', 'PK',\n",
    "       'PKatt', 'CrdY', 'CrdR', 'SoT%', 'xG', 'xA',\n",
    "       'G/Sh', 'G/SoT', 'FK', 'G-xG','Cmp%','Tkl', 'TklW', 'Mid 3rd', 'Att 3rd',\n",
    "       'Touches', 'Mid 3rd.1', 'Att 3rd.1', 'Att.1', 'Succ', 'Succ%',\n",
    "       'Carries', 'TotDist', '2CrdY', 'Fld', 'Duels', 'Won', 'Lost',\n",
    "       'Won%']\n",
    "\n",
    "for file in files:\n",
    "    \n",
    "    data_frame = pd.read_excel(file)\n",
    "    data_frame['Duels'] = data_frame['Won'] + data_frame['Lost'] \n",
    "    data_frame.drop(columns=colonne_da_eliminare, inplace=True) \n",
    "\n",
    "    corr_matrix = data_frame.corr()\n",
    "\n",
    "    year = year_mapping[file] \n",
    "    years.append(year)\n",
    "\n",
    "    fig = px.imshow(corr_matrix, title=f\"Matrice di Correlazione - Anno {year}\")\n",
    "    fig.show()"
   ]
  },
  {
   "cell_type": "markdown",
   "metadata": {},
   "source": [
    "\n",
    "In questi grafici notiamo come la statistica sulla distanza media di tiro abbia un indice di correlazione vicino allo zero e come le statistiche di passaggio siano ben relazionate tra di loro.\n",
    "\n",
    "Il primo risultato importante, relativamente logico, è dato dall'ottima correlazione dalle statistiche sui passaggi e gli assist, spiccano i dati di passaggi prograssivi, i passaggi chiave e passaggi in area di rigore (PrgP, KP e PPA). Questo perchè un giocatore che passa meglio il pallone e fa passaggi più pericolosi realizzerà più assist.\n",
    "\n",
    "Per quanto riguarda i gol oltre alle logiche correlazioni con i dati di tiri e tiri in porta troviamo anche un dato interessante che è la correlazione tra i passaggi progressivi ricevuti e i gol realizzati. Questo ci suggerisce che un attaccante che sa fare dei buoni movimenti senza palla e riesce a dettare il passaggio al compagno tendenzialmente fa più gol. Risultato interessante infatti questo vuol dire che un modo per aumentare il numero di gol realizzati da un attaccante può essere farlo lavorare sui movimenti e gli inserimenti.\n",
    "\n",
    "Vediamo infine come i dati sui tiri hanno un indice di circa 0.65 nel corso degli anni, simile a quello dei passaggi con i gol. Ovviamente esistono degli attaccanti completi che sanno sia passare bene la palla ai compagni che fare gol, ma sicuramente se una squadra ha più bisogno di un attaccante che faccia tanti gol rispetto a tanti assist dovrà concentrarsi su un calciatore che tira molte volte piuttosto che uno che sa passare bene la palla, viceversa se ha bisogno di assist dovrà ricercare un buon passatore piuttosto che un tiratore.\n",
    "\n",
    "Le statistiche di chance da gol e da tiro create sono correlate bene con entrambe.\n"
   ]
  },
  {
   "cell_type": "code",
   "execution_count": null,
   "metadata": {},
   "outputs": [],
   "source": [
    "# Assist\n",
    "\n",
    "stat1 = 'Ast'\n",
    "stat2 = 'KP'\n",
    "correlazione(stat1,stat2)\n",
    "\n",
    "stat2 = 'PPA'\n",
    "correlazione(stat1,stat2)\n",
    "\n",
    "stat2 = 'PrgP'\n",
    "correlazione(stat1,stat2)\n",
    "\n",
    "stat2 = 'GCA'\n",
    "correlazione(stat1,stat2)\n",
    "\n",
    "stat2 = 'SCA'\n",
    "correlazione(stat1,stat2)"
   ]
  },
  {
   "cell_type": "code",
   "execution_count": null,
   "metadata": {},
   "outputs": [],
   "source": [
    "# Gol\n",
    "\n",
    "stat1 = 'Gls'\n",
    "stat2 = 'Sh'\n",
    "correlazione(stat1,stat2)\n",
    "\n",
    "stat2 = 'SoT'\n",
    "correlazione(stat1,stat2)\n",
    "\n",
    "stat2 = 'PrgR'\n",
    "correlazione(stat1,stat2)\n",
    "\n",
    "stat2 = 'GCA'\n",
    "correlazione(stat1,stat2)\n",
    "\n",
    "stat2 = 'SCA'\n",
    "correlazione(stat1,stat2)"
   ]
  },
  {
   "cell_type": "markdown",
   "metadata": {},
   "source": [
    "\n",
    "CONCLUSIONI\n",
    "\n",
    "L'analisi sulla correlazione delle statistiche degli attaccanti conferma la nostra tesi, in quanto vediamo come esistono effettivamente delle statistiche ben correlate con i gol, gli assist e le chance da gol create. Abbiamo visto ed argomentato i vari risultati giustificando il perchè degli indici di correlazione e in conclusione siamo riusciti a stabilire una collezione più ristretta di statistiche che una squadra può andare a studiare per trovare un attaccante che possa migliorare il proprio reparto d'attacco e per le quali invece non valga la pena perdere tempo.\n",
    "\n",
    "Per riassumere l'analisi possiamo quindi dire che una squadra non deve affidarsi all'età dell'atleta perchè non ha un indice di correlazione altissimo, inoltre abbiamo scoperto come la fisicità non è tutto ma bisogna dare la priorità all'agilità e ai fondamentali di dribbling e controllo palla. Una squadra deve sicuramente affidarsi alle tecnologie che indicano gli xG e gli xA in quanto abbiamo notato essere molto coerenti poi con il numero di gol ed assist effettivi. Ed infine possiamo dire che le statistiche da controllare immediatamente sono quelle relative ai tiri del giocatore, le chance da tiro e da gol create e la sua capacità di fare movimenti senza palla. Infine anche la sua dote di passaggio e la sua visione di gioco."
   ]
  },
  {
   "cell_type": "markdown",
   "metadata": {},
   "source": [
    "Questa sezione di codice si occupa delle reti neurali. Grazie all'analisi di correlazione abbiamo capito quali statistiche sono correlate con i dati di Gol ed Assist. Daremo quindi in input alla rete neurale quelle statistiche e chiederemo in output, appunto, Gol ed Assist.\n"
   ]
  },
  {
   "cell_type": "code",
   "execution_count": null,
   "metadata": {},
   "outputs": [],
   "source": [
    "# Importo le librerie necessarie\n",
    "\n",
    "import pandas as pd\n",
    "import tensorflow as tf\n",
    "from sklearn.preprocessing import StandardScaler\n",
    "from sklearn.model_selection import train_test_split\n",
    "import numpy as np "
   ]
  },
  {
   "cell_type": "code",
   "execution_count": null,
   "metadata": {},
   "outputs": [],
   "source": [
    "# Nelle prossime celle andremo ad impostare la rete neurale, importando i file ed addestrandola con i file di input. \n",
    "# Andiamo a fare prima i gol e nella cella seguente la rete per gli assist"
   ]
  },
  {
   "cell_type": "code",
   "execution_count": null,
   "metadata": {},
   "outputs": [],
   "source": [
    "f1 = \"attaccanti_19.xlsx\"\n",
    "f2 = \"attaccanti_20.xlsx\"\n",
    "f3 = \"attaccanti_21.xlsx\"\n",
    "f4 = \"attaccanti_22.xlsx\"\n",
    "f5 = \"attaccanti_23.xlsx\"\n",
    "\n",
    "# Elimino le colonne che abbiamo scoperto essere non utili per la nostra analisi\n",
    "\n",
    "colonne_da_eliminare = ['Player', 'Nation', 'Pos', 'Squad', 'Age', 'MP', 'Starts', 'Min', 'G+A', 'G-PK', 'PK', 'PKatt', \n",
    "                        'CrdY', 'CrdR', 'SoT%', 'G/Sh', 'G/SoT', 'Dist', 'FK', 'G-xG','Cmp', 'Att','CrsPA', 'Cmp%', 'Tkl',\n",
    "                        'TklW', 'Mid 3rd', 'Att 3rd', 'Mid 3rd.1','Succ%', 'TotDist', '2CrdY', 'Fld', 'Off','Crs', 'Won', 'Lost', 'Won%']\n",
    "\n",
    "# Unisco i file Excel\n",
    "df1 = pd.read_excel(f1)\n",
    "df2 = pd.read_excel(f2).iloc[1:].reset_index(drop=True)\n",
    "df3 = pd.read_excel(f3).iloc[1:].reset_index(drop=True)\n",
    "df4 = pd.read_excel(f4).iloc[1:].reset_index(drop=True)\n",
    "df_unito = pd.concat([df1, df2, df3, df4], ignore_index=True)\n",
    "\n",
    "# Rimuovo le colonne\n",
    "df_unito = df_unito.drop(columns=colonne_da_eliminare, errors='ignore')\n",
    "\n",
    "df5 = pd.read_excel(f5).iloc[1:].reset_index(drop=True)\n",
    "df5 = df5.drop(columns=colonne_da_eliminare, errors='ignore')\n",
    "\n",
    "# Separare le colonne in input e output\n",
    "X = df_unito.iloc[:, 2:]  # Tutte le colonne eccetto le prime due\n",
    "y = df_unito.iloc[:, :2]  # Le prime due colonne\n",
    "\n",
    "scaler = StandardScaler()\n",
    "X_scaled = scaler.fit_transform(X)\n",
    "\n",
    "# Divisione in set di addestramento e test\n",
    "X_train, X_test, y_train, y_test = train_test_split(X_scaled, y, test_size=0.2, random_state=42)\n",
    "\n",
    "# Costruzione della rete neurale\n",
    "model = tf.keras.Sequential([tf.keras.layers.Dense(64, activation='relu', input_shape=(X_train.shape[1],)),\n",
    "                             tf.keras.layers.Dense(64, activation='relu'),\n",
    "                             tf.keras.layers.Dense(y_train.shape[1])])\n",
    "\n",
    "# Compilazione\n",
    "model.compile(optimizer='adam', loss='mean_squared_error')\n",
    "\n",
    "# Addestramento\n",
    "model.fit(X_train, y_train, epochs=1000, batch_size=32, validation_split=0.2)\n",
    "\n",
    "# Carica il nuovo file e pre-processa i dati\n",
    "df_new = df5  \n",
    "\n",
    "# Verifica che le colonne siano allineate con il DataFrame di addestramento\n",
    "X_new = df_new[X.columns]\n",
    "\n",
    "# Pre-elabora i dati nuovi\n",
    "X_new_scaled = scaler.transform(X_new)\n",
    "\n",
    "# Usa il modello per fare previsioni\n",
    "y_pred = model.predict(X_new_scaled)\n",
    "\n",
    "# Imposto pari a zero i valori negativi in quanto è impossibile realizzare un numero negativo di gol\n",
    " \n",
    "y_pred = np.clip(y_pred, 0, None)  # Sostituisci i valori negativi con 0\n",
    "\n",
    "# Visualizza le previsioni\n",
    "df_new['Pred_Gls'] = y_pred[:, 0]  # Previsioni per la prima colonna (Gls)\n",
    "df_new['Pred_Ast'] = y_pred[:, 1]  # Previsioni per la seconda colonna (Ast)\n",
    "\n",
    "print(df_new[['Gls', 'Ast', 'Pred_Gls', 'Pred_Ast']])"
   ]
  },
  {
   "cell_type": "code",
   "execution_count": null,
   "metadata": {},
   "outputs": [],
   "source": [
    "# Calcola separatamente la somma delle previsioni per Gls e Ast\n",
    "somma_goal_attesi = df_new['Pred_Gls'].sum()\n",
    "somma_assist_attesi = df_new['Pred_Ast'].sum()\n",
    "\n",
    "# Calcola separatamente la somma effettiva dei goal e assist nei dati originali\n",
    "somma_goal = df_new['Gls'].sum()\n",
    "somma_assist = df_new['Ast'].sum()\n",
    "# Risultati dei gol\n",
    "print(f\"La somma dei goal effettivi è {somma_goal}\")\n",
    "print(f\"La somma dei goal ottenuti dalla rete neurale è {somma_goal_attesi}\")\n",
    "\n",
    "# Risultati degli assist\n",
    "\n",
    "print(f\"La somma degli assist effettivi è {somma_assist}\")\n",
    "print(f\"La somma degli assist ottenuti dalla rete neurale è {somma_assist_attesi}\")\n"
   ]
  },
  {
   "cell_type": "code",
   "execution_count": null,
   "metadata": {},
   "outputs": [],
   "source": [
    "# Errore\n",
    "\n",
    "diff_gol = abs(somma_goal - somma_goal_attesi)\n",
    "diff_ast = abs(somma_assist - somma_assist_attesi)\n",
    "\n",
    "# Trovo l'errore medio dividendo per il numero di giocatori \n",
    "\n",
    "avg_err_gol = diff_gol/194  \n",
    "avg_err_ast = diff_ast/194\n",
    "\n",
    "print(f\"La differenza fra la somma effettiva e quella della rete neurale è di {diff_gol} Gol\")\n",
    "print(f\"La differenza fra la somma effettiva e quella della rete neurale è di {diff_ast} Assist\")\n",
    "print(f\"L'errore medio per i gol è {avg_err_gol} per giocatore\")\n",
    "print(f\"L'errore medio per gli assist è {avg_err_ast} per giocatore\")"
   ]
  },
  {
   "cell_type": "markdown",
   "metadata": {},
   "source": [
    "\n",
    "Aumentando il numero delle epoche ovviamente la differenza fra la previsione della rete neurale e la somma effettiva delle statistiche richieste si assottiglia notevolmente. Il processo richiede più tempo ma restituisce risultati più precisi."
   ]
  }
 ],
 "metadata": {
  "language_info": {
   "name": "python"
  }
 },
 "nbformat": 4,
 "nbformat_minor": 2
}
