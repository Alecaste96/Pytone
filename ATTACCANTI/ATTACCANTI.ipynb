{
 "cells": [
  {
   "cell_type": "markdown",
   "metadata": {},
   "source": [
    "Il ruolo dell'attaccante è fondamentale nel gioco del calcio. E' compito suo infatti fare gol ma non solo, è anche un'ottima chiave di gioco per la creazione degli spazi utili per i compagni di squadra o anche per difendere il pallone in una zona di campo lontana dalla propria area e permettere così al team di rifiatare e alzare il baricentro. In questa sezione ci occupiamo della parte 'demografica' degli attaccanti di Serie A. Andremo ad analizzare come sono distribuite le età, le nazionalità ed i minuti giocati, per gli attaccanti. "
   ]
  },
  {
   "cell_type": "code",
   "execution_count": 49,
   "metadata": {},
   "outputs": [],
   "source": [
    "import pandas as pd\n",
    "import matplotlib.pyplot as plt\n",
    "import plotly.express as px\n",
    "import plotly.graph_objects as go\n",
    "import numpy as np\n",
    "import scipy.stats as stats\n",
    "import tensorflow as tf\n",
    "import funzioni\n",
    "from sklearn.preprocessing import StandardScaler\n",
    "from sklearn.metrics import mean_squared_error\n",
    "from sklearn.model_selection import train_test_split\n",
    "from matplotlib.widgets import Slider\n",
    "\n",
    "pd.set_option('display.max_columns', None)\n",
    "\n",
    "# Elenco dei file da leggere\n",
    "files = ['attaccanti_23.xlsx', 'attaccanti_22.xlsx', 'attaccanti_21.xlsx', 'attaccanti_20.xlsx', 'attaccanti_19.xlsx']\n",
    "\n",
    "# Faccio un dizionario per mappare i file agli anni\n",
    "year_mapping= {'attaccanti_23.xlsx': 2023,'attaccanti_22.xlsx': 2022,'attaccanti_21.xlsx': 2021,'attaccanti_20.xlsx': 2020,\n",
    "                'attaccanti_19.xlsx': 2019}"
   ]
  },
  {
   "cell_type": "code",
   "execution_count": null,
   "metadata": {},
   "outputs": [],
   "source": [
    "import importlib\n",
    "import funzioni\n",
    "importlib.reload(funzioni)"
   ]
  },
  {
   "cell_type": "code",
   "execution_count": null,
   "metadata": {},
   "outputs": [],
   "source": [
    "# Definisci le fasce di età e le etichette\n",
    "bins = [15, 20, 25, 30, 35, 40]\n",
    "labels = ['15-20', '21-25', '26-30', '31-35', '36-40']\n",
    "\n",
    "# Dizionario per conservare i conteggi annuali per ciascuna fascia d'età\n",
    "fasce_eta_conti = {label: [] for label in labels}\n",
    "medie_totali_annuali = []\n",
    "deviazioni_annuali = []  # Nuova lista per memorizzare le deviazioni standard\n",
    "\n",
    "# Ciclo sui file per calcolare la numerosità per ciascuna fascia, la media totale e la deviazione standard\n",
    "for file in files:\n",
    "    data = pd.read_excel(file)\n",
    "    eta = data['Age']\n",
    "    \n",
    "    # Categorizza le età nelle fasce specificate\n",
    "    eta_bins = pd.cut(eta, bins=bins, labels=labels, right=True, include_lowest=True)\n",
    "    \n",
    "    # Conta il numero di giocatori per ciascuna fascia di età e salva nel dizionario\n",
    "    for label in labels:\n",
    "        conteggio_eta_fascia = (eta_bins == label).sum()\n",
    "        fasce_eta_conti[label].append(conteggio_eta_fascia)\n",
    "    \n",
    "    # Calcola la media e la deviazione standard dell'età per l'anno\n",
    "    media_eta_totale = eta.mean()\n",
    "    deviazione_eta_totale = eta.std(ddof=1)  # ddof=1 per deviazione standard campionaria\n",
    "    \n",
    "    # Aggiungi i valori alla lista\n",
    "    medie_totali_annuali.append(media_eta_totale)\n",
    "    deviazioni_annuali.append(deviazione_eta_totale)\n",
    "\n",
    "# Numero di anni considerati\n",
    "anni = ['2019', '2020', '2021', '2022', '2023']\n",
    "\n",
    "# Creazione del grafico a barre (numerosità per fascia di età e anno)\n",
    "fig, ax = plt.subplots(figsize=(10, 8))\n",
    "bar_width = 0.8\n",
    "mini_bar_width = bar_width / len(anni)\n",
    "x_pos = np.arange(len(labels))\n",
    "\n",
    "for i, anno in enumerate(anni):\n",
    "    conti_annuali = [fasce_eta_conti[label][i] for label in labels]\n",
    "    offset = (i - (len(anni) - 1) / 2) * mini_bar_width\n",
    "    ax.bar(x_pos + offset, conti_annuali, mini_bar_width, label=anno)\n",
    "\n",
    "ax.set_xlabel('Fascia di Età')\n",
    "ax.set_ylabel('Numero di Giocatori')\n",
    "ax.set_title('Numero di Attaccanti per Fascia di Età e Anno')\n",
    "ax.set_xticks(x_pos)\n",
    "ax.set_xticklabels(labels)\n",
    "ax.legend(title='Anno')\n",
    "\n",
    "max_y = max(max(conti_annuali) for conti_annuali in fasce_eta_conti.values())\n",
    "ax.set_yticks(np.arange(0, max_y + 5, 5))\n",
    "\n",
    "plt.show()\n",
    "\n",
    "# Creazione 2 grafico\n",
    "fig, ax = plt.subplots(figsize=(10, 6))\n",
    "\n",
    "# Traccia l'andamento delle medie totali annuali\n",
    "ax.plot(anni, medie_totali_annuali, marker='o', color='k', label='Media Totale')\n",
    "\n",
    "# Aggiungi le deviazioni standard come barre di errore\n",
    "ax.errorbar(anni, medie_totali_annuali, yerr=deviazioni_annuali, fmt='o', color='k', label='Deviazione Standard')\n",
    "\n",
    "ax.set_xlabel('Anno')\n",
    "ax.set_ylabel('Media Età')\n",
    "ax.set_title(\"Andamento della Media Totale dell'Età dal 2019 al 2023\")\n",
    "\n",
    "ax.set_ylim(15,40)\n",
    "ax.set_yticks(np.arange(15,40,1))\n",
    "\n",
    "ax.grid(True)\n",
    "ax.legend()\n",
    "\n",
    "plt.show()"
   ]
  },
  {
   "cell_type": "markdown",
   "metadata": {},
   "source": [
    "Dopo aver importato i file necessari andiamo ad analizzare come sono variate le età nei 5 anni analizzati, visualizziamo il tutto con una serie di istogrammi riferiti alle varie fasce di età. Si nota come il valore compreso tra i 21 e i 25 anni sia il più diffuso nel ruolo, seguito da 26-30 e 15-20. Il reparto offensivo risulta quindi relativamente giovane, e il dato si conferma sempre nei 5 anni. Da tenere in considerazione inoltre l'aumento progressivo dell'utilizzo sempre maggiore di giovanissimi, i quali vengono fatti esordire molto prematuramente. Dal 2020 al 2023 infatti il dato è in costante aumento, e ciò si conferma anche con i discorsi molto ripresi nel corso di questi anni, dove la maggior parte delle squadre di Serie A provano a ringiovanire l'organico e a ricercare sempre più giovani talenti da valorizzare e rivendere ad un prezzo maggiore.\n",
    "Il secondo grafico, riferito alla media di età nel corso degli anni, si nota una error bar notevole, che dipende proprio dalle grandi differenze di età che si possono trovare nel parco attaccanti."
   ]
  },
  {
   "cell_type": "markdown",
   "metadata": {},
   "source": [
    "Passiamo ora all'analisi delle nazionalità. Vediamo quali sono le nazionalità più presenti in Serie A utilizzando il concept precedente, in modo da avere un confronto diretto anno per anno."
   ]
  },
  {
   "cell_type": "code",
   "execution_count": null,
   "metadata": {},
   "outputs": [],
   "source": [
    "# Leggi i dati e conta le nazionalità per ciascun anno\n",
    "all_counts = {}\n",
    "for file in files:\n",
    "    data = pd.read_excel(file)\n",
    "    year = year_mapping[file]\n",
    "    nazionalita_counts = data['Nation'].value_counts()\n",
    "    all_counts[year] = nazionalita_counts\n",
    "\n",
    "# Unisci i dati in un DataFrame\n",
    "df_counts = pd.DataFrame(all_counts).fillna(0)\n",
    "\n",
    "# Crea un grafico a barre con Plotly\n",
    "fig = go.Figure()\n",
    "\n",
    "for year in df_counts.columns:\n",
    "    fig.add_trace(go.Bar(\n",
    "        x=df_counts.index,\n",
    "        y=df_counts[year],\n",
    "        name=str(year)\n",
    "    ))\n",
    "\n",
    "# Aggiusta il layout per abilitare lo scorrimento e aggiungere i tick sull'asse y ogni 5 unità\n",
    "fig.update_layout(\n",
    "    title=\"Distribuzione delle Nazionalità degli attaccanti per gli anni 2019-2023\",\n",
    "    xaxis=dict(\n",
    "        title=\"Nazionalità\",\n",
    "        tickangle=45,\n",
    "        automargin=True,\n",
    "        rangeslider=dict(visible=True)  # Barra di scorrimento\n",
    "    ),\n",
    "    yaxis=dict(\n",
    "        title=\"Numero di calciatori\",\n",
    "        tick0=0,           # Inizio da 0\n",
    "        dtick=5            # Intervallo di 5 unità tra i tick\n",
    "    ),\n",
    "    barmode='group',       # Colonne affiancate per ogni anno\n",
    "    width=2000             # Imposta una larghezza elevata per consentire lo scorrimento\n",
    ")\n",
    "\n",
    "# Mostra il grafico\n",
    "fig.show()"
   ]
  },
  {
   "cell_type": "markdown",
   "metadata": {},
   "source": [
    "Come da aspettativa, la nazionalità italiana risulta nettamente la più diffusa, questo appunto per via del campionato preso in esame. Risultano sorprendenti invece i dati relativi ad Argentina, Brasile e Costa d'Avorio, le quali hanno un indice molto alto e distaccato rispetto alle altre nazionalità."
   ]
  },
  {
   "cell_type": "code",
   "execution_count": null,
   "metadata": {},
   "outputs": [],
   "source": [
    "# Crea un grafico a punti con error bar\n",
    "statistiche_minuti_per_anno = {}\n",
    "\n",
    "# Ciclo sui file per raccogliere i dati\n",
    "for file in files:\n",
    "    data = pd.read_excel(file)\n",
    "    valori = data['MP']  # Assume che i minuti giocati siano nella colonna 'MP'\n",
    "    \n",
    "    # Filtra i dati per includere solo i calciatori con più di 20 minuti giocati\n",
    "    filtrato = valori > 20\n",
    "    valori_filtrati = valori[filtrato]\n",
    "    \n",
    "    # Calcola la media e la deviazione standard dei minuti giocati per l'anno corrente\n",
    "    media_valori_filtrati = valori_filtrati.mean()\n",
    "    deviazione_standard = valori_filtrati.std()\n",
    "    \n",
    "    # Aggiungi i valori al dizionario\n",
    "    year = year_mapping[file]\n",
    "    statistiche_minuti_per_anno[year] = (media_valori_filtrati, deviazione_standard)\n",
    "\n",
    "# Crea un DataFrame per le statistiche dei minuti giocati per anno\n",
    "df_statistiche = pd.DataFrame(\n",
    "    [(year, stat[0], stat[1]) for year, stat in statistiche_minuti_per_anno.items()],\n",
    "    columns=['Anno', 'Media Minuti', 'Deviazione Standard']\n",
    ")\n",
    "\n",
    "# Ordina il DataFrame per anno\n",
    "df_statistiche = df_statistiche.sort_values('Anno')\n",
    "plt.figure(figsize=(10, 6))\n",
    "plt.errorbar(\n",
    "    df_statistiche['Anno'],\n",
    "    df_statistiche['Media Minuti'],\n",
    "    yerr=df_statistiche['Deviazione Standard'],\n",
    "    fmt='o',  # Marker per i punti\n",
    "    ecolor='gray',  # Colore delle barre di errore\n",
    "    capsize=5,  # Lunghezza dei \"cap\" delle barre di errore\n",
    "    color='blue',\n",
    "    label='Media Minuti Giocati'\n",
    ")\n",
    "plt.plot(\n",
    "    df_statistiche['Anno'],\n",
    "    df_statistiche['Media Minuti'],\n",
    "    color='red',\n",
    "    linestyle='-',\n",
    "    linewidth=2,\n",
    "    label='Linea di Tendenza'\n",
    ")\n",
    "\n",
    "# Personalizza i tick dell'asse x per mostrare solo gli anni\n",
    "plt.xticks(df_statistiche['Anno'], labels=df_statistiche['Anno'], fontsize=12)\n",
    "\n",
    "# Aggiungi i titoli e le etichette\n",
    "plt.xlabel('Anno', fontsize=14)\n",
    "plt.ylabel('Media Minuti Giocati', fontsize=14)\n",
    "plt.title('Media dei Minuti Giocati dai Calciatori per Anno con Barre di Errore', fontsize=16)\n",
    "\n",
    "# Aggiungi una griglia\n",
    "plt.grid(True)\n",
    "\n",
    "# Aggiungi una legenda\n",
    "plt.legend()\n",
    "\n",
    "# Ottimizza il layout\n",
    "plt.tight_layout()\n",
    "\n",
    "# Mostra il grafico\n",
    "plt.show()"
   ]
  },
  {
   "cell_type": "markdown",
   "metadata": {},
   "source": [
    "In questi grafici vediamo la distribuzione dei minuti giocati diviso 90 dagli attaccanti. In altre parole calcoliamo quante partite complete vengono giocate dagli attaccanti. Abbiamo messo un bound inferiore di 20 minuti giocati per evitare che i dati vengano sfalsati da giocatori con pochi minuti giocati. Vediamo che la distribuzione e la media rimane più o meno la stessa nel corso degli anni. La media addirittura oscilla fra 29.42 e 29.98. Dal grafico si ottiene anche un insolito calo dei minuti giocati nel 2022, probabilmente dovuto dalla presenza di numerose squadre con un assetto ad attaccanti a 2 e non a 3 come negli anni precedenti. Considerando la possibilità di 5 sostituzioni per partita per ogni squadra, si giustificano gli scarti del grafico dal fatto che l'impiego dei giocatori subentrati dalla panchina, i quali hanno un minutaggio per partita considerevolmente minore rispetto ai giocatori titolari."
   ]
  },
  {
   "cell_type": "markdown",
   "metadata": {},
   "source": [
    "Aggiungiamo una cella di codice che stampa gli istogrammi di tutte le statistiche di tutti 5 gli anni. In modo da poterli \n",
    "analizzare singolarmente in seguito, senza appesantire il codice con tutti i grafici."
   ]
  },
  {
   "cell_type": "code",
   "execution_count": null,
   "metadata": {},
   "outputs": [],
   "source": [
    "for file in files:\n",
    " data = pd.read_excel(file)\n",
    "\n",
    "# Selezionare solo le colonne numeriche\n",
    "numeric_data = data.select_dtypes(include=[np.number])\n",
    "\n",
    "# Funzione per calcolare il numero di bin con la regola di Freedman-Diaconis\n",
    "def freedman_diaconis_bins(data):\n",
    "    q25, q75 = np.percentile(data, [25, 75])\n",
    "    iqr = q75 - q25\n",
    "    if iqr == 0:  # Evitare divisioni per zero\n",
    "        return 20  # Numero di bin di default in caso di IQR nullo\n",
    "    bin_width = 2 * iqr / (len(data) ** (1 / 3))\n",
    "    if bin_width == 0:\n",
    "        return 5  # Numero di bin di default in caso di width troppo piccolo\n",
    "    return int(np.ceil((data.max() - data.min()) / bin_width))\n",
    "\n",
    "# Creare istogrammi per ogni colonna numerica con controllo su variazioni minime\n",
    "for column in numeric_data.columns:\n",
    "    col_data = numeric_data[column].dropna()  # Rimuovi eventuali valori NaN\n",
    "    if col_data.empty or col_data.max() == col_data.min():\n",
    "        continue\n",
    "    \n",
    "    # Calcolare il numero di bin con la regola di Freedman-Diaconis\n",
    "    bins = freedman_diaconis_bins(col_data)\n",
    "    \n",
    "    # Creare l'istogramma\n",
    "    plt.figure(figsize=(10, 6))\n",
    "    plt.hist(col_data, bins=bins, density=False, color='k', edgecolor = 'r', label='Dati')\n",
    "\n",
    "    # Titolo e etichette\n",
    "    plt.title(f'Istogramma della colonna: {column}')\n",
    "    plt.xlabel(f'{column}')\n",
    "    plt.ylabel('Numero di giocatori')\n",
    "\n",
    "    # Printa tutti gli istogrammi, commentare le righe sotto per evitare\n",
    "    plt.show()\n",
    "    media = col_data.mean()\n",
    "    print(f\"La media di {column} per l'anno {year_mapping[file]} è: {media:.2f}\")"
   ]
  },
  {
   "cell_type": "markdown",
   "metadata": {},
   "source": [
    "Creiamo una funzione che, dati in input la statistica e l'anno desiderato, restituisce l'istogramma di quella statistica\n",
    "relativa a quell'anno"
   ]
  },
  {
   "cell_type": "markdown",
   "metadata": {},
   "source": [
    "Con questa funzione possiamo richiamare dei grafici specifici e analizzarli se ci interessa."
   ]
  },
  {
   "cell_type": "code",
   "execution_count": null,
   "metadata": {},
   "outputs": [],
   "source": [
    "from funzioni import istogramma\n",
    "statistica = 'Won'\n",
    "anno = 2023\n",
    "istogramma(statistica,anno,year_mapping)"
   ]
  },
  {
   "cell_type": "markdown",
   "metadata": {},
   "source": [
    "CORRELAZIONI\n",
    "\n",
    "INTRODUZIONE\n",
    "\n",
    "Il calcio moderno è diventato molto caro, sopratutto il reparto di attacco. Le società chiedono tantissimi soldi per un giocatore \"solamente\" perchè ha realizzato molti Gol o Assist nella stagione precedente. Non tutte le squadre, però, hanno una disponibilità economica elevata per comprare un attaccante già affermato. La nostra tesi è che esistano delle correlazioni, fra le statistiche sopracitate e le altre di gioco, che una squadra può andare a studiare per stimare il numero di Gol e Assist che può realizzare un attaccante. In questo modo una società non sarà costretta ad affidarsi al numero di Gol ed Assist e potrà comprare giocatori altrettanto validi ad un prezzo minore, risparmiando soldi."
   ]
  },
  {
   "cell_type": "markdown",
   "metadata": {},
   "source": [
    "DATA CLEANING\n",
    "\n",
    "Prima di procedere con l'analisi bisogna fare un processo di 'data cleaning' ovvero una pulizia del dataframe, aggiungendo colonne che possono essere utili oppure togliendone altre che non vogliamo prendere in considerazione.\n",
    "\n",
    "Eliminiamo cartellini gialli e rossi collezionati dai giocatori, in quanto rappresentano la disciplina di questi e non le loro capacità balistiche. Dopodiche eliminiamo le colonne relative ai calci piazzati in quanto rigori e punizioni hanno i propri specialisti scelti dall'allenatore, non sarebbe quindi equo considerare una statistica alla quale la maggior parte dei giocatori non prendono neanche parte.\n",
    "\n",
    "Ovviamente scartiamo le celle relative al Nome del giocatore, la Squadra per cui gioca e la sua Nazionalità. Subito dopo togliamo quelle colonne che rappresentano \"operazioni\" fra altre statistiche, come ad esempio somme fra due dati, percentuali o rapporti, in quanto non sono statistiche di gioco (realizzate sul campo dal giocatore) ma create ad hoc per altri tipi di analisi non inerenti al nostro.\n",
    "\n",
    "Queste statistiche non verranno mai considerate in questa parte del progetto."
   ]
  },
  {
   "cell_type": "markdown",
   "metadata": {},
   "source": [
    "Suddivideremo le statistiche del database in 4 categorie e le analizzeremo una ad una.\n",
    "\n",
    "1) STATISTICHE DI IMPIEGO\n",
    "\n",
    "La prima categoria riguarda le statistiche non di campo, quelle relative ad età, minutaggio e partite giocate"
   ]
  },
  {
   "cell_type": "code",
   "execution_count": null,
   "metadata": {},
   "outputs": [],
   "source": [
    "#Crea 5 matrici colorate in cui ogni quadratino rappresenta l'indice di \n",
    "# correlazione fra le statistiche per annata\n",
    "\n",
    "correlations = []\n",
    "years = []\n",
    "\n",
    "colonne_da_eliminare = ['Player', 'Nation', 'Pos', 'Squad','G+A', 'G-PK', 'PK',\n",
    "       'PKatt', 'CrdY', 'CrdR', 'xG', 'PrgP', 'PrgR', 'Sh', 'SoT', 'SoT%',\n",
    "       'G/Sh', 'G/SoT', 'Dist', 'FK', 'G-xG', 'Cmp', 'Att', 'Cmp%', 'xA', 'KP',\n",
    "       'PPA', 'CrsPA', 'SCA', 'GCA', 'Tkl', 'TklW', 'Mid 3rd', 'Att 3rd',\n",
    "       'Touches', 'Mid 3rd.1', 'Att 3rd.1', 'Att.1', 'Succ', 'Succ%',\n",
    "       'Carries', 'TotDist', '2CrdY', 'Fld', 'Off', 'Crs', 'Won', 'Lost',\n",
    "       'Won%']\n",
    "\n",
    "for file in files:\n",
    "    \n",
    "    data_frame = pd.read_excel(file)\n",
    "\n",
    "    # Uso .drop per rimuovere dal data frame quelle statistiche che non voglio usare in questa analisi\n",
    "    data_frame.drop(columns=colonne_da_eliminare, inplace=True) \n",
    "\n",
    "    corr_matrix = data_frame.corr()  # Calcolo la matrice di correlazione\n",
    "\n",
    "    year = year_mapping[file]  # Ottengo l'anno dal file usando il mapping\n",
    "    years.append(year)\n",
    "\n",
    "    fig = px.imshow(corr_matrix, title=f\"Matrice di Correlazione - Anno {year}\", zmin = -1, zmax = 1)\n",
    "    # Ottengo in output il grafico di correlazione\n",
    "\n",
    "    fig.show()\n",
    "\n",
    "# Inserisco questa riga di codice in modo da poter visualizzare le colonne usate per l'analisi\n",
    "print(f'Le colonne usate per questa analisi sono {list(data_frame.columns)}')"
   ]
  },
  {
   "cell_type": "markdown",
   "metadata": {},
   "source": [
    "Il codice stampa delle matrici interattive quadrate simmetriche dove ogni cella è colorata in base all'indice di correlazione delle statistiche scritte sulla riga e colonna corrispondente. Ovviamente la diagonale ha tutti i valori uguali ad uno in quanto indica la correlazione di una statistica con se stessa.\n",
    "Diciamo che è interattiva in quanto mettendo il cursore su un quadrato vengono indicate le statistiche e l'indice fra di loro.\n",
    "Sulla destra è riportata una barra che fa da legenda, con la quale si può associare al colore il valore dell'indice, vengono impostati estremi fissi e non variabili durante tutte l'analisi in modo che i colori possano aiutarci in una fase preliminare dell'analisi.\n",
    "\n",
    "L'indice di correlazione è un numero compreso tra -1 e 1 che indica la relazione fra due variabili. Un indice di correlazione positivo indica che all'aumentare di una statistica anche l'altra lo fa. Mentre quello negativo indica che all'aumentare di una l'altra diminuisce. Più questo valore è vicino all'uno, in modulo, più la relazione è forte, più ci si avvicina allo zero più è debole\n",
    "\n",
    "A noi importa analizzare gli indici delle statistiche con Gol ed Assist, quindi guardiamo le ultime due righe (colonne). \n",
    "Con la matrice possiamo farci un'idea preliminare, grazie ai colori, dell'indice di correlazione fra le statistiche."
   ]
  },
  {
   "cell_type": "code",
   "execution_count": null,
   "metadata": {},
   "outputs": [],
   "source": [
    "# Creo una funzione che mi permette di scoprire quali sono le statistiche meglio e peggio correlate con una desiderata\n",
    "\n",
    "def best_worst(stat):\n",
    " for file in files:\n",
    "    year = year_mapping[file]\n",
    "    data_frame = pd.read_excel(file)\n",
    "\n",
    "    data_frame.drop(columns=colonne_da_eliminare, inplace=True) \n",
    "\n",
    "    corr_matrix = data_frame.corr()\n",
    "\n",
    "    if stat in corr_matrix.columns:\n",
    "        # Ordina le correlazioni con la statistica scelta\n",
    "        sorted_corr = corr_matrix[stat].sort_values(ascending=False)\n",
    "\n",
    "        # Trova le 5 migliori e peggiori correlazioni (cambiare i range per saperne di più o di meno)\n",
    "        best_corr = sorted_corr[1:6]  # Parto da 1 per evitare la correlazione della statistica con se stessa\n",
    "        worst_corr = sorted_corr[-5:]\n",
    "\n",
    "        print(f\"Anno {year}: Le 5 statistiche meglio correlate con {stat} sono:\\n{best_corr}\")\n",
    "        print(f\"Anno {year}: Le 5 statistiche peggio correlate con {stat} sono:\\n{worst_corr}\")\n",
    "    else:\n",
    "        print(f\"La statistica {stat} non è presente nel dataset. Controlla l'input\")\n",
    "\n",
    "# Creo una funzione che restituisce l'elenco degli indci di correlazione di una statistica con le altre anno per anno\n",
    "\n",
    "def correlazioni_annuali(stat):\n",
    "    for file in files:\n",
    "        year = year_mapping[file]\n",
    "        data_frame = pd.read_excel(file)  \n",
    "\n",
    "        data_frame.drop(columns=colonne_da_eliminare, inplace=True)\n",
    "\n",
    "        corr_matrix = data_frame.corr()\n",
    "\n",
    "        if stat in corr_matrix.columns:\n",
    "            sorted_corr = corr_matrix[stat].sort_values(ascending=False)\n",
    "\n",
    "            print(f\"Anno {year}: Le correlazioni per {stat} sono:\\n{sorted_corr}\\n\")\n",
    "        else:\n",
    "            print(f\"La statistica {stat} non è presente nel dataset dell'anno {year}.\")\n",
    "        \n",
    "# Creo una seconda funzione che mi dice l'indice di correlazione di due statistiche specifiche\n",
    "# ed il cambiamento di questo nel corso delle stagioni\n",
    "\n",
    "def correlazione(stat1,stat2):\n",
    " correlations = []\n",
    "\n",
    " for file in files:\n",
    "    \n",
    "    data_frame = pd.read_excel(file)\n",
    "\n",
    "    data_frame.drop(columns=colonne_da_eliminare, inplace=True)\n",
    "\n",
    "    corr_matrix = data_frame.corr()\n",
    "\n",
    "    year = year_mapping[file]\n",
    "\n",
    "    # Verifica se entrambe le statistiche esistono nella matrice di correlazione\n",
    "    if stat1 in corr_matrix.columns and stat2 in corr_matrix.columns:\n",
    "        correlation_value = corr_matrix.loc[stat1, stat2]\n",
    "        correlations.append((year, correlation_value))\n",
    "        print(f\"Anno {year}: Indice {correlation_value}\")\n",
    "    else:\n",
    "        correlations.append((year, None))\n",
    "\n",
    "# Creazione del DataFrame per il grafico\n",
    " if stat1 in corr_matrix.columns and stat2 in corr_matrix.columns:\n",
    "    correlation_df = pd.DataFrame(correlations, columns=['Anno', 'Correlazione'])\n",
    "    \n",
    "    # Crea il grafico dell'andamento della correlazione nel tempo\n",
    "    fig = px.line(correlation_df, x='Anno', y='Correlazione', title=f\"Correlazione tra {stat1} e {stat2}\", markers=True)\n",
    "    fig.update_xaxes(dtick=1)\n",
    "    fig.update_yaxes(range = [-1,1], dtick = 0.10)\n",
    "    fig.show()\n",
    "    print(f\"Il massimo valore dell'indice fra {stat1} e {stat2} è {correlation_df['Correlazione'].max()} il valore minimo è {correlation_df['Correlazione'].min()}\")\n",
    " else:\n",
    "    print(\"Nessun grafico disponibile: non sono state calcolate correlazioni valide. Controlla l'input\")"
   ]
  },
  {
   "cell_type": "markdown",
   "metadata": {},
   "source": [
    "Ci aiutiamo con delle funzioni per plottare l'andamento di questi indici negli anni considerati."
   ]
  },
  {
   "cell_type": "code",
   "execution_count": null,
   "metadata": {},
   "outputs": [],
   "source": [
    "for column in data_frame.columns:\n",
    "    if column not in ['Gls','Ast']:\n",
    "     correlazione('Gls',column)"
   ]
  },
  {
   "cell_type": "markdown",
   "metadata": {},
   "source": [
    "Notiamo che l'unica coppia che presenta massimo e minimo negativi è Gls e Min si presenta quindi una anticorrelazione. Per le altre 3 coppie si ha correlazione diretta in quanto massimo e minimo sono entrambi positivi."
   ]
  },
  {
   "cell_type": "markdown",
   "metadata": {},
   "source": [
    "Ragionando in valore assoluto, la coppia che risulta avere la correlazione più debole è Gls e Age nel 2020. Mentre quella più forte è Gls e Starts nel 2021."
   ]
  },
  {
   "cell_type": "code",
   "execution_count": null,
   "metadata": {},
   "outputs": [],
   "source": [
    "for column in data_frame.columns:\n",
    "    if column not in ['Gls','Ast']:\n",
    "     correlazione('Ast',column)"
   ]
  },
  {
   "cell_type": "markdown",
   "metadata": {},
   "source": [
    "Anche in questo caso si presenta anticorrelazione con i minuti giocati, infatti anche qui il range è interamente a valori negativi. Tutte le altre hanno intervallo con massimo e minimo positivi e quindi correlazione diretta."
   ]
  },
  {
   "cell_type": "markdown",
   "metadata": {},
   "source": [
    "Passando al valore assoluto la coppia con la correlazione più debole è Ast e Min nel 2021. Quella più forte ad 1 è Ast e Starts nel 2020."
   ]
  },
  {
   "cell_type": "markdown",
   "metadata": {},
   "source": [
    "2) STATISTICHE DI OPPOSIZIONE\n",
    "\n",
    "In questa parte ci occupiamo di analizzare le statistiche di opposizione, ovvero quelle che il riguardano il comportamento del giocatore quando è messo a confronto con un avversario. Analizzeremo dati come dribbling, contrasti e conduzioni palla. "
   ]
  },
  {
   "cell_type": "markdown",
   "metadata": {},
   "source": [
    "In questa parte son presenti statistiche sulla parte di campo in cui vengono registrati determinati dati. Le analizziamo separatamente in quanto vogliamo capire se c'è un impatto diverso legato all'area di campo in cui vengono registrati."
   ]
  },
  {
   "cell_type": "code",
   "execution_count": null,
   "metadata": {},
   "outputs": [],
   "source": [
    "correlations = []\n",
    "years = []\n",
    "\n",
    "colonne_da_eliminare = ['Player', 'Nation', 'Pos', 'Squad','Age', 'MP', 'Starts', 'Min', 'G+A', 'G-PK', 'PK',\n",
    "       'PKatt', 'CrdY', 'CrdR', 'xG', 'PrgP', 'PrgR', 'Sh', 'SoT', 'SoT%',\n",
    "       'G/Sh', 'G/SoT', 'Dist', 'FK', 'G-xG', 'Cmp', 'Att', 'Cmp%', 'xA', 'KP',\n",
    "       'PPA', 'CrsPA', 'SCA', 'GCA', 'Succ%','2CrdY', 'Off', 'Crs','Won%']\n",
    "\n",
    "for file in files:\n",
    "    \n",
    "    data_frame = pd.read_excel(file)\n",
    "    data_frame.drop(columns=colonne_da_eliminare, inplace=True) \n",
    "\n",
    "    corr_matrix = data_frame.corr()\n",
    "\n",
    "    year = year_mapping[file] \n",
    "    years.append(year)\n",
    "\n",
    "    fig = px.imshow(corr_matrix, title=f\"Matrice di Correlazione - Anno {year}\", zmin = -1, zmax = 1)\n",
    "    fig.show()\n",
    "print(f'Le colonne usate per questa analisi sono {list(data_frame.columns)}')"
   ]
  },
  {
   "cell_type": "markdown",
   "metadata": {},
   "source": [
    "Visivamente possiamo notare come in questo blocco di statistiche gli indici siano più alti rispetto a quello precedente, essendo la griglia composta da colori più caldi. Quindi ci aspettiamo che i range di correlazione siano tutti positivi."
   ]
  },
  {
   "cell_type": "code",
   "execution_count": null,
   "metadata": {},
   "outputs": [],
   "source": [
    "for column in ['Mid 3rd', 'Att 3rd', 'Mid 3rd.1', 'Att 3rd.1']:\n",
    "    correlazione('Gls',column)"
   ]
  },
  {
   "cell_type": "markdown",
   "metadata": {},
   "source": [
    "Le prime due coppie sono relative ai contrasti, nella parte centrale di campo e quella offensiva. La seconda invece tratta i dribbling, anche qui divisi in parte centrale e offensiva. Per entrambe le categorie notiamo che gli intervalli degli indici sono più elevati per la parte offensiva. Quindi possiamo concludere che la parte di campo in cui vengono fatti dribbling e contrasti ha effettivamente un impatto sui Gol."
   ]
  },
  {
   "cell_type": "code",
   "execution_count": null,
   "metadata": {},
   "outputs": [],
   "source": [
    "for column in ['Mid 3rd', 'Att 3rd', 'Mid 3rd.1', 'Att 3rd.1']:\n",
    "    correlazione('Ast',column)"
   ]
  },
  {
   "cell_type": "markdown",
   "metadata": {},
   "source": [
    "Vediamo che i risultati sono simili a prima quindi il discorso è il medesimo che per i gol. Realizzare dribbling e contrasti nella parte offensiva di campo ha un impatto maggiore sugli assist piuttosto che farli a centrocampo."
   ]
  },
  {
   "cell_type": "code",
   "execution_count": null,
   "metadata": {},
   "outputs": [],
   "source": [
    "for column in data_frame.columns:\n",
    "    if column not in ['Gls','Ast','Mid 3rd', 'Att 3rd', 'Mid 3rd.1', 'Att 3rd.1']:\n",
    "     correlazione('Gls',column)"
   ]
  },
  {
   "cell_type": "markdown",
   "metadata": {},
   "source": [
    "Vediamo che tutti i minimi sono positivi quindi siamo in presenza solamente di correlazioni dirette.\n",
    "La coppia con corelazione più debole è Gls e TklW nel 2020 . Quella più forte è Gls e Touches nel 2023."
   ]
  },
  {
   "cell_type": "code",
   "execution_count": null,
   "metadata": {},
   "outputs": [],
   "source": [
    "for column in data_frame.columns:\n",
    "    if column not in ['Gls','Ast','Mid 3rd', 'Att 3rd', 'Mid 3rd.1', 'Att 3rd.1']:\n",
    "     correlazione('Ast',column)"
   ]
  },
  {
   "cell_type": "markdown",
   "metadata": {},
   "source": [
    "Anche qui siamo solamente in presenza di correlazioni dirette. Rispetto ai gol si hanno correlazioni più forti, come in Carries che ha registrato la correlazione più forte con Ast nel 2021, ma anche alcune più deboli come quella di Won che ha registrato l'indice di correlazione con Ast più basso nel 2022."
   ]
  },
  {
   "cell_type": "markdown",
   "metadata": {},
   "source": [
    "3) STATISTICHE DI GIOCO\n",
    "\n",
    "In questa parte andiamo ad analizzare le statistiche di creazione offensiva, quelle relative ai passaggi ai tiri e alla creazione di chance da gol o di tiro"
   ]
  },
  {
   "cell_type": "code",
   "execution_count": null,
   "metadata": {},
   "outputs": [],
   "source": [
    "correlations = []\n",
    "years = []\n",
    "\n",
    "colonne_da_eliminare = ['Player', 'Nation', 'Pos', 'Squad','Age', 'MP', 'Starts', 'Min', 'G+A', 'G-PK', 'PK',\n",
    "       'PKatt', 'CrdY', 'CrdR', 'SoT%', 'xG', 'xA',\n",
    "       'G/Sh', 'G/SoT', 'FK', 'G-xG','Cmp%','Tkl', 'TklW', 'Mid 3rd', 'Att 3rd',\n",
    "       'Touches', 'Mid 3rd.1', 'Att 3rd.1', 'Att.1', 'Succ', 'Succ%',\n",
    "       'Carries', 'TotDist', '2CrdY', 'Fld', 'Won', 'Lost',\n",
    "       'Won%']\n",
    "\n",
    "for file in files:\n",
    "    \n",
    "    data_frame = pd.read_excel(file)\n",
    "    data_frame.drop(columns=colonne_da_eliminare, inplace=True) \n",
    "\n",
    "    corr_matrix = data_frame.corr()\n",
    "\n",
    "    year = year_mapping[file] \n",
    "    years.append(year)\n",
    "\n",
    "    fig = px.imshow(corr_matrix, title=f\"Matrice di Correlazione - Anno {year}\", zmin = -1, zmax = 1)\n",
    "    fig.show()\n",
    "    \n",
    "print(f'Le colonne usate per questa analisi sono {list(data_frame.columns)}')"
   ]
  },
  {
   "cell_type": "markdown",
   "metadata": {},
   "source": [
    "In queste matrici vediamo colori molto caldi, quindi ci aspettiamo solo correlazioni dirette. Ad eccezione per una colonna con correlazione molto debole vicinissima allo zero sia per Gol che per Assist relativa a Dist, ovvero la distanza media di tiro. Risultato prevedibile. Analizziamola a parte per dimostrare ciò che abbiamo appena detto."
   ]
  },
  {
   "cell_type": "code",
   "execution_count": null,
   "metadata": {},
   "outputs": [],
   "source": [
    "for column in ['Gls','Ast']:\n",
    "    correlazione('Dist',column)"
   ]
  },
  {
   "cell_type": "markdown",
   "metadata": {},
   "source": [
    "Fra Dist e Gol l'intervallo degli indici di correlazione è negativo siamo in presenza di anticorrelazione molto debole.\n",
    "Con gli Ast l'intervallo comprende valori negativi e positivi tutti vicini allo zero correlazione quindi, anche in questo caso, molto debole."
   ]
  },
  {
   "cell_type": "code",
   "execution_count": null,
   "metadata": {},
   "outputs": [],
   "source": [
    "for column in data_frame.columns:\n",
    "    if column not in ['Gls','Ast','Dist']:\n",
    "     correlazione('Gls',column)"
   ]
  },
  {
   "cell_type": "markdown",
   "metadata": {},
   "source": [
    "Come anticipato, siccome tutti i minimi sono positivi, siamo in presenza di correlazioni dirette più o meno forti. La più forte è Gls e SoT nel 2021, il range è interamente molto vicino all'uno quindi siamo in presenza di una correlazione molto forte. Al contrario la correlazione è con CrsPA registrato nel 2019."
   ]
  },
  {
   "cell_type": "code",
   "execution_count": null,
   "metadata": {},
   "outputs": [],
   "source": [
    "for column in data_frame.columns:\n",
    "    if column not in ['Gls','Ast','Dist']:\n",
    "     correlazione('Ast',column)"
   ]
  },
  {
   "cell_type": "markdown",
   "metadata": {},
   "source": [
    "Siamo in presenza di sole correlazioni dirette. Qua per gli assist la correlazione più forte è con GCA registrata nel 2021. Mentre la più debole è con Off registrato nel 2019."
   ]
  },
  {
   "cell_type": "markdown",
   "metadata": {},
   "source": [
    "4) GOL E ASSIST ATTESI\n",
    "\n",
    "In questa parte finale di analisi ci concentriamo sul concetto specifico di Gol ed Assist attesi"
   ]
  },
  {
   "cell_type": "markdown",
   "metadata": {},
   "source": [
    "I concetti di gol attesi (xG) e assist attesi (xA) sono metriche avanzate utilizzate nel calcio per misurare la qualità delle azioni da gol e degli assist, tenendo conto di fattori che influenzano la probabilità che si verifichi un gol o un assist. Il valore è compreso tra 0 e 1, dove un valore di 1 indica un evento che ha quasi certezza di verificarsi. mentre 0.1 rappresenta un tiro (ad esempio) molto difficile con poca probabilità di realizzazione.\n",
    "Nello specifico, xG prende in considerazione aspetti come:\n",
    "- Posizione del tiro: più vicino alla porta, più alta è la probabilità di segnare.\n",
    "- Angolo di tiro: tiri da angoli difficili (ad esempio, tiri da fuori area o angoli stretti) hanno una probabilità inferiore di andare in gol.\n",
    "- Posizione del portiere: se il portiere è fuori posizione o se c'è un errore difensivo, la probabilità di segnare aumenta.\n",
    "\n",
    "Come per l'xG, anche l'xA si basa su vari fattori che influenzano la probabilità di trasformare un passaggio in un gol, come:\n",
    "- Tipo di passaggio: passaggi facili da ricevere e controllare (come palloni rasoterra diretti) hanno una probabilità maggiore di diventare assist.\n",
    "- Distanza dal gol: passaggi effettuati vicino alla porta o da posizioni centrali hanno un xA più alto.\n",
    "- Posizione del ricevente: se il destinatario del passaggio è in una buona posizione per segnare, l'assist atteso sarà più alto."
   ]
  },
  {
   "cell_type": "code",
   "execution_count": null,
   "metadata": {},
   "outputs": [],
   "source": [
    "colonne_da_eliminare = ['Player', 'Nation', 'Pos', 'Squad','Age', 'MP', 'Starts', 'Min', 'G+A', 'G-PK', 'PK',\n",
    "       'PKatt', 'CrdY', 'CrdR', 'SoT%',\n",
    "       'G/Sh', 'G/SoT', 'FK', 'G-xG','Cmp%','Tkl', 'TklW', 'Mid 3rd', 'Att 3rd',\n",
    "       'Touches', 'Mid 3rd.1', 'Att 3rd.1', 'Att.1', 'Succ', 'Succ%',\n",
    "       'Carries', 'TotDist', '2CrdY', 'Fld','Won', 'Lost',\n",
    "       'Won%']"
   ]
  },
  {
   "cell_type": "code",
   "execution_count": null,
   "metadata": {},
   "outputs": [],
   "source": [
    "stat1 = 'Gls'\n",
    "stat2 = 'xG'\n",
    "correlazione(stat1,stat2)"
   ]
  },
  {
   "cell_type": "markdown",
   "metadata": {},
   "source": [
    "Come potevamo immaginarci dalla spiegazione precedente il range è estremamente vicino ad 1, quindi la correlazione è molto forte fra queste due statistiche. Il risultato è molto comprensibile in quanto dietro a questi dati ci sono studi molto profondi e complessi realizzati anche con l'aiuto di intelligenze artificiali e database pienissimi di dati di miliardi di giocatori presi in diverse annate."
   ]
  },
  {
   "cell_type": "code",
   "execution_count": null,
   "metadata": {},
   "outputs": [],
   "source": [
    "stat1 = 'Ast'\n",
    "stat2 = 'xA'\n",
    "correlazione(stat1,stat2)"
   ]
  },
  {
   "cell_type": "markdown",
   "metadata": {},
   "source": [
    "La correlazione anche in questo caso è forte. Lo è meno di quanto lo sono gli xG con i Gol in quanto per gli assist c'è la variabile relativa al compagno che può non riuscire a concretizzare un ottimo passaggio."
   ]
  },
  {
   "cell_type": "markdown",
   "metadata": {},
   "source": [
    "CONCLUSIONE\n",
    "\n",
    "La ricerca conferma la nostra tesi. Esistono statistiche che presentano correlazioni forti con Gol ed Assist. Inoltre per ogni coppia di statistiche la differenza fra il minimo ed il massimo valore che assume l'indice mostra una costanza nella correlazione delle statistiche nel corso delle stagioni."
   ]
  },
  {
   "cell_type": "markdown",
   "metadata": {},
   "source": [
    "RETI NEURALI\n",
    "\n",
    "Grazie all'analisi di correlazione abbiamo capito quali statistiche sono correlate con i dati di Gol ed Assist. Daremo quindi in input alla rete neurale quelle statistiche e chiederemo in output, appunto, Gol ed Assist.\n"
   ]
  },
  {
   "cell_type": "markdown",
   "metadata": {},
   "source": [
    "Nelle prossime celle andremo ad impostare la rete neurale, importando i file ed addestrandola con i file di input. \n",
    "Andiamo a fare prima i gol e nella cella seguente la rete per gli assist"
   ]
  },
  {
   "cell_type": "code",
   "execution_count": 47,
   "metadata": {},
   "outputs": [],
   "source": [
    "f1 = \"attaccanti_19.xlsx\"\n",
    "f2 = \"attaccanti_20.xlsx\"\n",
    "f3 = \"attaccanti_21.xlsx\"\n",
    "f4 = \"attaccanti_22.xlsx\"\n",
    "f5 = \"attaccanti_23.xlsx\"\n",
    "\n",
    "colonne_da_eliminare = ['Player', 'Nation', 'Pos', 'Squad','Ast','G+A', 'G-PK', 'PK','PKatt', 'CrdY', 'CrdR', 'SoT%','G/Sh',\n",
    "'G/SoT', 'FK', 'G-xG', 'Cmp%', 'Succ%','2CrdY', 'Won%']\n",
    "\n",
    "#correlazioni_annuali('Gls')  # scopriamo l'ordine di correlazione per l'anno che ci interessa\n",
    "colonne_ordinate = [\"Gls\", \"xG\", \"SoT\", \"Sh\", \"GCA\", \"Starts\", \"PrgR\", \"Att 3rd.1\", \"SCA\", \"Touches\", \"Mid 3rd.1\", \"Carries\", \"KP\", \"Att\",\n",
    "                     \"MP\", \"Cmp\", \"Fld\", \"xA\", \"PrgP\", \"Off\", \"TotDist\", \"Att.1\", \"PPA\", \"Att 3rd\", \"Succ\", \"Lost\", \"Won\", \n",
    "                     \"Tkl\", \"TklW\", \"Mid 3rd\", \"Crs\", \"CrsPA\", \"Age\", \"Dist\", \"Min\"]\n",
    "# Unisco i file Excel\n",
    "df1 = pd.read_excel(f1)\n",
    "df2 = pd.read_excel(f2).iloc[1:].reset_index(drop=True)\n",
    "df3 = pd.read_excel(f3).iloc[1:].reset_index(drop=True)\n",
    "df4 = pd.read_excel(f4).iloc[1:].reset_index(drop=True)\n",
    "df_unito = pd.concat([df1, df2, df3, df4], ignore_index=True)\n",
    "df_unito = df_unito[colonne_ordinate]\n",
    "\n",
    "df5 = pd.read_excel(f5)\n",
    "df5 = df5.drop(columns=colonne_da_eliminare, errors='ignore')\n",
    "df5 = df5[colonne_ordinate]"
   ]
  },
  {
   "cell_type": "code",
   "execution_count": 51,
   "metadata": {},
   "outputs": [
    {
     "name": "stdout",
     "output_type": "stream",
     "text": [
      "Training usando le prime 1 colonne.\n"
     ]
    },
    {
     "name": "stderr",
     "output_type": "stream",
     "text": [
      "c:\\Users\\aless\\miniconda3\\Lib\\site-packages\\keras\\src\\layers\\core\\dense.py:87: UserWarning:\n",
      "\n",
      "Do not pass an `input_shape`/`input_dim` argument to a layer. When using Sequential models, prefer using an `Input(shape)` object as the first layer in the model instead.\n",
      "\n"
     ]
    },
    {
     "name": "stdout",
     "output_type": "stream",
     "text": [
      "Errore Training (MSE): 28.777874738346547\n",
      "Errore Predizione (MSE): 17.239575230431367\n",
      "Training usando le prime 2 colonne.\n"
     ]
    },
    {
     "name": "stderr",
     "output_type": "stream",
     "text": [
      "c:\\Users\\aless\\miniconda3\\Lib\\site-packages\\keras\\src\\layers\\core\\dense.py:87: UserWarning:\n",
      "\n",
      "Do not pass an `input_shape`/`input_dim` argument to a layer. When using Sequential models, prefer using an `Input(shape)` object as the first layer in the model instead.\n",
      "\n"
     ]
    },
    {
     "name": "stdout",
     "output_type": "stream",
     "text": [
      "Errore Training (MSE): 29.088904299130522\n",
      "Errore Predizione (MSE): 17.44932910982062\n",
      "Training usando le prime 3 colonne.\n"
     ]
    },
    {
     "name": "stderr",
     "output_type": "stream",
     "text": [
      "c:\\Users\\aless\\miniconda3\\Lib\\site-packages\\keras\\src\\layers\\core\\dense.py:87: UserWarning:\n",
      "\n",
      "Do not pass an `input_shape`/`input_dim` argument to a layer. When using Sequential models, prefer using an `Input(shape)` object as the first layer in the model instead.\n",
      "\n"
     ]
    },
    {
     "name": "stdout",
     "output_type": "stream",
     "text": [
      "Errore Training (MSE): 29.71140500167937\n",
      "Errore Predizione (MSE): 17.883165675805216\n",
      "Training usando le prime 4 colonne.\n"
     ]
    },
    {
     "name": "stderr",
     "output_type": "stream",
     "text": [
      "c:\\Users\\aless\\miniconda3\\Lib\\site-packages\\keras\\src\\layers\\core\\dense.py:87: UserWarning:\n",
      "\n",
      "Do not pass an `input_shape`/`input_dim` argument to a layer. When using Sequential models, prefer using an `Input(shape)` object as the first layer in the model instead.\n",
      "\n"
     ]
    },
    {
     "name": "stdout",
     "output_type": "stream",
     "text": [
      "Errore Training (MSE): 29.558860521915992\n",
      "Errore Predizione (MSE): 17.775317259502746\n",
      "Training usando le prime 5 colonne.\n"
     ]
    },
    {
     "name": "stderr",
     "output_type": "stream",
     "text": [
      "c:\\Users\\aless\\miniconda3\\Lib\\site-packages\\keras\\src\\layers\\core\\dense.py:87: UserWarning:\n",
      "\n",
      "Do not pass an `input_shape`/`input_dim` argument to a layer. When using Sequential models, prefer using an `Input(shape)` object as the first layer in the model instead.\n",
      "\n"
     ]
    },
    {
     "name": "stdout",
     "output_type": "stream",
     "text": [
      "Errore Training (MSE): 29.642229457892252\n",
      "Errore Predizione (MSE): 17.834144641478648\n",
      "Training usando le prime 6 colonne.\n"
     ]
    },
    {
     "name": "stderr",
     "output_type": "stream",
     "text": [
      "c:\\Users\\aless\\miniconda3\\Lib\\site-packages\\keras\\src\\layers\\core\\dense.py:87: UserWarning:\n",
      "\n",
      "Do not pass an `input_shape`/`input_dim` argument to a layer. When using Sequential models, prefer using an `Input(shape)` object as the first layer in the model instead.\n",
      "\n"
     ]
    },
    {
     "name": "stdout",
     "output_type": "stream",
     "text": [
      "Errore Training (MSE): 29.343321338247943\n",
      "Errore Predizione (MSE): 17.624569148381692\n",
      "Training usando le prime 7 colonne.\n"
     ]
    },
    {
     "name": "stderr",
     "output_type": "stream",
     "text": [
      "c:\\Users\\aless\\miniconda3\\Lib\\site-packages\\keras\\src\\layers\\core\\dense.py:87: UserWarning:\n",
      "\n",
      "Do not pass an `input_shape`/`input_dim` argument to a layer. When using Sequential models, prefer using an `Input(shape)` object as the first layer in the model instead.\n",
      "\n"
     ]
    },
    {
     "name": "stdout",
     "output_type": "stream",
     "text": [
      "Errore Training (MSE): 28.430554274169797\n",
      "Errore Predizione (MSE): 17.012148960987147\n",
      "Training usando le prime 8 colonne.\n"
     ]
    },
    {
     "name": "stderr",
     "output_type": "stream",
     "text": [
      "c:\\Users\\aless\\miniconda3\\Lib\\site-packages\\keras\\src\\layers\\core\\dense.py:87: UserWarning:\n",
      "\n",
      "Do not pass an `input_shape`/`input_dim` argument to a layer. When using Sequential models, prefer using an `Input(shape)` object as the first layer in the model instead.\n",
      "\n"
     ]
    },
    {
     "name": "stdout",
     "output_type": "stream",
     "text": [
      "Errore Training (MSE): 28.866109012042163\n",
      "Errore Predizione (MSE): 17.298538543387025\n",
      "Training usando le prime 9 colonne.\n"
     ]
    },
    {
     "name": "stderr",
     "output_type": "stream",
     "text": [
      "c:\\Users\\aless\\miniconda3\\Lib\\site-packages\\keras\\src\\layers\\core\\dense.py:87: UserWarning:\n",
      "\n",
      "Do not pass an `input_shape`/`input_dim` argument to a layer. When using Sequential models, prefer using an `Input(shape)` object as the first layer in the model instead.\n",
      "\n"
     ]
    },
    {
     "name": "stdout",
     "output_type": "stream",
     "text": [
      "Errore Training (MSE): 27.097154732652925\n",
      "Errore Predizione (MSE): 16.244527600952505\n",
      "Training usando le prime 10 colonne.\n"
     ]
    },
    {
     "name": "stderr",
     "output_type": "stream",
     "text": [
      "c:\\Users\\aless\\miniconda3\\Lib\\site-packages\\keras\\src\\layers\\core\\dense.py:87: UserWarning:\n",
      "\n",
      "Do not pass an `input_shape`/`input_dim` argument to a layer. When using Sequential models, prefer using an `Input(shape)` object as the first layer in the model instead.\n",
      "\n"
     ]
    },
    {
     "name": "stdout",
     "output_type": "stream",
     "text": [
      "Errore Training (MSE): 31.668858119153867\n",
      "Errore Predizione (MSE): 19.332028261774642\n",
      "Training usando le prime 11 colonne.\n"
     ]
    },
    {
     "name": "stderr",
     "output_type": "stream",
     "text": [
      "c:\\Users\\aless\\miniconda3\\Lib\\site-packages\\keras\\src\\layers\\core\\dense.py:87: UserWarning:\n",
      "\n",
      "Do not pass an `input_shape`/`input_dim` argument to a layer. When using Sequential models, prefer using an `Input(shape)` object as the first layer in the model instead.\n",
      "\n"
     ]
    },
    {
     "name": "stdout",
     "output_type": "stream",
     "text": [
      "Errore Training (MSE): 29.7708126706945\n",
      "Errore Predizione (MSE): 17.92541171762659\n",
      "Training usando le prime 12 colonne.\n"
     ]
    },
    {
     "name": "stderr",
     "output_type": "stream",
     "text": [
      "c:\\Users\\aless\\miniconda3\\Lib\\site-packages\\keras\\src\\layers\\core\\dense.py:87: UserWarning:\n",
      "\n",
      "Do not pass an `input_shape`/`input_dim` argument to a layer. When using Sequential models, prefer using an `Input(shape)` object as the first layer in the model instead.\n",
      "\n"
     ]
    },
    {
     "name": "stdout",
     "output_type": "stream",
     "text": [
      "Errore Training (MSE): 28.505005052949034\n",
      "Errore Predizione (MSE): 17.06022885145405\n",
      "Training usando le prime 13 colonne.\n"
     ]
    },
    {
     "name": "stderr",
     "output_type": "stream",
     "text": [
      "c:\\Users\\aless\\miniconda3\\Lib\\site-packages\\keras\\src\\layers\\core\\dense.py:87: UserWarning:\n",
      "\n",
      "Do not pass an `input_shape`/`input_dim` argument to a layer. When using Sequential models, prefer using an `Input(shape)` object as the first layer in the model instead.\n",
      "\n"
     ]
    },
    {
     "name": "stdout",
     "output_type": "stream",
     "text": [
      "Errore Training (MSE): 28.082506641000688\n",
      "Errore Predizione (MSE): 16.792963290049997\n",
      "Training usando le prime 14 colonne.\n"
     ]
    },
    {
     "name": "stderr",
     "output_type": "stream",
     "text": [
      "c:\\Users\\aless\\miniconda3\\Lib\\site-packages\\keras\\src\\layers\\core\\dense.py:87: UserWarning:\n",
      "\n",
      "Do not pass an `input_shape`/`input_dim` argument to a layer. When using Sequential models, prefer using an `Input(shape)` object as the first layer in the model instead.\n",
      "\n"
     ]
    },
    {
     "name": "stdout",
     "output_type": "stream",
     "text": [
      "Errore Training (MSE): 28.580005035017173\n",
      "Errore Predizione (MSE): 17.10904732563422\n",
      "Training usando le prime 15 colonne.\n"
     ]
    },
    {
     "name": "stderr",
     "output_type": "stream",
     "text": [
      "c:\\Users\\aless\\miniconda3\\Lib\\site-packages\\keras\\src\\layers\\core\\dense.py:87: UserWarning:\n",
      "\n",
      "Do not pass an `input_shape`/`input_dim` argument to a layer. When using Sequential models, prefer using an `Input(shape)` object as the first layer in the model instead.\n",
      "\n"
     ]
    },
    {
     "name": "stdout",
     "output_type": "stream",
     "text": [
      "Errore Training (MSE): 28.9583402298375\n",
      "Errore Predizione (MSE): 17.36064054447665\n",
      "Training usando le prime 16 colonne.\n"
     ]
    },
    {
     "name": "stderr",
     "output_type": "stream",
     "text": [
      "c:\\Users\\aless\\miniconda3\\Lib\\site-packages\\keras\\src\\layers\\core\\dense.py:87: UserWarning:\n",
      "\n",
      "Do not pass an `input_shape`/`input_dim` argument to a layer. When using Sequential models, prefer using an `Input(shape)` object as the first layer in the model instead.\n",
      "\n"
     ]
    },
    {
     "name": "stdout",
     "output_type": "stream",
     "text": [
      "Errore Training (MSE): 28.961550585538163\n",
      "Errore Predizione (MSE): 17.362810516654502\n",
      "Training usando le prime 17 colonne.\n"
     ]
    },
    {
     "name": "stderr",
     "output_type": "stream",
     "text": [
      "c:\\Users\\aless\\miniconda3\\Lib\\site-packages\\keras\\src\\layers\\core\\dense.py:87: UserWarning:\n",
      "\n",
      "Do not pass an `input_shape`/`input_dim` argument to a layer. When using Sequential models, prefer using an `Input(shape)` object as the first layer in the model instead.\n",
      "\n"
     ]
    },
    {
     "name": "stdout",
     "output_type": "stream",
     "text": [
      "Errore Training (MSE): 28.690745081525005\n",
      "Errore Predizione (MSE): 17.18179980801157\n",
      "Training usando le prime 18 colonne.\n"
     ]
    },
    {
     "name": "stderr",
     "output_type": "stream",
     "text": [
      "c:\\Users\\aless\\miniconda3\\Lib\\site-packages\\keras\\src\\layers\\core\\dense.py:87: UserWarning:\n",
      "\n",
      "Do not pass an `input_shape`/`input_dim` argument to a layer. When using Sequential models, prefer using an `Input(shape)` object as the first layer in the model instead.\n",
      "\n"
     ]
    },
    {
     "name": "stdout",
     "output_type": "stream",
     "text": [
      "Errore Training (MSE): 28.038720558202133\n",
      "Errore Predizione (MSE): 16.766108623064078\n",
      "Training usando le prime 19 colonne.\n"
     ]
    },
    {
     "name": "stderr",
     "output_type": "stream",
     "text": [
      "c:\\Users\\aless\\miniconda3\\Lib\\site-packages\\keras\\src\\layers\\core\\dense.py:87: UserWarning:\n",
      "\n",
      "Do not pass an `input_shape`/`input_dim` argument to a layer. When using Sequential models, prefer using an `Input(shape)` object as the first layer in the model instead.\n",
      "\n"
     ]
    },
    {
     "name": "stdout",
     "output_type": "stream",
     "text": [
      "Errore Training (MSE): 28.554876046351954\n",
      "Errore Predizione (MSE): 17.092648640220006\n",
      "Training usando le prime 20 colonne.\n"
     ]
    },
    {
     "name": "stderr",
     "output_type": "stream",
     "text": [
      "c:\\Users\\aless\\miniconda3\\Lib\\site-packages\\keras\\src\\layers\\core\\dense.py:87: UserWarning:\n",
      "\n",
      "Do not pass an `input_shape`/`input_dim` argument to a layer. When using Sequential models, prefer using an `Input(shape)` object as the first layer in the model instead.\n",
      "\n"
     ]
    },
    {
     "name": "stdout",
     "output_type": "stream",
     "text": [
      "Errore Training (MSE): 28.234324127127593\n",
      "Errore Predizione (MSE): 16.887375137243186\n",
      "Training usando le prime 21 colonne.\n"
     ]
    },
    {
     "name": "stderr",
     "output_type": "stream",
     "text": [
      "c:\\Users\\aless\\miniconda3\\Lib\\site-packages\\keras\\src\\layers\\core\\dense.py:87: UserWarning:\n",
      "\n",
      "Do not pass an `input_shape`/`input_dim` argument to a layer. When using Sequential models, prefer using an `Input(shape)` object as the first layer in the model instead.\n",
      "\n"
     ]
    },
    {
     "name": "stdout",
     "output_type": "stream",
     "text": [
      "Errore Training (MSE): 28.597900848522507\n",
      "Errore Predizione (MSE): 17.120751070824507\n",
      "Training usando le prime 22 colonne.\n"
     ]
    },
    {
     "name": "stderr",
     "output_type": "stream",
     "text": [
      "c:\\Users\\aless\\miniconda3\\Lib\\site-packages\\keras\\src\\layers\\core\\dense.py:87: UserWarning:\n",
      "\n",
      "Do not pass an `input_shape`/`input_dim` argument to a layer. When using Sequential models, prefer using an `Input(shape)` object as the first layer in the model instead.\n",
      "\n"
     ]
    },
    {
     "name": "stdout",
     "output_type": "stream",
     "text": [
      "Errore Training (MSE): 29.330592919830764\n",
      "Errore Predizione (MSE): 17.615730147219008\n",
      "Training usando le prime 23 colonne.\n"
     ]
    },
    {
     "name": "stderr",
     "output_type": "stream",
     "text": [
      "c:\\Users\\aless\\miniconda3\\Lib\\site-packages\\keras\\src\\layers\\core\\dense.py:87: UserWarning:\n",
      "\n",
      "Do not pass an `input_shape`/`input_dim` argument to a layer. When using Sequential models, prefer using an `Input(shape)` object as the first layer in the model instead.\n",
      "\n"
     ]
    },
    {
     "name": "stdout",
     "output_type": "stream",
     "text": [
      "Errore Training (MSE): 28.02942170719162\n",
      "Errore Predizione (MSE): 16.760428146970213\n",
      "Training usando le prime 24 colonne.\n"
     ]
    },
    {
     "name": "stderr",
     "output_type": "stream",
     "text": [
      "c:\\Users\\aless\\miniconda3\\Lib\\site-packages\\keras\\src\\layers\\core\\dense.py:87: UserWarning:\n",
      "\n",
      "Do not pass an `input_shape`/`input_dim` argument to a layer. When using Sequential models, prefer using an `Input(shape)` object as the first layer in the model instead.\n",
      "\n"
     ]
    },
    {
     "name": "stdout",
     "output_type": "stream",
     "text": [
      "Errore Training (MSE): 27.787674843672544\n",
      "Errore Predizione (MSE): 16.615745600869936\n",
      "Training usando le prime 25 colonne.\n"
     ]
    },
    {
     "name": "stderr",
     "output_type": "stream",
     "text": [
      "c:\\Users\\aless\\miniconda3\\Lib\\site-packages\\keras\\src\\layers\\core\\dense.py:87: UserWarning:\n",
      "\n",
      "Do not pass an `input_shape`/`input_dim` argument to a layer. When using Sequential models, prefer using an `Input(shape)` object as the first layer in the model instead.\n",
      "\n"
     ]
    },
    {
     "name": "stdout",
     "output_type": "stream",
     "text": [
      "Errore Training (MSE): 29.090085150345185\n",
      "Errore Predizione (MSE): 17.450135229557276\n",
      "Training usando le prime 26 colonne.\n"
     ]
    },
    {
     "name": "stderr",
     "output_type": "stream",
     "text": [
      "c:\\Users\\aless\\miniconda3\\Lib\\site-packages\\keras\\src\\layers\\core\\dense.py:87: UserWarning:\n",
      "\n",
      "Do not pass an `input_shape`/`input_dim` argument to a layer. When using Sequential models, prefer using an `Input(shape)` object as the first layer in the model instead.\n",
      "\n"
     ]
    },
    {
     "name": "stdout",
     "output_type": "stream",
     "text": [
      "Errore Training (MSE): 27.483465443094477\n",
      "Errore Predizione (MSE): 16.44320582804935\n",
      "Training usando le prime 27 colonne.\n"
     ]
    },
    {
     "name": "stderr",
     "output_type": "stream",
     "text": [
      "c:\\Users\\aless\\miniconda3\\Lib\\site-packages\\keras\\src\\layers\\core\\dense.py:87: UserWarning:\n",
      "\n",
      "Do not pass an `input_shape`/`input_dim` argument to a layer. When using Sequential models, prefer using an `Input(shape)` object as the first layer in the model instead.\n",
      "\n"
     ]
    },
    {
     "name": "stdout",
     "output_type": "stream",
     "text": [
      "Errore Training (MSE): 27.798377443263302\n",
      "Errore Predizione (MSE): 16.622021265150646\n",
      "Training usando le prime 28 colonne.\n"
     ]
    },
    {
     "name": "stderr",
     "output_type": "stream",
     "text": [
      "c:\\Users\\aless\\miniconda3\\Lib\\site-packages\\keras\\src\\layers\\core\\dense.py:87: UserWarning:\n",
      "\n",
      "Do not pass an `input_shape`/`input_dim` argument to a layer. When using Sequential models, prefer using an `Input(shape)` object as the first layer in the model instead.\n",
      "\n"
     ]
    },
    {
     "name": "stdout",
     "output_type": "stream",
     "text": [
      "Errore Training (MSE): 31.204862630568847\n",
      "Errore Predizione (MSE): 18.97952747600818\n",
      "Training usando le prime 29 colonne.\n"
     ]
    },
    {
     "name": "stderr",
     "output_type": "stream",
     "text": [
      "c:\\Users\\aless\\miniconda3\\Lib\\site-packages\\keras\\src\\layers\\core\\dense.py:87: UserWarning:\n",
      "\n",
      "Do not pass an `input_shape`/`input_dim` argument to a layer. When using Sequential models, prefer using an `Input(shape)` object as the first layer in the model instead.\n",
      "\n"
     ]
    },
    {
     "name": "stdout",
     "output_type": "stream",
     "text": [
      "Errore Training (MSE): 28.309690551654263\n",
      "Errore Predizione (MSE): 16.93494911146354\n",
      "Training usando le prime 30 colonne.\n"
     ]
    },
    {
     "name": "stderr",
     "output_type": "stream",
     "text": [
      "c:\\Users\\aless\\miniconda3\\Lib\\site-packages\\keras\\src\\layers\\core\\dense.py:87: UserWarning:\n",
      "\n",
      "Do not pass an `input_shape`/`input_dim` argument to a layer. When using Sequential models, prefer using an `Input(shape)` object as the first layer in the model instead.\n",
      "\n"
     ]
    },
    {
     "name": "stdout",
     "output_type": "stream",
     "text": [
      "Errore Training (MSE): 28.216856244082727\n",
      "Errore Predizione (MSE): 16.8764136134304\n",
      "Training usando le prime 31 colonne.\n"
     ]
    },
    {
     "name": "stderr",
     "output_type": "stream",
     "text": [
      "c:\\Users\\aless\\miniconda3\\Lib\\site-packages\\keras\\src\\layers\\core\\dense.py:87: UserWarning:\n",
      "\n",
      "Do not pass an `input_shape`/`input_dim` argument to a layer. When using Sequential models, prefer using an `Input(shape)` object as the first layer in the model instead.\n",
      "\n"
     ]
    },
    {
     "name": "stdout",
     "output_type": "stream",
     "text": [
      "Errore Training (MSE): 29.413097632809464\n",
      "Errore Predizione (MSE): 17.67315189308343\n",
      "Training usando le prime 32 colonne.\n"
     ]
    },
    {
     "name": "stderr",
     "output_type": "stream",
     "text": [
      "c:\\Users\\aless\\miniconda3\\Lib\\site-packages\\keras\\src\\layers\\core\\dense.py:87: UserWarning:\n",
      "\n",
      "Do not pass an `input_shape`/`input_dim` argument to a layer. When using Sequential models, prefer using an `Input(shape)` object as the first layer in the model instead.\n",
      "\n"
     ]
    },
    {
     "name": "stdout",
     "output_type": "stream",
     "text": [
      "Errore Training (MSE): 28.150545917115828\n",
      "Errore Predizione (MSE): 16.835032197303487\n",
      "Training usando le prime 33 colonne.\n"
     ]
    },
    {
     "name": "stderr",
     "output_type": "stream",
     "text": [
      "c:\\Users\\aless\\miniconda3\\Lib\\site-packages\\keras\\src\\layers\\core\\dense.py:87: UserWarning:\n",
      "\n",
      "Do not pass an `input_shape`/`input_dim` argument to a layer. When using Sequential models, prefer using an `Input(shape)` object as the first layer in the model instead.\n",
      "\n"
     ]
    },
    {
     "name": "stdout",
     "output_type": "stream",
     "text": [
      "Errore Training (MSE): 28.54070241004155\n",
      "Errore Predizione (MSE): 17.083417698673248\n",
      "Training usando le prime 34 colonne.\n"
     ]
    },
    {
     "name": "stderr",
     "output_type": "stream",
     "text": [
      "c:\\Users\\aless\\miniconda3\\Lib\\site-packages\\keras\\src\\layers\\core\\dense.py:87: UserWarning:\n",
      "\n",
      "Do not pass an `input_shape`/`input_dim` argument to a layer. When using Sequential models, prefer using an `Input(shape)` object as the first layer in the model instead.\n",
      "\n"
     ]
    },
    {
     "name": "stdout",
     "output_type": "stream",
     "text": [
      "Errore Training (MSE): 28.95553246395481\n",
      "Errore Predizione (MSE): 17.3587431477545\n",
      "Training usando le prime 35 colonne.\n"
     ]
    },
    {
     "name": "stderr",
     "output_type": "stream",
     "text": [
      "c:\\Users\\aless\\miniconda3\\Lib\\site-packages\\keras\\src\\layers\\core\\dense.py:87: UserWarning:\n",
      "\n",
      "Do not pass an `input_shape`/`input_dim` argument to a layer. When using Sequential models, prefer using an `Input(shape)` object as the first layer in the model instead.\n",
      "\n"
     ]
    },
    {
     "name": "stdout",
     "output_type": "stream",
     "text": [
      "Errore Training (MSE): 27.61131196007868\n",
      "Errore Predizione (MSE): 16.514267229192445\n"
     ]
    },
    {
     "data": {
      "image/png": "[encoded data removed]",
      "text/plain": [
       "<Figure size 1000x600 with 1 Axes>"
      ]
     },
     "metadata": {},
     "output_type": "display_data"
    }
   ],
   "source": [
    "# Pre-elaborazione\n",
    "scaler = StandardScaler()\n",
    "\n",
    "# Variabili per risultati complessivi\n",
    "\n",
    "risultati = []\n",
    "errori_training = []\n",
    "errori_predizione = []\n",
    "num_colonne_usate = []\n",
    "# Loop su colonne per il training\n",
    "for num_col in range(1, df_unito.shape[1] + 1):  # Da 5 colonne in poi    \n",
    "    print(f\"Training usando le prime {num_col} colonne.\")\n",
    "        # Separa input e output\n",
    "    X = df_unito.iloc[:, 1:]  # Colonne di input (da 2 alla num_col)    \n",
    "    y = df_unito.iloc[:, :1]        # Le prime due colonne come output (Gls, Ast)\n",
    "        # Normalizza le colonne di input\n",
    "    X_scaled = scaler.fit_transform(X)    \n",
    "    # Prepara i dati per il training    \n",
    "    X_train, y_train = X_scaled, y\n",
    "        # Costruzione della rete neurale\n",
    "    model = tf.keras.Sequential([tf.keras.layers.Dense(64, activation='relu', input_shape=(X_train.shape[1],)),\n",
    "        tf.keras.layers.Dense(64, activation='relu'), tf.keras.layers.Dense(y_train.shape[1])\n",
    "    ])    \n",
    "    # Compilazione del modello\n",
    "    model.compile(optimizer='adam', loss='mean_squared_error')    \n",
    "    # Addestramento del modello    \n",
    "    history = model.fit(X_train, y_train, epochs=10, batch_size=32, validation_split=0.2, verbose=0)\n",
    "        # Calcola l'errore sui dati di training\n",
    "    training_predictions = model.predict(X_train, verbose=0)   \n",
    "    mse_training = mean_squared_error(y_train, training_predictions)\n",
    "    errori_training.append(mse_training)    \n",
    "    # Carica e pre-processa i dati nuovi    \n",
    "    X_new = df5[X.columns]\n",
    "    X_new_scaled = scaler.transform(X_new)    \n",
    "    # Usa il modello per fare previsioni    \n",
    "    y_pred = model.predict(X_new_scaled, verbose=0)\n",
    "        # Imposta a 0 tutti i valori predetti che sono minori di 0\n",
    "    y_pred = np.clip(y_pred, 0, None)    \n",
    "    # Calcola l'errore sui dati di predizione    \n",
    "    y_actual = df5['Gls'].values  # Goal e assist effettivi\n",
    "    mse_prediction = mean_squared_error(y_actual, y_pred)    \n",
    "    errori_predizione.append(mse_prediction)\n",
    "        # Salva il numero di colonne utilizzate\n",
    "    num_colonne_usate.append(num_col)    \n",
    "    # Aggiungi le previsioni al DataFrame    \n",
    "    df_new = df5.copy()\n",
    "    df_new['Pred_Gls'] = y_pred[:, 0]\n",
    "        # Calcola le somme\n",
    "    somma_goal_Attesi = df_new['Pred_Gls'].sum()    \n",
    "    somma_goal_effettiva = df_new['Gls'].sum()    \n",
    "    # Stampa i risultati per ogni configurazione    print(f\"Con {num_col} colonne:\")\n",
    "    print(f\"Errore Training (MSE): {mse_training}\")    \n",
    "    print(f\"Errore Predizione (MSE): {mse_prediction}\")\n",
    "# Plot degli errori\n",
    "plt.figure(figsize=(10, 6))\n",
    "plt.plot(num_colonne_usate, errori_training, label='Errore Training', marker='o')\n",
    "plt.plot(num_colonne_usate, errori_predizione, label='Errore Predizione', marker='s')\n",
    "plt.xlabel('Numero di Colonne Utilizzate')\n",
    "plt.ylabel('Errore Medio Quadratico (MSE)')\n",
    "plt.title('Andamento degli Errori in base al Numero di Colonne Utilizzate')\n",
    "plt.legend()\n",
    "plt.grid(True)\n",
    "plt.show()"
   ]
  },
  {
   "cell_type": "code",
   "execution_count": null,
   "metadata": {},
   "outputs": [],
   "source": [
    "# Calcola separatamente la somma delle previsioni per Gls e Ast\n",
    "somma_goal_attesi = df_new['Pred_Gls'].sum()\n",
    "somma_assist_attesi = df_new['Pred_Ast'].sum()\n",
    "\n",
    "# Calcola separatamente la somma effettiva dei goal e assist nei dati originali\n",
    "somma_goal = df_new['Gls'].sum()\n",
    "somma_assist = df_new['Ast'].sum()\n",
    "# Risultati dei gol\n",
    "print(f\"La somma dei goal effettivi è {somma_goal}\")\n",
    "print(f\"La somma dei goal ottenuti dalla rete neurale è {somma_goal_attesi}\")\n",
    "\n",
    "# Risultati degli assist\n",
    "\n",
    "print(f\"La somma degli assist effettivi è {somma_assist}\")\n",
    "print(f\"La somma degli assist ottenuti dalla rete neurale è {somma_assist_attesi}\")\n"
   ]
  },
  {
   "cell_type": "code",
   "execution_count": null,
   "metadata": {},
   "outputs": [],
   "source": [
    "# Errore\n",
    "\n",
    "diff_gol = abs(somma_goal - somma_goal_attesi)\n",
    "diff_ast = abs(somma_assist - somma_assist_attesi)\n",
    "\n",
    "# Trovo l'errore medio dividendo per il numero di giocatori \n",
    "\n",
    "avg_err_gol = diff_gol/194  \n",
    "avg_err_ast = diff_ast/194\n",
    "\n",
    "print(f\"La differenza fra la somma effettiva e quella della rete neurale è di {diff_gol} Gol\")\n",
    "print(f\"La differenza fra la somma effettiva e quella della rete neurale è di {diff_ast} Assist\")\n",
    "print(f\"L'errore medio per i gol è {avg_err_gol} per giocatore\")\n",
    "print(f\"L'errore medio per gli assist è {avg_err_ast} per giocatore\")"
   ]
  },
  {
   "cell_type": "markdown",
   "metadata": {},
   "source": [
    "\n",
    "Aumentando il numero delle epoche ovviamente la differenza fra la previsione della rete neurale e la somma effettiva delle statistiche richieste si assottiglia notevolmente. Il processo richiede più tempo ma restituisce risultati più precisi."
   ]
  }
 ],
 "metadata": {
  "kernelspec": {
   "display_name": "base",
   "language": "python",
   "name": "python3"
  },
  "language_info": {
   "codemirror_mode": {
    "name": "ipython",
    "version": 3
   },
   "file_extension": ".py",
   "mimetype": "text/x-python",
   "name": "python",
   "nbconvert_exporter": "python",
   "pygments_lexer": "ipython3",
   "version": "3.12.2"
  }
 },
 "nbformat": 4,
 "nbformat_minor": 2
}
