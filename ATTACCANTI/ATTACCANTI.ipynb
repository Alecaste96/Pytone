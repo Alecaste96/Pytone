{
 "cells": [
  {
   "cell_type": "markdown",
   "metadata": {},
   "source": [
    "In questa parte ci occupiamo della parte 'demografica' della Serie A. Adremo ad analizzare come son distribuite le età, le nazionalità ed i minuti giocati, per gli attaccanti. "
   ]
  },
  {
   "cell_type": "code",
   "execution_count": null,
   "metadata": {},
   "outputs": [],
   "source": [
    "import pandas as pd\n",
    "import matplotlib.pyplot as plt\n",
    "import plotly.express as px\n",
    "import plotly.graph_objects as go\n",
    "import numpy as np\n",
    "import scipy.stats as stats\n",
    "import tensorflow as tf\n",
    "from scipy.interpolate import make_interp_spline\n",
    "from sklearn.preprocessing import StandardScaler\n",
    "from sklearn.model_selection import train_test_split\n",
    "\n",
    "pd.set_option('display.max_columns', None)\n",
    "\n",
    "# Elenco dei file da leggere\n",
    "files = ['attaccanti_23.xlsx', 'attaccanti_22.xlsx', 'attaccanti_21.xlsx', 'attaccanti_20.xlsx', 'attaccanti_19.xlsx']\n",
    "\n",
    "# Faccio un dizionario per mappare i file agli anni\n",
    "year_mapping= {'attaccanti_23.xlsx': 2023,'attaccanti_22.xlsx': 2022,'attaccanti_21.xlsx': 2021,'attaccanti_20.xlsx': 2020,\n",
    "                'attaccanti_19.xlsx': 2019}"
   ]
  },
  {
   "cell_type": "markdown",
   "metadata": {},
   "source": [
    "Dopo aver importato i file necessari andiamo ad analizzare come sono variate le età nei 5 anni analizzati, visualizziamo il tutto con un diagramma a torta."
   ]
  },
  {
   "cell_type": "code",
   "execution_count": null,
   "metadata": {},
   "outputs": [],
   "source": [
    "# Definisci le fasce di età e le etichette\n",
    "bins = [15, 20, 25, 30, 35, 40]\n",
    "labels = ['15-20', '21-25', '26-30', '31-35', '36-40']\n",
    "\n",
    "# Dizionario per conservare i conteggi annuali per ciascuna fascia d'età\n",
    "fasce_eta_conti = {label: [] for label in labels}\n",
    "medie_totali_annuali = []\n",
    "deviazioni_annuali = []  # Nuova lista per memorizzare le deviazioni standard\n",
    "\n",
    "# Ciclo sui file per calcolare la numerosità per ciascuna fascia, la media totale e la deviazione standard\n",
    "for file in files:\n",
    "    data = pd.read_excel(file)\n",
    "    eta = data['Age']\n",
    "    \n",
    "    # Categorizza le età nelle fasce specificate\n",
    "    eta_bins = pd.cut(eta, bins=bins, labels=labels, right=True, include_lowest=True)\n",
    "    \n",
    "    # Conta il numero di giocatori per ciascuna fascia di età e salva nel dizionario\n",
    "    for label in labels:\n",
    "        conteggio_eta_fascia = (eta_bins == label).sum()\n",
    "        fasce_eta_conti[label].append(conteggio_eta_fascia)\n",
    "    \n",
    "    # Calcola la media e la deviazione standard dell'età per l'anno\n",
    "    media_eta_totale = eta.mean()\n",
    "    deviazione_eta_totale = eta.std(ddof=1)  # ddof=1 per deviazione standard campionaria\n",
    "    \n",
    "    # Aggiungi i valori alla lista\n",
    "    medie_totali_annuali.append(media_eta_totale)\n",
    "    deviazioni_annuali.append(deviazione_eta_totale)\n",
    "\n",
    "# Numero di anni considerati\n",
    "anni = ['2019', '2020', '2021', '2022', '2023']\n",
    "\n",
    "# Creazione del grafico a barre (numerosità per fascia di età e anno)\n",
    "fig, ax = plt.subplots(figsize=(10, 8))\n",
    "bar_width = 0.8\n",
    "mini_bar_width = bar_width / len(anni)\n",
    "x_pos = np.arange(len(labels))\n",
    "\n",
    "for i, anno in enumerate(anni):\n",
    "    conti_annuali = [fasce_eta_conti[label][i] for label in labels]\n",
    "    offset = (i - (len(anni) - 1) / 2) * mini_bar_width\n",
    "    ax.bar(x_pos + offset, conti_annuali, mini_bar_width, label=anno)\n",
    "\n",
    "ax.set_xlabel('Fascia di Età')\n",
    "ax.set_ylabel('Numero di Giocatori')\n",
    "ax.set_title('Numero di Attaccanti per Fascia di Età e Anno')\n",
    "ax.set_xticks(x_pos)\n",
    "ax.set_xticklabels(labels)\n",
    "ax.legend(title='Anno')\n",
    "\n",
    "max_y = max(max(conti_annuali) for conti_annuali in fasce_eta_conti.values())\n",
    "ax.set_yticks(np.arange(0, max_y + 5, 5))\n",
    "\n",
    "plt.show()\n",
    "\n",
    "# Creazione 2 grafico\n",
    "fig, ax = plt.subplots(figsize=(10, 6))\n",
    "\n",
    "# Traccia l'andamento delle medie totali annuali\n",
    "ax.plot(anni, medie_totali_annuali, marker='o', color='k', label='Media Totale')\n",
    "\n",
    "# Aggiungi le deviazioni standard come barre di errore\n",
    "ax.errorbar(anni, medie_totali_annuali, yerr=deviazioni_annuali, fmt='o', color='k', label='Deviazione Standard')\n",
    "\n",
    "ax.set_xlabel('Anno')\n",
    "ax.set_ylabel('Media Età')\n",
    "ax.set_title(\"Andamento della Media Totale dell'Età dal 2019 al 2023\")\n",
    "\n",
    "ax.set_ylim(15,40)\n",
    "ax.set_yticks(np.arange(15,40,1))\n",
    "\n",
    "ax.grid(True)\n",
    "ax.legend()\n",
    "\n",
    "plt.show()"
   ]
  },
  {
   "cell_type": "markdown",
   "metadata": {},
   "source": [
    "Passiamo ora all'analisi delle nazionalità. Vediamo quali sono le nazionalità più presenti in Serie A."
   ]
  },
  {
   "cell_type": "code",
   "execution_count": null,
   "metadata": {},
   "outputs": [],
   "source": [
    "# Ciclo sui file per generare i grafici\n",
    "for file in files:\n",
    "\n",
    "    data = pd.read_excel(file)\n",
    "     \n",
    "    nazionalita = data['Nation']   #istogramma nazionalità\n",
    "\n",
    "    # Conta il numero di calciatori per ciascuna nazionalità\n",
    "    nazionalita_counts = nazionalita.value_counts()\n",
    "\n",
    "    # Crea l'istogramma\n",
    "    fig, ax = plt.subplots(figsize=(10, 6))\n",
    "    nazionalita_counts.plot(kind='bar', ax=ax, color='skyblue')\n",
    "\n",
    "    # Aggiungi i titoli e le etichette\n",
    "    ax.set_title(f'Distribuzione delle Nazionalità degli attaccanti Anno: {year_mapping[file]}')\n",
    "    ax.set_xlabel('Nazionalità')\n",
    "    ax.set_ylabel('Numero di calciatori')\n",
    "\n",
    "    # Ruota le etichette sull'asse x per una migliore leggibilità\n",
    "    plt.xticks(rotation=45, ha='right')\n",
    "\n",
    "    # Mostra il grafico\n",
    "    plt.tight_layout()\n",
    "    plt.show()"
   ]
  },
  {
   "cell_type": "code",
   "execution_count": null,
   "metadata": {},
   "outputs": [],
   "source": [
    "for file in files:\n",
    " data = pd.read_excel(file)\n",
    "\n",
    " # Estrai i dati rilevanti (calciatori e valori nella settima colonna)\n",
    " calciatori = data['Player']  # Assume che i nomi dei calciatori siano nella prima colonna\n",
    " valori = data['MP']      # Settima colonna partendo da sinistra\n",
    "\n",
    " filtrato = valori > 20\n",
    " calciatori_filtrati = calciatori[filtrato]\n",
    " valori_filtrati = valori[filtrato]\n",
    "\n",
    " # Crea un istogramma\n",
    " plt.figure(figsize=(12, 8))\n",
    " plt.bar(calciatori_filtrati, valori_filtrati, color='skyblue', edgecolor='black')\n",
    "\n",
    " # Ottimizza il layout\n",
    " plt.xlabel('Calciatori', fontsize=14)\n",
    " plt.ylabel('Valori', fontsize=14)\n",
    " plt.title(f\"Minuti giocati dai Calciatori divisi per 90' Anno: {year_mapping[file]}\")\n",
    " plt.xticks(rotation=45, ha='right', fontsize=10)\n",
    " plt.yticks(fontsize=12)\n",
    "\n",
    " # Aggiungi una curva di fit\n",
    " x = np.arange(len(calciatori_filtrati))  # Converti l'indice dei calciatori filtrati in numerico\n",
    " spl = make_interp_spline(x, valori_filtrati, k=3)  # Fit con spline\n",
    " x_smooth = np.linspace(x.min(), x.max(), 500)  # Genera un range di valori lisciato\n",
    " y_smooth = spl(x_smooth)\n",
    "\n",
    " plt.plot(x_smooth, y_smooth, color='red', linewidth=2, label='Fit Curva')\n",
    "\n",
    " plt.tight_layout()\n",
    " plt.legend()\n",
    " plt.show()\n",
    "\n",
    " media_valori_filtrati = valori_filtrati.mean()\n",
    "\n",
    " # Mostra il risultato\n",
    " print(f\"La media per l'Anno {year_mapping[file]} è:{media_valori_filtrati}\")"
   ]
  },
  {
   "cell_type": "markdown",
   "metadata": {},
   "source": [
    "Aggiungiamo una cella di codice che stampa gli istogrammi di tutte le statistiche di tutti 5 gli anni. In modo da poterli \n",
    "analizzare singolarmente in seguito, senza appesantire il codice con tutti i grafici."
   ]
  },
  {
   "cell_type": "code",
   "execution_count": null,
   "metadata": {},
   "outputs": [],
   "source": [
    "for file in files:\n",
    " data = pd.read_excel(file)\n",
    "\n",
    "# Selezionare solo le colonne numeriche\n",
    "numeric_data = data.select_dtypes(include=[np.number])\n",
    "\n",
    "# Funzione per calcolare il numero di bin con la regola di Freedman-Diaconis\n",
    "def freedman_diaconis_bins(data):\n",
    "    q25, q75 = np.percentile(data, [25, 75])\n",
    "    iqr = q75 - q25\n",
    "    if iqr == 0:  # Evitare divisioni per zero\n",
    "        return 20  # Numero di bin di default in caso di IQR nullo\n",
    "    bin_width = 2 * iqr / (len(data) ** (1 / 3))\n",
    "    if bin_width == 0:\n",
    "        return 5  # Numero di bin di default in caso di width troppo piccolo\n",
    "    return int(np.ceil((data.max() - data.min()) / bin_width))\n",
    "\n",
    "# Creare istogrammi per ogni colonna numerica con controllo su variazioni minime\n",
    "for column in numeric_data.columns:\n",
    "    col_data = numeric_data[column].dropna()  # Rimuovi eventuali valori NaN\n",
    "    if col_data.empty or col_data.max() == col_data.min():\n",
    "        continue\n",
    "    \n",
    "    # Calcolare il numero di bin con la regola di Freedman-Diaconis\n",
    "    bins = freedman_diaconis_bins(col_data)\n",
    "    \n",
    "    # Creare l'istogramma\n",
    "    plt.figure(figsize=(10, 6))\n",
    "    plt.hist(col_data, bins=bins, density=False, color='k', edgecolor = 'r', label='Dati')\n",
    "\n",
    "    # Titolo e etichette\n",
    "    plt.title(f'Istogramma della colonna: {column}')\n",
    "    plt.xlabel(f'{column}')\n",
    "    plt.ylabel('Numero di giocatori')\n",
    "\n",
    "    # Printa tutti gli istogrammi, commentare le righe sotto per evitare\n",
    "    plt.show()\n",
    "    media = col_data.mean()\n",
    "    print(f\"La media di {column} per l'anno {year_mapping[file]} è: {media:.2f}\")"
   ]
  },
  {
   "cell_type": "markdown",
   "metadata": {},
   "source": [
    "Creiamo una funzione che, dati in input la statistica e l'anno desiderato, restituisce l'istogramma di quella statistica\n",
    "relativa a quell'anno"
   ]
  },
  {
   "cell_type": "code",
   "execution_count": null,
   "metadata": {},
   "outputs": [],
   "source": [
    "def istogramma(statistica, anno):\n",
    "    # Verifica che l'anno esista nel mapping\n",
    "    if anno not in year_mapping:\n",
    "        print(f\"L'anno {anno} non è valido. Gli anni disponibili sono: {list(year_mapping.keys())}\")\n",
    "        return\n",
    "\n",
    "    # Carica il dataset corrispondente all'anno\n",
    "    file = year_mapping[anno]\n",
    "    data = pd.read_excel(file)\n",
    "\n",
    "    # Seleziona la colonna specificata\n",
    "    if statistica not in data.columns:\n",
    "        print(f\"La statistica '{statistica}' non è presente nei dati.\")\n",
    "        return\n",
    "    \n",
    "    col_data = data[statistica].dropna()  # Rimuovi eventuali valori NaN\n",
    "\n",
    "    if col_data.empty or col_data.max() == col_data.min():\n",
    "        print(f\"La colonna '{statistica}' non ha abbastanza variabilità per creare un istogramma.\")\n",
    "        return\n",
    "\n",
    "    # Calcolare il numero di bin con la regola di Freedman-Diaconis\n",
    "    def freedman_diaconis_bins(data):\n",
    "        q25, q75 = np.percentile(data, [25, 75])\n",
    "        iqr = q75 - q25\n",
    "        if iqr == 0:  # Evitare divisioni per zero\n",
    "            return 20  # Numero di bin di default in caso di IQR nullo\n",
    "        bin_width = 2 * iqr / (len(data) ** (1 / 3))\n",
    "        if bin_width == 0:\n",
    "            return 5  # Numero di bin di default in caso di width troppo piccolo\n",
    "        return int(np.ceil((data.max() - data.min()) / bin_width))\n",
    "\n",
    "    # Calcolare il numero di bin\n",
    "    bins = freedman_diaconis_bins(col_data)\n",
    "\n",
    "    # Creare l'istogramma\n",
    "    plt.figure(figsize=(10, 6))\n",
    "    plt.hist(col_data, bins=bins, density=False, color='k', edgecolor='r', label='Dati')\n",
    "\n",
    "    # Titolo e etichette con l'anno specificato\n",
    "    plt.title(f'Istogramma della colonna: {statistica} ({anno})')\n",
    "    plt.xlabel(f'{statistica}')\n",
    "    plt.ylabel('Numero di giocatori')\n",
    "\n",
    "    # Mostrare il grafico\n",
    "    plt.show()\n",
    "\n",
    "    # Calcola e stampa la media della colonna\n",
    "    media = col_data.mean()\n",
    "    print(f\"La media di {statistica} per l'anno {anno} è: {media:.2f}\")\n",
    "    giocatore_max = data.loc[data[statistica].idxmax()]['Player']\n",
    "    max_value = col_data.max()\n",
    "    print(f\"Il giocatore che ha registrato il maggior numero di {statistica} è {giocatore_max} con {max_value:.2f}.\")"
   ]
  },
  {
   "cell_type": "markdown",
   "metadata": {},
   "source": [
    "Con questa funzione possiamo richiamare dei grafici specifici e analizzarli se ci interessa."
   ]
  },
  {
   "cell_type": "code",
   "execution_count": null,
   "metadata": {},
   "outputs": [],
   "source": [
    "statistica = 'Won'\n",
    "anno = 2019\n",
    "istogramma(statistica,anno)"
   ]
  },
  {
   "cell_type": "markdown",
   "metadata": {},
   "source": [
    "CORRELAZIONI\n",
    "\n",
    "INTRODUZIONE\n",
    "\n",
    "Il calcio moderno è diventato molto caro, sopratutto il reparto di attacco. Le società chiedono tantissimi soldi per un giocatore \"solamente\" perchè ha realizzato molti Gol o Assist nella stagione precedente. Non tutte le squadre, però, hanno una disponibilità economica elevata per comprare un attaccante già affermato. La nostra tesi è che esistano delle correlazioni, fra le statistiche sopracitate e le altre di gioco, che una squadra può andare a studiare per stimare il numero di Gol e Assist che può realizzare un attaccante. In questo modo una società non sarà costretta ad affidarsi al numero di Gol ed Assist e potrà comprare giocatori altrettanto validi ad un prezzo minore, risparmiando soldi."
   ]
  },
  {
   "cell_type": "markdown",
   "metadata": {},
   "source": [
    "DATA CLEANING\n",
    "\n",
    "Prima di procedere con l'analisi bisogna fare un processo di 'data cleaning' ovvero una pulizia del dataframe, aggiungendo colonne che possono essere utili oppure togliendone altre che non vogliamo prendere in considerazione.\n",
    "\n",
    "Eliminiamo cartellini gialli e rossi collezionati dai giocatori, in quanto rappresentano la disciplina di questi e non le loro capacità balistiche. Dopodiche eliminiamo le colonne relative ai calci piazzati in quanto rigori e punizioni hanno i propri specialisti scelti dall'allenatore, non sarebbe quindi equo considerare una statistica alla quale la maggior parte dei giocatori non prendono neanche parte.\n",
    "\n",
    "Ovviamente scartiamo le celle relative al Nome del giocatore, la Squadra per cui gioca e la sua Nazionalità. Subito dopo togliamo quelle colonne che rappresentano \"operazioni\" fra altre statistiche, come ad esempio somme fra due dati, percentuali o rapporti, in quanto non sono statistiche di gioco (realizzate sul campo dal giocatore) ma create ad hoc per altri tipi di analisi non inerenti al nostro.\n",
    "\n",
    "Queste statistiche non verranno mai considerate in questa parte del progetto."
   ]
  },
  {
   "cell_type": "markdown",
   "metadata": {},
   "source": [
    "Suddivideremo le statistiche del database in 4 categorie e le analizzeremo una ad una.\n",
    "\n",
    "1) STATISTICHE DI IMPIEGO\n",
    "\n",
    "La prima categoria riguarda le statistiche non di campo, quelle relative ad età, minutaggio e partite giocate"
   ]
  },
  {
   "cell_type": "code",
   "execution_count": null,
   "metadata": {},
   "outputs": [],
   "source": [
    "#Crea 5 matrici colorate in cui ogni quadratino rappresenta l'indice di \n",
    "# correlazione fra le statistiche per annata\n",
    "\n",
    "correlations = []\n",
    "years = []\n",
    "\n",
    "colonne_da_eliminare = ['Player', 'Nation', 'Pos', 'Squad','G+A', 'G-PK', 'PK',\n",
    "       'PKatt', 'CrdY', 'CrdR', 'xG', 'PrgP', 'PrgR', 'Sh', 'SoT', 'SoT%',\n",
    "       'G/Sh', 'G/SoT', 'Dist', 'FK', 'G-xG', 'Cmp', 'Att', 'Cmp%', 'xA', 'KP',\n",
    "       'PPA', 'CrsPA', 'SCA', 'GCA', 'Tkl', 'TklW', 'Mid 3rd', 'Att 3rd',\n",
    "       'Touches', 'Mid 3rd.1', 'Att 3rd.1', 'Att.1', 'Succ', 'Succ%',\n",
    "       'Carries', 'TotDist', '2CrdY', 'Fld', 'Off', 'Crs', 'Duels', 'Won', 'Lost',\n",
    "       'Won%']\n",
    "\n",
    "for file in files:\n",
    "    \n",
    "    data_frame = pd.read_excel(file)\n",
    "    data_frame['Duels'] = data_frame['Won'] + data_frame['Lost'] # Creo la colonna dei duelli aerei, può essere utile per l'analisi\n",
    "\n",
    "    # Uso .drop per rimuovere dal data frame quelle statistiche che non voglio usare in questa analisi\n",
    "    data_frame.drop(columns=colonne_da_eliminare, inplace=True) \n",
    "\n",
    "    corr_matrix = data_frame.corr()  # Calcolo la matrice di correlazione\n",
    "\n",
    "    year = year_mapping[file]  # Ottengo l'anno dal file usando il mapping\n",
    "    years.append(year)\n",
    "\n",
    "    fig = px.imshow(corr_matrix, title=f\"Matrice di Correlazione - Anno {year}\", zmin = -1, zmax = 1)\n",
    "    # Ottengo in output il grafico di correlazione\n",
    "\n",
    "    fig.show()\n",
    "\n",
    "# Inserisco questa riga di codice in modo da poter visualizzare le colonne usate per l'analisi\n",
    "print(f'Le colonne usate per questa analisi sono {list(data_frame.columns)}')"
   ]
  },
  {
   "cell_type": "markdown",
   "metadata": {},
   "source": [
    "Il codice stampa delle matrici interattive quadrate simmetriche dove ogni cella è colorata in base all'indice di correlazione delle statistiche scritte sulla riga e colonna corrispondente. Ovviamente la diagonale ha tutti i valori uguali ad uno in quanto indica la correlazione di una statistica con se stessa.\n",
    "Diciamo che è interattiva in quanto mettendo il cursore su un quadrato vengono indicate le statistiche e l'indice fra di loro.\n",
    "Sulla destra è riportata una barra che fa da legenda, con la quale si può associare al colore il valore dell'indice, vengono impostati estremi fissi e non variabili durante tutte l'analisi in modo che i colori possano aiutarci in una fase preliminare dell'analisi.\n",
    "\n",
    "L'indice di correlazione è un numero compreso tra -1 e 1 che indica la relazione fra due variabili. Un indice di correlazione positivo indica che all'aumentare di una statistica anche l'altra lo fa. Mentre quello negativo indica che all'aumentare di una l'altra diminuisce. Più questo valore è vicino all'uno, in modulo, più la relazione è forte, più ci si avvicina allo zero più è debole\n",
    "\n",
    "A noi importa analizzare gli indici delle statistiche con Gol ed Assist, quindi guardiamo le ultime due righe (colonne). \n",
    "Con la matrice possiamo farci un'idea preliminare, grazie ai colori, dell'indice di correlazione fra le statistiche."
   ]
  },
  {
   "cell_type": "code",
   "execution_count": null,
   "metadata": {},
   "outputs": [],
   "source": [
    "# Creo una funzione che mi permette di scoprire quali sono le statistiche meglio e peggio correlate con una desiderata\n",
    "\n",
    "def best_worst(stat):\n",
    " for file in files:\n",
    "    year = year_mapping[file]\n",
    "    data_frame = pd.read_excel(file)\n",
    "    data_frame['Duels'] = data_frame['Won'] + data_frame['Lost']\n",
    "\n",
    "    data_frame.drop(columns=colonne_da_eliminare, inplace=True) \n",
    "\n",
    "    corr_matrix = data_frame.corr()\n",
    "\n",
    "    if stat in corr_matrix.columns:\n",
    "        # Ordina le correlazioni con la statistica scelta\n",
    "        sorted_corr = corr_matrix[stat].sort_values(ascending=False)\n",
    "\n",
    "        # Trova le 5 migliori e peggiori correlazioni (cambiare i range per saperne di più o di meno)\n",
    "        best_corr = sorted_corr[1:6]  # Parto da 1 per evitare la correlazione della statistica con se stessa\n",
    "        worst_corr = sorted_corr[-5:]\n",
    "\n",
    "        print(f\"Anno {year}: Le 5 statistiche meglio correlate con {stat} sono:\\n{best_corr}\")\n",
    "        print(f\"Anno {year}: Le 5 statistiche peggio correlate con {stat} sono:\\n{worst_corr}\")\n",
    "    else:\n",
    "        print(f\"La statistica {stat} non è presente nel dataset. Controlla l'input\")\n",
    "\n",
    "# Creo una funzione che restituisce l'elenco degli indci di correlazione di una statistica con le altre anno per anno\n",
    "\n",
    "def correlazioni_annuali(stat):\n",
    "    for file in files:\n",
    "        year = year_mapping[file]\n",
    "        data_frame = pd.read_excel(file)  \n",
    "        data_frame['Duels'] = data_frame['Won'] + data_frame['Lost']\n",
    "\n",
    "        data_frame.drop(columns=colonne_da_eliminare, inplace=True)\n",
    "\n",
    "        corr_matrix = data_frame.corr()\n",
    "\n",
    "        if stat in corr_matrix.columns:\n",
    "            sorted_corr = corr_matrix[stat].sort_values(ascending=False)\n",
    "\n",
    "            print(f\"Anno {year}: Le correlazioni per {stat} sono:\\n{sorted_corr}\\n\")\n",
    "        else:\n",
    "            print(f\"La statistica {stat} non è presente nel dataset dell'anno {year}.\")\n",
    "        \n",
    "# Creo una seconda funzione che mi dice l'indice di correlazione di due statistiche specifiche\n",
    "# ed il cambiamento di questo nel corso delle stagioni\n",
    "\n",
    "def correlazione(stat1,stat2):\n",
    " correlations = []\n",
    "\n",
    " for file in files:\n",
    "    \n",
    "    data_frame = pd.read_excel(file)\n",
    "    data_frame['Duels'] = data_frame['Won'] + data_frame['Lost']\n",
    "\n",
    "    data_frame.drop(columns=colonne_da_eliminare, inplace=True)\n",
    "\n",
    "    corr_matrix = data_frame.corr()\n",
    "\n",
    "    year = year_mapping[file]\n",
    "\n",
    "    # Verifica se entrambe le statistiche esistono nella matrice di correlazione\n",
    "    if stat1 in corr_matrix.columns and stat2 in corr_matrix.columns:\n",
    "        correlation_value = corr_matrix.loc[stat1, stat2]\n",
    "        correlations.append((year, correlation_value))\n",
    "        print(f\"Anno {year}: Indice {correlation_value}\")\n",
    "    else:\n",
    "        correlations.append((year, None))\n",
    "\n",
    "# Creazione del DataFrame per il grafico\n",
    " if stat1 in corr_matrix.columns and stat2 in corr_matrix.columns:\n",
    "    correlation_df = pd.DataFrame(correlations, columns=['Anno', 'Correlazione'])\n",
    "    \n",
    "    # Crea il grafico dell'andamento della correlazione nel tempo\n",
    "    fig = px.line(correlation_df, x='Anno', y='Correlazione', title=f\"Correlazione tra {stat1} e {stat2}\", markers=True)\n",
    "    fig.update_xaxes(dtick=1)\n",
    "    fig.update_yaxes(range = [-1,1], dtick = 0.10)\n",
    "    fig.show()\n",
    "    print(f\"Il massimo valore dell'indice fra {stat1} e {stat2} è {correlation_df['Correlazione'].max()} il valore minimo è {correlation_df['Correlazione'].min()}\")\n",
    " else:\n",
    "    print(\"Nessun grafico disponibile: non sono state calcolate correlazioni valide. Controlla l'input\")"
   ]
  },
  {
   "cell_type": "markdown",
   "metadata": {},
   "source": [
    "Ci aiutiamo con delle funzioni per plottare l'andamento di questi indici negli anni considerati."
   ]
  },
  {
   "cell_type": "code",
   "execution_count": null,
   "metadata": {},
   "outputs": [],
   "source": [
    "for column in data_frame.columns:\n",
    "    if column not in ['Gls','Ast']:\n",
    "     correlazione('Gls',column)"
   ]
  },
  {
   "cell_type": "markdown",
   "metadata": {},
   "source": [
    "Notiamo che l'unica coppia che presenta massimo e minimo negativi è Gls e Min si presenta quindi una anticorrelazione. Per le altre 3 coppie si ha correlazione diretta in quanto massimo e minimo sono entrambi positivi."
   ]
  },
  {
   "cell_type": "markdown",
   "metadata": {},
   "source": [
    "Ragionando in valore assoluto, la coppia che risulta avere la correlazione più debole è Gls e Age nel 2020. Mentre quella più forte è Gls e Starts nel 2021."
   ]
  },
  {
   "cell_type": "code",
   "execution_count": null,
   "metadata": {},
   "outputs": [],
   "source": [
    "for column in data_frame.columns:\n",
    "    if column not in ['Gls','Ast']:\n",
    "     correlazione('Ast',column)"
   ]
  },
  {
   "cell_type": "markdown",
   "metadata": {},
   "source": [
    "Anche in questo caso si presenta anticorrelazione con i minuti giocati, infatti anche qui il range è interamente a valori negativi. Tutte le altre hanno intervallo con massimo e minimo positivi e quindi correlazione diretta."
   ]
  },
  {
   "cell_type": "markdown",
   "metadata": {},
   "source": [
    "Passando al valore assoluto la coppia con la correlazione più debole è Ast e Min nel 2021. Quella più forte ad 1 è Ast e Starts nel 2020."
   ]
  },
  {
   "cell_type": "markdown",
   "metadata": {},
   "source": [
    "2) STATISTICHE DI OPPOSIZIONE\n",
    "\n",
    "In questa parte ci occupiamo di analizzare le statistiche di opposizione, ovvero quelle che il riguardano il comportamento del giocatore quando è messo a confronto con un avversario. Analizzeremo dati come dribbling, contrasti e conduzioni palla. "
   ]
  },
  {
   "cell_type": "markdown",
   "metadata": {},
   "source": [
    "In questa parte son presenti statistiche sulla parte di campo in cui vengono registrati determinati dati. Le analizziamo separatamente in quanto vogliamo capire se c'è un impatto diverso legato all'area di campo in cui vengono registrati."
   ]
  },
  {
   "cell_type": "code",
   "execution_count": null,
   "metadata": {},
   "outputs": [],
   "source": [
    "correlations = []\n",
    "years = []\n",
    "\n",
    "colonne_da_eliminare = ['Player', 'Nation', 'Pos', 'Squad','Age', 'MP', 'Starts', 'Min', 'G+A', 'G-PK', 'PK',\n",
    "       'PKatt', 'CrdY', 'CrdR', 'xG', 'PrgP', 'PrgR', 'Sh', 'SoT', 'SoT%',\n",
    "       'G/Sh', 'G/SoT', 'Dist', 'FK', 'G-xG', 'Cmp', 'Att', 'Cmp%', 'xA', 'KP',\n",
    "       'PPA', 'CrsPA', 'SCA', 'GCA', 'Succ%','2CrdY', 'Off', 'Crs','Won%']\n",
    "\n",
    "for file in files:\n",
    "    \n",
    "    data_frame = pd.read_excel(file)\n",
    "    data_frame['Duels'] = data_frame['Won'] + data_frame['Lost'] \n",
    "    data_frame.drop(columns=colonne_da_eliminare, inplace=True) \n",
    "\n",
    "    corr_matrix = data_frame.corr()\n",
    "\n",
    "    year = year_mapping[file] \n",
    "    years.append(year)\n",
    "\n",
    "    fig = px.imshow(corr_matrix, title=f\"Matrice di Correlazione - Anno {year}\", zmin = -1, zmax = 1)\n",
    "    fig.show()\n",
    "print(f'Le colonne usate per questa analisi sono {list(data_frame.columns)}')"
   ]
  },
  {
   "cell_type": "markdown",
   "metadata": {},
   "source": [
    "Visivamente possiamo notare come in questo blocco di statistiche gli indici siano più alti rispetto a quello precedente, essendo la griglia composta da colori più caldi. Quindi ci aspettiamo che i range di correlazione siano tutti positivi."
   ]
  },
  {
   "cell_type": "code",
   "execution_count": null,
   "metadata": {},
   "outputs": [],
   "source": [
    "for column in ['Mid 3rd', 'Att 3rd', 'Mid 3rd.1', 'Att 3rd.1']:\n",
    "    correlazione('Gls',column)"
   ]
  },
  {
   "cell_type": "markdown",
   "metadata": {},
   "source": [
    "Le prime due coppie sono relative ai contrasti, nella parte centrale di campo e quella offensiva. La seconda invece tratta i dribbling, anche qui divisi in parte centrale e offensiva. Per entrambe le categorie notiamo che gli intervalli degli indici sono più elevati per la parte offensiva. Quindi possiamo concludere che la parte di campo in cui vengono fatti dribbling e contrasti ha effettivamente un impatto sui Gol."
   ]
  },
  {
   "cell_type": "code",
   "execution_count": null,
   "metadata": {},
   "outputs": [],
   "source": [
    "for column in ['Mid 3rd', 'Att 3rd', 'Mid 3rd.1', 'Att 3rd.1']:\n",
    "    correlazione('Ast',column)"
   ]
  },
  {
   "cell_type": "markdown",
   "metadata": {},
   "source": [
    "Vediamo che i risultati sono simili a prima quindi il discorso è il medesimo che per i gol. Realizzare dribbling e contrasti nella parte offensiva di campo ha un impatto maggiore sugli assist piuttosto che farli a centrocampo."
   ]
  },
  {
   "cell_type": "code",
   "execution_count": null,
   "metadata": {},
   "outputs": [],
   "source": [
    "for column in data_frame.columns:\n",
    "    if column not in ['Gls','Ast','Mid 3rd', 'Att 3rd', 'Mid 3rd.1', 'Att 3rd.1']:\n",
    "     correlazione('Gls',column)"
   ]
  },
  {
   "cell_type": "markdown",
   "metadata": {},
   "source": [
    "Vediamo che tutti i minimi sono positivi quindi siamo in presenza solamente di correlazioni dirette.\n",
    "La coppia con corelazione più debole è Gls e TklW nel 2020 . Quella più forte è Gls e Touches nel 2023."
   ]
  },
  {
   "cell_type": "code",
   "execution_count": null,
   "metadata": {},
   "outputs": [],
   "source": [
    "for column in data_frame.columns:\n",
    "    if column not in ['Gls','Ast','Mid 3rd', 'Att 3rd', 'Mid 3rd.1', 'Att 3rd.1']:\n",
    "     correlazione('Ast',column)"
   ]
  },
  {
   "cell_type": "markdown",
   "metadata": {},
   "source": [
    "Anche qui siamo solamente in presenza di correlazioni dirette. Rispetto ai gol si hanno correlazioni più forti, come in Carries che ha registrato la correlazione più forte con Ast nel 2021, ma anche alcune più deboli come quella di Won che ha registrato l'indice di correlazione con Ast più basso nel 2022."
   ]
  },
  {
   "cell_type": "markdown",
   "metadata": {},
   "source": [
    "3) STATISTICHE DI GIOCO\n",
    "\n",
    "In questa parte andiamo ad analizzare le statistiche di creazione offensiva, quelle relative ai passaggi ai tiri e alla creazione di chance da gol o di tiro"
   ]
  },
  {
   "cell_type": "code",
   "execution_count": null,
   "metadata": {},
   "outputs": [],
   "source": [
    "correlations = []\n",
    "years = []\n",
    "\n",
    "colonne_da_eliminare = ['Player', 'Nation', 'Pos', 'Squad','Age', 'MP', 'Starts', 'Min', 'G+A', 'G-PK', 'PK',\n",
    "       'PKatt', 'CrdY', 'CrdR', 'SoT%', 'xG', 'xA',\n",
    "       'G/Sh', 'G/SoT', 'FK', 'G-xG','Cmp%','Tkl', 'TklW', 'Mid 3rd', 'Att 3rd',\n",
    "       'Touches', 'Mid 3rd.1', 'Att 3rd.1', 'Att.1', 'Succ', 'Succ%',\n",
    "       'Carries', 'TotDist', '2CrdY', 'Fld', 'Duels', 'Won', 'Lost',\n",
    "       'Won%']\n",
    "\n",
    "for file in files:\n",
    "    \n",
    "    data_frame = pd.read_excel(file)\n",
    "    data_frame['Duels'] = data_frame['Won'] + data_frame['Lost'] \n",
    "    data_frame.drop(columns=colonne_da_eliminare, inplace=True) \n",
    "\n",
    "    corr_matrix = data_frame.corr()\n",
    "\n",
    "    year = year_mapping[file] \n",
    "    years.append(year)\n",
    "\n",
    "    fig = px.imshow(corr_matrix, title=f\"Matrice di Correlazione - Anno {year}\", zmin = -1, zmax = 1)\n",
    "    fig.show()\n",
    "    \n",
    "print(f'Le colonne usate per questa analisi sono {list(data_frame.columns)}')"
   ]
  },
  {
   "cell_type": "markdown",
   "metadata": {},
   "source": [
    "In queste matrici vediamo colori molto caldi, quindi ci aspettiamo solo correlazioni dirette. Ad eccezione per una colonna con correlazione molto debole vicinissima allo zero sia per Gol che per Assist relativa a Dist, ovvero la distanza media di tiro. Risultato prevedibile. Analizziamola a parte per dimostrare ciò che abbiamo appena detto."
   ]
  },
  {
   "cell_type": "code",
   "execution_count": null,
   "metadata": {},
   "outputs": [],
   "source": [
    "for column in ['Gls','Ast']:\n",
    "    correlazione('Dist',column)"
   ]
  },
  {
   "cell_type": "markdown",
   "metadata": {},
   "source": [
    "Fra Dist e Gol l'intervallo degli indici di correlazione è negativo siamo in presenza di anticorrelazione molto debole.\n",
    "Con gli Ast l'intervallo comprende valori negativi e positivi tutti vicini allo zero correlazione quindi, anche in questo caso, molto debole."
   ]
  },
  {
   "cell_type": "code",
   "execution_count": null,
   "metadata": {},
   "outputs": [],
   "source": [
    "for column in data_frame.columns:\n",
    "    if column not in ['Gls','Ast','Dist']:\n",
    "     correlazione('Gls',column)"
   ]
  },
  {
   "cell_type": "markdown",
   "metadata": {},
   "source": [
    "Come anticipato, siccome tutti i minimi sono positivi, siamo in presenza di correlazioni dirette più o meno forti. La più forte è Gls e SoT nel 2021, il range è interamente molto vicino all'uno quindi siamo in presenza di una correlazione molto forte. Al contrario la correlazione è con CrsPA registrato nel 2019."
   ]
  },
  {
   "cell_type": "code",
   "execution_count": null,
   "metadata": {},
   "outputs": [],
   "source": [
    "for column in data_frame.columns:\n",
    "    if column not in ['Gls','Ast','Dist']:\n",
    "     correlazione('Ast',column)"
   ]
  },
  {
   "cell_type": "markdown",
   "metadata": {},
   "source": [
    "Siamo in presenza di sole correlazioni dirette. Qua per gli assist la correlazione più forte è con GCA registrata nel 2021. Mentre la più debole è con Off registrato nel 2019."
   ]
  },
  {
   "cell_type": "markdown",
   "metadata": {},
   "source": [
    "4) GOL E ASSIST ATTESI\n",
    "\n",
    "In questa parte finale di analisi ci concentriamo sul concetto specifico di Gol ed Assist attesi"
   ]
  },
  {
   "cell_type": "markdown",
   "metadata": {},
   "source": [
    "I concetti di gol attesi (xG) e assist attesi (xA) sono metriche avanzate utilizzate nel calcio per misurare la qualità delle azioni da gol e degli assist, tenendo conto di fattori che influenzano la probabilità che si verifichi un gol o un assist. Il valore è compreso tra 0 e 1, dove un valore di 1 indica un evento che ha quasi certezza di verificarsi. mentre 0.1 rappresenta un tiro (ad esempio) molto difficile con poca probabilità di realizzazione.\n",
    "Nello specifico, xG prende in considerazione aspetti come:\n",
    "- Posizione del tiro: più vicino alla porta, più alta è la probabilità di segnare.\n",
    "- Angolo di tiro: tiri da angoli difficili (ad esempio, tiri da fuori area o angoli stretti) hanno una probabilità inferiore di andare in gol.\n",
    "- Posizione del portiere: se il portiere è fuori posizione o se c'è un errore difensivo, la probabilità di segnare aumenta.\n",
    "\n",
    "Come per l'xG, anche l'xA si basa su vari fattori che influenzano la probabilità di trasformare un passaggio in un gol, come:\n",
    "- Tipo di passaggio: passaggi facili da ricevere e controllare (come palloni rasoterra diretti) hanno una probabilità maggiore di diventare assist.\n",
    "- Distanza dal gol: passaggi effettuati vicino alla porta o da posizioni centrali hanno un xA più alto.\n",
    "- Posizione del ricevente: se il destinatario del passaggio è in una buona posizione per segnare, l'assist atteso sarà più alto."
   ]
  },
  {
   "cell_type": "code",
   "execution_count": 72,
   "metadata": {},
   "outputs": [],
   "source": [
    "colonne_da_eliminare = ['Player', 'Nation', 'Pos', 'Squad','Age', 'MP', 'Starts', 'Min', 'G+A', 'G-PK', 'PK',\n",
    "       'PKatt', 'CrdY', 'CrdR', 'SoT%',\n",
    "       'G/Sh', 'G/SoT', 'FK', 'G-xG','Cmp%','Tkl', 'TklW', 'Mid 3rd', 'Att 3rd',\n",
    "       'Touches', 'Mid 3rd.1', 'Att 3rd.1', 'Att.1', 'Succ', 'Succ%',\n",
    "       'Carries', 'TotDist', '2CrdY', 'Fld', 'Duels', 'Won', 'Lost',\n",
    "       'Won%']"
   ]
  },
  {
   "cell_type": "code",
   "execution_count": 73,
   "metadata": {},
   "outputs": [
    {
     "name": "stdout",
     "output_type": "stream",
     "text": [
      "Anno 2023: Indice 0.9354220145380396\n",
      "Anno 2022: Indice 0.9307850335682799\n",
      "Anno 2021: Indice 0.9406995365569356\n",
      "Anno 2020: Indice 0.9565836298172762\n",
      "Anno 2019: Indice 0.9438927059160955\n"
     ]
    },
    {
     "data": {
      "application/vnd.plotly.v1+json": {
       "config": {
        "plotlyServerURL": "https://plot.ly"
       },
       "data": [
        {
         "hovertemplate": "Anno=%{x}<br>Correlazione=%{y}<extra></extra>",
         "legendgroup": "",
         "line": {
          "color": "#636efa",
          "dash": "solid"
         },
         "marker": {
          "symbol": "circle"
         },
         "mode": "lines+markers",
         "name": "",
         "orientation": "v",
         "showlegend": false,
         "type": "scatter",
         "x": [
          2023,
          2022,
          2021,
          2020,
          2019
         ],
         "xaxis": "x",
         "y": [
          0.9354220145380396,
          0.9307850335682799,
          0.9406995365569356,
          0.9565836298172762,
          0.9438927059160955
         ],
         "yaxis": "y"
        }
       ],
       "layout": {
        "legend": {
         "tracegroupgap": 0
        },
        "template": {
         "data": {
          "bar": [
           {
            "error_x": {
             "color": "#2a3f5f"
            },
            "error_y": {
             "color": "#2a3f5f"
            },
            "marker": {
             "line": {
              "color": "#E5ECF6",
              "width": 0.5
             },
             "pattern": {
              "fillmode": "overlay",
              "size": 10,
              "solidity": 0.2
             }
            },
            "type": "bar"
           }
          ],
          "barpolar": [
           {
            "marker": {
             "line": {
              "color": "#E5ECF6",
              "width": 0.5
             },
             "pattern": {
              "fillmode": "overlay",
              "size": 10,
              "solidity": 0.2
             }
            },
            "type": "barpolar"
           }
          ],
          "carpet": [
           {
            "aaxis": {
             "endlinecolor": "#2a3f5f",
             "gridcolor": "white",
             "linecolor": "white",
             "minorgridcolor": "white",
             "startlinecolor": "#2a3f5f"
            },
            "baxis": {
             "endlinecolor": "#2a3f5f",
             "gridcolor": "white",
             "linecolor": "white",
             "minorgridcolor": "white",
             "startlinecolor": "#2a3f5f"
            },
            "type": "carpet"
           }
          ],
          "choropleth": [
           {
            "colorbar": {
             "outlinewidth": 0,
             "ticks": ""
            },
            "type": "choropleth"
           }
          ],
          "contour": [
           {
            "colorbar": {
             "outlinewidth": 0,
             "ticks": ""
            },
            "colorscale": [
             [
              0,
              "#0d0887"
             ],
             [
              0.1111111111111111,
              "#46039f"
             ],
             [
              0.2222222222222222,
              "#7201a8"
             ],
             [
              0.3333333333333333,
              "#9c179e"
             ],
             [
              0.4444444444444444,
              "#bd3786"
             ],
             [
              0.5555555555555556,
              "#d8576b"
             ],
             [
              0.6666666666666666,
              "#ed7953"
             ],
             [
              0.7777777777777778,
              "#fb9f3a"
             ],
             [
              0.8888888888888888,
              "#fdca26"
             ],
             [
              1,
              "#f0f921"
             ]
            ],
            "type": "contour"
           }
          ],
          "contourcarpet": [
           {
            "colorbar": {
             "outlinewidth": 0,
             "ticks": ""
            },
            "type": "contourcarpet"
           }
          ],
          "heatmap": [
           {
            "colorbar": {
             "outlinewidth": 0,
             "ticks": ""
            },
            "colorscale": [
             [
              0,
              "#0d0887"
             ],
             [
              0.1111111111111111,
              "#46039f"
             ],
             [
              0.2222222222222222,
              "#7201a8"
             ],
             [
              0.3333333333333333,
              "#9c179e"
             ],
             [
              0.4444444444444444,
              "#bd3786"
             ],
             [
              0.5555555555555556,
              "#d8576b"
             ],
             [
              0.6666666666666666,
              "#ed7953"
             ],
             [
              0.7777777777777778,
              "#fb9f3a"
             ],
             [
              0.8888888888888888,
              "#fdca26"
             ],
             [
              1,
              "#f0f921"
             ]
            ],
            "type": "heatmap"
           }
          ],
          "heatmapgl": [
           {
            "colorbar": {
             "outlinewidth": 0,
             "ticks": ""
            },
            "colorscale": [
             [
              0,
              "#0d0887"
             ],
             [
              0.1111111111111111,
              "#46039f"
             ],
             [
              0.2222222222222222,
              "#7201a8"
             ],
             [
              0.3333333333333333,
              "#9c179e"
             ],
             [
              0.4444444444444444,
              "#bd3786"
             ],
             [
              0.5555555555555556,
              "#d8576b"
             ],
             [
              0.6666666666666666,
              "#ed7953"
             ],
             [
              0.7777777777777778,
              "#fb9f3a"
             ],
             [
              0.8888888888888888,
              "#fdca26"
             ],
             [
              1,
              "#f0f921"
             ]
            ],
            "type": "heatmapgl"
           }
          ],
          "histogram": [
           {
            "marker": {
             "pattern": {
              "fillmode": "overlay",
              "size": 10,
              "solidity": 0.2
             }
            },
            "type": "histogram"
           }
          ],
          "histogram2d": [
           {
            "colorbar": {
             "outlinewidth": 0,
             "ticks": ""
            },
            "colorscale": [
             [
              0,
              "#0d0887"
             ],
             [
              0.1111111111111111,
              "#46039f"
             ],
             [
              0.2222222222222222,
              "#7201a8"
             ],
             [
              0.3333333333333333,
              "#9c179e"
             ],
             [
              0.4444444444444444,
              "#bd3786"
             ],
             [
              0.5555555555555556,
              "#d8576b"
             ],
             [
              0.6666666666666666,
              "#ed7953"
             ],
             [
              0.7777777777777778,
              "#fb9f3a"
             ],
             [
              0.8888888888888888,
              "#fdca26"
             ],
             [
              1,
              "#f0f921"
             ]
            ],
            "type": "histogram2d"
           }
          ],
          "histogram2dcontour": [
           {
            "colorbar": {
             "outlinewidth": 0,
             "ticks": ""
            },
            "colorscale": [
             [
              0,
              "#0d0887"
             ],
             [
              0.1111111111111111,
              "#46039f"
             ],
             [
              0.2222222222222222,
              "#7201a8"
             ],
             [
              0.3333333333333333,
              "#9c179e"
             ],
             [
              0.4444444444444444,
              "#bd3786"
             ],
             [
              0.5555555555555556,
              "#d8576b"
             ],
             [
              0.6666666666666666,
              "#ed7953"
             ],
             [
              0.7777777777777778,
              "#fb9f3a"
             ],
             [
              0.8888888888888888,
              "#fdca26"
             ],
             [
              1,
              "#f0f921"
             ]
            ],
            "type": "histogram2dcontour"
           }
          ],
          "mesh3d": [
           {
            "colorbar": {
             "outlinewidth": 0,
             "ticks": ""
            },
            "type": "mesh3d"
           }
          ],
          "parcoords": [
           {
            "line": {
             "colorbar": {
              "outlinewidth": 0,
              "ticks": ""
             }
            },
            "type": "parcoords"
           }
          ],
          "pie": [
           {
            "automargin": true,
            "type": "pie"
           }
          ],
          "scatter": [
           {
            "fillpattern": {
             "fillmode": "overlay",
             "size": 10,
             "solidity": 0.2
            },
            "type": "scatter"
           }
          ],
          "scatter3d": [
           {
            "line": {
             "colorbar": {
              "outlinewidth": 0,
              "ticks": ""
             }
            },
            "marker": {
             "colorbar": {
              "outlinewidth": 0,
              "ticks": ""
             }
            },
            "type": "scatter3d"
           }
          ],
          "scattercarpet": [
           {
            "marker": {
             "colorbar": {
              "outlinewidth": 0,
              "ticks": ""
             }
            },
            "type": "scattercarpet"
           }
          ],
          "scattergeo": [
           {
            "marker": {
             "colorbar": {
              "outlinewidth": 0,
              "ticks": ""
             }
            },
            "type": "scattergeo"
           }
          ],
          "scattergl": [
           {
            "marker": {
             "colorbar": {
              "outlinewidth": 0,
              "ticks": ""
             }
            },
            "type": "scattergl"
           }
          ],
          "scattermapbox": [
           {
            "marker": {
             "colorbar": {
              "outlinewidth": 0,
              "ticks": ""
             }
            },
            "type": "scattermapbox"
           }
          ],
          "scatterpolar": [
           {
            "marker": {
             "colorbar": {
              "outlinewidth": 0,
              "ticks": ""
             }
            },
            "type": "scatterpolar"
           }
          ],
          "scatterpolargl": [
           {
            "marker": {
             "colorbar": {
              "outlinewidth": 0,
              "ticks": ""
             }
            },
            "type": "scatterpolargl"
           }
          ],
          "scatterternary": [
           {
            "marker": {
             "colorbar": {
              "outlinewidth": 0,
              "ticks": ""
             }
            },
            "type": "scatterternary"
           }
          ],
          "surface": [
           {
            "colorbar": {
             "outlinewidth": 0,
             "ticks": ""
            },
            "colorscale": [
             [
              0,
              "#0d0887"
             ],
             [
              0.1111111111111111,
              "#46039f"
             ],
             [
              0.2222222222222222,
              "#7201a8"
             ],
             [
              0.3333333333333333,
              "#9c179e"
             ],
             [
              0.4444444444444444,
              "#bd3786"
             ],
             [
              0.5555555555555556,
              "#d8576b"
             ],
             [
              0.6666666666666666,
              "#ed7953"
             ],
             [
              0.7777777777777778,
              "#fb9f3a"
             ],
             [
              0.8888888888888888,
              "#fdca26"
             ],
             [
              1,
              "#f0f921"
             ]
            ],
            "type": "surface"
           }
          ],
          "table": [
           {
            "cells": {
             "fill": {
              "color": "#EBF0F8"
             },
             "line": {
              "color": "white"
             }
            },
            "header": {
             "fill": {
              "color": "#C8D4E3"
             },
             "line": {
              "color": "white"
             }
            },
            "type": "table"
           }
          ]
         },
         "layout": {
          "annotationdefaults": {
           "arrowcolor": "#2a3f5f",
           "arrowhead": 0,
           "arrowwidth": 1
          },
          "autotypenumbers": "strict",
          "coloraxis": {
           "colorbar": {
            "outlinewidth": 0,
            "ticks": ""
           }
          },
          "colorscale": {
           "diverging": [
            [
             0,
             "#8e0152"
            ],
            [
             0.1,
             "#c51b7d"
            ],
            [
             0.2,
             "#de77ae"
            ],
            [
             0.3,
             "#f1b6da"
            ],
            [
             0.4,
             "#fde0ef"
            ],
            [
             0.5,
             "#f7f7f7"
            ],
            [
             0.6,
             "#e6f5d0"
            ],
            [
             0.7,
             "#b8e186"
            ],
            [
             0.8,
             "#7fbc41"
            ],
            [
             0.9,
             "#4d9221"
            ],
            [
             1,
             "#276419"
            ]
           ],
           "sequential": [
            [
             0,
             "#0d0887"
            ],
            [
             0.1111111111111111,
             "#46039f"
            ],
            [
             0.2222222222222222,
             "#7201a8"
            ],
            [
             0.3333333333333333,
             "#9c179e"
            ],
            [
             0.4444444444444444,
             "#bd3786"
            ],
            [
             0.5555555555555556,
             "#d8576b"
            ],
            [
             0.6666666666666666,
             "#ed7953"
            ],
            [
             0.7777777777777778,
             "#fb9f3a"
            ],
            [
             0.8888888888888888,
             "#fdca26"
            ],
            [
             1,
             "#f0f921"
            ]
           ],
           "sequentialminus": [
            [
             0,
             "#0d0887"
            ],
            [
             0.1111111111111111,
             "#46039f"
            ],
            [
             0.2222222222222222,
             "#7201a8"
            ],
            [
             0.3333333333333333,
             "#9c179e"
            ],
            [
             0.4444444444444444,
             "#bd3786"
            ],
            [
             0.5555555555555556,
             "#d8576b"
            ],
            [
             0.6666666666666666,
             "#ed7953"
            ],
            [
             0.7777777777777778,
             "#fb9f3a"
            ],
            [
             0.8888888888888888,
             "#fdca26"
            ],
            [
             1,
             "#f0f921"
            ]
           ]
          },
          "colorway": [
           "#636efa",
           "#EF553B",
           "#00cc96",
           "#ab63fa",
           "#FFA15A",
           "#19d3f3",
           "#FF6692",
           "#B6E880",
           "#FF97FF",
           "#FECB52"
          ],
          "font": {
           "color": "#2a3f5f"
          },
          "geo": {
           "bgcolor": "white",
           "lakecolor": "white",
           "landcolor": "#E5ECF6",
           "showlakes": true,
           "showland": true,
           "subunitcolor": "white"
          },
          "hoverlabel": {
           "align": "left"
          },
          "hovermode": "closest",
          "mapbox": {
           "style": "light"
          },
          "paper_bgcolor": "white",
          "plot_bgcolor": "#E5ECF6",
          "polar": {
           "angularaxis": {
            "gridcolor": "white",
            "linecolor": "white",
            "ticks": ""
           },
           "bgcolor": "#E5ECF6",
           "radialaxis": {
            "gridcolor": "white",
            "linecolor": "white",
            "ticks": ""
           }
          },
          "scene": {
           "xaxis": {
            "backgroundcolor": "#E5ECF6",
            "gridcolor": "white",
            "gridwidth": 2,
            "linecolor": "white",
            "showbackground": true,
            "ticks": "",
            "zerolinecolor": "white"
           },
           "yaxis": {
            "backgroundcolor": "#E5ECF6",
            "gridcolor": "white",
            "gridwidth": 2,
            "linecolor": "white",
            "showbackground": true,
            "ticks": "",
            "zerolinecolor": "white"
           },
           "zaxis": {
            "backgroundcolor": "#E5ECF6",
            "gridcolor": "white",
            "gridwidth": 2,
            "linecolor": "white",
            "showbackground": true,
            "ticks": "",
            "zerolinecolor": "white"
           }
          },
          "shapedefaults": {
           "line": {
            "color": "#2a3f5f"
           }
          },
          "ternary": {
           "aaxis": {
            "gridcolor": "white",
            "linecolor": "white",
            "ticks": ""
           },
           "baxis": {
            "gridcolor": "white",
            "linecolor": "white",
            "ticks": ""
           },
           "bgcolor": "#E5ECF6",
           "caxis": {
            "gridcolor": "white",
            "linecolor": "white",
            "ticks": ""
           }
          },
          "title": {
           "x": 0.05
          },
          "xaxis": {
           "automargin": true,
           "gridcolor": "white",
           "linecolor": "white",
           "ticks": "",
           "title": {
            "standoff": 15
           },
           "zerolinecolor": "white",
           "zerolinewidth": 2
          },
          "yaxis": {
           "automargin": true,
           "gridcolor": "white",
           "linecolor": "white",
           "ticks": "",
           "title": {
            "standoff": 15
           },
           "zerolinecolor": "white",
           "zerolinewidth": 2
          }
         }
        },
        "title": {
         "text": "Correlazione tra Gls e xG"
        },
        "xaxis": {
         "anchor": "y",
         "domain": [
          0,
          1
         ],
         "dtick": 1,
         "title": {
          "text": "Anno"
         }
        },
        "yaxis": {
         "anchor": "x",
         "domain": [
          0,
          1
         ],
         "dtick": 0.1,
         "range": [
          -1,
          1
         ],
         "title": {
          "text": "Correlazione"
         }
        }
       }
      }
     },
     "metadata": {},
     "output_type": "display_data"
    },
    {
     "name": "stdout",
     "output_type": "stream",
     "text": [
      "Il massimo valore dell'indice fra Gls e xG è 0.9565836298172762 il valore minimo è 0.9307850335682799\n"
     ]
    }
   ],
   "source": [
    "stat1 = 'Gls'\n",
    "stat2 = 'xG'\n",
    "correlazione(stat1,stat2)"
   ]
  },
  {
   "cell_type": "markdown",
   "metadata": {},
   "source": [
    "Come potevamo immaginarci dalla spiegazione precedente il range è estremamente vicino ad 1, quindi la correlazione è molto forte fra queste due statistiche. Il risultato è molto comprensibile in quanto dietro a questi dati ci sono studi molto profondi e complessi realizzati anche con l'aiuto di intelligenze artificiali e database pienissimi di dati di miliardi di giocatori presi in diverse annate."
   ]
  },
  {
   "cell_type": "code",
   "execution_count": 74,
   "metadata": {},
   "outputs": [
    {
     "name": "stdout",
     "output_type": "stream",
     "text": [
      "Anno 2023: Indice 0.7740110619603474\n",
      "Anno 2022: Indice 0.8057140831372767\n",
      "Anno 2021: Indice 0.8713995391935595\n",
      "Anno 2020: Indice 0.8847975606015525\n",
      "Anno 2019: Indice 0.8607413104725158\n"
     ]
    },
    {
     "data": {
      "application/vnd.plotly.v1+json": {
       "config": {
        "plotlyServerURL": "https://plot.ly"
       },
       "data": [
        {
         "hovertemplate": "Anno=%{x}<br>Correlazione=%{y}<extra></extra>",
         "legendgroup": "",
         "line": {
          "color": "#636efa",
          "dash": "solid"
         },
         "marker": {
          "symbol": "circle"
         },
         "mode": "lines+markers",
         "name": "",
         "orientation": "v",
         "showlegend": false,
         "type": "scatter",
         "x": [
          2023,
          2022,
          2021,
          2020,
          2019
         ],
         "xaxis": "x",
         "y": [
          0.7740110619603474,
          0.8057140831372767,
          0.8713995391935595,
          0.8847975606015525,
          0.8607413104725158
         ],
         "yaxis": "y"
        }
       ],
       "layout": {
        "legend": {
         "tracegroupgap": 0
        },
        "template": {
         "data": {
          "bar": [
           {
            "error_x": {
             "color": "#2a3f5f"
            },
            "error_y": {
             "color": "#2a3f5f"
            },
            "marker": {
             "line": {
              "color": "#E5ECF6",
              "width": 0.5
             },
             "pattern": {
              "fillmode": "overlay",
              "size": 10,
              "solidity": 0.2
             }
            },
            "type": "bar"
           }
          ],
          "barpolar": [
           {
            "marker": {
             "line": {
              "color": "#E5ECF6",
              "width": 0.5
             },
             "pattern": {
              "fillmode": "overlay",
              "size": 10,
              "solidity": 0.2
             }
            },
            "type": "barpolar"
           }
          ],
          "carpet": [
           {
            "aaxis": {
             "endlinecolor": "#2a3f5f",
             "gridcolor": "white",
             "linecolor": "white",
             "minorgridcolor": "white",
             "startlinecolor": "#2a3f5f"
            },
            "baxis": {
             "endlinecolor": "#2a3f5f",
             "gridcolor": "white",
             "linecolor": "white",
             "minorgridcolor": "white",
             "startlinecolor": "#2a3f5f"
            },
            "type": "carpet"
           }
          ],
          "choropleth": [
           {
            "colorbar": {
             "outlinewidth": 0,
             "ticks": ""
            },
            "type": "choropleth"
           }
          ],
          "contour": [
           {
            "colorbar": {
             "outlinewidth": 0,
             "ticks": ""
            },
            "colorscale": [
             [
              0,
              "#0d0887"
             ],
             [
              0.1111111111111111,
              "#46039f"
             ],
             [
              0.2222222222222222,
              "#7201a8"
             ],
             [
              0.3333333333333333,
              "#9c179e"
             ],
             [
              0.4444444444444444,
              "#bd3786"
             ],
             [
              0.5555555555555556,
              "#d8576b"
             ],
             [
              0.6666666666666666,
              "#ed7953"
             ],
             [
              0.7777777777777778,
              "#fb9f3a"
             ],
             [
              0.8888888888888888,
              "#fdca26"
             ],
             [
              1,
              "#f0f921"
             ]
            ],
            "type": "contour"
           }
          ],
          "contourcarpet": [
           {
            "colorbar": {
             "outlinewidth": 0,
             "ticks": ""
            },
            "type": "contourcarpet"
           }
          ],
          "heatmap": [
           {
            "colorbar": {
             "outlinewidth": 0,
             "ticks": ""
            },
            "colorscale": [
             [
              0,
              "#0d0887"
             ],
             [
              0.1111111111111111,
              "#46039f"
             ],
             [
              0.2222222222222222,
              "#7201a8"
             ],
             [
              0.3333333333333333,
              "#9c179e"
             ],
             [
              0.4444444444444444,
              "#bd3786"
             ],
             [
              0.5555555555555556,
              "#d8576b"
             ],
             [
              0.6666666666666666,
              "#ed7953"
             ],
             [
              0.7777777777777778,
              "#fb9f3a"
             ],
             [
              0.8888888888888888,
              "#fdca26"
             ],
             [
              1,
              "#f0f921"
             ]
            ],
            "type": "heatmap"
           }
          ],
          "heatmapgl": [
           {
            "colorbar": {
             "outlinewidth": 0,
             "ticks": ""
            },
            "colorscale": [
             [
              0,
              "#0d0887"
             ],
             [
              0.1111111111111111,
              "#46039f"
             ],
             [
              0.2222222222222222,
              "#7201a8"
             ],
             [
              0.3333333333333333,
              "#9c179e"
             ],
             [
              0.4444444444444444,
              "#bd3786"
             ],
             [
              0.5555555555555556,
              "#d8576b"
             ],
             [
              0.6666666666666666,
              "#ed7953"
             ],
             [
              0.7777777777777778,
              "#fb9f3a"
             ],
             [
              0.8888888888888888,
              "#fdca26"
             ],
             [
              1,
              "#f0f921"
             ]
            ],
            "type": "heatmapgl"
           }
          ],
          "histogram": [
           {
            "marker": {
             "pattern": {
              "fillmode": "overlay",
              "size": 10,
              "solidity": 0.2
             }
            },
            "type": "histogram"
           }
          ],
          "histogram2d": [
           {
            "colorbar": {
             "outlinewidth": 0,
             "ticks": ""
            },
            "colorscale": [
             [
              0,
              "#0d0887"
             ],
             [
              0.1111111111111111,
              "#46039f"
             ],
             [
              0.2222222222222222,
              "#7201a8"
             ],
             [
              0.3333333333333333,
              "#9c179e"
             ],
             [
              0.4444444444444444,
              "#bd3786"
             ],
             [
              0.5555555555555556,
              "#d8576b"
             ],
             [
              0.6666666666666666,
              "#ed7953"
             ],
             [
              0.7777777777777778,
              "#fb9f3a"
             ],
             [
              0.8888888888888888,
              "#fdca26"
             ],
             [
              1,
              "#f0f921"
             ]
            ],
            "type": "histogram2d"
           }
          ],
          "histogram2dcontour": [
           {
            "colorbar": {
             "outlinewidth": 0,
             "ticks": ""
            },
            "colorscale": [
             [
              0,
              "#0d0887"
             ],
             [
              0.1111111111111111,
              "#46039f"
             ],
             [
              0.2222222222222222,
              "#7201a8"
             ],
             [
              0.3333333333333333,
              "#9c179e"
             ],
             [
              0.4444444444444444,
              "#bd3786"
             ],
             [
              0.5555555555555556,
              "#d8576b"
             ],
             [
              0.6666666666666666,
              "#ed7953"
             ],
             [
              0.7777777777777778,
              "#fb9f3a"
             ],
             [
              0.8888888888888888,
              "#fdca26"
             ],
             [
              1,
              "#f0f921"
             ]
            ],
            "type": "histogram2dcontour"
           }
          ],
          "mesh3d": [
           {
            "colorbar": {
             "outlinewidth": 0,
             "ticks": ""
            },
            "type": "mesh3d"
           }
          ],
          "parcoords": [
           {
            "line": {
             "colorbar": {
              "outlinewidth": 0,
              "ticks": ""
             }
            },
            "type": "parcoords"
           }
          ],
          "pie": [
           {
            "automargin": true,
            "type": "pie"
           }
          ],
          "scatter": [
           {
            "fillpattern": {
             "fillmode": "overlay",
             "size": 10,
             "solidity": 0.2
            },
            "type": "scatter"
           }
          ],
          "scatter3d": [
           {
            "line": {
             "colorbar": {
              "outlinewidth": 0,
              "ticks": ""
             }
            },
            "marker": {
             "colorbar": {
              "outlinewidth": 0,
              "ticks": ""
             }
            },
            "type": "scatter3d"
           }
          ],
          "scattercarpet": [
           {
            "marker": {
             "colorbar": {
              "outlinewidth": 0,
              "ticks": ""
             }
            },
            "type": "scattercarpet"
           }
          ],
          "scattergeo": [
           {
            "marker": {
             "colorbar": {
              "outlinewidth": 0,
              "ticks": ""
             }
            },
            "type": "scattergeo"
           }
          ],
          "scattergl": [
           {
            "marker": {
             "colorbar": {
              "outlinewidth": 0,
              "ticks": ""
             }
            },
            "type": "scattergl"
           }
          ],
          "scattermapbox": [
           {
            "marker": {
             "colorbar": {
              "outlinewidth": 0,
              "ticks": ""
             }
            },
            "type": "scattermapbox"
           }
          ],
          "scatterpolar": [
           {
            "marker": {
             "colorbar": {
              "outlinewidth": 0,
              "ticks": ""
             }
            },
            "type": "scatterpolar"
           }
          ],
          "scatterpolargl": [
           {
            "marker": {
             "colorbar": {
              "outlinewidth": 0,
              "ticks": ""
             }
            },
            "type": "scatterpolargl"
           }
          ],
          "scatterternary": [
           {
            "marker": {
             "colorbar": {
              "outlinewidth": 0,
              "ticks": ""
             }
            },
            "type": "scatterternary"
           }
          ],
          "surface": [
           {
            "colorbar": {
             "outlinewidth": 0,
             "ticks": ""
            },
            "colorscale": [
             [
              0,
              "#0d0887"
             ],
             [
              0.1111111111111111,
              "#46039f"
             ],
             [
              0.2222222222222222,
              "#7201a8"
             ],
             [
              0.3333333333333333,
              "#9c179e"
             ],
             [
              0.4444444444444444,
              "#bd3786"
             ],
             [
              0.5555555555555556,
              "#d8576b"
             ],
             [
              0.6666666666666666,
              "#ed7953"
             ],
             [
              0.7777777777777778,
              "#fb9f3a"
             ],
             [
              0.8888888888888888,
              "#fdca26"
             ],
             [
              1,
              "#f0f921"
             ]
            ],
            "type": "surface"
           }
          ],
          "table": [
           {
            "cells": {
             "fill": {
              "color": "#EBF0F8"
             },
             "line": {
              "color": "white"
             }
            },
            "header": {
             "fill": {
              "color": "#C8D4E3"
             },
             "line": {
              "color": "white"
             }
            },
            "type": "table"
           }
          ]
         },
         "layout": {
          "annotationdefaults": {
           "arrowcolor": "#2a3f5f",
           "arrowhead": 0,
           "arrowwidth": 1
          },
          "autotypenumbers": "strict",
          "coloraxis": {
           "colorbar": {
            "outlinewidth": 0,
            "ticks": ""
           }
          },
          "colorscale": {
           "diverging": [
            [
             0,
             "#8e0152"
            ],
            [
             0.1,
             "#c51b7d"
            ],
            [
             0.2,
             "#de77ae"
            ],
            [
             0.3,
             "#f1b6da"
            ],
            [
             0.4,
             "#fde0ef"
            ],
            [
             0.5,
             "#f7f7f7"
            ],
            [
             0.6,
             "#e6f5d0"
            ],
            [
             0.7,
             "#b8e186"
            ],
            [
             0.8,
             "#7fbc41"
            ],
            [
             0.9,
             "#4d9221"
            ],
            [
             1,
             "#276419"
            ]
           ],
           "sequential": [
            [
             0,
             "#0d0887"
            ],
            [
             0.1111111111111111,
             "#46039f"
            ],
            [
             0.2222222222222222,
             "#7201a8"
            ],
            [
             0.3333333333333333,
             "#9c179e"
            ],
            [
             0.4444444444444444,
             "#bd3786"
            ],
            [
             0.5555555555555556,
             "#d8576b"
            ],
            [
             0.6666666666666666,
             "#ed7953"
            ],
            [
             0.7777777777777778,
             "#fb9f3a"
            ],
            [
             0.8888888888888888,
             "#fdca26"
            ],
            [
             1,
             "#f0f921"
            ]
           ],
           "sequentialminus": [
            [
             0,
             "#0d0887"
            ],
            [
             0.1111111111111111,
             "#46039f"
            ],
            [
             0.2222222222222222,
             "#7201a8"
            ],
            [
             0.3333333333333333,
             "#9c179e"
            ],
            [
             0.4444444444444444,
             "#bd3786"
            ],
            [
             0.5555555555555556,
             "#d8576b"
            ],
            [
             0.6666666666666666,
             "#ed7953"
            ],
            [
             0.7777777777777778,
             "#fb9f3a"
            ],
            [
             0.8888888888888888,
             "#fdca26"
            ],
            [
             1,
             "#f0f921"
            ]
           ]
          },
          "colorway": [
           "#636efa",
           "#EF553B",
           "#00cc96",
           "#ab63fa",
           "#FFA15A",
           "#19d3f3",
           "#FF6692",
           "#B6E880",
           "#FF97FF",
           "#FECB52"
          ],
          "font": {
           "color": "#2a3f5f"
          },
          "geo": {
           "bgcolor": "white",
           "lakecolor": "white",
           "landcolor": "#E5ECF6",
           "showlakes": true,
           "showland": true,
           "subunitcolor": "white"
          },
          "hoverlabel": {
           "align": "left"
          },
          "hovermode": "closest",
          "mapbox": {
           "style": "light"
          },
          "paper_bgcolor": "white",
          "plot_bgcolor": "#E5ECF6",
          "polar": {
           "angularaxis": {
            "gridcolor": "white",
            "linecolor": "white",
            "ticks": ""
           },
           "bgcolor": "#E5ECF6",
           "radialaxis": {
            "gridcolor": "white",
            "linecolor": "white",
            "ticks": ""
           }
          },
          "scene": {
           "xaxis": {
            "backgroundcolor": "#E5ECF6",
            "gridcolor": "white",
            "gridwidth": 2,
            "linecolor": "white",
            "showbackground": true,
            "ticks": "",
            "zerolinecolor": "white"
           },
           "yaxis": {
            "backgroundcolor": "#E5ECF6",
            "gridcolor": "white",
            "gridwidth": 2,
            "linecolor": "white",
            "showbackground": true,
            "ticks": "",
            "zerolinecolor": "white"
           },
           "zaxis": {
            "backgroundcolor": "#E5ECF6",
            "gridcolor": "white",
            "gridwidth": 2,
            "linecolor": "white",
            "showbackground": true,
            "ticks": "",
            "zerolinecolor": "white"
           }
          },
          "shapedefaults": {
           "line": {
            "color": "#2a3f5f"
           }
          },
          "ternary": {
           "aaxis": {
            "gridcolor": "white",
            "linecolor": "white",
            "ticks": ""
           },
           "baxis": {
            "gridcolor": "white",
            "linecolor": "white",
            "ticks": ""
           },
           "bgcolor": "#E5ECF6",
           "caxis": {
            "gridcolor": "white",
            "linecolor": "white",
            "ticks": ""
           }
          },
          "title": {
           "x": 0.05
          },
          "xaxis": {
           "automargin": true,
           "gridcolor": "white",
           "linecolor": "white",
           "ticks": "",
           "title": {
            "standoff": 15
           },
           "zerolinecolor": "white",
           "zerolinewidth": 2
          },
          "yaxis": {
           "automargin": true,
           "gridcolor": "white",
           "linecolor": "white",
           "ticks": "",
           "title": {
            "standoff": 15
           },
           "zerolinecolor": "white",
           "zerolinewidth": 2
          }
         }
        },
        "title": {
         "text": "Correlazione tra Ast e xA"
        },
        "xaxis": {
         "anchor": "y",
         "domain": [
          0,
          1
         ],
         "dtick": 1,
         "title": {
          "text": "Anno"
         }
        },
        "yaxis": {
         "anchor": "x",
         "domain": [
          0,
          1
         ],
         "dtick": 0.1,
         "range": [
          -1,
          1
         ],
         "title": {
          "text": "Correlazione"
         }
        }
       }
      }
     },
     "metadata": {},
     "output_type": "display_data"
    },
    {
     "name": "stdout",
     "output_type": "stream",
     "text": [
      "Il massimo valore dell'indice fra Ast e xA è 0.8847975606015525 il valore minimo è 0.7740110619603474\n"
     ]
    }
   ],
   "source": [
    "stat1 = 'Ast'\n",
    "stat2 = 'xA'\n",
    "correlazione(stat1,stat2)"
   ]
  },
  {
   "cell_type": "markdown",
   "metadata": {},
   "source": [
    "La correlazione anche in questo caso è forte. Lo è meno di quanto lo sono gli xG con i Gol in quanto per gli assist c'è la variabile relativa al compagno che può non riuscire a concretizzare un ottimo passaggio."
   ]
  },
  {
   "cell_type": "markdown",
   "metadata": {},
   "source": [
    "CONCLUSIONE\n",
    "\n",
    "La ricerca conferma la nostra tesi. Esistono statistiche che presentano correlazioni forti con Gol ed Assist. Inoltre per ogni coppia di statistiche la differenza fra il minimo ed il massimo valore che assume l'indice mostra una costanza nella correlazione delle statistiche nel corso delle stagioni."
   ]
  },
  {
   "cell_type": "markdown",
   "metadata": {},
   "source": [
    "RETI NEURALI\n",
    "\n",
    "Grazie all'analisi di correlazione abbiamo capito quali statistiche sono correlate con i dati di Gol ed Assist. Daremo quindi in input alla rete neurale quelle statistiche e chiederemo in output, appunto, Gol ed Assist.\n"
   ]
  },
  {
   "cell_type": "markdown",
   "metadata": {},
   "source": [
    "Nelle prossime celle andremo ad impostare la rete neurale, importando i file ed addestrandola con i file di input. \n",
    "Andiamo a fare prima i gol e nella cella seguente la rete per gli assist"
   ]
  },
  {
   "cell_type": "code",
   "execution_count": null,
   "metadata": {},
   "outputs": [],
   "source": [
    "f1 = \"attaccanti_19.xlsx\"\n",
    "f2 = \"attaccanti_20.xlsx\"\n",
    "f3 = \"attaccanti_21.xlsx\"\n",
    "f4 = \"attaccanti_22.xlsx\"\n",
    "f5 = \"attaccanti_23.xlsx\"\n",
    "\n",
    "# Elimino le colonne che abbiamo scoperto essere non utili per la nostra analisi\n",
    "\n",
    "colonne_da_eliminare = ['Player', 'Nation', 'Pos', 'Squad', 'Age', 'MP', 'Starts', 'Min', 'G+A', 'G-PK', 'PK', 'PKatt', \n",
    "                        'CrdY', 'CrdR', 'SoT%', 'G/Sh', 'G/SoT', 'Dist', 'FK', 'G-xG','Cmp', 'Att','CrsPA', 'Cmp%', 'Tkl',\n",
    "                        'TklW', 'Mid 3rd', 'Att 3rd', 'Mid 3rd.1','Succ%', 'TotDist', '2CrdY', 'Fld', 'Off','Crs', 'Won', 'Lost', 'Won%']\n",
    "\n",
    "# Unisco i file Excel\n",
    "df1 = pd.read_excel(f1)\n",
    "df2 = pd.read_excel(f2).iloc[1:].reset_index(drop=True)\n",
    "df3 = pd.read_excel(f3).iloc[1:].reset_index(drop=True)\n",
    "df4 = pd.read_excel(f4).iloc[1:].reset_index(drop=True)\n",
    "df_unito = pd.concat([df1, df2, df3, df4], ignore_index=True)\n",
    "\n",
    "# Rimuovo le colonne\n",
    "df_unito = df_unito.drop(columns=colonne_da_eliminare, errors='ignore')\n",
    "\n",
    "df5 = pd.read_excel(f5).iloc[1:].reset_index(drop=True)\n",
    "df5 = df5.drop(columns=colonne_da_eliminare, errors='ignore')\n",
    "\n",
    "# Separare le colonne in input e output\n",
    "X = df_unito.iloc[:, 2:]  # Tutte le colonne eccetto le prime due\n",
    "y = df_unito.iloc[:, :2]  # Le prime due colonne\n",
    "\n",
    "scaler = StandardScaler()\n",
    "X_scaled = scaler.fit_transform(X)\n",
    "\n",
    "# Divisione in set di addestramento e test\n",
    "X_train, X_test, y_train, y_test = train_test_split(X_scaled, y, test_size=0.2, random_state=42)\n",
    "\n",
    "# Costruzione della rete neurale\n",
    "model = tf.keras.Sequential([tf.keras.layers.Dense(64, activation='relu', input_shape=(X_train.shape[1],)),\n",
    "                             tf.keras.layers.Dense(64, activation='relu'),\n",
    "                             tf.keras.layers.Dense(y_train.shape[1])])\n",
    "\n",
    "# Compilazione\n",
    "model.compile(optimizer='adam', loss='mean_squared_error')\n",
    "\n",
    "# Addestramento\n",
    "model.fit(X_train, y_train, epochs=1000, batch_size=32, validation_split=0.2)\n",
    "\n",
    "# Carica il nuovo file e pre-processa i dati\n",
    "df_new = df5  \n",
    "\n",
    "# Verifica che le colonne siano allineate con il DataFrame di addestramento\n",
    "X_new = df_new[X.columns]\n",
    "\n",
    "# Pre-elabora i dati nuovi\n",
    "X_new_scaled = scaler.transform(X_new)\n",
    "\n",
    "# Usa il modello per fare previsioni\n",
    "y_pred = model.predict(X_new_scaled)\n",
    "\n",
    "# Imposto pari a zero i valori negativi in quanto è impossibile realizzare un numero negativo di gol\n",
    " \n",
    "y_pred = np.clip(y_pred, 0, None)  # Sostituisci i valori negativi con 0\n",
    "\n",
    "# Visualizza le previsioni\n",
    "df_new['Pred_Gls'] = y_pred[:, 0]  # Previsioni per la prima colonna (Gls)\n",
    "df_new['Pred_Ast'] = y_pred[:, 1]  # Previsioni per la seconda colonna (Ast)\n",
    "\n",
    "print(df_new[['Gls', 'Ast', 'Pred_Gls', 'Pred_Ast']])"
   ]
  },
  {
   "cell_type": "code",
   "execution_count": null,
   "metadata": {},
   "outputs": [],
   "source": [
    "# Calcola separatamente la somma delle previsioni per Gls e Ast\n",
    "somma_goal_attesi = df_new['Pred_Gls'].sum()\n",
    "somma_assist_attesi = df_new['Pred_Ast'].sum()\n",
    "\n",
    "# Calcola separatamente la somma effettiva dei goal e assist nei dati originali\n",
    "somma_goal = df_new['Gls'].sum()\n",
    "somma_assist = df_new['Ast'].sum()\n",
    "# Risultati dei gol\n",
    "print(f\"La somma dei goal effettivi è {somma_goal}\")\n",
    "print(f\"La somma dei goal ottenuti dalla rete neurale è {somma_goal_attesi}\")\n",
    "\n",
    "# Risultati degli assist\n",
    "\n",
    "print(f\"La somma degli assist effettivi è {somma_assist}\")\n",
    "print(f\"La somma degli assist ottenuti dalla rete neurale è {somma_assist_attesi}\")\n"
   ]
  },
  {
   "cell_type": "code",
   "execution_count": null,
   "metadata": {},
   "outputs": [],
   "source": [
    "# Errore\n",
    "\n",
    "diff_gol = abs(somma_goal - somma_goal_attesi)\n",
    "diff_ast = abs(somma_assist - somma_assist_attesi)\n",
    "\n",
    "# Trovo l'errore medio dividendo per il numero di giocatori \n",
    "\n",
    "avg_err_gol = diff_gol/194  \n",
    "avg_err_ast = diff_ast/194\n",
    "\n",
    "print(f\"La differenza fra la somma effettiva e quella della rete neurale è di {diff_gol} Gol\")\n",
    "print(f\"La differenza fra la somma effettiva e quella della rete neurale è di {diff_ast} Assist\")\n",
    "print(f\"L'errore medio per i gol è {avg_err_gol} per giocatore\")\n",
    "print(f\"L'errore medio per gli assist è {avg_err_ast} per giocatore\")"
   ]
  },
  {
   "cell_type": "markdown",
   "metadata": {},
   "source": [
    "\n",
    "Aumentando il numero delle epoche ovviamente la differenza fra la previsione della rete neurale e la somma effettiva delle statistiche richieste si assottiglia notevolmente. Il processo richiede più tempo ma restituisce risultati più precisi."
   ]
  }
 ],
 "metadata": {
  "kernelspec": {
   "display_name": "base",
   "language": "python",
   "name": "python3"
  },
  "language_info": {
   "codemirror_mode": {
    "name": "ipython",
    "version": 3
   },
   "file_extension": ".py",
   "mimetype": "text/x-python",
   "name": "python",
   "nbconvert_exporter": "python",
   "pygments_lexer": "ipython3",
   "version": "3.12.2"
  }
 },
 "nbformat": 4,
 "nbformat_minor": 2
}
