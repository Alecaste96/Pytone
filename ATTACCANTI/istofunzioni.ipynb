{
 "cells": [
  {
   "cell_type": "code",
   "execution_count": null,
   "id": "842622ea",
   "metadata": {},
   "outputs": [],
   "source": [
    "def istogramma(statistica, anno):\n",
    "    # Verifica che l'anno esista nel mapping\n",
    "    if anno not in year_mapping:\n",
    "        print(f\"L'anno {anno} non è valido. Gli anni disponibili sono: {list(year_mapping.keys())}\")\n",
    "        return\n",
    "\n",
    "    # Carica il dataset corrispondente all'anno\n",
    "    file = year_mapping[anno]\n",
    "    data = pd.read_excel(file)\n",
    "\n",
    "    # Seleziona la colonna specificata\n",
    "    if statistica not in data.columns:\n",
    "        print(f\"La statistica '{statistica}' non è presente nei dati.\")\n",
    "        return\n",
    "    \n",
    "    col_data = data[statistica].dropna()  # Rimuovi eventuali valori NaN\n",
    "\n",
    "    if col_data.empty or col_data.max() == col_data.min():\n",
    "        print(f\"La colonna '{statistica}' non ha abbastanza variabilità per creare un istogramma.\")\n",
    "        return\n",
    "\n",
    "    # Calcolare il numero di bin con la regola di Freedman-Diaconis\n",
    "    def freedman_diaconis_bins(data):\n",
    "        q25, q75 = np.percentile(data, [25, 75])\n",
    "        iqr = q75 - q25\n",
    "        if iqr == 0:  # Evitare divisioni per zero\n",
    "            return 20  # Numero di bin di default in caso di IQR nullo\n",
    "        bin_width = 2 * iqr / (len(data) ** (1 / 3))\n",
    "        if bin_width == 0:\n",
    "            return 5  # Numero di bin di default in caso di width troppo piccolo\n",
    "        return int(np.ceil((data.max() - data.min()) / bin_width))\n",
    "\n",
    "    # Calcolare il numero di bin\n",
    "    bins = freedman_diaconis_bins(col_data)\n",
    "\n",
    "    # Creare l'istogramma\n",
    "    plt.figure(figsize=(10, 6))\n",
    "    plt.hist(col_data, bins=bins, density=False, color='k', edgecolor='r', label='Dati')\n",
    "\n",
    "    # Titolo e etichette con l'anno specificato\n",
    "    plt.title(f'Istogramma della colonna: {statistica} ({anno})')\n",
    "    plt.xlabel(f'{statistica}')\n",
    "    plt.ylabel('Numero di giocatori')\n",
    "\n",
    "    # Mostrare il grafico\n",
    "    plt.show()\n",
    "\n",
    "    # Calcola e stampa la media della colonna\n",
    "    media = col_data.mean()\n",
    "    print(f\"La media di {statistica} per l'anno {anno} è: {media:.2f}\")\n",
    "    giocatore_max = data.loc[data[statistica].idxmax()]['Player']\n",
    "    max_value = col_data.max()\n",
    "    print(f\"Il giocatore che ha registrato il maggior numero di {statistica} è {giocatore_max} con {max_value:.2f}.\")"
   ]
  }
 ],
 "metadata": {
  "kernelspec": {
   "display_name": "Python 3 (ipykernel)",
   "language": "python",
   "name": "python3"
  },
  "language_info": {
   "codemirror_mode": {
    "name": "ipython",
    "version": 3
   },
   "file_extension": ".py",
   "mimetype": "text/x-python",
   "name": "python",
   "nbconvert_exporter": "python",
   "pygments_lexer": "ipython3",
   "version": "3.11.7"
  }
 },
 "nbformat": 4,
 "nbformat_minor": 5
}
